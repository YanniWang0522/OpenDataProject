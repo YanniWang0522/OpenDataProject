{
 "cells": [
  {
   "cell_type": "markdown",
   "metadata": {},
   "source": [
    "# Road Death Analysis\n",
    "## A road death or fatality is a person who dies within 30 days of a crash as a result of injuries received in that crash."
   ]
  },
  {
   "cell_type": "markdown",
   "metadata": {},
   "source": [
    "Australian Road Deaths Database\n",
    "https://www.bitre.gov.au/statistics/safety/fatal_road_crash_database"
   ]
  },
  {
   "cell_type": "markdown",
   "metadata": {},
   "source": [
    "Australia population data\n",
    "https://www.abs.gov.au/ausstats/abs@.nsf/0/D56C4A3E41586764CA2581A70015893E?Opendocument\n",
    "https://www.abs.gov.au/ausstats/abs@.nsf/0/632CDC28637CF57ECA256F1F0080EBCC?Opendocument\n",
    "https://www.abs.gov.au/AUSSTATS/abs@.nsf/DetailsPage/3101.0Dec%202017?OpenDocument\n",
    "https://www.abs.gov.au/AUSSTATS/abs@.nsf/DetailsPage/3101.0Dec%202018?OpenDocument \n",
    "https://www.abs.gov.au/AUSSTATS/abs@.nsf/DetailsPage/3101.0Dec%202019?OpenDocument"
   ]
  },
  {
   "cell_type": "markdown",
   "metadata": {},
   "source": [
    "https://www.abs.gov.au/AUSSTATS/abs@.nsf/DetailsPage/3218.02009-10?OpenDocument"
   ]
  },
  {
   "cell_type": "markdown",
   "metadata": {},
   "source": [
    "Australia Breathe Testing Data\n",
    "https://data.gov.au/data/dataset/australian-random-breath-testing/resource/6c5cbea3-79dc-40b9-9775-49521a57eacb"
   ]
  },
  {
   "cell_type": "code",
   "execution_count": 17,
   "metadata": {},
   "outputs": [],
   "source": [
    "import folium\n",
    "import pandas as pd\n",
    "import json\n",
    "import numpy as np"
   ]
  },
  {
   "cell_type": "code",
   "execution_count": 42,
   "metadata": {
    "scrolled": false
   },
   "outputs": [
    {
     "data": {
      "text/html": [
       "<div>\n",
       "<style scoped>\n",
       "    .dataframe tbody tr th:only-of-type {\n",
       "        vertical-align: middle;\n",
       "    }\n",
       "\n",
       "    .dataframe tbody tr th {\n",
       "        vertical-align: top;\n",
       "    }\n",
       "\n",
       "    .dataframe thead th {\n",
       "        text-align: right;\n",
       "    }\n",
       "</style>\n",
       "<table border=\"1\" class=\"dataframe\">\n",
       "  <thead>\n",
       "    <tr style=\"text-align: right;\">\n",
       "      <th></th>\n",
       "      <th>Crash ID</th>\n",
       "      <th>State</th>\n",
       "      <th>Month</th>\n",
       "      <th>Year</th>\n",
       "      <th>Dayweek</th>\n",
       "      <th>Time</th>\n",
       "      <th>Crash Type</th>\n",
       "      <th>Bus Involvement</th>\n",
       "      <th>Heavy Rigid Truck Involvement</th>\n",
       "      <th>Articulated Truck Involvement</th>\n",
       "      <th>...</th>\n",
       "      <th>Age</th>\n",
       "      <th>National Remoteness Areas</th>\n",
       "      <th>SA4 Name 2016</th>\n",
       "      <th>National LGA Name 2017</th>\n",
       "      <th>National Road Type</th>\n",
       "      <th>Christmas Period</th>\n",
       "      <th>Easter Period</th>\n",
       "      <th>Age Group</th>\n",
       "      <th>Day of week</th>\n",
       "      <th>Time of day</th>\n",
       "    </tr>\n",
       "  </thead>\n",
       "  <tbody>\n",
       "    <tr>\n",
       "      <th>0</th>\n",
       "      <td>20205023</td>\n",
       "      <td>WA</td>\n",
       "      <td>5</td>\n",
       "      <td>2020</td>\n",
       "      <td>Wednesday</td>\n",
       "      <td>16:10</td>\n",
       "      <td>Multiple</td>\n",
       "      <td>No</td>\n",
       "      <td>No</td>\n",
       "      <td>No</td>\n",
       "      <td>...</td>\n",
       "      <td>88</td>\n",
       "      <td>NaN</td>\n",
       "      <td>NaN</td>\n",
       "      <td>NaN</td>\n",
       "      <td>NaN</td>\n",
       "      <td>No</td>\n",
       "      <td>No</td>\n",
       "      <td>75_or_older</td>\n",
       "      <td>Weekday</td>\n",
       "      <td>Day</td>\n",
       "    </tr>\n",
       "    <tr>\n",
       "      <th>1</th>\n",
       "      <td>20201099</td>\n",
       "      <td>NSW</td>\n",
       "      <td>5</td>\n",
       "      <td>2020</td>\n",
       "      <td>Saturday</td>\n",
       "      <td>23:25</td>\n",
       "      <td>Multiple</td>\n",
       "      <td>No</td>\n",
       "      <td>No</td>\n",
       "      <td>No</td>\n",
       "      <td>...</td>\n",
       "      <td>25</td>\n",
       "      <td>Major Cities of Australia</td>\n",
       "      <td>Sydney - Outer South West</td>\n",
       "      <td>Campbelltown</td>\n",
       "      <td>National or State Highway</td>\n",
       "      <td>No</td>\n",
       "      <td>No</td>\n",
       "      <td>17_to_25</td>\n",
       "      <td>Weekend</td>\n",
       "      <td>Night</td>\n",
       "    </tr>\n",
       "    <tr>\n",
       "      <th>2</th>\n",
       "      <td>20207006</td>\n",
       "      <td>NT</td>\n",
       "      <td>5</td>\n",
       "      <td>2020</td>\n",
       "      <td>Sunday</td>\n",
       "      <td>12:00</td>\n",
       "      <td>Single</td>\n",
       "      <td>No</td>\n",
       "      <td>No</td>\n",
       "      <td>No</td>\n",
       "      <td>...</td>\n",
       "      <td>47</td>\n",
       "      <td>NaN</td>\n",
       "      <td>NaN</td>\n",
       "      <td>NaN</td>\n",
       "      <td>NaN</td>\n",
       "      <td>No</td>\n",
       "      <td>No</td>\n",
       "      <td>40_to_64</td>\n",
       "      <td>Weekend</td>\n",
       "      <td>Day</td>\n",
       "    </tr>\n",
       "    <tr>\n",
       "      <th>3</th>\n",
       "      <td>20205049</td>\n",
       "      <td>WA</td>\n",
       "      <td>5</td>\n",
       "      <td>2020</td>\n",
       "      <td>Friday</td>\n",
       "      <td>19:45</td>\n",
       "      <td>Multiple</td>\n",
       "      <td>No</td>\n",
       "      <td>No</td>\n",
       "      <td>No</td>\n",
       "      <td>...</td>\n",
       "      <td>0</td>\n",
       "      <td>NaN</td>\n",
       "      <td>NaN</td>\n",
       "      <td>NaN</td>\n",
       "      <td>NaN</td>\n",
       "      <td>No</td>\n",
       "      <td>No</td>\n",
       "      <td>0_to_16</td>\n",
       "      <td>Weekend</td>\n",
       "      <td>Night</td>\n",
       "    </tr>\n",
       "    <tr>\n",
       "      <th>4</th>\n",
       "      <td>20205049</td>\n",
       "      <td>WA</td>\n",
       "      <td>5</td>\n",
       "      <td>2020</td>\n",
       "      <td>Friday</td>\n",
       "      <td>19:45</td>\n",
       "      <td>Multiple</td>\n",
       "      <td>No</td>\n",
       "      <td>No</td>\n",
       "      <td>No</td>\n",
       "      <td>...</td>\n",
       "      <td>21</td>\n",
       "      <td>NaN</td>\n",
       "      <td>NaN</td>\n",
       "      <td>NaN</td>\n",
       "      <td>NaN</td>\n",
       "      <td>No</td>\n",
       "      <td>No</td>\n",
       "      <td>17_to_25</td>\n",
       "      <td>Weekend</td>\n",
       "      <td>Night</td>\n",
       "    </tr>\n",
       "  </tbody>\n",
       "</table>\n",
       "<p>5 rows × 23 columns</p>\n",
       "</div>"
      ],
      "text/plain": [
       "   Crash ID State Month  Year    Dayweek   Time Crash Type Bus Involvement  \\\n",
       "0  20205023    WA     5  2020  Wednesday  16:10   Multiple              No   \n",
       "1  20201099   NSW     5  2020   Saturday  23:25   Multiple              No   \n",
       "2  20207006    NT     5  2020     Sunday  12:00     Single              No   \n",
       "3  20205049    WA     5  2020     Friday  19:45   Multiple              No   \n",
       "4  20205049    WA     5  2020     Friday  19:45   Multiple              No   \n",
       "\n",
       "  Heavy Rigid Truck Involvement Articulated Truck Involvement  ... Age  \\\n",
       "0                            No                            No  ...  88   \n",
       "1                            No                            No  ...  25   \n",
       "2                            No                            No  ...  47   \n",
       "3                            No                            No  ...   0   \n",
       "4                            No                            No  ...  21   \n",
       "\n",
       "   National Remoteness Areas              SA4 Name 2016  \\\n",
       "0                        NaN                        NaN   \n",
       "1  Major Cities of Australia  Sydney - Outer South West   \n",
       "2                        NaN                        NaN   \n",
       "3                        NaN                        NaN   \n",
       "4                        NaN                        NaN   \n",
       "\n",
       "  National LGA Name 2017         National Road Type Christmas Period  \\\n",
       "0                    NaN                        NaN               No   \n",
       "1           Campbelltown  National or State Highway               No   \n",
       "2                    NaN                        NaN               No   \n",
       "3                    NaN                        NaN               No   \n",
       "4                    NaN                        NaN               No   \n",
       "\n",
       "  Easter Period    Age Group Day of week Time of day  \n",
       "0            No  75_or_older     Weekday         Day  \n",
       "1            No     17_to_25     Weekend       Night  \n",
       "2            No     40_to_64     Weekend         Day  \n",
       "3            No      0_to_16     Weekend       Night  \n",
       "4            No     17_to_25     Weekend       Night  \n",
       "\n",
       "[5 rows x 23 columns]"
      ]
     },
     "execution_count": 42,
     "metadata": {},
     "output_type": "execute_result"
    }
   ],
   "source": [
    "# given the cvs filename read the csv data\n",
    "def read_file(filename):\n",
    "    return pd.read_csv(filename, sep=',', error_bad_lines=False, index_col=False, dtype='unicode')\n",
    "\n",
    "data = read_file('ardd_fatalities.csv')\n",
    "data.head()"
   ]
  },
  {
   "cell_type": "code",
   "execution_count": 43,
   "metadata": {
    "scrolled": true
   },
   "outputs": [
    {
     "data": {
      "text/html": [
       "<div>\n",
       "<style scoped>\n",
       "    .dataframe tbody tr th:only-of-type {\n",
       "        vertical-align: middle;\n",
       "    }\n",
       "\n",
       "    .dataframe tbody tr th {\n",
       "        vertical-align: top;\n",
       "    }\n",
       "\n",
       "    .dataframe thead th {\n",
       "        text-align: right;\n",
       "    }\n",
       "</style>\n",
       "<table border=\"1\" class=\"dataframe\">\n",
       "  <thead>\n",
       "    <tr style=\"text-align: right;\">\n",
       "      <th></th>\n",
       "      <th>State</th>\n",
       "      <th>1989</th>\n",
       "      <th>1990</th>\n",
       "      <th>1991</th>\n",
       "      <th>1992</th>\n",
       "      <th>1993</th>\n",
       "      <th>1994</th>\n",
       "      <th>1995</th>\n",
       "      <th>1996</th>\n",
       "      <th>1997</th>\n",
       "      <th>...</th>\n",
       "      <th>2010</th>\n",
       "      <th>2011</th>\n",
       "      <th>2012</th>\n",
       "      <th>2013</th>\n",
       "      <th>2014</th>\n",
       "      <th>2015</th>\n",
       "      <th>2016</th>\n",
       "      <th>2017</th>\n",
       "      <th>2018</th>\n",
       "      <th>2019</th>\n",
       "    </tr>\n",
       "  </thead>\n",
       "  <tbody>\n",
       "    <tr>\n",
       "      <th>0</th>\n",
       "      <td>NSW</td>\n",
       "      <td>5776283</td>\n",
       "      <td>5834021</td>\n",
       "      <td>5898731</td>\n",
       "      <td>5957822</td>\n",
       "      <td>5995055</td>\n",
       "      <td>6044819</td>\n",
       "      <td>6105560</td>\n",
       "      <td>6176461</td>\n",
       "      <td>6246267</td>\n",
       "      <td>...</td>\n",
       "      <td>7144292</td>\n",
       "      <td>7218529</td>\n",
       "      <td>7304244</td>\n",
       "      <td>7404032</td>\n",
       "      <td>7508353</td>\n",
       "      <td>7616168</td>\n",
       "      <td>7732858</td>\n",
       "      <td>7915069</td>\n",
       "      <td>8046070</td>\n",
       "      <td>8,128,984</td>\n",
       "    </tr>\n",
       "    <tr>\n",
       "      <th>1</th>\n",
       "      <td>Vic</td>\n",
       "      <td>4320164</td>\n",
       "      <td>4378592</td>\n",
       "      <td>4420373</td>\n",
       "      <td>4450217</td>\n",
       "      <td>4462766</td>\n",
       "      <td>4472989</td>\n",
       "      <td>4497660</td>\n",
       "      <td>4534984</td>\n",
       "      <td>4569297</td>\n",
       "      <td>...</td>\n",
       "      <td>5461101</td>\n",
       "      <td>5537817</td>\n",
       "      <td>5651091</td>\n",
       "      <td>5772669</td>\n",
       "      <td>5894917</td>\n",
       "      <td>6022322</td>\n",
       "      <td>6173172</td>\n",
       "      <td>6385849</td>\n",
       "      <td>6526413</td>\n",
       "      <td>6,651,074</td>\n",
       "    </tr>\n",
       "    <tr>\n",
       "      <th>2</th>\n",
       "      <td>Qld</td>\n",
       "      <td>2827637</td>\n",
       "      <td>2899283</td>\n",
       "      <td>2960951</td>\n",
       "      <td>3023198</td>\n",
       "      <td>3096185</td>\n",
       "      <td>3166566</td>\n",
       "      <td>3237380</td>\n",
       "      <td>3303192</td>\n",
       "      <td>3355417</td>\n",
       "      <td>...</td>\n",
       "      <td>4404744</td>\n",
       "      <td>4476778</td>\n",
       "      <td>4568687</td>\n",
       "      <td>4652824</td>\n",
       "      <td>4719653</td>\n",
       "      <td>4777692</td>\n",
       "      <td>4845152</td>\n",
       "      <td>4965033</td>\n",
       "      <td>5052827</td>\n",
       "      <td>5,129,996</td>\n",
       "    </tr>\n",
       "    <tr>\n",
       "      <th>3</th>\n",
       "      <td>SA</td>\n",
       "      <td>1419029</td>\n",
       "      <td>1432056</td>\n",
       "      <td>1446299</td>\n",
       "      <td>1455442</td>\n",
       "      <td>1458632</td>\n",
       "      <td>1463089</td>\n",
       "      <td>1465340</td>\n",
       "      <td>1469079</td>\n",
       "      <td>1475658</td>\n",
       "      <td>...</td>\n",
       "      <td>1627322</td>\n",
       "      <td>1639614</td>\n",
       "      <td>1656725</td>\n",
       "      <td>1671488</td>\n",
       "      <td>1686945</td>\n",
       "      <td>1700668</td>\n",
       "      <td>1712843</td>\n",
       "      <td>1728053</td>\n",
       "      <td>1742744</td>\n",
       "      <td>1,759,184</td>\n",
       "    </tr>\n",
       "    <tr>\n",
       "      <th>4</th>\n",
       "      <td>WA</td>\n",
       "      <td>1578434</td>\n",
       "      <td>1613049</td>\n",
       "      <td>1636067</td>\n",
       "      <td>1658544</td>\n",
       "      <td>1678722</td>\n",
       "      <td>1704649</td>\n",
       "      <td>1736066</td>\n",
       "      <td>1768206</td>\n",
       "      <td>1798341</td>\n",
       "      <td>...</td>\n",
       "      <td>2290845</td>\n",
       "      <td>2353409</td>\n",
       "      <td>2425507</td>\n",
       "      <td>2486944</td>\n",
       "      <td>2517608</td>\n",
       "      <td>2540672</td>\n",
       "      <td>2555978</td>\n",
       "      <td>2584768</td>\n",
       "      <td>2606338</td>\n",
       "      <td>2,639,080</td>\n",
       "    </tr>\n",
       "  </tbody>\n",
       "</table>\n",
       "<p>5 rows × 32 columns</p>\n",
       "</div>"
      ],
      "text/plain": [
       "  State     1989     1990     1991     1992     1993     1994     1995  \\\n",
       "0   NSW  5776283  5834021  5898731  5957822  5995055  6044819  6105560   \n",
       "1   Vic  4320164  4378592  4420373  4450217  4462766  4472989  4497660   \n",
       "2   Qld  2827637  2899283  2960951  3023198  3096185  3166566  3237380   \n",
       "3    SA  1419029  1432056  1446299  1455442  1458632  1463089  1465340   \n",
       "4    WA  1578434  1613049  1636067  1658544  1678722  1704649  1736066   \n",
       "\n",
       "      1996     1997  ...     2010     2011     2012     2013     2014  \\\n",
       "0  6176461  6246267  ...  7144292  7218529  7304244  7404032  7508353   \n",
       "1  4534984  4569297  ...  5461101  5537817  5651091  5772669  5894917   \n",
       "2  3303192  3355417  ...  4404744  4476778  4568687  4652824  4719653   \n",
       "3  1469079  1475658  ...  1627322  1639614  1656725  1671488  1686945   \n",
       "4  1768206  1798341  ...  2290845  2353409  2425507  2486944  2517608   \n",
       "\n",
       "      2015     2016     2017     2018       2019  \n",
       "0  7616168  7732858  7915069  8046070  8,128,984  \n",
       "1  6022322  6173172  6385849  6526413  6,651,074  \n",
       "2  4777692  4845152  4965033  5052827  5,129,996  \n",
       "3  1700668  1712843  1728053  1742744  1,759,184  \n",
       "4  2540672  2555978  2584768  2606338  2,639,080  \n",
       "\n",
       "[5 rows x 32 columns]"
      ]
     },
     "execution_count": 43,
     "metadata": {},
     "output_type": "execute_result"
    }
   ],
   "source": [
    "# read the apbs_popultion data\n",
    "data_pop = read_file('apbs_population.csv')\n",
    "data_pop.head()"
   ]
  },
  {
   "cell_type": "markdown",
   "metadata": {},
   "source": [
    "# Animated Line Chart"
   ]
  },
  {
   "cell_type": "code",
   "execution_count": 44,
   "metadata": {},
   "outputs": [
    {
     "data": {
      "text/html": [
       "<div>\n",
       "<style scoped>\n",
       "    .dataframe tbody tr th:only-of-type {\n",
       "        vertical-align: middle;\n",
       "    }\n",
       "\n",
       "    .dataframe tbody tr th {\n",
       "        vertical-align: top;\n",
       "    }\n",
       "\n",
       "    .dataframe thead th {\n",
       "        text-align: right;\n",
       "    }\n",
       "</style>\n",
       "<table border=\"1\" class=\"dataframe\">\n",
       "  <thead>\n",
       "    <tr style=\"text-align: right;\">\n",
       "      <th></th>\n",
       "      <th>year</th>\n",
       "      <th>state</th>\n",
       "      <th>number</th>\n",
       "    </tr>\n",
       "  </thead>\n",
       "  <tbody>\n",
       "    <tr>\n",
       "      <th>0</th>\n",
       "      <td>2019</td>\n",
       "      <td>SA</td>\n",
       "      <td>114</td>\n",
       "    </tr>\n",
       "    <tr>\n",
       "      <th>1</th>\n",
       "      <td>2019</td>\n",
       "      <td>WA</td>\n",
       "      <td>163</td>\n",
       "    </tr>\n",
       "    <tr>\n",
       "      <th>2</th>\n",
       "      <td>2019</td>\n",
       "      <td>NSW</td>\n",
       "      <td>357</td>\n",
       "    </tr>\n",
       "    <tr>\n",
       "      <th>3</th>\n",
       "      <td>2019</td>\n",
       "      <td>Qld</td>\n",
       "      <td>219</td>\n",
       "    </tr>\n",
       "    <tr>\n",
       "      <th>4</th>\n",
       "      <td>2019</td>\n",
       "      <td>Tas</td>\n",
       "      <td>29</td>\n",
       "    </tr>\n",
       "  </tbody>\n",
       "</table>\n",
       "</div>"
      ],
      "text/plain": [
       "   year state  number\n",
       "0  2019    SA     114\n",
       "1  2019    WA     163\n",
       "2  2019   NSW     357\n",
       "3  2019   Qld     219\n",
       "4  2019   Tas      29"
      ]
     },
     "execution_count": 44,
     "metadata": {},
     "output_type": "execute_result"
    }
   ],
   "source": [
    "# read the file\n",
    "data = read_file('ardd_fatalities.csv')\n",
    "\n",
    "data_plot = {}\n",
    "# check_2019 = 0\n",
    "for year,states in zip(data[\"Year\"],data[\"State\"]):\n",
    "    if str(year) != \"2020\":\n",
    "        if year not in data_plot:\n",
    "            data_plot[year] = {}\n",
    "        elif states not in data_plot[year]:\n",
    "            data_plot[year][states] = 1\n",
    "        else:\n",
    "            data_plot[year][states] += 1\n",
    "\n",
    "cvs_data = {}\n",
    "for year in data_plot: \n",
    "    if not bool(cvs_data):\n",
    "        cvs_data[\"year\"] = []\n",
    "        cvs_data[\"state\"] = []\n",
    "        cvs_data[\"number\"] = []\n",
    "    for states,values in data_plot[year].items():\n",
    "        cvs_data[\"year\"].append(year)\n",
    "        cvs_data[\"state\"].append(states)\n",
    "        cvs_data[\"number\"].append(values)\n",
    "cvs_data = pd.DataFrame(data=cvs_data)\n",
    "cvs_data.head()"
   ]
  },
  {
   "cell_type": "code",
   "execution_count": 45,
   "metadata": {},
   "outputs": [
    {
     "data": {
      "application/vnd.plotly.v1+json": {
       "config": {
        "plotlyServerURL": "https://plot.ly"
       },
       "data": [
        {
         "line": {
          "color": "#ffffd9",
          "width": 1.5
         },
         "mode": "lines",
         "name": "ACT",
         "stackgroup": "one",
         "type": "scatter",
         "x": [
          "2019",
          "2018",
          "2017",
          "2016",
          "2015",
          "2014",
          "2013",
          "2012",
          "2011",
          "2010",
          "2009",
          "2008",
          "2007",
          "2006",
          "2005",
          "2004",
          "2003",
          "2002",
          "2001",
          "2000",
          "1999",
          "1998",
          "1997",
          "1996",
          "1995",
          "1994",
          "1993",
          "1992",
          "1991",
          "1990",
          "1989"
         ],
         "y": [
          6,
          9,
          5,
          10,
          15,
          10,
          7,
          12,
          6,
          19,
          12,
          14,
          14,
          13,
          26,
          9,
          11,
          10,
          16,
          18,
          19,
          22,
          16,
          23,
          15,
          17,
          12,
          20,
          17,
          26,
          32
         ]
        },
        {
         "line": {
          "color": "#edf8b1",
          "width": 1.5
         },
         "mode": "lines",
         "name": "Tas",
         "stackgroup": "one",
         "type": "scatter",
         "x": [
          "2019",
          "2018",
          "2017",
          "2016",
          "2015",
          "2014",
          "2013",
          "2012",
          "2011",
          "2010",
          "2009",
          "2008",
          "2007",
          "2006",
          "2005",
          "2004",
          "2003",
          "2002",
          "2001",
          "2000",
          "1999",
          "1998",
          "1997",
          "1996",
          "1995",
          "1994",
          "1993",
          "1992",
          "1991",
          "1990",
          "1989"
         ],
         "y": [
          29,
          32,
          32,
          37,
          34,
          33,
          36,
          31,
          24,
          31,
          63,
          39,
          45,
          55,
          51,
          58,
          41,
          37,
          61,
          43,
          53,
          48,
          32,
          64,
          57,
          59,
          58,
          74,
          77,
          71,
          80
         ]
        },
        {
         "line": {
          "color": "#c7e9b4",
          "width": 1.5
         },
         "mode": "lines",
         "name": "NT",
         "stackgroup": "one",
         "type": "scatter",
         "x": [
          "2019",
          "2018",
          "2017",
          "2016",
          "2015",
          "2014",
          "2013",
          "2012",
          "2011",
          "2010",
          "2009",
          "2008",
          "2007",
          "2006",
          "2005",
          "2004",
          "2003",
          "2002",
          "2001",
          "2000",
          "1999",
          "1998",
          "1997",
          "1996",
          "1995",
          "1994",
          "1993",
          "1992",
          "1991",
          "1990",
          "1989"
         ],
         "y": [
          36,
          50,
          31,
          44,
          48,
          39,
          37,
          49,
          45,
          50,
          31,
          75,
          58,
          45,
          55,
          35,
          53,
          55,
          50,
          51,
          49,
          69,
          60,
          72,
          61,
          41,
          44,
          54,
          67,
          68,
          61
         ]
        },
        {
         "line": {
          "color": "#7fcdbb",
          "width": 1.5
         },
         "mode": "lines",
         "name": "SA",
         "stackgroup": "one",
         "type": "scatter",
         "x": [
          "2019",
          "2018",
          "2017",
          "2016",
          "2015",
          "2014",
          "2013",
          "2012",
          "2011",
          "2010",
          "2009",
          "2008",
          "2007",
          "2006",
          "2005",
          "2004",
          "2003",
          "2002",
          "2001",
          "2000",
          "1999",
          "1998",
          "1997",
          "1996",
          "1995",
          "1994",
          "1993",
          "1992",
          "1991",
          "1990",
          "1989"
         ],
         "y": [
          114,
          80,
          100,
          86,
          102,
          108,
          98,
          94,
          103,
          118,
          119,
          99,
          124,
          117,
          148,
          139,
          157,
          154,
          153,
          166,
          151,
          168,
          148,
          181,
          181,
          159,
          217,
          165,
          184,
          226,
          221
         ]
        },
        {
         "line": {
          "color": "#41b6c4",
          "width": 1.5
         },
         "mode": "lines",
         "name": "WA",
         "stackgroup": "one",
         "type": "scatter",
         "x": [
          "2019",
          "2018",
          "2017",
          "2016",
          "2015",
          "2014",
          "2013",
          "2012",
          "2011",
          "2010",
          "2009",
          "2008",
          "2007",
          "2006",
          "2005",
          "2004",
          "2003",
          "2002",
          "2001",
          "2000",
          "1999",
          "1998",
          "1997",
          "1996",
          "1995",
          "1994",
          "1993",
          "1992",
          "1991",
          "1990",
          "1989"
         ],
         "y": [
          163,
          158,
          158,
          193,
          159,
          183,
          161,
          183,
          179,
          193,
          191,
          204,
          235,
          200,
          163,
          178,
          180,
          179,
          165,
          212,
          218,
          223,
          197,
          247,
          209,
          211,
          209,
          200,
          207,
          196,
          242
         ]
        },
        {
         "line": {
          "color": "#1d91c0",
          "width": 1.5
         },
         "mode": "lines",
         "name": "Qld",
         "stackgroup": "one",
         "type": "scatter",
         "x": [
          "2019",
          "2018",
          "2017",
          "2016",
          "2015",
          "2014",
          "2013",
          "2012",
          "2011",
          "2010",
          "2009",
          "2008",
          "2007",
          "2006",
          "2005",
          "2004",
          "2003",
          "2002",
          "2001",
          "2000",
          "1999",
          "1998",
          "1997",
          "1996",
          "1995",
          "1994",
          "1993",
          "1992",
          "1991",
          "1990",
          "1989"
         ],
         "y": [
          219,
          245,
          247,
          251,
          243,
          223,
          271,
          280,
          269,
          249,
          331,
          328,
          360,
          335,
          330,
          311,
          309,
          322,
          324,
          317,
          314,
          279,
          360,
          385,
          456,
          417,
          396,
          416,
          395,
          399,
          428
         ]
        },
        {
         "line": {
          "color": "#225ea8",
          "width": 1.5
         },
         "mode": "lines",
         "name": "Vic",
         "stackgroup": "one",
         "type": "scatter",
         "x": [
          "2019",
          "2018",
          "2017",
          "2016",
          "2015",
          "2014",
          "2013",
          "2012",
          "2011",
          "2010",
          "2009",
          "2008",
          "2007",
          "2006",
          "2005",
          "2004",
          "2003",
          "2002",
          "2001",
          "2000",
          "1999",
          "1998",
          "1997",
          "1996",
          "1995",
          "1994",
          "1993",
          "1992",
          "1991",
          "1990",
          "1989"
         ],
         "y": [
          269,
          213,
          259,
          290,
          252,
          248,
          243,
          282,
          287,
          288,
          290,
          303,
          331,
          337,
          346,
          343,
          330,
          397,
          444,
          407,
          383,
          390,
          377,
          417,
          417,
          377,
          435,
          396,
          503,
          548,
          776
         ]
        },
        {
         "line": {
          "color": "#253494",
          "width": 1.5
         },
         "mode": "lines",
         "name": "NSW",
         "stackgroup": "one",
         "type": "scatter",
         "x": [
          "2019",
          "2018",
          "2017",
          "2016",
          "2015",
          "2014",
          "2013",
          "2012",
          "2011",
          "2010",
          "2009",
          "2008",
          "2007",
          "2006",
          "2005",
          "2004",
          "2003",
          "2002",
          "2001",
          "2000",
          "1999",
          "1998",
          "1997",
          "1996",
          "1995",
          "1994",
          "1993",
          "1992",
          "1991",
          "1990",
          "1989"
         ],
         "y": [
          357,
          346,
          389,
          380,
          350,
          306,
          333,
          368,
          363,
          404,
          453,
          374,
          435,
          495,
          507,
          509,
          539,
          560,
          523,
          602,
          576,
          555,
          576,
          580,
          620,
          646,
          581,
          648,
          662,
          796,
          959
         ]
        }
       ],
       "frames": [
        {
         "data": [
          {
           "type": "scatter",
           "x": [
            "1989"
           ],
           "y": [
            32
           ]
          },
          {
           "type": "scatter",
           "x": [
            "1989"
           ],
           "y": [
            80
           ]
          },
          {
           "type": "scatter",
           "x": [
            "1989"
           ],
           "y": [
            61
           ]
          },
          {
           "type": "scatter",
           "x": [
            "1989"
           ],
           "y": [
            221
           ]
          },
          {
           "type": "scatter",
           "x": [
            "1989"
           ],
           "y": [
            242
           ]
          },
          {
           "type": "scatter",
           "x": [
            "1989"
           ],
           "y": [
            428
           ]
          },
          {
           "type": "scatter",
           "x": [
            "1989"
           ],
           "y": [
            776
           ]
          },
          {
           "type": "scatter",
           "x": [
            "1989"
           ],
           "y": [
            959
           ]
          }
         ],
         "traces": [
          0,
          1,
          2,
          3,
          4,
          5,
          6,
          7
         ]
        },
        {
         "data": [
          {
           "type": "scatter",
           "x": [
            "1990",
            "1989"
           ],
           "y": [
            26,
            32
           ]
          },
          {
           "type": "scatter",
           "x": [
            "1990",
            "1989"
           ],
           "y": [
            71,
            80
           ]
          },
          {
           "type": "scatter",
           "x": [
            "1990",
            "1989"
           ],
           "y": [
            68,
            61
           ]
          },
          {
           "type": "scatter",
           "x": [
            "1990",
            "1989"
           ],
           "y": [
            226,
            221
           ]
          },
          {
           "type": "scatter",
           "x": [
            "1990",
            "1989"
           ],
           "y": [
            196,
            242
           ]
          },
          {
           "type": "scatter",
           "x": [
            "1990",
            "1989"
           ],
           "y": [
            399,
            428
           ]
          },
          {
           "type": "scatter",
           "x": [
            "1990",
            "1989"
           ],
           "y": [
            548,
            776
           ]
          },
          {
           "type": "scatter",
           "x": [
            "1990",
            "1989"
           ],
           "y": [
            796,
            959
           ]
          }
         ],
         "traces": [
          0,
          1,
          2,
          3,
          4,
          5,
          6,
          7
         ]
        },
        {
         "data": [
          {
           "type": "scatter",
           "x": [
            "1991",
            "1990",
            "1989"
           ],
           "y": [
            17,
            26,
            32
           ]
          },
          {
           "type": "scatter",
           "x": [
            "1991",
            "1990",
            "1989"
           ],
           "y": [
            77,
            71,
            80
           ]
          },
          {
           "type": "scatter",
           "x": [
            "1991",
            "1990",
            "1989"
           ],
           "y": [
            67,
            68,
            61
           ]
          },
          {
           "type": "scatter",
           "x": [
            "1991",
            "1990",
            "1989"
           ],
           "y": [
            184,
            226,
            221
           ]
          },
          {
           "type": "scatter",
           "x": [
            "1991",
            "1990",
            "1989"
           ],
           "y": [
            207,
            196,
            242
           ]
          },
          {
           "type": "scatter",
           "x": [
            "1991",
            "1990",
            "1989"
           ],
           "y": [
            395,
            399,
            428
           ]
          },
          {
           "type": "scatter",
           "x": [
            "1991",
            "1990",
            "1989"
           ],
           "y": [
            503,
            548,
            776
           ]
          },
          {
           "type": "scatter",
           "x": [
            "1991",
            "1990",
            "1989"
           ],
           "y": [
            662,
            796,
            959
           ]
          }
         ],
         "traces": [
          0,
          1,
          2,
          3,
          4,
          5,
          6,
          7
         ]
        },
        {
         "data": [
          {
           "type": "scatter",
           "x": [
            "1992",
            "1991",
            "1990",
            "1989"
           ],
           "y": [
            20,
            17,
            26,
            32
           ]
          },
          {
           "type": "scatter",
           "x": [
            "1992",
            "1991",
            "1990",
            "1989"
           ],
           "y": [
            74,
            77,
            71,
            80
           ]
          },
          {
           "type": "scatter",
           "x": [
            "1992",
            "1991",
            "1990",
            "1989"
           ],
           "y": [
            54,
            67,
            68,
            61
           ]
          },
          {
           "type": "scatter",
           "x": [
            "1992",
            "1991",
            "1990",
            "1989"
           ],
           "y": [
            165,
            184,
            226,
            221
           ]
          },
          {
           "type": "scatter",
           "x": [
            "1992",
            "1991",
            "1990",
            "1989"
           ],
           "y": [
            200,
            207,
            196,
            242
           ]
          },
          {
           "type": "scatter",
           "x": [
            "1992",
            "1991",
            "1990",
            "1989"
           ],
           "y": [
            416,
            395,
            399,
            428
           ]
          },
          {
           "type": "scatter",
           "x": [
            "1992",
            "1991",
            "1990",
            "1989"
           ],
           "y": [
            396,
            503,
            548,
            776
           ]
          },
          {
           "type": "scatter",
           "x": [
            "1992",
            "1991",
            "1990",
            "1989"
           ],
           "y": [
            648,
            662,
            796,
            959
           ]
          }
         ],
         "traces": [
          0,
          1,
          2,
          3,
          4,
          5,
          6,
          7
         ]
        },
        {
         "data": [
          {
           "type": "scatter",
           "x": [
            "1993",
            "1992",
            "1991",
            "1990",
            "1989"
           ],
           "y": [
            12,
            20,
            17,
            26,
            32
           ]
          },
          {
           "type": "scatter",
           "x": [
            "1993",
            "1992",
            "1991",
            "1990",
            "1989"
           ],
           "y": [
            58,
            74,
            77,
            71,
            80
           ]
          },
          {
           "type": "scatter",
           "x": [
            "1993",
            "1992",
            "1991",
            "1990",
            "1989"
           ],
           "y": [
            44,
            54,
            67,
            68,
            61
           ]
          },
          {
           "type": "scatter",
           "x": [
            "1993",
            "1992",
            "1991",
            "1990",
            "1989"
           ],
           "y": [
            217,
            165,
            184,
            226,
            221
           ]
          },
          {
           "type": "scatter",
           "x": [
            "1993",
            "1992",
            "1991",
            "1990",
            "1989"
           ],
           "y": [
            209,
            200,
            207,
            196,
            242
           ]
          },
          {
           "type": "scatter",
           "x": [
            "1993",
            "1992",
            "1991",
            "1990",
            "1989"
           ],
           "y": [
            396,
            416,
            395,
            399,
            428
           ]
          },
          {
           "type": "scatter",
           "x": [
            "1993",
            "1992",
            "1991",
            "1990",
            "1989"
           ],
           "y": [
            435,
            396,
            503,
            548,
            776
           ]
          },
          {
           "type": "scatter",
           "x": [
            "1993",
            "1992",
            "1991",
            "1990",
            "1989"
           ],
           "y": [
            581,
            648,
            662,
            796,
            959
           ]
          }
         ],
         "traces": [
          0,
          1,
          2,
          3,
          4,
          5,
          6,
          7
         ]
        },
        {
         "data": [
          {
           "type": "scatter",
           "x": [
            "1994",
            "1993",
            "1992",
            "1991",
            "1990",
            "1989"
           ],
           "y": [
            17,
            12,
            20,
            17,
            26,
            32
           ]
          },
          {
           "type": "scatter",
           "x": [
            "1994",
            "1993",
            "1992",
            "1991",
            "1990",
            "1989"
           ],
           "y": [
            59,
            58,
            74,
            77,
            71,
            80
           ]
          },
          {
           "type": "scatter",
           "x": [
            "1994",
            "1993",
            "1992",
            "1991",
            "1990",
            "1989"
           ],
           "y": [
            41,
            44,
            54,
            67,
            68,
            61
           ]
          },
          {
           "type": "scatter",
           "x": [
            "1994",
            "1993",
            "1992",
            "1991",
            "1990",
            "1989"
           ],
           "y": [
            159,
            217,
            165,
            184,
            226,
            221
           ]
          },
          {
           "type": "scatter",
           "x": [
            "1994",
            "1993",
            "1992",
            "1991",
            "1990",
            "1989"
           ],
           "y": [
            211,
            209,
            200,
            207,
            196,
            242
           ]
          },
          {
           "type": "scatter",
           "x": [
            "1994",
            "1993",
            "1992",
            "1991",
            "1990",
            "1989"
           ],
           "y": [
            417,
            396,
            416,
            395,
            399,
            428
           ]
          },
          {
           "type": "scatter",
           "x": [
            "1994",
            "1993",
            "1992",
            "1991",
            "1990",
            "1989"
           ],
           "y": [
            377,
            435,
            396,
            503,
            548,
            776
           ]
          },
          {
           "type": "scatter",
           "x": [
            "1994",
            "1993",
            "1992",
            "1991",
            "1990",
            "1989"
           ],
           "y": [
            646,
            581,
            648,
            662,
            796,
            959
           ]
          }
         ],
         "traces": [
          0,
          1,
          2,
          3,
          4,
          5,
          6,
          7
         ]
        },
        {
         "data": [
          {
           "type": "scatter",
           "x": [
            "1995",
            "1994",
            "1993",
            "1992",
            "1991",
            "1990",
            "1989"
           ],
           "y": [
            15,
            17,
            12,
            20,
            17,
            26,
            32
           ]
          },
          {
           "type": "scatter",
           "x": [
            "1995",
            "1994",
            "1993",
            "1992",
            "1991",
            "1990",
            "1989"
           ],
           "y": [
            57,
            59,
            58,
            74,
            77,
            71,
            80
           ]
          },
          {
           "type": "scatter",
           "x": [
            "1995",
            "1994",
            "1993",
            "1992",
            "1991",
            "1990",
            "1989"
           ],
           "y": [
            61,
            41,
            44,
            54,
            67,
            68,
            61
           ]
          },
          {
           "type": "scatter",
           "x": [
            "1995",
            "1994",
            "1993",
            "1992",
            "1991",
            "1990",
            "1989"
           ],
           "y": [
            181,
            159,
            217,
            165,
            184,
            226,
            221
           ]
          },
          {
           "type": "scatter",
           "x": [
            "1995",
            "1994",
            "1993",
            "1992",
            "1991",
            "1990",
            "1989"
           ],
           "y": [
            209,
            211,
            209,
            200,
            207,
            196,
            242
           ]
          },
          {
           "type": "scatter",
           "x": [
            "1995",
            "1994",
            "1993",
            "1992",
            "1991",
            "1990",
            "1989"
           ],
           "y": [
            456,
            417,
            396,
            416,
            395,
            399,
            428
           ]
          },
          {
           "type": "scatter",
           "x": [
            "1995",
            "1994",
            "1993",
            "1992",
            "1991",
            "1990",
            "1989"
           ],
           "y": [
            417,
            377,
            435,
            396,
            503,
            548,
            776
           ]
          },
          {
           "type": "scatter",
           "x": [
            "1995",
            "1994",
            "1993",
            "1992",
            "1991",
            "1990",
            "1989"
           ],
           "y": [
            620,
            646,
            581,
            648,
            662,
            796,
            959
           ]
          }
         ],
         "traces": [
          0,
          1,
          2,
          3,
          4,
          5,
          6,
          7
         ]
        },
        {
         "data": [
          {
           "type": "scatter",
           "x": [
            "1996",
            "1995",
            "1994",
            "1993",
            "1992",
            "1991",
            "1990",
            "1989"
           ],
           "y": [
            23,
            15,
            17,
            12,
            20,
            17,
            26,
            32
           ]
          },
          {
           "type": "scatter",
           "x": [
            "1996",
            "1995",
            "1994",
            "1993",
            "1992",
            "1991",
            "1990",
            "1989"
           ],
           "y": [
            64,
            57,
            59,
            58,
            74,
            77,
            71,
            80
           ]
          },
          {
           "type": "scatter",
           "x": [
            "1996",
            "1995",
            "1994",
            "1993",
            "1992",
            "1991",
            "1990",
            "1989"
           ],
           "y": [
            72,
            61,
            41,
            44,
            54,
            67,
            68,
            61
           ]
          },
          {
           "type": "scatter",
           "x": [
            "1996",
            "1995",
            "1994",
            "1993",
            "1992",
            "1991",
            "1990",
            "1989"
           ],
           "y": [
            181,
            181,
            159,
            217,
            165,
            184,
            226,
            221
           ]
          },
          {
           "type": "scatter",
           "x": [
            "1996",
            "1995",
            "1994",
            "1993",
            "1992",
            "1991",
            "1990",
            "1989"
           ],
           "y": [
            247,
            209,
            211,
            209,
            200,
            207,
            196,
            242
           ]
          },
          {
           "type": "scatter",
           "x": [
            "1996",
            "1995",
            "1994",
            "1993",
            "1992",
            "1991",
            "1990",
            "1989"
           ],
           "y": [
            385,
            456,
            417,
            396,
            416,
            395,
            399,
            428
           ]
          },
          {
           "type": "scatter",
           "x": [
            "1996",
            "1995",
            "1994",
            "1993",
            "1992",
            "1991",
            "1990",
            "1989"
           ],
           "y": [
            417,
            417,
            377,
            435,
            396,
            503,
            548,
            776
           ]
          },
          {
           "type": "scatter",
           "x": [
            "1996",
            "1995",
            "1994",
            "1993",
            "1992",
            "1991",
            "1990",
            "1989"
           ],
           "y": [
            580,
            620,
            646,
            581,
            648,
            662,
            796,
            959
           ]
          }
         ],
         "traces": [
          0,
          1,
          2,
          3,
          4,
          5,
          6,
          7
         ]
        },
        {
         "data": [
          {
           "type": "scatter",
           "x": [
            "1997",
            "1996",
            "1995",
            "1994",
            "1993",
            "1992",
            "1991",
            "1990",
            "1989"
           ],
           "y": [
            16,
            23,
            15,
            17,
            12,
            20,
            17,
            26,
            32
           ]
          },
          {
           "type": "scatter",
           "x": [
            "1997",
            "1996",
            "1995",
            "1994",
            "1993",
            "1992",
            "1991",
            "1990",
            "1989"
           ],
           "y": [
            32,
            64,
            57,
            59,
            58,
            74,
            77,
            71,
            80
           ]
          },
          {
           "type": "scatter",
           "x": [
            "1997",
            "1996",
            "1995",
            "1994",
            "1993",
            "1992",
            "1991",
            "1990",
            "1989"
           ],
           "y": [
            60,
            72,
            61,
            41,
            44,
            54,
            67,
            68,
            61
           ]
          },
          {
           "type": "scatter",
           "x": [
            "1997",
            "1996",
            "1995",
            "1994",
            "1993",
            "1992",
            "1991",
            "1990",
            "1989"
           ],
           "y": [
            148,
            181,
            181,
            159,
            217,
            165,
            184,
            226,
            221
           ]
          },
          {
           "type": "scatter",
           "x": [
            "1997",
            "1996",
            "1995",
            "1994",
            "1993",
            "1992",
            "1991",
            "1990",
            "1989"
           ],
           "y": [
            197,
            247,
            209,
            211,
            209,
            200,
            207,
            196,
            242
           ]
          },
          {
           "type": "scatter",
           "x": [
            "1997",
            "1996",
            "1995",
            "1994",
            "1993",
            "1992",
            "1991",
            "1990",
            "1989"
           ],
           "y": [
            360,
            385,
            456,
            417,
            396,
            416,
            395,
            399,
            428
           ]
          },
          {
           "type": "scatter",
           "x": [
            "1997",
            "1996",
            "1995",
            "1994",
            "1993",
            "1992",
            "1991",
            "1990",
            "1989"
           ],
           "y": [
            377,
            417,
            417,
            377,
            435,
            396,
            503,
            548,
            776
           ]
          },
          {
           "type": "scatter",
           "x": [
            "1997",
            "1996",
            "1995",
            "1994",
            "1993",
            "1992",
            "1991",
            "1990",
            "1989"
           ],
           "y": [
            576,
            580,
            620,
            646,
            581,
            648,
            662,
            796,
            959
           ]
          }
         ],
         "traces": [
          0,
          1,
          2,
          3,
          4,
          5,
          6,
          7
         ]
        },
        {
         "data": [
          {
           "type": "scatter",
           "x": [
            "1998",
            "1997",
            "1996",
            "1995",
            "1994",
            "1993",
            "1992",
            "1991",
            "1990",
            "1989"
           ],
           "y": [
            22,
            16,
            23,
            15,
            17,
            12,
            20,
            17,
            26,
            32
           ]
          },
          {
           "type": "scatter",
           "x": [
            "1998",
            "1997",
            "1996",
            "1995",
            "1994",
            "1993",
            "1992",
            "1991",
            "1990",
            "1989"
           ],
           "y": [
            48,
            32,
            64,
            57,
            59,
            58,
            74,
            77,
            71,
            80
           ]
          },
          {
           "type": "scatter",
           "x": [
            "1998",
            "1997",
            "1996",
            "1995",
            "1994",
            "1993",
            "1992",
            "1991",
            "1990",
            "1989"
           ],
           "y": [
            69,
            60,
            72,
            61,
            41,
            44,
            54,
            67,
            68,
            61
           ]
          },
          {
           "type": "scatter",
           "x": [
            "1998",
            "1997",
            "1996",
            "1995",
            "1994",
            "1993",
            "1992",
            "1991",
            "1990",
            "1989"
           ],
           "y": [
            168,
            148,
            181,
            181,
            159,
            217,
            165,
            184,
            226,
            221
           ]
          },
          {
           "type": "scatter",
           "x": [
            "1998",
            "1997",
            "1996",
            "1995",
            "1994",
            "1993",
            "1992",
            "1991",
            "1990",
            "1989"
           ],
           "y": [
            223,
            197,
            247,
            209,
            211,
            209,
            200,
            207,
            196,
            242
           ]
          },
          {
           "type": "scatter",
           "x": [
            "1998",
            "1997",
            "1996",
            "1995",
            "1994",
            "1993",
            "1992",
            "1991",
            "1990",
            "1989"
           ],
           "y": [
            279,
            360,
            385,
            456,
            417,
            396,
            416,
            395,
            399,
            428
           ]
          },
          {
           "type": "scatter",
           "x": [
            "1998",
            "1997",
            "1996",
            "1995",
            "1994",
            "1993",
            "1992",
            "1991",
            "1990",
            "1989"
           ],
           "y": [
            390,
            377,
            417,
            417,
            377,
            435,
            396,
            503,
            548,
            776
           ]
          },
          {
           "type": "scatter",
           "x": [
            "1998",
            "1997",
            "1996",
            "1995",
            "1994",
            "1993",
            "1992",
            "1991",
            "1990",
            "1989"
           ],
           "y": [
            555,
            576,
            580,
            620,
            646,
            581,
            648,
            662,
            796,
            959
           ]
          }
         ],
         "traces": [
          0,
          1,
          2,
          3,
          4,
          5,
          6,
          7
         ]
        },
        {
         "data": [
          {
           "type": "scatter",
           "x": [
            "1999",
            "1998",
            "1997",
            "1996",
            "1995",
            "1994",
            "1993",
            "1992",
            "1991",
            "1990",
            "1989"
           ],
           "y": [
            19,
            22,
            16,
            23,
            15,
            17,
            12,
            20,
            17,
            26,
            32
           ]
          },
          {
           "type": "scatter",
           "x": [
            "1999",
            "1998",
            "1997",
            "1996",
            "1995",
            "1994",
            "1993",
            "1992",
            "1991",
            "1990",
            "1989"
           ],
           "y": [
            53,
            48,
            32,
            64,
            57,
            59,
            58,
            74,
            77,
            71,
            80
           ]
          },
          {
           "type": "scatter",
           "x": [
            "1999",
            "1998",
            "1997",
            "1996",
            "1995",
            "1994",
            "1993",
            "1992",
            "1991",
            "1990",
            "1989"
           ],
           "y": [
            49,
            69,
            60,
            72,
            61,
            41,
            44,
            54,
            67,
            68,
            61
           ]
          },
          {
           "type": "scatter",
           "x": [
            "1999",
            "1998",
            "1997",
            "1996",
            "1995",
            "1994",
            "1993",
            "1992",
            "1991",
            "1990",
            "1989"
           ],
           "y": [
            151,
            168,
            148,
            181,
            181,
            159,
            217,
            165,
            184,
            226,
            221
           ]
          },
          {
           "type": "scatter",
           "x": [
            "1999",
            "1998",
            "1997",
            "1996",
            "1995",
            "1994",
            "1993",
            "1992",
            "1991",
            "1990",
            "1989"
           ],
           "y": [
            218,
            223,
            197,
            247,
            209,
            211,
            209,
            200,
            207,
            196,
            242
           ]
          },
          {
           "type": "scatter",
           "x": [
            "1999",
            "1998",
            "1997",
            "1996",
            "1995",
            "1994",
            "1993",
            "1992",
            "1991",
            "1990",
            "1989"
           ],
           "y": [
            314,
            279,
            360,
            385,
            456,
            417,
            396,
            416,
            395,
            399,
            428
           ]
          },
          {
           "type": "scatter",
           "x": [
            "1999",
            "1998",
            "1997",
            "1996",
            "1995",
            "1994",
            "1993",
            "1992",
            "1991",
            "1990",
            "1989"
           ],
           "y": [
            383,
            390,
            377,
            417,
            417,
            377,
            435,
            396,
            503,
            548,
            776
           ]
          },
          {
           "type": "scatter",
           "x": [
            "1999",
            "1998",
            "1997",
            "1996",
            "1995",
            "1994",
            "1993",
            "1992",
            "1991",
            "1990",
            "1989"
           ],
           "y": [
            576,
            555,
            576,
            580,
            620,
            646,
            581,
            648,
            662,
            796,
            959
           ]
          }
         ],
         "traces": [
          0,
          1,
          2,
          3,
          4,
          5,
          6,
          7
         ]
        },
        {
         "data": [
          {
           "type": "scatter",
           "x": [
            "2000",
            "1999",
            "1998",
            "1997",
            "1996",
            "1995",
            "1994",
            "1993",
            "1992",
            "1991",
            "1990",
            "1989"
           ],
           "y": [
            18,
            19,
            22,
            16,
            23,
            15,
            17,
            12,
            20,
            17,
            26,
            32
           ]
          },
          {
           "type": "scatter",
           "x": [
            "2000",
            "1999",
            "1998",
            "1997",
            "1996",
            "1995",
            "1994",
            "1993",
            "1992",
            "1991",
            "1990",
            "1989"
           ],
           "y": [
            43,
            53,
            48,
            32,
            64,
            57,
            59,
            58,
            74,
            77,
            71,
            80
           ]
          },
          {
           "type": "scatter",
           "x": [
            "2000",
            "1999",
            "1998",
            "1997",
            "1996",
            "1995",
            "1994",
            "1993",
            "1992",
            "1991",
            "1990",
            "1989"
           ],
           "y": [
            51,
            49,
            69,
            60,
            72,
            61,
            41,
            44,
            54,
            67,
            68,
            61
           ]
          },
          {
           "type": "scatter",
           "x": [
            "2000",
            "1999",
            "1998",
            "1997",
            "1996",
            "1995",
            "1994",
            "1993",
            "1992",
            "1991",
            "1990",
            "1989"
           ],
           "y": [
            166,
            151,
            168,
            148,
            181,
            181,
            159,
            217,
            165,
            184,
            226,
            221
           ]
          },
          {
           "type": "scatter",
           "x": [
            "2000",
            "1999",
            "1998",
            "1997",
            "1996",
            "1995",
            "1994",
            "1993",
            "1992",
            "1991",
            "1990",
            "1989"
           ],
           "y": [
            212,
            218,
            223,
            197,
            247,
            209,
            211,
            209,
            200,
            207,
            196,
            242
           ]
          },
          {
           "type": "scatter",
           "x": [
            "2000",
            "1999",
            "1998",
            "1997",
            "1996",
            "1995",
            "1994",
            "1993",
            "1992",
            "1991",
            "1990",
            "1989"
           ],
           "y": [
            317,
            314,
            279,
            360,
            385,
            456,
            417,
            396,
            416,
            395,
            399,
            428
           ]
          },
          {
           "type": "scatter",
           "x": [
            "2000",
            "1999",
            "1998",
            "1997",
            "1996",
            "1995",
            "1994",
            "1993",
            "1992",
            "1991",
            "1990",
            "1989"
           ],
           "y": [
            407,
            383,
            390,
            377,
            417,
            417,
            377,
            435,
            396,
            503,
            548,
            776
           ]
          },
          {
           "type": "scatter",
           "x": [
            "2000",
            "1999",
            "1998",
            "1997",
            "1996",
            "1995",
            "1994",
            "1993",
            "1992",
            "1991",
            "1990",
            "1989"
           ],
           "y": [
            602,
            576,
            555,
            576,
            580,
            620,
            646,
            581,
            648,
            662,
            796,
            959
           ]
          }
         ],
         "traces": [
          0,
          1,
          2,
          3,
          4,
          5,
          6,
          7
         ]
        },
        {
         "data": [
          {
           "type": "scatter",
           "x": [
            "2001",
            "2000",
            "1999",
            "1998",
            "1997",
            "1996",
            "1995",
            "1994",
            "1993",
            "1992",
            "1991",
            "1990",
            "1989"
           ],
           "y": [
            16,
            18,
            19,
            22,
            16,
            23,
            15,
            17,
            12,
            20,
            17,
            26,
            32
           ]
          },
          {
           "type": "scatter",
           "x": [
            "2001",
            "2000",
            "1999",
            "1998",
            "1997",
            "1996",
            "1995",
            "1994",
            "1993",
            "1992",
            "1991",
            "1990",
            "1989"
           ],
           "y": [
            61,
            43,
            53,
            48,
            32,
            64,
            57,
            59,
            58,
            74,
            77,
            71,
            80
           ]
          },
          {
           "type": "scatter",
           "x": [
            "2001",
            "2000",
            "1999",
            "1998",
            "1997",
            "1996",
            "1995",
            "1994",
            "1993",
            "1992",
            "1991",
            "1990",
            "1989"
           ],
           "y": [
            50,
            51,
            49,
            69,
            60,
            72,
            61,
            41,
            44,
            54,
            67,
            68,
            61
           ]
          },
          {
           "type": "scatter",
           "x": [
            "2001",
            "2000",
            "1999",
            "1998",
            "1997",
            "1996",
            "1995",
            "1994",
            "1993",
            "1992",
            "1991",
            "1990",
            "1989"
           ],
           "y": [
            153,
            166,
            151,
            168,
            148,
            181,
            181,
            159,
            217,
            165,
            184,
            226,
            221
           ]
          },
          {
           "type": "scatter",
           "x": [
            "2001",
            "2000",
            "1999",
            "1998",
            "1997",
            "1996",
            "1995",
            "1994",
            "1993",
            "1992",
            "1991",
            "1990",
            "1989"
           ],
           "y": [
            165,
            212,
            218,
            223,
            197,
            247,
            209,
            211,
            209,
            200,
            207,
            196,
            242
           ]
          },
          {
           "type": "scatter",
           "x": [
            "2001",
            "2000",
            "1999",
            "1998",
            "1997",
            "1996",
            "1995",
            "1994",
            "1993",
            "1992",
            "1991",
            "1990",
            "1989"
           ],
           "y": [
            324,
            317,
            314,
            279,
            360,
            385,
            456,
            417,
            396,
            416,
            395,
            399,
            428
           ]
          },
          {
           "type": "scatter",
           "x": [
            "2001",
            "2000",
            "1999",
            "1998",
            "1997",
            "1996",
            "1995",
            "1994",
            "1993",
            "1992",
            "1991",
            "1990",
            "1989"
           ],
           "y": [
            444,
            407,
            383,
            390,
            377,
            417,
            417,
            377,
            435,
            396,
            503,
            548,
            776
           ]
          },
          {
           "type": "scatter",
           "x": [
            "2001",
            "2000",
            "1999",
            "1998",
            "1997",
            "1996",
            "1995",
            "1994",
            "1993",
            "1992",
            "1991",
            "1990",
            "1989"
           ],
           "y": [
            523,
            602,
            576,
            555,
            576,
            580,
            620,
            646,
            581,
            648,
            662,
            796,
            959
           ]
          }
         ],
         "traces": [
          0,
          1,
          2,
          3,
          4,
          5,
          6,
          7
         ]
        },
        {
         "data": [
          {
           "type": "scatter",
           "x": [
            "2002",
            "2001",
            "2000",
            "1999",
            "1998",
            "1997",
            "1996",
            "1995",
            "1994",
            "1993",
            "1992",
            "1991",
            "1990",
            "1989"
           ],
           "y": [
            10,
            16,
            18,
            19,
            22,
            16,
            23,
            15,
            17,
            12,
            20,
            17,
            26,
            32
           ]
          },
          {
           "type": "scatter",
           "x": [
            "2002",
            "2001",
            "2000",
            "1999",
            "1998",
            "1997",
            "1996",
            "1995",
            "1994",
            "1993",
            "1992",
            "1991",
            "1990",
            "1989"
           ],
           "y": [
            37,
            61,
            43,
            53,
            48,
            32,
            64,
            57,
            59,
            58,
            74,
            77,
            71,
            80
           ]
          },
          {
           "type": "scatter",
           "x": [
            "2002",
            "2001",
            "2000",
            "1999",
            "1998",
            "1997",
            "1996",
            "1995",
            "1994",
            "1993",
            "1992",
            "1991",
            "1990",
            "1989"
           ],
           "y": [
            55,
            50,
            51,
            49,
            69,
            60,
            72,
            61,
            41,
            44,
            54,
            67,
            68,
            61
           ]
          },
          {
           "type": "scatter",
           "x": [
            "2002",
            "2001",
            "2000",
            "1999",
            "1998",
            "1997",
            "1996",
            "1995",
            "1994",
            "1993",
            "1992",
            "1991",
            "1990",
            "1989"
           ],
           "y": [
            154,
            153,
            166,
            151,
            168,
            148,
            181,
            181,
            159,
            217,
            165,
            184,
            226,
            221
           ]
          },
          {
           "type": "scatter",
           "x": [
            "2002",
            "2001",
            "2000",
            "1999",
            "1998",
            "1997",
            "1996",
            "1995",
            "1994",
            "1993",
            "1992",
            "1991",
            "1990",
            "1989"
           ],
           "y": [
            179,
            165,
            212,
            218,
            223,
            197,
            247,
            209,
            211,
            209,
            200,
            207,
            196,
            242
           ]
          },
          {
           "type": "scatter",
           "x": [
            "2002",
            "2001",
            "2000",
            "1999",
            "1998",
            "1997",
            "1996",
            "1995",
            "1994",
            "1993",
            "1992",
            "1991",
            "1990",
            "1989"
           ],
           "y": [
            322,
            324,
            317,
            314,
            279,
            360,
            385,
            456,
            417,
            396,
            416,
            395,
            399,
            428
           ]
          },
          {
           "type": "scatter",
           "x": [
            "2002",
            "2001",
            "2000",
            "1999",
            "1998",
            "1997",
            "1996",
            "1995",
            "1994",
            "1993",
            "1992",
            "1991",
            "1990",
            "1989"
           ],
           "y": [
            397,
            444,
            407,
            383,
            390,
            377,
            417,
            417,
            377,
            435,
            396,
            503,
            548,
            776
           ]
          },
          {
           "type": "scatter",
           "x": [
            "2002",
            "2001",
            "2000",
            "1999",
            "1998",
            "1997",
            "1996",
            "1995",
            "1994",
            "1993",
            "1992",
            "1991",
            "1990",
            "1989"
           ],
           "y": [
            560,
            523,
            602,
            576,
            555,
            576,
            580,
            620,
            646,
            581,
            648,
            662,
            796,
            959
           ]
          }
         ],
         "traces": [
          0,
          1,
          2,
          3,
          4,
          5,
          6,
          7
         ]
        },
        {
         "data": [
          {
           "type": "scatter",
           "x": [
            "2003",
            "2002",
            "2001",
            "2000",
            "1999",
            "1998",
            "1997",
            "1996",
            "1995",
            "1994",
            "1993",
            "1992",
            "1991",
            "1990",
            "1989"
           ],
           "y": [
            11,
            10,
            16,
            18,
            19,
            22,
            16,
            23,
            15,
            17,
            12,
            20,
            17,
            26,
            32
           ]
          },
          {
           "type": "scatter",
           "x": [
            "2003",
            "2002",
            "2001",
            "2000",
            "1999",
            "1998",
            "1997",
            "1996",
            "1995",
            "1994",
            "1993",
            "1992",
            "1991",
            "1990",
            "1989"
           ],
           "y": [
            41,
            37,
            61,
            43,
            53,
            48,
            32,
            64,
            57,
            59,
            58,
            74,
            77,
            71,
            80
           ]
          },
          {
           "type": "scatter",
           "x": [
            "2003",
            "2002",
            "2001",
            "2000",
            "1999",
            "1998",
            "1997",
            "1996",
            "1995",
            "1994",
            "1993",
            "1992",
            "1991",
            "1990",
            "1989"
           ],
           "y": [
            53,
            55,
            50,
            51,
            49,
            69,
            60,
            72,
            61,
            41,
            44,
            54,
            67,
            68,
            61
           ]
          },
          {
           "type": "scatter",
           "x": [
            "2003",
            "2002",
            "2001",
            "2000",
            "1999",
            "1998",
            "1997",
            "1996",
            "1995",
            "1994",
            "1993",
            "1992",
            "1991",
            "1990",
            "1989"
           ],
           "y": [
            157,
            154,
            153,
            166,
            151,
            168,
            148,
            181,
            181,
            159,
            217,
            165,
            184,
            226,
            221
           ]
          },
          {
           "type": "scatter",
           "x": [
            "2003",
            "2002",
            "2001",
            "2000",
            "1999",
            "1998",
            "1997",
            "1996",
            "1995",
            "1994",
            "1993",
            "1992",
            "1991",
            "1990",
            "1989"
           ],
           "y": [
            180,
            179,
            165,
            212,
            218,
            223,
            197,
            247,
            209,
            211,
            209,
            200,
            207,
            196,
            242
           ]
          },
          {
           "type": "scatter",
           "x": [
            "2003",
            "2002",
            "2001",
            "2000",
            "1999",
            "1998",
            "1997",
            "1996",
            "1995",
            "1994",
            "1993",
            "1992",
            "1991",
            "1990",
            "1989"
           ],
           "y": [
            309,
            322,
            324,
            317,
            314,
            279,
            360,
            385,
            456,
            417,
            396,
            416,
            395,
            399,
            428
           ]
          },
          {
           "type": "scatter",
           "x": [
            "2003",
            "2002",
            "2001",
            "2000",
            "1999",
            "1998",
            "1997",
            "1996",
            "1995",
            "1994",
            "1993",
            "1992",
            "1991",
            "1990",
            "1989"
           ],
           "y": [
            330,
            397,
            444,
            407,
            383,
            390,
            377,
            417,
            417,
            377,
            435,
            396,
            503,
            548,
            776
           ]
          },
          {
           "type": "scatter",
           "x": [
            "2003",
            "2002",
            "2001",
            "2000",
            "1999",
            "1998",
            "1997",
            "1996",
            "1995",
            "1994",
            "1993",
            "1992",
            "1991",
            "1990",
            "1989"
           ],
           "y": [
            539,
            560,
            523,
            602,
            576,
            555,
            576,
            580,
            620,
            646,
            581,
            648,
            662,
            796,
            959
           ]
          }
         ],
         "traces": [
          0,
          1,
          2,
          3,
          4,
          5,
          6,
          7
         ]
        },
        {
         "data": [
          {
           "type": "scatter",
           "x": [
            "2004",
            "2003",
            "2002",
            "2001",
            "2000",
            "1999",
            "1998",
            "1997",
            "1996",
            "1995",
            "1994",
            "1993",
            "1992",
            "1991",
            "1990",
            "1989"
           ],
           "y": [
            9,
            11,
            10,
            16,
            18,
            19,
            22,
            16,
            23,
            15,
            17,
            12,
            20,
            17,
            26,
            32
           ]
          },
          {
           "type": "scatter",
           "x": [
            "2004",
            "2003",
            "2002",
            "2001",
            "2000",
            "1999",
            "1998",
            "1997",
            "1996",
            "1995",
            "1994",
            "1993",
            "1992",
            "1991",
            "1990",
            "1989"
           ],
           "y": [
            58,
            41,
            37,
            61,
            43,
            53,
            48,
            32,
            64,
            57,
            59,
            58,
            74,
            77,
            71,
            80
           ]
          },
          {
           "type": "scatter",
           "x": [
            "2004",
            "2003",
            "2002",
            "2001",
            "2000",
            "1999",
            "1998",
            "1997",
            "1996",
            "1995",
            "1994",
            "1993",
            "1992",
            "1991",
            "1990",
            "1989"
           ],
           "y": [
            35,
            53,
            55,
            50,
            51,
            49,
            69,
            60,
            72,
            61,
            41,
            44,
            54,
            67,
            68,
            61
           ]
          },
          {
           "type": "scatter",
           "x": [
            "2004",
            "2003",
            "2002",
            "2001",
            "2000",
            "1999",
            "1998",
            "1997",
            "1996",
            "1995",
            "1994",
            "1993",
            "1992",
            "1991",
            "1990",
            "1989"
           ],
           "y": [
            139,
            157,
            154,
            153,
            166,
            151,
            168,
            148,
            181,
            181,
            159,
            217,
            165,
            184,
            226,
            221
           ]
          },
          {
           "type": "scatter",
           "x": [
            "2004",
            "2003",
            "2002",
            "2001",
            "2000",
            "1999",
            "1998",
            "1997",
            "1996",
            "1995",
            "1994",
            "1993",
            "1992",
            "1991",
            "1990",
            "1989"
           ],
           "y": [
            178,
            180,
            179,
            165,
            212,
            218,
            223,
            197,
            247,
            209,
            211,
            209,
            200,
            207,
            196,
            242
           ]
          },
          {
           "type": "scatter",
           "x": [
            "2004",
            "2003",
            "2002",
            "2001",
            "2000",
            "1999",
            "1998",
            "1997",
            "1996",
            "1995",
            "1994",
            "1993",
            "1992",
            "1991",
            "1990",
            "1989"
           ],
           "y": [
            311,
            309,
            322,
            324,
            317,
            314,
            279,
            360,
            385,
            456,
            417,
            396,
            416,
            395,
            399,
            428
           ]
          },
          {
           "type": "scatter",
           "x": [
            "2004",
            "2003",
            "2002",
            "2001",
            "2000",
            "1999",
            "1998",
            "1997",
            "1996",
            "1995",
            "1994",
            "1993",
            "1992",
            "1991",
            "1990",
            "1989"
           ],
           "y": [
            343,
            330,
            397,
            444,
            407,
            383,
            390,
            377,
            417,
            417,
            377,
            435,
            396,
            503,
            548,
            776
           ]
          },
          {
           "type": "scatter",
           "x": [
            "2004",
            "2003",
            "2002",
            "2001",
            "2000",
            "1999",
            "1998",
            "1997",
            "1996",
            "1995",
            "1994",
            "1993",
            "1992",
            "1991",
            "1990",
            "1989"
           ],
           "y": [
            509,
            539,
            560,
            523,
            602,
            576,
            555,
            576,
            580,
            620,
            646,
            581,
            648,
            662,
            796,
            959
           ]
          }
         ],
         "traces": [
          0,
          1,
          2,
          3,
          4,
          5,
          6,
          7
         ]
        },
        {
         "data": [
          {
           "type": "scatter",
           "x": [
            "2005",
            "2004",
            "2003",
            "2002",
            "2001",
            "2000",
            "1999",
            "1998",
            "1997",
            "1996",
            "1995",
            "1994",
            "1993",
            "1992",
            "1991",
            "1990",
            "1989"
           ],
           "y": [
            26,
            9,
            11,
            10,
            16,
            18,
            19,
            22,
            16,
            23,
            15,
            17,
            12,
            20,
            17,
            26,
            32
           ]
          },
          {
           "type": "scatter",
           "x": [
            "2005",
            "2004",
            "2003",
            "2002",
            "2001",
            "2000",
            "1999",
            "1998",
            "1997",
            "1996",
            "1995",
            "1994",
            "1993",
            "1992",
            "1991",
            "1990",
            "1989"
           ],
           "y": [
            51,
            58,
            41,
            37,
            61,
            43,
            53,
            48,
            32,
            64,
            57,
            59,
            58,
            74,
            77,
            71,
            80
           ]
          },
          {
           "type": "scatter",
           "x": [
            "2005",
            "2004",
            "2003",
            "2002",
            "2001",
            "2000",
            "1999",
            "1998",
            "1997",
            "1996",
            "1995",
            "1994",
            "1993",
            "1992",
            "1991",
            "1990",
            "1989"
           ],
           "y": [
            55,
            35,
            53,
            55,
            50,
            51,
            49,
            69,
            60,
            72,
            61,
            41,
            44,
            54,
            67,
            68,
            61
           ]
          },
          {
           "type": "scatter",
           "x": [
            "2005",
            "2004",
            "2003",
            "2002",
            "2001",
            "2000",
            "1999",
            "1998",
            "1997",
            "1996",
            "1995",
            "1994",
            "1993",
            "1992",
            "1991",
            "1990",
            "1989"
           ],
           "y": [
            148,
            139,
            157,
            154,
            153,
            166,
            151,
            168,
            148,
            181,
            181,
            159,
            217,
            165,
            184,
            226,
            221
           ]
          },
          {
           "type": "scatter",
           "x": [
            "2005",
            "2004",
            "2003",
            "2002",
            "2001",
            "2000",
            "1999",
            "1998",
            "1997",
            "1996",
            "1995",
            "1994",
            "1993",
            "1992",
            "1991",
            "1990",
            "1989"
           ],
           "y": [
            163,
            178,
            180,
            179,
            165,
            212,
            218,
            223,
            197,
            247,
            209,
            211,
            209,
            200,
            207,
            196,
            242
           ]
          },
          {
           "type": "scatter",
           "x": [
            "2005",
            "2004",
            "2003",
            "2002",
            "2001",
            "2000",
            "1999",
            "1998",
            "1997",
            "1996",
            "1995",
            "1994",
            "1993",
            "1992",
            "1991",
            "1990",
            "1989"
           ],
           "y": [
            330,
            311,
            309,
            322,
            324,
            317,
            314,
            279,
            360,
            385,
            456,
            417,
            396,
            416,
            395,
            399,
            428
           ]
          },
          {
           "type": "scatter",
           "x": [
            "2005",
            "2004",
            "2003",
            "2002",
            "2001",
            "2000",
            "1999",
            "1998",
            "1997",
            "1996",
            "1995",
            "1994",
            "1993",
            "1992",
            "1991",
            "1990",
            "1989"
           ],
           "y": [
            346,
            343,
            330,
            397,
            444,
            407,
            383,
            390,
            377,
            417,
            417,
            377,
            435,
            396,
            503,
            548,
            776
           ]
          },
          {
           "type": "scatter",
           "x": [
            "2005",
            "2004",
            "2003",
            "2002",
            "2001",
            "2000",
            "1999",
            "1998",
            "1997",
            "1996",
            "1995",
            "1994",
            "1993",
            "1992",
            "1991",
            "1990",
            "1989"
           ],
           "y": [
            507,
            509,
            539,
            560,
            523,
            602,
            576,
            555,
            576,
            580,
            620,
            646,
            581,
            648,
            662,
            796,
            959
           ]
          }
         ],
         "traces": [
          0,
          1,
          2,
          3,
          4,
          5,
          6,
          7
         ]
        },
        {
         "data": [
          {
           "type": "scatter",
           "x": [
            "2006",
            "2005",
            "2004",
            "2003",
            "2002",
            "2001",
            "2000",
            "1999",
            "1998",
            "1997",
            "1996",
            "1995",
            "1994",
            "1993",
            "1992",
            "1991",
            "1990",
            "1989"
           ],
           "y": [
            13,
            26,
            9,
            11,
            10,
            16,
            18,
            19,
            22,
            16,
            23,
            15,
            17,
            12,
            20,
            17,
            26,
            32
           ]
          },
          {
           "type": "scatter",
           "x": [
            "2006",
            "2005",
            "2004",
            "2003",
            "2002",
            "2001",
            "2000",
            "1999",
            "1998",
            "1997",
            "1996",
            "1995",
            "1994",
            "1993",
            "1992",
            "1991",
            "1990",
            "1989"
           ],
           "y": [
            55,
            51,
            58,
            41,
            37,
            61,
            43,
            53,
            48,
            32,
            64,
            57,
            59,
            58,
            74,
            77,
            71,
            80
           ]
          },
          {
           "type": "scatter",
           "x": [
            "2006",
            "2005",
            "2004",
            "2003",
            "2002",
            "2001",
            "2000",
            "1999",
            "1998",
            "1997",
            "1996",
            "1995",
            "1994",
            "1993",
            "1992",
            "1991",
            "1990",
            "1989"
           ],
           "y": [
            45,
            55,
            35,
            53,
            55,
            50,
            51,
            49,
            69,
            60,
            72,
            61,
            41,
            44,
            54,
            67,
            68,
            61
           ]
          },
          {
           "type": "scatter",
           "x": [
            "2006",
            "2005",
            "2004",
            "2003",
            "2002",
            "2001",
            "2000",
            "1999",
            "1998",
            "1997",
            "1996",
            "1995",
            "1994",
            "1993",
            "1992",
            "1991",
            "1990",
            "1989"
           ],
           "y": [
            117,
            148,
            139,
            157,
            154,
            153,
            166,
            151,
            168,
            148,
            181,
            181,
            159,
            217,
            165,
            184,
            226,
            221
           ]
          },
          {
           "type": "scatter",
           "x": [
            "2006",
            "2005",
            "2004",
            "2003",
            "2002",
            "2001",
            "2000",
            "1999",
            "1998",
            "1997",
            "1996",
            "1995",
            "1994",
            "1993",
            "1992",
            "1991",
            "1990",
            "1989"
           ],
           "y": [
            200,
            163,
            178,
            180,
            179,
            165,
            212,
            218,
            223,
            197,
            247,
            209,
            211,
            209,
            200,
            207,
            196,
            242
           ]
          },
          {
           "type": "scatter",
           "x": [
            "2006",
            "2005",
            "2004",
            "2003",
            "2002",
            "2001",
            "2000",
            "1999",
            "1998",
            "1997",
            "1996",
            "1995",
            "1994",
            "1993",
            "1992",
            "1991",
            "1990",
            "1989"
           ],
           "y": [
            335,
            330,
            311,
            309,
            322,
            324,
            317,
            314,
            279,
            360,
            385,
            456,
            417,
            396,
            416,
            395,
            399,
            428
           ]
          },
          {
           "type": "scatter",
           "x": [
            "2006",
            "2005",
            "2004",
            "2003",
            "2002",
            "2001",
            "2000",
            "1999",
            "1998",
            "1997",
            "1996",
            "1995",
            "1994",
            "1993",
            "1992",
            "1991",
            "1990",
            "1989"
           ],
           "y": [
            337,
            346,
            343,
            330,
            397,
            444,
            407,
            383,
            390,
            377,
            417,
            417,
            377,
            435,
            396,
            503,
            548,
            776
           ]
          },
          {
           "type": "scatter",
           "x": [
            "2006",
            "2005",
            "2004",
            "2003",
            "2002",
            "2001",
            "2000",
            "1999",
            "1998",
            "1997",
            "1996",
            "1995",
            "1994",
            "1993",
            "1992",
            "1991",
            "1990",
            "1989"
           ],
           "y": [
            495,
            507,
            509,
            539,
            560,
            523,
            602,
            576,
            555,
            576,
            580,
            620,
            646,
            581,
            648,
            662,
            796,
            959
           ]
          }
         ],
         "traces": [
          0,
          1,
          2,
          3,
          4,
          5,
          6,
          7
         ]
        },
        {
         "data": [
          {
           "type": "scatter",
           "x": [
            "2007",
            "2006",
            "2005",
            "2004",
            "2003",
            "2002",
            "2001",
            "2000",
            "1999",
            "1998",
            "1997",
            "1996",
            "1995",
            "1994",
            "1993",
            "1992",
            "1991",
            "1990",
            "1989"
           ],
           "y": [
            14,
            13,
            26,
            9,
            11,
            10,
            16,
            18,
            19,
            22,
            16,
            23,
            15,
            17,
            12,
            20,
            17,
            26,
            32
           ]
          },
          {
           "type": "scatter",
           "x": [
            "2007",
            "2006",
            "2005",
            "2004",
            "2003",
            "2002",
            "2001",
            "2000",
            "1999",
            "1998",
            "1997",
            "1996",
            "1995",
            "1994",
            "1993",
            "1992",
            "1991",
            "1990",
            "1989"
           ],
           "y": [
            45,
            55,
            51,
            58,
            41,
            37,
            61,
            43,
            53,
            48,
            32,
            64,
            57,
            59,
            58,
            74,
            77,
            71,
            80
           ]
          },
          {
           "type": "scatter",
           "x": [
            "2007",
            "2006",
            "2005",
            "2004",
            "2003",
            "2002",
            "2001",
            "2000",
            "1999",
            "1998",
            "1997",
            "1996",
            "1995",
            "1994",
            "1993",
            "1992",
            "1991",
            "1990",
            "1989"
           ],
           "y": [
            58,
            45,
            55,
            35,
            53,
            55,
            50,
            51,
            49,
            69,
            60,
            72,
            61,
            41,
            44,
            54,
            67,
            68,
            61
           ]
          },
          {
           "type": "scatter",
           "x": [
            "2007",
            "2006",
            "2005",
            "2004",
            "2003",
            "2002",
            "2001",
            "2000",
            "1999",
            "1998",
            "1997",
            "1996",
            "1995",
            "1994",
            "1993",
            "1992",
            "1991",
            "1990",
            "1989"
           ],
           "y": [
            124,
            117,
            148,
            139,
            157,
            154,
            153,
            166,
            151,
            168,
            148,
            181,
            181,
            159,
            217,
            165,
            184,
            226,
            221
           ]
          },
          {
           "type": "scatter",
           "x": [
            "2007",
            "2006",
            "2005",
            "2004",
            "2003",
            "2002",
            "2001",
            "2000",
            "1999",
            "1998",
            "1997",
            "1996",
            "1995",
            "1994",
            "1993",
            "1992",
            "1991",
            "1990",
            "1989"
           ],
           "y": [
            235,
            200,
            163,
            178,
            180,
            179,
            165,
            212,
            218,
            223,
            197,
            247,
            209,
            211,
            209,
            200,
            207,
            196,
            242
           ]
          },
          {
           "type": "scatter",
           "x": [
            "2007",
            "2006",
            "2005",
            "2004",
            "2003",
            "2002",
            "2001",
            "2000",
            "1999",
            "1998",
            "1997",
            "1996",
            "1995",
            "1994",
            "1993",
            "1992",
            "1991",
            "1990",
            "1989"
           ],
           "y": [
            360,
            335,
            330,
            311,
            309,
            322,
            324,
            317,
            314,
            279,
            360,
            385,
            456,
            417,
            396,
            416,
            395,
            399,
            428
           ]
          },
          {
           "type": "scatter",
           "x": [
            "2007",
            "2006",
            "2005",
            "2004",
            "2003",
            "2002",
            "2001",
            "2000",
            "1999",
            "1998",
            "1997",
            "1996",
            "1995",
            "1994",
            "1993",
            "1992",
            "1991",
            "1990",
            "1989"
           ],
           "y": [
            331,
            337,
            346,
            343,
            330,
            397,
            444,
            407,
            383,
            390,
            377,
            417,
            417,
            377,
            435,
            396,
            503,
            548,
            776
           ]
          },
          {
           "type": "scatter",
           "x": [
            "2007",
            "2006",
            "2005",
            "2004",
            "2003",
            "2002",
            "2001",
            "2000",
            "1999",
            "1998",
            "1997",
            "1996",
            "1995",
            "1994",
            "1993",
            "1992",
            "1991",
            "1990",
            "1989"
           ],
           "y": [
            435,
            495,
            507,
            509,
            539,
            560,
            523,
            602,
            576,
            555,
            576,
            580,
            620,
            646,
            581,
            648,
            662,
            796,
            959
           ]
          }
         ],
         "traces": [
          0,
          1,
          2,
          3,
          4,
          5,
          6,
          7
         ]
        },
        {
         "data": [
          {
           "type": "scatter",
           "x": [
            "2008",
            "2007",
            "2006",
            "2005",
            "2004",
            "2003",
            "2002",
            "2001",
            "2000",
            "1999",
            "1998",
            "1997",
            "1996",
            "1995",
            "1994",
            "1993",
            "1992",
            "1991",
            "1990",
            "1989"
           ],
           "y": [
            14,
            14,
            13,
            26,
            9,
            11,
            10,
            16,
            18,
            19,
            22,
            16,
            23,
            15,
            17,
            12,
            20,
            17,
            26,
            32
           ]
          },
          {
           "type": "scatter",
           "x": [
            "2008",
            "2007",
            "2006",
            "2005",
            "2004",
            "2003",
            "2002",
            "2001",
            "2000",
            "1999",
            "1998",
            "1997",
            "1996",
            "1995",
            "1994",
            "1993",
            "1992",
            "1991",
            "1990",
            "1989"
           ],
           "y": [
            39,
            45,
            55,
            51,
            58,
            41,
            37,
            61,
            43,
            53,
            48,
            32,
            64,
            57,
            59,
            58,
            74,
            77,
            71,
            80
           ]
          },
          {
           "type": "scatter",
           "x": [
            "2008",
            "2007",
            "2006",
            "2005",
            "2004",
            "2003",
            "2002",
            "2001",
            "2000",
            "1999",
            "1998",
            "1997",
            "1996",
            "1995",
            "1994",
            "1993",
            "1992",
            "1991",
            "1990",
            "1989"
           ],
           "y": [
            75,
            58,
            45,
            55,
            35,
            53,
            55,
            50,
            51,
            49,
            69,
            60,
            72,
            61,
            41,
            44,
            54,
            67,
            68,
            61
           ]
          },
          {
           "type": "scatter",
           "x": [
            "2008",
            "2007",
            "2006",
            "2005",
            "2004",
            "2003",
            "2002",
            "2001",
            "2000",
            "1999",
            "1998",
            "1997",
            "1996",
            "1995",
            "1994",
            "1993",
            "1992",
            "1991",
            "1990",
            "1989"
           ],
           "y": [
            99,
            124,
            117,
            148,
            139,
            157,
            154,
            153,
            166,
            151,
            168,
            148,
            181,
            181,
            159,
            217,
            165,
            184,
            226,
            221
           ]
          },
          {
           "type": "scatter",
           "x": [
            "2008",
            "2007",
            "2006",
            "2005",
            "2004",
            "2003",
            "2002",
            "2001",
            "2000",
            "1999",
            "1998",
            "1997",
            "1996",
            "1995",
            "1994",
            "1993",
            "1992",
            "1991",
            "1990",
            "1989"
           ],
           "y": [
            204,
            235,
            200,
            163,
            178,
            180,
            179,
            165,
            212,
            218,
            223,
            197,
            247,
            209,
            211,
            209,
            200,
            207,
            196,
            242
           ]
          },
          {
           "type": "scatter",
           "x": [
            "2008",
            "2007",
            "2006",
            "2005",
            "2004",
            "2003",
            "2002",
            "2001",
            "2000",
            "1999",
            "1998",
            "1997",
            "1996",
            "1995",
            "1994",
            "1993",
            "1992",
            "1991",
            "1990",
            "1989"
           ],
           "y": [
            328,
            360,
            335,
            330,
            311,
            309,
            322,
            324,
            317,
            314,
            279,
            360,
            385,
            456,
            417,
            396,
            416,
            395,
            399,
            428
           ]
          },
          {
           "type": "scatter",
           "x": [
            "2008",
            "2007",
            "2006",
            "2005",
            "2004",
            "2003",
            "2002",
            "2001",
            "2000",
            "1999",
            "1998",
            "1997",
            "1996",
            "1995",
            "1994",
            "1993",
            "1992",
            "1991",
            "1990",
            "1989"
           ],
           "y": [
            303,
            331,
            337,
            346,
            343,
            330,
            397,
            444,
            407,
            383,
            390,
            377,
            417,
            417,
            377,
            435,
            396,
            503,
            548,
            776
           ]
          },
          {
           "type": "scatter",
           "x": [
            "2008",
            "2007",
            "2006",
            "2005",
            "2004",
            "2003",
            "2002",
            "2001",
            "2000",
            "1999",
            "1998",
            "1997",
            "1996",
            "1995",
            "1994",
            "1993",
            "1992",
            "1991",
            "1990",
            "1989"
           ],
           "y": [
            374,
            435,
            495,
            507,
            509,
            539,
            560,
            523,
            602,
            576,
            555,
            576,
            580,
            620,
            646,
            581,
            648,
            662,
            796,
            959
           ]
          }
         ],
         "traces": [
          0,
          1,
          2,
          3,
          4,
          5,
          6,
          7
         ]
        },
        {
         "data": [
          {
           "type": "scatter",
           "x": [
            "2009",
            "2008",
            "2007",
            "2006",
            "2005",
            "2004",
            "2003",
            "2002",
            "2001",
            "2000",
            "1999",
            "1998",
            "1997",
            "1996",
            "1995",
            "1994",
            "1993",
            "1992",
            "1991",
            "1990",
            "1989"
           ],
           "y": [
            12,
            14,
            14,
            13,
            26,
            9,
            11,
            10,
            16,
            18,
            19,
            22,
            16,
            23,
            15,
            17,
            12,
            20,
            17,
            26,
            32
           ]
          },
          {
           "type": "scatter",
           "x": [
            "2009",
            "2008",
            "2007",
            "2006",
            "2005",
            "2004",
            "2003",
            "2002",
            "2001",
            "2000",
            "1999",
            "1998",
            "1997",
            "1996",
            "1995",
            "1994",
            "1993",
            "1992",
            "1991",
            "1990",
            "1989"
           ],
           "y": [
            63,
            39,
            45,
            55,
            51,
            58,
            41,
            37,
            61,
            43,
            53,
            48,
            32,
            64,
            57,
            59,
            58,
            74,
            77,
            71,
            80
           ]
          },
          {
           "type": "scatter",
           "x": [
            "2009",
            "2008",
            "2007",
            "2006",
            "2005",
            "2004",
            "2003",
            "2002",
            "2001",
            "2000",
            "1999",
            "1998",
            "1997",
            "1996",
            "1995",
            "1994",
            "1993",
            "1992",
            "1991",
            "1990",
            "1989"
           ],
           "y": [
            31,
            75,
            58,
            45,
            55,
            35,
            53,
            55,
            50,
            51,
            49,
            69,
            60,
            72,
            61,
            41,
            44,
            54,
            67,
            68,
            61
           ]
          },
          {
           "type": "scatter",
           "x": [
            "2009",
            "2008",
            "2007",
            "2006",
            "2005",
            "2004",
            "2003",
            "2002",
            "2001",
            "2000",
            "1999",
            "1998",
            "1997",
            "1996",
            "1995",
            "1994",
            "1993",
            "1992",
            "1991",
            "1990",
            "1989"
           ],
           "y": [
            119,
            99,
            124,
            117,
            148,
            139,
            157,
            154,
            153,
            166,
            151,
            168,
            148,
            181,
            181,
            159,
            217,
            165,
            184,
            226,
            221
           ]
          },
          {
           "type": "scatter",
           "x": [
            "2009",
            "2008",
            "2007",
            "2006",
            "2005",
            "2004",
            "2003",
            "2002",
            "2001",
            "2000",
            "1999",
            "1998",
            "1997",
            "1996",
            "1995",
            "1994",
            "1993",
            "1992",
            "1991",
            "1990",
            "1989"
           ],
           "y": [
            191,
            204,
            235,
            200,
            163,
            178,
            180,
            179,
            165,
            212,
            218,
            223,
            197,
            247,
            209,
            211,
            209,
            200,
            207,
            196,
            242
           ]
          },
          {
           "type": "scatter",
           "x": [
            "2009",
            "2008",
            "2007",
            "2006",
            "2005",
            "2004",
            "2003",
            "2002",
            "2001",
            "2000",
            "1999",
            "1998",
            "1997",
            "1996",
            "1995",
            "1994",
            "1993",
            "1992",
            "1991",
            "1990",
            "1989"
           ],
           "y": [
            331,
            328,
            360,
            335,
            330,
            311,
            309,
            322,
            324,
            317,
            314,
            279,
            360,
            385,
            456,
            417,
            396,
            416,
            395,
            399,
            428
           ]
          },
          {
           "type": "scatter",
           "x": [
            "2009",
            "2008",
            "2007",
            "2006",
            "2005",
            "2004",
            "2003",
            "2002",
            "2001",
            "2000",
            "1999",
            "1998",
            "1997",
            "1996",
            "1995",
            "1994",
            "1993",
            "1992",
            "1991",
            "1990",
            "1989"
           ],
           "y": [
            290,
            303,
            331,
            337,
            346,
            343,
            330,
            397,
            444,
            407,
            383,
            390,
            377,
            417,
            417,
            377,
            435,
            396,
            503,
            548,
            776
           ]
          },
          {
           "type": "scatter",
           "x": [
            "2009",
            "2008",
            "2007",
            "2006",
            "2005",
            "2004",
            "2003",
            "2002",
            "2001",
            "2000",
            "1999",
            "1998",
            "1997",
            "1996",
            "1995",
            "1994",
            "1993",
            "1992",
            "1991",
            "1990",
            "1989"
           ],
           "y": [
            453,
            374,
            435,
            495,
            507,
            509,
            539,
            560,
            523,
            602,
            576,
            555,
            576,
            580,
            620,
            646,
            581,
            648,
            662,
            796,
            959
           ]
          }
         ],
         "traces": [
          0,
          1,
          2,
          3,
          4,
          5,
          6,
          7
         ]
        },
        {
         "data": [
          {
           "type": "scatter",
           "x": [
            "2010",
            "2009",
            "2008",
            "2007",
            "2006",
            "2005",
            "2004",
            "2003",
            "2002",
            "2001",
            "2000",
            "1999",
            "1998",
            "1997",
            "1996",
            "1995",
            "1994",
            "1993",
            "1992",
            "1991",
            "1990",
            "1989"
           ],
           "y": [
            19,
            12,
            14,
            14,
            13,
            26,
            9,
            11,
            10,
            16,
            18,
            19,
            22,
            16,
            23,
            15,
            17,
            12,
            20,
            17,
            26,
            32
           ]
          },
          {
           "type": "scatter",
           "x": [
            "2010",
            "2009",
            "2008",
            "2007",
            "2006",
            "2005",
            "2004",
            "2003",
            "2002",
            "2001",
            "2000",
            "1999",
            "1998",
            "1997",
            "1996",
            "1995",
            "1994",
            "1993",
            "1992",
            "1991",
            "1990",
            "1989"
           ],
           "y": [
            31,
            63,
            39,
            45,
            55,
            51,
            58,
            41,
            37,
            61,
            43,
            53,
            48,
            32,
            64,
            57,
            59,
            58,
            74,
            77,
            71,
            80
           ]
          },
          {
           "type": "scatter",
           "x": [
            "2010",
            "2009",
            "2008",
            "2007",
            "2006",
            "2005",
            "2004",
            "2003",
            "2002",
            "2001",
            "2000",
            "1999",
            "1998",
            "1997",
            "1996",
            "1995",
            "1994",
            "1993",
            "1992",
            "1991",
            "1990",
            "1989"
           ],
           "y": [
            50,
            31,
            75,
            58,
            45,
            55,
            35,
            53,
            55,
            50,
            51,
            49,
            69,
            60,
            72,
            61,
            41,
            44,
            54,
            67,
            68,
            61
           ]
          },
          {
           "type": "scatter",
           "x": [
            "2010",
            "2009",
            "2008",
            "2007",
            "2006",
            "2005",
            "2004",
            "2003",
            "2002",
            "2001",
            "2000",
            "1999",
            "1998",
            "1997",
            "1996",
            "1995",
            "1994",
            "1993",
            "1992",
            "1991",
            "1990",
            "1989"
           ],
           "y": [
            118,
            119,
            99,
            124,
            117,
            148,
            139,
            157,
            154,
            153,
            166,
            151,
            168,
            148,
            181,
            181,
            159,
            217,
            165,
            184,
            226,
            221
           ]
          },
          {
           "type": "scatter",
           "x": [
            "2010",
            "2009",
            "2008",
            "2007",
            "2006",
            "2005",
            "2004",
            "2003",
            "2002",
            "2001",
            "2000",
            "1999",
            "1998",
            "1997",
            "1996",
            "1995",
            "1994",
            "1993",
            "1992",
            "1991",
            "1990",
            "1989"
           ],
           "y": [
            193,
            191,
            204,
            235,
            200,
            163,
            178,
            180,
            179,
            165,
            212,
            218,
            223,
            197,
            247,
            209,
            211,
            209,
            200,
            207,
            196,
            242
           ]
          },
          {
           "type": "scatter",
           "x": [
            "2010",
            "2009",
            "2008",
            "2007",
            "2006",
            "2005",
            "2004",
            "2003",
            "2002",
            "2001",
            "2000",
            "1999",
            "1998",
            "1997",
            "1996",
            "1995",
            "1994",
            "1993",
            "1992",
            "1991",
            "1990",
            "1989"
           ],
           "y": [
            249,
            331,
            328,
            360,
            335,
            330,
            311,
            309,
            322,
            324,
            317,
            314,
            279,
            360,
            385,
            456,
            417,
            396,
            416,
            395,
            399,
            428
           ]
          },
          {
           "type": "scatter",
           "x": [
            "2010",
            "2009",
            "2008",
            "2007",
            "2006",
            "2005",
            "2004",
            "2003",
            "2002",
            "2001",
            "2000",
            "1999",
            "1998",
            "1997",
            "1996",
            "1995",
            "1994",
            "1993",
            "1992",
            "1991",
            "1990",
            "1989"
           ],
           "y": [
            288,
            290,
            303,
            331,
            337,
            346,
            343,
            330,
            397,
            444,
            407,
            383,
            390,
            377,
            417,
            417,
            377,
            435,
            396,
            503,
            548,
            776
           ]
          },
          {
           "type": "scatter",
           "x": [
            "2010",
            "2009",
            "2008",
            "2007",
            "2006",
            "2005",
            "2004",
            "2003",
            "2002",
            "2001",
            "2000",
            "1999",
            "1998",
            "1997",
            "1996",
            "1995",
            "1994",
            "1993",
            "1992",
            "1991",
            "1990",
            "1989"
           ],
           "y": [
            404,
            453,
            374,
            435,
            495,
            507,
            509,
            539,
            560,
            523,
            602,
            576,
            555,
            576,
            580,
            620,
            646,
            581,
            648,
            662,
            796,
            959
           ]
          }
         ],
         "traces": [
          0,
          1,
          2,
          3,
          4,
          5,
          6,
          7
         ]
        },
        {
         "data": [
          {
           "type": "scatter",
           "x": [
            "2011",
            "2010",
            "2009",
            "2008",
            "2007",
            "2006",
            "2005",
            "2004",
            "2003",
            "2002",
            "2001",
            "2000",
            "1999",
            "1998",
            "1997",
            "1996",
            "1995",
            "1994",
            "1993",
            "1992",
            "1991",
            "1990",
            "1989"
           ],
           "y": [
            6,
            19,
            12,
            14,
            14,
            13,
            26,
            9,
            11,
            10,
            16,
            18,
            19,
            22,
            16,
            23,
            15,
            17,
            12,
            20,
            17,
            26,
            32
           ]
          },
          {
           "type": "scatter",
           "x": [
            "2011",
            "2010",
            "2009",
            "2008",
            "2007",
            "2006",
            "2005",
            "2004",
            "2003",
            "2002",
            "2001",
            "2000",
            "1999",
            "1998",
            "1997",
            "1996",
            "1995",
            "1994",
            "1993",
            "1992",
            "1991",
            "1990",
            "1989"
           ],
           "y": [
            24,
            31,
            63,
            39,
            45,
            55,
            51,
            58,
            41,
            37,
            61,
            43,
            53,
            48,
            32,
            64,
            57,
            59,
            58,
            74,
            77,
            71,
            80
           ]
          },
          {
           "type": "scatter",
           "x": [
            "2011",
            "2010",
            "2009",
            "2008",
            "2007",
            "2006",
            "2005",
            "2004",
            "2003",
            "2002",
            "2001",
            "2000",
            "1999",
            "1998",
            "1997",
            "1996",
            "1995",
            "1994",
            "1993",
            "1992",
            "1991",
            "1990",
            "1989"
           ],
           "y": [
            45,
            50,
            31,
            75,
            58,
            45,
            55,
            35,
            53,
            55,
            50,
            51,
            49,
            69,
            60,
            72,
            61,
            41,
            44,
            54,
            67,
            68,
            61
           ]
          },
          {
           "type": "scatter",
           "x": [
            "2011",
            "2010",
            "2009",
            "2008",
            "2007",
            "2006",
            "2005",
            "2004",
            "2003",
            "2002",
            "2001",
            "2000",
            "1999",
            "1998",
            "1997",
            "1996",
            "1995",
            "1994",
            "1993",
            "1992",
            "1991",
            "1990",
            "1989"
           ],
           "y": [
            103,
            118,
            119,
            99,
            124,
            117,
            148,
            139,
            157,
            154,
            153,
            166,
            151,
            168,
            148,
            181,
            181,
            159,
            217,
            165,
            184,
            226,
            221
           ]
          },
          {
           "type": "scatter",
           "x": [
            "2011",
            "2010",
            "2009",
            "2008",
            "2007",
            "2006",
            "2005",
            "2004",
            "2003",
            "2002",
            "2001",
            "2000",
            "1999",
            "1998",
            "1997",
            "1996",
            "1995",
            "1994",
            "1993",
            "1992",
            "1991",
            "1990",
            "1989"
           ],
           "y": [
            179,
            193,
            191,
            204,
            235,
            200,
            163,
            178,
            180,
            179,
            165,
            212,
            218,
            223,
            197,
            247,
            209,
            211,
            209,
            200,
            207,
            196,
            242
           ]
          },
          {
           "type": "scatter",
           "x": [
            "2011",
            "2010",
            "2009",
            "2008",
            "2007",
            "2006",
            "2005",
            "2004",
            "2003",
            "2002",
            "2001",
            "2000",
            "1999",
            "1998",
            "1997",
            "1996",
            "1995",
            "1994",
            "1993",
            "1992",
            "1991",
            "1990",
            "1989"
           ],
           "y": [
            269,
            249,
            331,
            328,
            360,
            335,
            330,
            311,
            309,
            322,
            324,
            317,
            314,
            279,
            360,
            385,
            456,
            417,
            396,
            416,
            395,
            399,
            428
           ]
          },
          {
           "type": "scatter",
           "x": [
            "2011",
            "2010",
            "2009",
            "2008",
            "2007",
            "2006",
            "2005",
            "2004",
            "2003",
            "2002",
            "2001",
            "2000",
            "1999",
            "1998",
            "1997",
            "1996",
            "1995",
            "1994",
            "1993",
            "1992",
            "1991",
            "1990",
            "1989"
           ],
           "y": [
            287,
            288,
            290,
            303,
            331,
            337,
            346,
            343,
            330,
            397,
            444,
            407,
            383,
            390,
            377,
            417,
            417,
            377,
            435,
            396,
            503,
            548,
            776
           ]
          },
          {
           "type": "scatter",
           "x": [
            "2011",
            "2010",
            "2009",
            "2008",
            "2007",
            "2006",
            "2005",
            "2004",
            "2003",
            "2002",
            "2001",
            "2000",
            "1999",
            "1998",
            "1997",
            "1996",
            "1995",
            "1994",
            "1993",
            "1992",
            "1991",
            "1990",
            "1989"
           ],
           "y": [
            363,
            404,
            453,
            374,
            435,
            495,
            507,
            509,
            539,
            560,
            523,
            602,
            576,
            555,
            576,
            580,
            620,
            646,
            581,
            648,
            662,
            796,
            959
           ]
          }
         ],
         "traces": [
          0,
          1,
          2,
          3,
          4,
          5,
          6,
          7
         ]
        },
        {
         "data": [
          {
           "type": "scatter",
           "x": [
            "2012",
            "2011",
            "2010",
            "2009",
            "2008",
            "2007",
            "2006",
            "2005",
            "2004",
            "2003",
            "2002",
            "2001",
            "2000",
            "1999",
            "1998",
            "1997",
            "1996",
            "1995",
            "1994",
            "1993",
            "1992",
            "1991",
            "1990",
            "1989"
           ],
           "y": [
            12,
            6,
            19,
            12,
            14,
            14,
            13,
            26,
            9,
            11,
            10,
            16,
            18,
            19,
            22,
            16,
            23,
            15,
            17,
            12,
            20,
            17,
            26,
            32
           ]
          },
          {
           "type": "scatter",
           "x": [
            "2012",
            "2011",
            "2010",
            "2009",
            "2008",
            "2007",
            "2006",
            "2005",
            "2004",
            "2003",
            "2002",
            "2001",
            "2000",
            "1999",
            "1998",
            "1997",
            "1996",
            "1995",
            "1994",
            "1993",
            "1992",
            "1991",
            "1990",
            "1989"
           ],
           "y": [
            31,
            24,
            31,
            63,
            39,
            45,
            55,
            51,
            58,
            41,
            37,
            61,
            43,
            53,
            48,
            32,
            64,
            57,
            59,
            58,
            74,
            77,
            71,
            80
           ]
          },
          {
           "type": "scatter",
           "x": [
            "2012",
            "2011",
            "2010",
            "2009",
            "2008",
            "2007",
            "2006",
            "2005",
            "2004",
            "2003",
            "2002",
            "2001",
            "2000",
            "1999",
            "1998",
            "1997",
            "1996",
            "1995",
            "1994",
            "1993",
            "1992",
            "1991",
            "1990",
            "1989"
           ],
           "y": [
            49,
            45,
            50,
            31,
            75,
            58,
            45,
            55,
            35,
            53,
            55,
            50,
            51,
            49,
            69,
            60,
            72,
            61,
            41,
            44,
            54,
            67,
            68,
            61
           ]
          },
          {
           "type": "scatter",
           "x": [
            "2012",
            "2011",
            "2010",
            "2009",
            "2008",
            "2007",
            "2006",
            "2005",
            "2004",
            "2003",
            "2002",
            "2001",
            "2000",
            "1999",
            "1998",
            "1997",
            "1996",
            "1995",
            "1994",
            "1993",
            "1992",
            "1991",
            "1990",
            "1989"
           ],
           "y": [
            94,
            103,
            118,
            119,
            99,
            124,
            117,
            148,
            139,
            157,
            154,
            153,
            166,
            151,
            168,
            148,
            181,
            181,
            159,
            217,
            165,
            184,
            226,
            221
           ]
          },
          {
           "type": "scatter",
           "x": [
            "2012",
            "2011",
            "2010",
            "2009",
            "2008",
            "2007",
            "2006",
            "2005",
            "2004",
            "2003",
            "2002",
            "2001",
            "2000",
            "1999",
            "1998",
            "1997",
            "1996",
            "1995",
            "1994",
            "1993",
            "1992",
            "1991",
            "1990",
            "1989"
           ],
           "y": [
            183,
            179,
            193,
            191,
            204,
            235,
            200,
            163,
            178,
            180,
            179,
            165,
            212,
            218,
            223,
            197,
            247,
            209,
            211,
            209,
            200,
            207,
            196,
            242
           ]
          },
          {
           "type": "scatter",
           "x": [
            "2012",
            "2011",
            "2010",
            "2009",
            "2008",
            "2007",
            "2006",
            "2005",
            "2004",
            "2003",
            "2002",
            "2001",
            "2000",
            "1999",
            "1998",
            "1997",
            "1996",
            "1995",
            "1994",
            "1993",
            "1992",
            "1991",
            "1990",
            "1989"
           ],
           "y": [
            280,
            269,
            249,
            331,
            328,
            360,
            335,
            330,
            311,
            309,
            322,
            324,
            317,
            314,
            279,
            360,
            385,
            456,
            417,
            396,
            416,
            395,
            399,
            428
           ]
          },
          {
           "type": "scatter",
           "x": [
            "2012",
            "2011",
            "2010",
            "2009",
            "2008",
            "2007",
            "2006",
            "2005",
            "2004",
            "2003",
            "2002",
            "2001",
            "2000",
            "1999",
            "1998",
            "1997",
            "1996",
            "1995",
            "1994",
            "1993",
            "1992",
            "1991",
            "1990",
            "1989"
           ],
           "y": [
            282,
            287,
            288,
            290,
            303,
            331,
            337,
            346,
            343,
            330,
            397,
            444,
            407,
            383,
            390,
            377,
            417,
            417,
            377,
            435,
            396,
            503,
            548,
            776
           ]
          },
          {
           "type": "scatter",
           "x": [
            "2012",
            "2011",
            "2010",
            "2009",
            "2008",
            "2007",
            "2006",
            "2005",
            "2004",
            "2003",
            "2002",
            "2001",
            "2000",
            "1999",
            "1998",
            "1997",
            "1996",
            "1995",
            "1994",
            "1993",
            "1992",
            "1991",
            "1990",
            "1989"
           ],
           "y": [
            368,
            363,
            404,
            453,
            374,
            435,
            495,
            507,
            509,
            539,
            560,
            523,
            602,
            576,
            555,
            576,
            580,
            620,
            646,
            581,
            648,
            662,
            796,
            959
           ]
          }
         ],
         "traces": [
          0,
          1,
          2,
          3,
          4,
          5,
          6,
          7
         ]
        },
        {
         "data": [
          {
           "type": "scatter",
           "x": [
            "2013",
            "2012",
            "2011",
            "2010",
            "2009",
            "2008",
            "2007",
            "2006",
            "2005",
            "2004",
            "2003",
            "2002",
            "2001",
            "2000",
            "1999",
            "1998",
            "1997",
            "1996",
            "1995",
            "1994",
            "1993",
            "1992",
            "1991",
            "1990",
            "1989"
           ],
           "y": [
            7,
            12,
            6,
            19,
            12,
            14,
            14,
            13,
            26,
            9,
            11,
            10,
            16,
            18,
            19,
            22,
            16,
            23,
            15,
            17,
            12,
            20,
            17,
            26,
            32
           ]
          },
          {
           "type": "scatter",
           "x": [
            "2013",
            "2012",
            "2011",
            "2010",
            "2009",
            "2008",
            "2007",
            "2006",
            "2005",
            "2004",
            "2003",
            "2002",
            "2001",
            "2000",
            "1999",
            "1998",
            "1997",
            "1996",
            "1995",
            "1994",
            "1993",
            "1992",
            "1991",
            "1990",
            "1989"
           ],
           "y": [
            36,
            31,
            24,
            31,
            63,
            39,
            45,
            55,
            51,
            58,
            41,
            37,
            61,
            43,
            53,
            48,
            32,
            64,
            57,
            59,
            58,
            74,
            77,
            71,
            80
           ]
          },
          {
           "type": "scatter",
           "x": [
            "2013",
            "2012",
            "2011",
            "2010",
            "2009",
            "2008",
            "2007",
            "2006",
            "2005",
            "2004",
            "2003",
            "2002",
            "2001",
            "2000",
            "1999",
            "1998",
            "1997",
            "1996",
            "1995",
            "1994",
            "1993",
            "1992",
            "1991",
            "1990",
            "1989"
           ],
           "y": [
            37,
            49,
            45,
            50,
            31,
            75,
            58,
            45,
            55,
            35,
            53,
            55,
            50,
            51,
            49,
            69,
            60,
            72,
            61,
            41,
            44,
            54,
            67,
            68,
            61
           ]
          },
          {
           "type": "scatter",
           "x": [
            "2013",
            "2012",
            "2011",
            "2010",
            "2009",
            "2008",
            "2007",
            "2006",
            "2005",
            "2004",
            "2003",
            "2002",
            "2001",
            "2000",
            "1999",
            "1998",
            "1997",
            "1996",
            "1995",
            "1994",
            "1993",
            "1992",
            "1991",
            "1990",
            "1989"
           ],
           "y": [
            98,
            94,
            103,
            118,
            119,
            99,
            124,
            117,
            148,
            139,
            157,
            154,
            153,
            166,
            151,
            168,
            148,
            181,
            181,
            159,
            217,
            165,
            184,
            226,
            221
           ]
          },
          {
           "type": "scatter",
           "x": [
            "2013",
            "2012",
            "2011",
            "2010",
            "2009",
            "2008",
            "2007",
            "2006",
            "2005",
            "2004",
            "2003",
            "2002",
            "2001",
            "2000",
            "1999",
            "1998",
            "1997",
            "1996",
            "1995",
            "1994",
            "1993",
            "1992",
            "1991",
            "1990",
            "1989"
           ],
           "y": [
            161,
            183,
            179,
            193,
            191,
            204,
            235,
            200,
            163,
            178,
            180,
            179,
            165,
            212,
            218,
            223,
            197,
            247,
            209,
            211,
            209,
            200,
            207,
            196,
            242
           ]
          },
          {
           "type": "scatter",
           "x": [
            "2013",
            "2012",
            "2011",
            "2010",
            "2009",
            "2008",
            "2007",
            "2006",
            "2005",
            "2004",
            "2003",
            "2002",
            "2001",
            "2000",
            "1999",
            "1998",
            "1997",
            "1996",
            "1995",
            "1994",
            "1993",
            "1992",
            "1991",
            "1990",
            "1989"
           ],
           "y": [
            271,
            280,
            269,
            249,
            331,
            328,
            360,
            335,
            330,
            311,
            309,
            322,
            324,
            317,
            314,
            279,
            360,
            385,
            456,
            417,
            396,
            416,
            395,
            399,
            428
           ]
          },
          {
           "type": "scatter",
           "x": [
            "2013",
            "2012",
            "2011",
            "2010",
            "2009",
            "2008",
            "2007",
            "2006",
            "2005",
            "2004",
            "2003",
            "2002",
            "2001",
            "2000",
            "1999",
            "1998",
            "1997",
            "1996",
            "1995",
            "1994",
            "1993",
            "1992",
            "1991",
            "1990",
            "1989"
           ],
           "y": [
            243,
            282,
            287,
            288,
            290,
            303,
            331,
            337,
            346,
            343,
            330,
            397,
            444,
            407,
            383,
            390,
            377,
            417,
            417,
            377,
            435,
            396,
            503,
            548,
            776
           ]
          },
          {
           "type": "scatter",
           "x": [
            "2013",
            "2012",
            "2011",
            "2010",
            "2009",
            "2008",
            "2007",
            "2006",
            "2005",
            "2004",
            "2003",
            "2002",
            "2001",
            "2000",
            "1999",
            "1998",
            "1997",
            "1996",
            "1995",
            "1994",
            "1993",
            "1992",
            "1991",
            "1990",
            "1989"
           ],
           "y": [
            333,
            368,
            363,
            404,
            453,
            374,
            435,
            495,
            507,
            509,
            539,
            560,
            523,
            602,
            576,
            555,
            576,
            580,
            620,
            646,
            581,
            648,
            662,
            796,
            959
           ]
          }
         ],
         "traces": [
          0,
          1,
          2,
          3,
          4,
          5,
          6,
          7
         ]
        },
        {
         "data": [
          {
           "type": "scatter",
           "x": [
            "2014",
            "2013",
            "2012",
            "2011",
            "2010",
            "2009",
            "2008",
            "2007",
            "2006",
            "2005",
            "2004",
            "2003",
            "2002",
            "2001",
            "2000",
            "1999",
            "1998",
            "1997",
            "1996",
            "1995",
            "1994",
            "1993",
            "1992",
            "1991",
            "1990",
            "1989"
           ],
           "y": [
            10,
            7,
            12,
            6,
            19,
            12,
            14,
            14,
            13,
            26,
            9,
            11,
            10,
            16,
            18,
            19,
            22,
            16,
            23,
            15,
            17,
            12,
            20,
            17,
            26,
            32
           ]
          },
          {
           "type": "scatter",
           "x": [
            "2014",
            "2013",
            "2012",
            "2011",
            "2010",
            "2009",
            "2008",
            "2007",
            "2006",
            "2005",
            "2004",
            "2003",
            "2002",
            "2001",
            "2000",
            "1999",
            "1998",
            "1997",
            "1996",
            "1995",
            "1994",
            "1993",
            "1992",
            "1991",
            "1990",
            "1989"
           ],
           "y": [
            33,
            36,
            31,
            24,
            31,
            63,
            39,
            45,
            55,
            51,
            58,
            41,
            37,
            61,
            43,
            53,
            48,
            32,
            64,
            57,
            59,
            58,
            74,
            77,
            71,
            80
           ]
          },
          {
           "type": "scatter",
           "x": [
            "2014",
            "2013",
            "2012",
            "2011",
            "2010",
            "2009",
            "2008",
            "2007",
            "2006",
            "2005",
            "2004",
            "2003",
            "2002",
            "2001",
            "2000",
            "1999",
            "1998",
            "1997",
            "1996",
            "1995",
            "1994",
            "1993",
            "1992",
            "1991",
            "1990",
            "1989"
           ],
           "y": [
            39,
            37,
            49,
            45,
            50,
            31,
            75,
            58,
            45,
            55,
            35,
            53,
            55,
            50,
            51,
            49,
            69,
            60,
            72,
            61,
            41,
            44,
            54,
            67,
            68,
            61
           ]
          },
          {
           "type": "scatter",
           "x": [
            "2014",
            "2013",
            "2012",
            "2011",
            "2010",
            "2009",
            "2008",
            "2007",
            "2006",
            "2005",
            "2004",
            "2003",
            "2002",
            "2001",
            "2000",
            "1999",
            "1998",
            "1997",
            "1996",
            "1995",
            "1994",
            "1993",
            "1992",
            "1991",
            "1990",
            "1989"
           ],
           "y": [
            108,
            98,
            94,
            103,
            118,
            119,
            99,
            124,
            117,
            148,
            139,
            157,
            154,
            153,
            166,
            151,
            168,
            148,
            181,
            181,
            159,
            217,
            165,
            184,
            226,
            221
           ]
          },
          {
           "type": "scatter",
           "x": [
            "2014",
            "2013",
            "2012",
            "2011",
            "2010",
            "2009",
            "2008",
            "2007",
            "2006",
            "2005",
            "2004",
            "2003",
            "2002",
            "2001",
            "2000",
            "1999",
            "1998",
            "1997",
            "1996",
            "1995",
            "1994",
            "1993",
            "1992",
            "1991",
            "1990",
            "1989"
           ],
           "y": [
            183,
            161,
            183,
            179,
            193,
            191,
            204,
            235,
            200,
            163,
            178,
            180,
            179,
            165,
            212,
            218,
            223,
            197,
            247,
            209,
            211,
            209,
            200,
            207,
            196,
            242
           ]
          },
          {
           "type": "scatter",
           "x": [
            "2014",
            "2013",
            "2012",
            "2011",
            "2010",
            "2009",
            "2008",
            "2007",
            "2006",
            "2005",
            "2004",
            "2003",
            "2002",
            "2001",
            "2000",
            "1999",
            "1998",
            "1997",
            "1996",
            "1995",
            "1994",
            "1993",
            "1992",
            "1991",
            "1990",
            "1989"
           ],
           "y": [
            223,
            271,
            280,
            269,
            249,
            331,
            328,
            360,
            335,
            330,
            311,
            309,
            322,
            324,
            317,
            314,
            279,
            360,
            385,
            456,
            417,
            396,
            416,
            395,
            399,
            428
           ]
          },
          {
           "type": "scatter",
           "x": [
            "2014",
            "2013",
            "2012",
            "2011",
            "2010",
            "2009",
            "2008",
            "2007",
            "2006",
            "2005",
            "2004",
            "2003",
            "2002",
            "2001",
            "2000",
            "1999",
            "1998",
            "1997",
            "1996",
            "1995",
            "1994",
            "1993",
            "1992",
            "1991",
            "1990",
            "1989"
           ],
           "y": [
            248,
            243,
            282,
            287,
            288,
            290,
            303,
            331,
            337,
            346,
            343,
            330,
            397,
            444,
            407,
            383,
            390,
            377,
            417,
            417,
            377,
            435,
            396,
            503,
            548,
            776
           ]
          },
          {
           "type": "scatter",
           "x": [
            "2014",
            "2013",
            "2012",
            "2011",
            "2010",
            "2009",
            "2008",
            "2007",
            "2006",
            "2005",
            "2004",
            "2003",
            "2002",
            "2001",
            "2000",
            "1999",
            "1998",
            "1997",
            "1996",
            "1995",
            "1994",
            "1993",
            "1992",
            "1991",
            "1990",
            "1989"
           ],
           "y": [
            306,
            333,
            368,
            363,
            404,
            453,
            374,
            435,
            495,
            507,
            509,
            539,
            560,
            523,
            602,
            576,
            555,
            576,
            580,
            620,
            646,
            581,
            648,
            662,
            796,
            959
           ]
          }
         ],
         "traces": [
          0,
          1,
          2,
          3,
          4,
          5,
          6,
          7
         ]
        },
        {
         "data": [
          {
           "type": "scatter",
           "x": [
            "2015",
            "2014",
            "2013",
            "2012",
            "2011",
            "2010",
            "2009",
            "2008",
            "2007",
            "2006",
            "2005",
            "2004",
            "2003",
            "2002",
            "2001",
            "2000",
            "1999",
            "1998",
            "1997",
            "1996",
            "1995",
            "1994",
            "1993",
            "1992",
            "1991",
            "1990",
            "1989"
           ],
           "y": [
            15,
            10,
            7,
            12,
            6,
            19,
            12,
            14,
            14,
            13,
            26,
            9,
            11,
            10,
            16,
            18,
            19,
            22,
            16,
            23,
            15,
            17,
            12,
            20,
            17,
            26,
            32
           ]
          },
          {
           "type": "scatter",
           "x": [
            "2015",
            "2014",
            "2013",
            "2012",
            "2011",
            "2010",
            "2009",
            "2008",
            "2007",
            "2006",
            "2005",
            "2004",
            "2003",
            "2002",
            "2001",
            "2000",
            "1999",
            "1998",
            "1997",
            "1996",
            "1995",
            "1994",
            "1993",
            "1992",
            "1991",
            "1990",
            "1989"
           ],
           "y": [
            34,
            33,
            36,
            31,
            24,
            31,
            63,
            39,
            45,
            55,
            51,
            58,
            41,
            37,
            61,
            43,
            53,
            48,
            32,
            64,
            57,
            59,
            58,
            74,
            77,
            71,
            80
           ]
          },
          {
           "type": "scatter",
           "x": [
            "2015",
            "2014",
            "2013",
            "2012",
            "2011",
            "2010",
            "2009",
            "2008",
            "2007",
            "2006",
            "2005",
            "2004",
            "2003",
            "2002",
            "2001",
            "2000",
            "1999",
            "1998",
            "1997",
            "1996",
            "1995",
            "1994",
            "1993",
            "1992",
            "1991",
            "1990",
            "1989"
           ],
           "y": [
            48,
            39,
            37,
            49,
            45,
            50,
            31,
            75,
            58,
            45,
            55,
            35,
            53,
            55,
            50,
            51,
            49,
            69,
            60,
            72,
            61,
            41,
            44,
            54,
            67,
            68,
            61
           ]
          },
          {
           "type": "scatter",
           "x": [
            "2015",
            "2014",
            "2013",
            "2012",
            "2011",
            "2010",
            "2009",
            "2008",
            "2007",
            "2006",
            "2005",
            "2004",
            "2003",
            "2002",
            "2001",
            "2000",
            "1999",
            "1998",
            "1997",
            "1996",
            "1995",
            "1994",
            "1993",
            "1992",
            "1991",
            "1990",
            "1989"
           ],
           "y": [
            102,
            108,
            98,
            94,
            103,
            118,
            119,
            99,
            124,
            117,
            148,
            139,
            157,
            154,
            153,
            166,
            151,
            168,
            148,
            181,
            181,
            159,
            217,
            165,
            184,
            226,
            221
           ]
          },
          {
           "type": "scatter",
           "x": [
            "2015",
            "2014",
            "2013",
            "2012",
            "2011",
            "2010",
            "2009",
            "2008",
            "2007",
            "2006",
            "2005",
            "2004",
            "2003",
            "2002",
            "2001",
            "2000",
            "1999",
            "1998",
            "1997",
            "1996",
            "1995",
            "1994",
            "1993",
            "1992",
            "1991",
            "1990",
            "1989"
           ],
           "y": [
            159,
            183,
            161,
            183,
            179,
            193,
            191,
            204,
            235,
            200,
            163,
            178,
            180,
            179,
            165,
            212,
            218,
            223,
            197,
            247,
            209,
            211,
            209,
            200,
            207,
            196,
            242
           ]
          },
          {
           "type": "scatter",
           "x": [
            "2015",
            "2014",
            "2013",
            "2012",
            "2011",
            "2010",
            "2009",
            "2008",
            "2007",
            "2006",
            "2005",
            "2004",
            "2003",
            "2002",
            "2001",
            "2000",
            "1999",
            "1998",
            "1997",
            "1996",
            "1995",
            "1994",
            "1993",
            "1992",
            "1991",
            "1990",
            "1989"
           ],
           "y": [
            243,
            223,
            271,
            280,
            269,
            249,
            331,
            328,
            360,
            335,
            330,
            311,
            309,
            322,
            324,
            317,
            314,
            279,
            360,
            385,
            456,
            417,
            396,
            416,
            395,
            399,
            428
           ]
          },
          {
           "type": "scatter",
           "x": [
            "2015",
            "2014",
            "2013",
            "2012",
            "2011",
            "2010",
            "2009",
            "2008",
            "2007",
            "2006",
            "2005",
            "2004",
            "2003",
            "2002",
            "2001",
            "2000",
            "1999",
            "1998",
            "1997",
            "1996",
            "1995",
            "1994",
            "1993",
            "1992",
            "1991",
            "1990",
            "1989"
           ],
           "y": [
            252,
            248,
            243,
            282,
            287,
            288,
            290,
            303,
            331,
            337,
            346,
            343,
            330,
            397,
            444,
            407,
            383,
            390,
            377,
            417,
            417,
            377,
            435,
            396,
            503,
            548,
            776
           ]
          },
          {
           "type": "scatter",
           "x": [
            "2015",
            "2014",
            "2013",
            "2012",
            "2011",
            "2010",
            "2009",
            "2008",
            "2007",
            "2006",
            "2005",
            "2004",
            "2003",
            "2002",
            "2001",
            "2000",
            "1999",
            "1998",
            "1997",
            "1996",
            "1995",
            "1994",
            "1993",
            "1992",
            "1991",
            "1990",
            "1989"
           ],
           "y": [
            350,
            306,
            333,
            368,
            363,
            404,
            453,
            374,
            435,
            495,
            507,
            509,
            539,
            560,
            523,
            602,
            576,
            555,
            576,
            580,
            620,
            646,
            581,
            648,
            662,
            796,
            959
           ]
          }
         ],
         "traces": [
          0,
          1,
          2,
          3,
          4,
          5,
          6,
          7
         ]
        },
        {
         "data": [
          {
           "type": "scatter",
           "x": [
            "2016",
            "2015",
            "2014",
            "2013",
            "2012",
            "2011",
            "2010",
            "2009",
            "2008",
            "2007",
            "2006",
            "2005",
            "2004",
            "2003",
            "2002",
            "2001",
            "2000",
            "1999",
            "1998",
            "1997",
            "1996",
            "1995",
            "1994",
            "1993",
            "1992",
            "1991",
            "1990",
            "1989"
           ],
           "y": [
            10,
            15,
            10,
            7,
            12,
            6,
            19,
            12,
            14,
            14,
            13,
            26,
            9,
            11,
            10,
            16,
            18,
            19,
            22,
            16,
            23,
            15,
            17,
            12,
            20,
            17,
            26,
            32
           ]
          },
          {
           "type": "scatter",
           "x": [
            "2016",
            "2015",
            "2014",
            "2013",
            "2012",
            "2011",
            "2010",
            "2009",
            "2008",
            "2007",
            "2006",
            "2005",
            "2004",
            "2003",
            "2002",
            "2001",
            "2000",
            "1999",
            "1998",
            "1997",
            "1996",
            "1995",
            "1994",
            "1993",
            "1992",
            "1991",
            "1990",
            "1989"
           ],
           "y": [
            37,
            34,
            33,
            36,
            31,
            24,
            31,
            63,
            39,
            45,
            55,
            51,
            58,
            41,
            37,
            61,
            43,
            53,
            48,
            32,
            64,
            57,
            59,
            58,
            74,
            77,
            71,
            80
           ]
          },
          {
           "type": "scatter",
           "x": [
            "2016",
            "2015",
            "2014",
            "2013",
            "2012",
            "2011",
            "2010",
            "2009",
            "2008",
            "2007",
            "2006",
            "2005",
            "2004",
            "2003",
            "2002",
            "2001",
            "2000",
            "1999",
            "1998",
            "1997",
            "1996",
            "1995",
            "1994",
            "1993",
            "1992",
            "1991",
            "1990",
            "1989"
           ],
           "y": [
            44,
            48,
            39,
            37,
            49,
            45,
            50,
            31,
            75,
            58,
            45,
            55,
            35,
            53,
            55,
            50,
            51,
            49,
            69,
            60,
            72,
            61,
            41,
            44,
            54,
            67,
            68,
            61
           ]
          },
          {
           "type": "scatter",
           "x": [
            "2016",
            "2015",
            "2014",
            "2013",
            "2012",
            "2011",
            "2010",
            "2009",
            "2008",
            "2007",
            "2006",
            "2005",
            "2004",
            "2003",
            "2002",
            "2001",
            "2000",
            "1999",
            "1998",
            "1997",
            "1996",
            "1995",
            "1994",
            "1993",
            "1992",
            "1991",
            "1990",
            "1989"
           ],
           "y": [
            86,
            102,
            108,
            98,
            94,
            103,
            118,
            119,
            99,
            124,
            117,
            148,
            139,
            157,
            154,
            153,
            166,
            151,
            168,
            148,
            181,
            181,
            159,
            217,
            165,
            184,
            226,
            221
           ]
          },
          {
           "type": "scatter",
           "x": [
            "2016",
            "2015",
            "2014",
            "2013",
            "2012",
            "2011",
            "2010",
            "2009",
            "2008",
            "2007",
            "2006",
            "2005",
            "2004",
            "2003",
            "2002",
            "2001",
            "2000",
            "1999",
            "1998",
            "1997",
            "1996",
            "1995",
            "1994",
            "1993",
            "1992",
            "1991",
            "1990",
            "1989"
           ],
           "y": [
            193,
            159,
            183,
            161,
            183,
            179,
            193,
            191,
            204,
            235,
            200,
            163,
            178,
            180,
            179,
            165,
            212,
            218,
            223,
            197,
            247,
            209,
            211,
            209,
            200,
            207,
            196,
            242
           ]
          },
          {
           "type": "scatter",
           "x": [
            "2016",
            "2015",
            "2014",
            "2013",
            "2012",
            "2011",
            "2010",
            "2009",
            "2008",
            "2007",
            "2006",
            "2005",
            "2004",
            "2003",
            "2002",
            "2001",
            "2000",
            "1999",
            "1998",
            "1997",
            "1996",
            "1995",
            "1994",
            "1993",
            "1992",
            "1991",
            "1990",
            "1989"
           ],
           "y": [
            251,
            243,
            223,
            271,
            280,
            269,
            249,
            331,
            328,
            360,
            335,
            330,
            311,
            309,
            322,
            324,
            317,
            314,
            279,
            360,
            385,
            456,
            417,
            396,
            416,
            395,
            399,
            428
           ]
          },
          {
           "type": "scatter",
           "x": [
            "2016",
            "2015",
            "2014",
            "2013",
            "2012",
            "2011",
            "2010",
            "2009",
            "2008",
            "2007",
            "2006",
            "2005",
            "2004",
            "2003",
            "2002",
            "2001",
            "2000",
            "1999",
            "1998",
            "1997",
            "1996",
            "1995",
            "1994",
            "1993",
            "1992",
            "1991",
            "1990",
            "1989"
           ],
           "y": [
            290,
            252,
            248,
            243,
            282,
            287,
            288,
            290,
            303,
            331,
            337,
            346,
            343,
            330,
            397,
            444,
            407,
            383,
            390,
            377,
            417,
            417,
            377,
            435,
            396,
            503,
            548,
            776
           ]
          },
          {
           "type": "scatter",
           "x": [
            "2016",
            "2015",
            "2014",
            "2013",
            "2012",
            "2011",
            "2010",
            "2009",
            "2008",
            "2007",
            "2006",
            "2005",
            "2004",
            "2003",
            "2002",
            "2001",
            "2000",
            "1999",
            "1998",
            "1997",
            "1996",
            "1995",
            "1994",
            "1993",
            "1992",
            "1991",
            "1990",
            "1989"
           ],
           "y": [
            380,
            350,
            306,
            333,
            368,
            363,
            404,
            453,
            374,
            435,
            495,
            507,
            509,
            539,
            560,
            523,
            602,
            576,
            555,
            576,
            580,
            620,
            646,
            581,
            648,
            662,
            796,
            959
           ]
          }
         ],
         "traces": [
          0,
          1,
          2,
          3,
          4,
          5,
          6,
          7
         ]
        },
        {
         "data": [
          {
           "type": "scatter",
           "x": [
            "2017",
            "2016",
            "2015",
            "2014",
            "2013",
            "2012",
            "2011",
            "2010",
            "2009",
            "2008",
            "2007",
            "2006",
            "2005",
            "2004",
            "2003",
            "2002",
            "2001",
            "2000",
            "1999",
            "1998",
            "1997",
            "1996",
            "1995",
            "1994",
            "1993",
            "1992",
            "1991",
            "1990",
            "1989"
           ],
           "y": [
            5,
            10,
            15,
            10,
            7,
            12,
            6,
            19,
            12,
            14,
            14,
            13,
            26,
            9,
            11,
            10,
            16,
            18,
            19,
            22,
            16,
            23,
            15,
            17,
            12,
            20,
            17,
            26,
            32
           ]
          },
          {
           "type": "scatter",
           "x": [
            "2017",
            "2016",
            "2015",
            "2014",
            "2013",
            "2012",
            "2011",
            "2010",
            "2009",
            "2008",
            "2007",
            "2006",
            "2005",
            "2004",
            "2003",
            "2002",
            "2001",
            "2000",
            "1999",
            "1998",
            "1997",
            "1996",
            "1995",
            "1994",
            "1993",
            "1992",
            "1991",
            "1990",
            "1989"
           ],
           "y": [
            32,
            37,
            34,
            33,
            36,
            31,
            24,
            31,
            63,
            39,
            45,
            55,
            51,
            58,
            41,
            37,
            61,
            43,
            53,
            48,
            32,
            64,
            57,
            59,
            58,
            74,
            77,
            71,
            80
           ]
          },
          {
           "type": "scatter",
           "x": [
            "2017",
            "2016",
            "2015",
            "2014",
            "2013",
            "2012",
            "2011",
            "2010",
            "2009",
            "2008",
            "2007",
            "2006",
            "2005",
            "2004",
            "2003",
            "2002",
            "2001",
            "2000",
            "1999",
            "1998",
            "1997",
            "1996",
            "1995",
            "1994",
            "1993",
            "1992",
            "1991",
            "1990",
            "1989"
           ],
           "y": [
            31,
            44,
            48,
            39,
            37,
            49,
            45,
            50,
            31,
            75,
            58,
            45,
            55,
            35,
            53,
            55,
            50,
            51,
            49,
            69,
            60,
            72,
            61,
            41,
            44,
            54,
            67,
            68,
            61
           ]
          },
          {
           "type": "scatter",
           "x": [
            "2017",
            "2016",
            "2015",
            "2014",
            "2013",
            "2012",
            "2011",
            "2010",
            "2009",
            "2008",
            "2007",
            "2006",
            "2005",
            "2004",
            "2003",
            "2002",
            "2001",
            "2000",
            "1999",
            "1998",
            "1997",
            "1996",
            "1995",
            "1994",
            "1993",
            "1992",
            "1991",
            "1990",
            "1989"
           ],
           "y": [
            100,
            86,
            102,
            108,
            98,
            94,
            103,
            118,
            119,
            99,
            124,
            117,
            148,
            139,
            157,
            154,
            153,
            166,
            151,
            168,
            148,
            181,
            181,
            159,
            217,
            165,
            184,
            226,
            221
           ]
          },
          {
           "type": "scatter",
           "x": [
            "2017",
            "2016",
            "2015",
            "2014",
            "2013",
            "2012",
            "2011",
            "2010",
            "2009",
            "2008",
            "2007",
            "2006",
            "2005",
            "2004",
            "2003",
            "2002",
            "2001",
            "2000",
            "1999",
            "1998",
            "1997",
            "1996",
            "1995",
            "1994",
            "1993",
            "1992",
            "1991",
            "1990",
            "1989"
           ],
           "y": [
            158,
            193,
            159,
            183,
            161,
            183,
            179,
            193,
            191,
            204,
            235,
            200,
            163,
            178,
            180,
            179,
            165,
            212,
            218,
            223,
            197,
            247,
            209,
            211,
            209,
            200,
            207,
            196,
            242
           ]
          },
          {
           "type": "scatter",
           "x": [
            "2017",
            "2016",
            "2015",
            "2014",
            "2013",
            "2012",
            "2011",
            "2010",
            "2009",
            "2008",
            "2007",
            "2006",
            "2005",
            "2004",
            "2003",
            "2002",
            "2001",
            "2000",
            "1999",
            "1998",
            "1997",
            "1996",
            "1995",
            "1994",
            "1993",
            "1992",
            "1991",
            "1990",
            "1989"
           ],
           "y": [
            247,
            251,
            243,
            223,
            271,
            280,
            269,
            249,
            331,
            328,
            360,
            335,
            330,
            311,
            309,
            322,
            324,
            317,
            314,
            279,
            360,
            385,
            456,
            417,
            396,
            416,
            395,
            399,
            428
           ]
          },
          {
           "type": "scatter",
           "x": [
            "2017",
            "2016",
            "2015",
            "2014",
            "2013",
            "2012",
            "2011",
            "2010",
            "2009",
            "2008",
            "2007",
            "2006",
            "2005",
            "2004",
            "2003",
            "2002",
            "2001",
            "2000",
            "1999",
            "1998",
            "1997",
            "1996",
            "1995",
            "1994",
            "1993",
            "1992",
            "1991",
            "1990",
            "1989"
           ],
           "y": [
            259,
            290,
            252,
            248,
            243,
            282,
            287,
            288,
            290,
            303,
            331,
            337,
            346,
            343,
            330,
            397,
            444,
            407,
            383,
            390,
            377,
            417,
            417,
            377,
            435,
            396,
            503,
            548,
            776
           ]
          },
          {
           "type": "scatter",
           "x": [
            "2017",
            "2016",
            "2015",
            "2014",
            "2013",
            "2012",
            "2011",
            "2010",
            "2009",
            "2008",
            "2007",
            "2006",
            "2005",
            "2004",
            "2003",
            "2002",
            "2001",
            "2000",
            "1999",
            "1998",
            "1997",
            "1996",
            "1995",
            "1994",
            "1993",
            "1992",
            "1991",
            "1990",
            "1989"
           ],
           "y": [
            389,
            380,
            350,
            306,
            333,
            368,
            363,
            404,
            453,
            374,
            435,
            495,
            507,
            509,
            539,
            560,
            523,
            602,
            576,
            555,
            576,
            580,
            620,
            646,
            581,
            648,
            662,
            796,
            959
           ]
          }
         ],
         "traces": [
          0,
          1,
          2,
          3,
          4,
          5,
          6,
          7
         ]
        },
        {
         "data": [
          {
           "type": "scatter",
           "x": [
            "2018",
            "2017",
            "2016",
            "2015",
            "2014",
            "2013",
            "2012",
            "2011",
            "2010",
            "2009",
            "2008",
            "2007",
            "2006",
            "2005",
            "2004",
            "2003",
            "2002",
            "2001",
            "2000",
            "1999",
            "1998",
            "1997",
            "1996",
            "1995",
            "1994",
            "1993",
            "1992",
            "1991",
            "1990",
            "1989"
           ],
           "y": [
            9,
            5,
            10,
            15,
            10,
            7,
            12,
            6,
            19,
            12,
            14,
            14,
            13,
            26,
            9,
            11,
            10,
            16,
            18,
            19,
            22,
            16,
            23,
            15,
            17,
            12,
            20,
            17,
            26,
            32
           ]
          },
          {
           "type": "scatter",
           "x": [
            "2018",
            "2017",
            "2016",
            "2015",
            "2014",
            "2013",
            "2012",
            "2011",
            "2010",
            "2009",
            "2008",
            "2007",
            "2006",
            "2005",
            "2004",
            "2003",
            "2002",
            "2001",
            "2000",
            "1999",
            "1998",
            "1997",
            "1996",
            "1995",
            "1994",
            "1993",
            "1992",
            "1991",
            "1990",
            "1989"
           ],
           "y": [
            32,
            32,
            37,
            34,
            33,
            36,
            31,
            24,
            31,
            63,
            39,
            45,
            55,
            51,
            58,
            41,
            37,
            61,
            43,
            53,
            48,
            32,
            64,
            57,
            59,
            58,
            74,
            77,
            71,
            80
           ]
          },
          {
           "type": "scatter",
           "x": [
            "2018",
            "2017",
            "2016",
            "2015",
            "2014",
            "2013",
            "2012",
            "2011",
            "2010",
            "2009",
            "2008",
            "2007",
            "2006",
            "2005",
            "2004",
            "2003",
            "2002",
            "2001",
            "2000",
            "1999",
            "1998",
            "1997",
            "1996",
            "1995",
            "1994",
            "1993",
            "1992",
            "1991",
            "1990",
            "1989"
           ],
           "y": [
            50,
            31,
            44,
            48,
            39,
            37,
            49,
            45,
            50,
            31,
            75,
            58,
            45,
            55,
            35,
            53,
            55,
            50,
            51,
            49,
            69,
            60,
            72,
            61,
            41,
            44,
            54,
            67,
            68,
            61
           ]
          },
          {
           "type": "scatter",
           "x": [
            "2018",
            "2017",
            "2016",
            "2015",
            "2014",
            "2013",
            "2012",
            "2011",
            "2010",
            "2009",
            "2008",
            "2007",
            "2006",
            "2005",
            "2004",
            "2003",
            "2002",
            "2001",
            "2000",
            "1999",
            "1998",
            "1997",
            "1996",
            "1995",
            "1994",
            "1993",
            "1992",
            "1991",
            "1990",
            "1989"
           ],
           "y": [
            80,
            100,
            86,
            102,
            108,
            98,
            94,
            103,
            118,
            119,
            99,
            124,
            117,
            148,
            139,
            157,
            154,
            153,
            166,
            151,
            168,
            148,
            181,
            181,
            159,
            217,
            165,
            184,
            226,
            221
           ]
          },
          {
           "type": "scatter",
           "x": [
            "2018",
            "2017",
            "2016",
            "2015",
            "2014",
            "2013",
            "2012",
            "2011",
            "2010",
            "2009",
            "2008",
            "2007",
            "2006",
            "2005",
            "2004",
            "2003",
            "2002",
            "2001",
            "2000",
            "1999",
            "1998",
            "1997",
            "1996",
            "1995",
            "1994",
            "1993",
            "1992",
            "1991",
            "1990",
            "1989"
           ],
           "y": [
            158,
            158,
            193,
            159,
            183,
            161,
            183,
            179,
            193,
            191,
            204,
            235,
            200,
            163,
            178,
            180,
            179,
            165,
            212,
            218,
            223,
            197,
            247,
            209,
            211,
            209,
            200,
            207,
            196,
            242
           ]
          },
          {
           "type": "scatter",
           "x": [
            "2018",
            "2017",
            "2016",
            "2015",
            "2014",
            "2013",
            "2012",
            "2011",
            "2010",
            "2009",
            "2008",
            "2007",
            "2006",
            "2005",
            "2004",
            "2003",
            "2002",
            "2001",
            "2000",
            "1999",
            "1998",
            "1997",
            "1996",
            "1995",
            "1994",
            "1993",
            "1992",
            "1991",
            "1990",
            "1989"
           ],
           "y": [
            245,
            247,
            251,
            243,
            223,
            271,
            280,
            269,
            249,
            331,
            328,
            360,
            335,
            330,
            311,
            309,
            322,
            324,
            317,
            314,
            279,
            360,
            385,
            456,
            417,
            396,
            416,
            395,
            399,
            428
           ]
          },
          {
           "type": "scatter",
           "x": [
            "2018",
            "2017",
            "2016",
            "2015",
            "2014",
            "2013",
            "2012",
            "2011",
            "2010",
            "2009",
            "2008",
            "2007",
            "2006",
            "2005",
            "2004",
            "2003",
            "2002",
            "2001",
            "2000",
            "1999",
            "1998",
            "1997",
            "1996",
            "1995",
            "1994",
            "1993",
            "1992",
            "1991",
            "1990",
            "1989"
           ],
           "y": [
            213,
            259,
            290,
            252,
            248,
            243,
            282,
            287,
            288,
            290,
            303,
            331,
            337,
            346,
            343,
            330,
            397,
            444,
            407,
            383,
            390,
            377,
            417,
            417,
            377,
            435,
            396,
            503,
            548,
            776
           ]
          },
          {
           "type": "scatter",
           "x": [
            "2018",
            "2017",
            "2016",
            "2015",
            "2014",
            "2013",
            "2012",
            "2011",
            "2010",
            "2009",
            "2008",
            "2007",
            "2006",
            "2005",
            "2004",
            "2003",
            "2002",
            "2001",
            "2000",
            "1999",
            "1998",
            "1997",
            "1996",
            "1995",
            "1994",
            "1993",
            "1992",
            "1991",
            "1990",
            "1989"
           ],
           "y": [
            346,
            389,
            380,
            350,
            306,
            333,
            368,
            363,
            404,
            453,
            374,
            435,
            495,
            507,
            509,
            539,
            560,
            523,
            602,
            576,
            555,
            576,
            580,
            620,
            646,
            581,
            648,
            662,
            796,
            959
           ]
          }
         ],
         "traces": [
          0,
          1,
          2,
          3,
          4,
          5,
          6,
          7
         ]
        },
        {
         "data": [
          {
           "type": "scatter",
           "x": [
            "2019",
            "2018",
            "2017",
            "2016",
            "2015",
            "2014",
            "2013",
            "2012",
            "2011",
            "2010",
            "2009",
            "2008",
            "2007",
            "2006",
            "2005",
            "2004",
            "2003",
            "2002",
            "2001",
            "2000",
            "1999",
            "1998",
            "1997",
            "1996",
            "1995",
            "1994",
            "1993",
            "1992",
            "1991",
            "1990",
            "1989"
           ],
           "y": [
            6,
            9,
            5,
            10,
            15,
            10,
            7,
            12,
            6,
            19,
            12,
            14,
            14,
            13,
            26,
            9,
            11,
            10,
            16,
            18,
            19,
            22,
            16,
            23,
            15,
            17,
            12,
            20,
            17,
            26,
            32
           ]
          },
          {
           "type": "scatter",
           "x": [
            "2019",
            "2018",
            "2017",
            "2016",
            "2015",
            "2014",
            "2013",
            "2012",
            "2011",
            "2010",
            "2009",
            "2008",
            "2007",
            "2006",
            "2005",
            "2004",
            "2003",
            "2002",
            "2001",
            "2000",
            "1999",
            "1998",
            "1997",
            "1996",
            "1995",
            "1994",
            "1993",
            "1992",
            "1991",
            "1990",
            "1989"
           ],
           "y": [
            29,
            32,
            32,
            37,
            34,
            33,
            36,
            31,
            24,
            31,
            63,
            39,
            45,
            55,
            51,
            58,
            41,
            37,
            61,
            43,
            53,
            48,
            32,
            64,
            57,
            59,
            58,
            74,
            77,
            71,
            80
           ]
          },
          {
           "type": "scatter",
           "x": [
            "2019",
            "2018",
            "2017",
            "2016",
            "2015",
            "2014",
            "2013",
            "2012",
            "2011",
            "2010",
            "2009",
            "2008",
            "2007",
            "2006",
            "2005",
            "2004",
            "2003",
            "2002",
            "2001",
            "2000",
            "1999",
            "1998",
            "1997",
            "1996",
            "1995",
            "1994",
            "1993",
            "1992",
            "1991",
            "1990",
            "1989"
           ],
           "y": [
            36,
            50,
            31,
            44,
            48,
            39,
            37,
            49,
            45,
            50,
            31,
            75,
            58,
            45,
            55,
            35,
            53,
            55,
            50,
            51,
            49,
            69,
            60,
            72,
            61,
            41,
            44,
            54,
            67,
            68,
            61
           ]
          },
          {
           "type": "scatter",
           "x": [
            "2019",
            "2018",
            "2017",
            "2016",
            "2015",
            "2014",
            "2013",
            "2012",
            "2011",
            "2010",
            "2009",
            "2008",
            "2007",
            "2006",
            "2005",
            "2004",
            "2003",
            "2002",
            "2001",
            "2000",
            "1999",
            "1998",
            "1997",
            "1996",
            "1995",
            "1994",
            "1993",
            "1992",
            "1991",
            "1990",
            "1989"
           ],
           "y": [
            114,
            80,
            100,
            86,
            102,
            108,
            98,
            94,
            103,
            118,
            119,
            99,
            124,
            117,
            148,
            139,
            157,
            154,
            153,
            166,
            151,
            168,
            148,
            181,
            181,
            159,
            217,
            165,
            184,
            226,
            221
           ]
          },
          {
           "type": "scatter",
           "x": [
            "2019",
            "2018",
            "2017",
            "2016",
            "2015",
            "2014",
            "2013",
            "2012",
            "2011",
            "2010",
            "2009",
            "2008",
            "2007",
            "2006",
            "2005",
            "2004",
            "2003",
            "2002",
            "2001",
            "2000",
            "1999",
            "1998",
            "1997",
            "1996",
            "1995",
            "1994",
            "1993",
            "1992",
            "1991",
            "1990",
            "1989"
           ],
           "y": [
            163,
            158,
            158,
            193,
            159,
            183,
            161,
            183,
            179,
            193,
            191,
            204,
            235,
            200,
            163,
            178,
            180,
            179,
            165,
            212,
            218,
            223,
            197,
            247,
            209,
            211,
            209,
            200,
            207,
            196,
            242
           ]
          },
          {
           "type": "scatter",
           "x": [
            "2019",
            "2018",
            "2017",
            "2016",
            "2015",
            "2014",
            "2013",
            "2012",
            "2011",
            "2010",
            "2009",
            "2008",
            "2007",
            "2006",
            "2005",
            "2004",
            "2003",
            "2002",
            "2001",
            "2000",
            "1999",
            "1998",
            "1997",
            "1996",
            "1995",
            "1994",
            "1993",
            "1992",
            "1991",
            "1990",
            "1989"
           ],
           "y": [
            219,
            245,
            247,
            251,
            243,
            223,
            271,
            280,
            269,
            249,
            331,
            328,
            360,
            335,
            330,
            311,
            309,
            322,
            324,
            317,
            314,
            279,
            360,
            385,
            456,
            417,
            396,
            416,
            395,
            399,
            428
           ]
          },
          {
           "type": "scatter",
           "x": [
            "2019",
            "2018",
            "2017",
            "2016",
            "2015",
            "2014",
            "2013",
            "2012",
            "2011",
            "2010",
            "2009",
            "2008",
            "2007",
            "2006",
            "2005",
            "2004",
            "2003",
            "2002",
            "2001",
            "2000",
            "1999",
            "1998",
            "1997",
            "1996",
            "1995",
            "1994",
            "1993",
            "1992",
            "1991",
            "1990",
            "1989"
           ],
           "y": [
            269,
            213,
            259,
            290,
            252,
            248,
            243,
            282,
            287,
            288,
            290,
            303,
            331,
            337,
            346,
            343,
            330,
            397,
            444,
            407,
            383,
            390,
            377,
            417,
            417,
            377,
            435,
            396,
            503,
            548,
            776
           ]
          },
          {
           "type": "scatter",
           "x": [
            "2019",
            "2018",
            "2017",
            "2016",
            "2015",
            "2014",
            "2013",
            "2012",
            "2011",
            "2010",
            "2009",
            "2008",
            "2007",
            "2006",
            "2005",
            "2004",
            "2003",
            "2002",
            "2001",
            "2000",
            "1999",
            "1998",
            "1997",
            "1996",
            "1995",
            "1994",
            "1993",
            "1992",
            "1991",
            "1990",
            "1989"
           ],
           "y": [
            357,
            346,
            389,
            380,
            350,
            306,
            333,
            368,
            363,
            404,
            453,
            374,
            435,
            495,
            507,
            509,
            539,
            560,
            523,
            602,
            576,
            555,
            576,
            580,
            620,
            646,
            581,
            648,
            662,
            796,
            959
           ]
          }
         ],
         "traces": [
          0,
          1,
          2,
          3,
          4,
          5,
          6,
          7
         ]
        }
       ],
       "layout": {
        "height": 800,
        "hovermode": "x unified",
        "plot_bgcolor": "white",
        "showlegend": true,
        "template": {
         "data": {
          "bar": [
           {
            "error_x": {
             "color": "#2a3f5f"
            },
            "error_y": {
             "color": "#2a3f5f"
            },
            "marker": {
             "line": {
              "color": "#E5ECF6",
              "width": 0.5
             }
            },
            "type": "bar"
           }
          ],
          "barpolar": [
           {
            "marker": {
             "line": {
              "color": "#E5ECF6",
              "width": 0.5
             }
            },
            "type": "barpolar"
           }
          ],
          "carpet": [
           {
            "aaxis": {
             "endlinecolor": "#2a3f5f",
             "gridcolor": "white",
             "linecolor": "white",
             "minorgridcolor": "white",
             "startlinecolor": "#2a3f5f"
            },
            "baxis": {
             "endlinecolor": "#2a3f5f",
             "gridcolor": "white",
             "linecolor": "white",
             "minorgridcolor": "white",
             "startlinecolor": "#2a3f5f"
            },
            "type": "carpet"
           }
          ],
          "choropleth": [
           {
            "colorbar": {
             "outlinewidth": 0,
             "ticks": ""
            },
            "type": "choropleth"
           }
          ],
          "contour": [
           {
            "colorbar": {
             "outlinewidth": 0,
             "ticks": ""
            },
            "colorscale": [
             [
              0,
              "#0d0887"
             ],
             [
              0.1111111111111111,
              "#46039f"
             ],
             [
              0.2222222222222222,
              "#7201a8"
             ],
             [
              0.3333333333333333,
              "#9c179e"
             ],
             [
              0.4444444444444444,
              "#bd3786"
             ],
             [
              0.5555555555555556,
              "#d8576b"
             ],
             [
              0.6666666666666666,
              "#ed7953"
             ],
             [
              0.7777777777777778,
              "#fb9f3a"
             ],
             [
              0.8888888888888888,
              "#fdca26"
             ],
             [
              1,
              "#f0f921"
             ]
            ],
            "type": "contour"
           }
          ],
          "contourcarpet": [
           {
            "colorbar": {
             "outlinewidth": 0,
             "ticks": ""
            },
            "type": "contourcarpet"
           }
          ],
          "heatmap": [
           {
            "colorbar": {
             "outlinewidth": 0,
             "ticks": ""
            },
            "colorscale": [
             [
              0,
              "#0d0887"
             ],
             [
              0.1111111111111111,
              "#46039f"
             ],
             [
              0.2222222222222222,
              "#7201a8"
             ],
             [
              0.3333333333333333,
              "#9c179e"
             ],
             [
              0.4444444444444444,
              "#bd3786"
             ],
             [
              0.5555555555555556,
              "#d8576b"
             ],
             [
              0.6666666666666666,
              "#ed7953"
             ],
             [
              0.7777777777777778,
              "#fb9f3a"
             ],
             [
              0.8888888888888888,
              "#fdca26"
             ],
             [
              1,
              "#f0f921"
             ]
            ],
            "type": "heatmap"
           }
          ],
          "heatmapgl": [
           {
            "colorbar": {
             "outlinewidth": 0,
             "ticks": ""
            },
            "colorscale": [
             [
              0,
              "#0d0887"
             ],
             [
              0.1111111111111111,
              "#46039f"
             ],
             [
              0.2222222222222222,
              "#7201a8"
             ],
             [
              0.3333333333333333,
              "#9c179e"
             ],
             [
              0.4444444444444444,
              "#bd3786"
             ],
             [
              0.5555555555555556,
              "#d8576b"
             ],
             [
              0.6666666666666666,
              "#ed7953"
             ],
             [
              0.7777777777777778,
              "#fb9f3a"
             ],
             [
              0.8888888888888888,
              "#fdca26"
             ],
             [
              1,
              "#f0f921"
             ]
            ],
            "type": "heatmapgl"
           }
          ],
          "histogram": [
           {
            "marker": {
             "colorbar": {
              "outlinewidth": 0,
              "ticks": ""
             }
            },
            "type": "histogram"
           }
          ],
          "histogram2d": [
           {
            "colorbar": {
             "outlinewidth": 0,
             "ticks": ""
            },
            "colorscale": [
             [
              0,
              "#0d0887"
             ],
             [
              0.1111111111111111,
              "#46039f"
             ],
             [
              0.2222222222222222,
              "#7201a8"
             ],
             [
              0.3333333333333333,
              "#9c179e"
             ],
             [
              0.4444444444444444,
              "#bd3786"
             ],
             [
              0.5555555555555556,
              "#d8576b"
             ],
             [
              0.6666666666666666,
              "#ed7953"
             ],
             [
              0.7777777777777778,
              "#fb9f3a"
             ],
             [
              0.8888888888888888,
              "#fdca26"
             ],
             [
              1,
              "#f0f921"
             ]
            ],
            "type": "histogram2d"
           }
          ],
          "histogram2dcontour": [
           {
            "colorbar": {
             "outlinewidth": 0,
             "ticks": ""
            },
            "colorscale": [
             [
              0,
              "#0d0887"
             ],
             [
              0.1111111111111111,
              "#46039f"
             ],
             [
              0.2222222222222222,
              "#7201a8"
             ],
             [
              0.3333333333333333,
              "#9c179e"
             ],
             [
              0.4444444444444444,
              "#bd3786"
             ],
             [
              0.5555555555555556,
              "#d8576b"
             ],
             [
              0.6666666666666666,
              "#ed7953"
             ],
             [
              0.7777777777777778,
              "#fb9f3a"
             ],
             [
              0.8888888888888888,
              "#fdca26"
             ],
             [
              1,
              "#f0f921"
             ]
            ],
            "type": "histogram2dcontour"
           }
          ],
          "mesh3d": [
           {
            "colorbar": {
             "outlinewidth": 0,
             "ticks": ""
            },
            "type": "mesh3d"
           }
          ],
          "parcoords": [
           {
            "line": {
             "colorbar": {
              "outlinewidth": 0,
              "ticks": ""
             }
            },
            "type": "parcoords"
           }
          ],
          "pie": [
           {
            "automargin": true,
            "type": "pie"
           }
          ],
          "scatter": [
           {
            "marker": {
             "colorbar": {
              "outlinewidth": 0,
              "ticks": ""
             }
            },
            "type": "scatter"
           }
          ],
          "scatter3d": [
           {
            "line": {
             "colorbar": {
              "outlinewidth": 0,
              "ticks": ""
             }
            },
            "marker": {
             "colorbar": {
              "outlinewidth": 0,
              "ticks": ""
             }
            },
            "type": "scatter3d"
           }
          ],
          "scattercarpet": [
           {
            "marker": {
             "colorbar": {
              "outlinewidth": 0,
              "ticks": ""
             }
            },
            "type": "scattercarpet"
           }
          ],
          "scattergeo": [
           {
            "marker": {
             "colorbar": {
              "outlinewidth": 0,
              "ticks": ""
             }
            },
            "type": "scattergeo"
           }
          ],
          "scattergl": [
           {
            "marker": {
             "colorbar": {
              "outlinewidth": 0,
              "ticks": ""
             }
            },
            "type": "scattergl"
           }
          ],
          "scattermapbox": [
           {
            "marker": {
             "colorbar": {
              "outlinewidth": 0,
              "ticks": ""
             }
            },
            "type": "scattermapbox"
           }
          ],
          "scatterpolar": [
           {
            "marker": {
             "colorbar": {
              "outlinewidth": 0,
              "ticks": ""
             }
            },
            "type": "scatterpolar"
           }
          ],
          "scatterpolargl": [
           {
            "marker": {
             "colorbar": {
              "outlinewidth": 0,
              "ticks": ""
             }
            },
            "type": "scatterpolargl"
           }
          ],
          "scatterternary": [
           {
            "marker": {
             "colorbar": {
              "outlinewidth": 0,
              "ticks": ""
             }
            },
            "type": "scatterternary"
           }
          ],
          "surface": [
           {
            "colorbar": {
             "outlinewidth": 0,
             "ticks": ""
            },
            "colorscale": [
             [
              0,
              "#0d0887"
             ],
             [
              0.1111111111111111,
              "#46039f"
             ],
             [
              0.2222222222222222,
              "#7201a8"
             ],
             [
              0.3333333333333333,
              "#9c179e"
             ],
             [
              0.4444444444444444,
              "#bd3786"
             ],
             [
              0.5555555555555556,
              "#d8576b"
             ],
             [
              0.6666666666666666,
              "#ed7953"
             ],
             [
              0.7777777777777778,
              "#fb9f3a"
             ],
             [
              0.8888888888888888,
              "#fdca26"
             ],
             [
              1,
              "#f0f921"
             ]
            ],
            "type": "surface"
           }
          ],
          "table": [
           {
            "cells": {
             "fill": {
              "color": "#EBF0F8"
             },
             "line": {
              "color": "white"
             }
            },
            "header": {
             "fill": {
              "color": "#C8D4E3"
             },
             "line": {
              "color": "white"
             }
            },
            "type": "table"
           }
          ]
         },
         "layout": {
          "annotationdefaults": {
           "arrowcolor": "#2a3f5f",
           "arrowhead": 0,
           "arrowwidth": 1
          },
          "coloraxis": {
           "colorbar": {
            "outlinewidth": 0,
            "ticks": ""
           }
          },
          "colorscale": {
           "diverging": [
            [
             0,
             "#8e0152"
            ],
            [
             0.1,
             "#c51b7d"
            ],
            [
             0.2,
             "#de77ae"
            ],
            [
             0.3,
             "#f1b6da"
            ],
            [
             0.4,
             "#fde0ef"
            ],
            [
             0.5,
             "#f7f7f7"
            ],
            [
             0.6,
             "#e6f5d0"
            ],
            [
             0.7,
             "#b8e186"
            ],
            [
             0.8,
             "#7fbc41"
            ],
            [
             0.9,
             "#4d9221"
            ],
            [
             1,
             "#276419"
            ]
           ],
           "sequential": [
            [
             0,
             "#0d0887"
            ],
            [
             0.1111111111111111,
             "#46039f"
            ],
            [
             0.2222222222222222,
             "#7201a8"
            ],
            [
             0.3333333333333333,
             "#9c179e"
            ],
            [
             0.4444444444444444,
             "#bd3786"
            ],
            [
             0.5555555555555556,
             "#d8576b"
            ],
            [
             0.6666666666666666,
             "#ed7953"
            ],
            [
             0.7777777777777778,
             "#fb9f3a"
            ],
            [
             0.8888888888888888,
             "#fdca26"
            ],
            [
             1,
             "#f0f921"
            ]
           ],
           "sequentialminus": [
            [
             0,
             "#0d0887"
            ],
            [
             0.1111111111111111,
             "#46039f"
            ],
            [
             0.2222222222222222,
             "#7201a8"
            ],
            [
             0.3333333333333333,
             "#9c179e"
            ],
            [
             0.4444444444444444,
             "#bd3786"
            ],
            [
             0.5555555555555556,
             "#d8576b"
            ],
            [
             0.6666666666666666,
             "#ed7953"
            ],
            [
             0.7777777777777778,
             "#fb9f3a"
            ],
            [
             0.8888888888888888,
             "#fdca26"
            ],
            [
             1,
             "#f0f921"
            ]
           ]
          },
          "colorway": [
           "#636efa",
           "#EF553B",
           "#00cc96",
           "#ab63fa",
           "#FFA15A",
           "#19d3f3",
           "#FF6692",
           "#B6E880",
           "#FF97FF",
           "#FECB52"
          ],
          "font": {
           "color": "#2a3f5f"
          },
          "geo": {
           "bgcolor": "white",
           "lakecolor": "white",
           "landcolor": "#E5ECF6",
           "showlakes": true,
           "showland": true,
           "subunitcolor": "white"
          },
          "hoverlabel": {
           "align": "left"
          },
          "hovermode": "closest",
          "mapbox": {
           "style": "light"
          },
          "paper_bgcolor": "white",
          "plot_bgcolor": "#E5ECF6",
          "polar": {
           "angularaxis": {
            "gridcolor": "white",
            "linecolor": "white",
            "ticks": ""
           },
           "bgcolor": "#E5ECF6",
           "radialaxis": {
            "gridcolor": "white",
            "linecolor": "white",
            "ticks": ""
           }
          },
          "scene": {
           "xaxis": {
            "backgroundcolor": "#E5ECF6",
            "gridcolor": "white",
            "gridwidth": 2,
            "linecolor": "white",
            "showbackground": true,
            "ticks": "",
            "zerolinecolor": "white"
           },
           "yaxis": {
            "backgroundcolor": "#E5ECF6",
            "gridcolor": "white",
            "gridwidth": 2,
            "linecolor": "white",
            "showbackground": true,
            "ticks": "",
            "zerolinecolor": "white"
           },
           "zaxis": {
            "backgroundcolor": "#E5ECF6",
            "gridcolor": "white",
            "gridwidth": 2,
            "linecolor": "white",
            "showbackground": true,
            "ticks": "",
            "zerolinecolor": "white"
           }
          },
          "shapedefaults": {
           "line": {
            "color": "#2a3f5f"
           }
          },
          "ternary": {
           "aaxis": {
            "gridcolor": "white",
            "linecolor": "white",
            "ticks": ""
           },
           "baxis": {
            "gridcolor": "white",
            "linecolor": "white",
            "ticks": ""
           },
           "bgcolor": "#E5ECF6",
           "caxis": {
            "gridcolor": "white",
            "linecolor": "white",
            "ticks": ""
           }
          },
          "title": {
           "x": 0.05
          },
          "xaxis": {
           "automargin": true,
           "gridcolor": "white",
           "linecolor": "white",
           "ticks": "",
           "title": {
            "standoff": 15
           },
           "zerolinecolor": "white",
           "zerolinewidth": 2
          },
          "yaxis": {
           "automargin": true,
           "gridcolor": "white",
           "linecolor": "white",
           "ticks": "",
           "title": {
            "standoff": 15
           },
           "zerolinecolor": "white",
           "zerolinewidth": 2
          }
         }
        },
        "title": {
         "text": "<b>Road Deaths by State from 1989 to 2019 in Australia<b>"
        },
        "updatemenus": [
         {
          "buttons": [
           {
            "args": [
             null,
             {
              "frame": {
               "duration": 200,
               "redraw": false
              },
              "fromcurrent": true,
              "mode": "immediate",
              "transition": {
               "duration": 0
              }
             }
            ],
            "label": "Play",
            "method": "animate"
           }
          ],
          "pad": {
           "r": 10,
           "t": 0
          },
          "showactive": true,
          "type": "buttons",
          "x": 1.2,
          "xanchor": "right",
          "y": 1.2,
          "yanchor": "top"
         }
        ],
        "width": 1000,
        "xaxis": {
         "title": {
          "text": "<b>Year</b>"
         }
        },
        "yaxis": {
         "title": {
          "text": "<b>Deaths<b>"
         }
        }
       }
      },
      "text/html": [
       "<div>\n",
       "        \n",
       "        \n",
       "            <div id=\"b04fa5d7-d25c-4e29-9a81-db3ab1030342\" class=\"plotly-graph-div\" style=\"height:800px; width:1000px;\"></div>\n",
       "            <script type=\"text/javascript\">\n",
       "                require([\"plotly\"], function(Plotly) {\n",
       "                    window.PLOTLYENV=window.PLOTLYENV || {};\n",
       "                    \n",
       "                if (document.getElementById(\"b04fa5d7-d25c-4e29-9a81-db3ab1030342\")) {\n",
       "                    Plotly.newPlot(\n",
       "                        'b04fa5d7-d25c-4e29-9a81-db3ab1030342',\n",
       "                        [{\"line\": {\"color\": \"#ffffd9\", \"width\": 1.5}, \"mode\": \"lines\", \"name\": \"ACT\", \"stackgroup\": \"one\", \"type\": \"scatter\", \"x\": [\"2019\", \"2018\", \"2017\", \"2016\", \"2015\", \"2014\", \"2013\", \"2012\", \"2011\", \"2010\", \"2009\", \"2008\", \"2007\", \"2006\", \"2005\", \"2004\", \"2003\", \"2002\", \"2001\", \"2000\", \"1999\", \"1998\", \"1997\", \"1996\", \"1995\", \"1994\", \"1993\", \"1992\", \"1991\", \"1990\", \"1989\"], \"y\": [6, 9, 5, 10, 15, 10, 7, 12, 6, 19, 12, 14, 14, 13, 26, 9, 11, 10, 16, 18, 19, 22, 16, 23, 15, 17, 12, 20, 17, 26, 32]}, {\"line\": {\"color\": \"#edf8b1\", \"width\": 1.5}, \"mode\": \"lines\", \"name\": \"Tas\", \"stackgroup\": \"one\", \"type\": \"scatter\", \"x\": [\"2019\", \"2018\", \"2017\", \"2016\", \"2015\", \"2014\", \"2013\", \"2012\", \"2011\", \"2010\", \"2009\", \"2008\", \"2007\", \"2006\", \"2005\", \"2004\", \"2003\", \"2002\", \"2001\", \"2000\", \"1999\", \"1998\", \"1997\", \"1996\", \"1995\", \"1994\", \"1993\", \"1992\", \"1991\", \"1990\", \"1989\"], \"y\": [29, 32, 32, 37, 34, 33, 36, 31, 24, 31, 63, 39, 45, 55, 51, 58, 41, 37, 61, 43, 53, 48, 32, 64, 57, 59, 58, 74, 77, 71, 80]}, {\"line\": {\"color\": \"#c7e9b4\", \"width\": 1.5}, \"mode\": \"lines\", \"name\": \"NT\", \"stackgroup\": \"one\", \"type\": \"scatter\", \"x\": [\"2019\", \"2018\", \"2017\", \"2016\", \"2015\", \"2014\", \"2013\", \"2012\", \"2011\", \"2010\", \"2009\", \"2008\", \"2007\", \"2006\", \"2005\", \"2004\", \"2003\", \"2002\", \"2001\", \"2000\", \"1999\", \"1998\", \"1997\", \"1996\", \"1995\", \"1994\", \"1993\", \"1992\", \"1991\", \"1990\", \"1989\"], \"y\": [36, 50, 31, 44, 48, 39, 37, 49, 45, 50, 31, 75, 58, 45, 55, 35, 53, 55, 50, 51, 49, 69, 60, 72, 61, 41, 44, 54, 67, 68, 61]}, {\"line\": {\"color\": \"#7fcdbb\", \"width\": 1.5}, \"mode\": \"lines\", \"name\": \"SA\", \"stackgroup\": \"one\", \"type\": \"scatter\", \"x\": [\"2019\", \"2018\", \"2017\", \"2016\", \"2015\", \"2014\", \"2013\", \"2012\", \"2011\", \"2010\", \"2009\", \"2008\", \"2007\", \"2006\", \"2005\", \"2004\", \"2003\", \"2002\", \"2001\", \"2000\", \"1999\", \"1998\", \"1997\", \"1996\", \"1995\", \"1994\", \"1993\", \"1992\", \"1991\", \"1990\", \"1989\"], \"y\": [114, 80, 100, 86, 102, 108, 98, 94, 103, 118, 119, 99, 124, 117, 148, 139, 157, 154, 153, 166, 151, 168, 148, 181, 181, 159, 217, 165, 184, 226, 221]}, {\"line\": {\"color\": \"#41b6c4\", \"width\": 1.5}, \"mode\": \"lines\", \"name\": \"WA\", \"stackgroup\": \"one\", \"type\": \"scatter\", \"x\": [\"2019\", \"2018\", \"2017\", \"2016\", \"2015\", \"2014\", \"2013\", \"2012\", \"2011\", \"2010\", \"2009\", \"2008\", \"2007\", \"2006\", \"2005\", \"2004\", \"2003\", \"2002\", \"2001\", \"2000\", \"1999\", \"1998\", \"1997\", \"1996\", \"1995\", \"1994\", \"1993\", \"1992\", \"1991\", \"1990\", \"1989\"], \"y\": [163, 158, 158, 193, 159, 183, 161, 183, 179, 193, 191, 204, 235, 200, 163, 178, 180, 179, 165, 212, 218, 223, 197, 247, 209, 211, 209, 200, 207, 196, 242]}, {\"line\": {\"color\": \"#1d91c0\", \"width\": 1.5}, \"mode\": \"lines\", \"name\": \"Qld\", \"stackgroup\": \"one\", \"type\": \"scatter\", \"x\": [\"2019\", \"2018\", \"2017\", \"2016\", \"2015\", \"2014\", \"2013\", \"2012\", \"2011\", \"2010\", \"2009\", \"2008\", \"2007\", \"2006\", \"2005\", \"2004\", \"2003\", \"2002\", \"2001\", \"2000\", \"1999\", \"1998\", \"1997\", \"1996\", \"1995\", \"1994\", \"1993\", \"1992\", \"1991\", \"1990\", \"1989\"], \"y\": [219, 245, 247, 251, 243, 223, 271, 280, 269, 249, 331, 328, 360, 335, 330, 311, 309, 322, 324, 317, 314, 279, 360, 385, 456, 417, 396, 416, 395, 399, 428]}, {\"line\": {\"color\": \"#225ea8\", \"width\": 1.5}, \"mode\": \"lines\", \"name\": \"Vic\", \"stackgroup\": \"one\", \"type\": \"scatter\", \"x\": [\"2019\", \"2018\", \"2017\", \"2016\", \"2015\", \"2014\", \"2013\", \"2012\", \"2011\", \"2010\", \"2009\", \"2008\", \"2007\", \"2006\", \"2005\", \"2004\", \"2003\", \"2002\", \"2001\", \"2000\", \"1999\", \"1998\", \"1997\", \"1996\", \"1995\", \"1994\", \"1993\", \"1992\", \"1991\", \"1990\", \"1989\"], \"y\": [269, 213, 259, 290, 252, 248, 243, 282, 287, 288, 290, 303, 331, 337, 346, 343, 330, 397, 444, 407, 383, 390, 377, 417, 417, 377, 435, 396, 503, 548, 776]}, {\"line\": {\"color\": \"#253494\", \"width\": 1.5}, \"mode\": \"lines\", \"name\": \"NSW\", \"stackgroup\": \"one\", \"type\": \"scatter\", \"x\": [\"2019\", \"2018\", \"2017\", \"2016\", \"2015\", \"2014\", \"2013\", \"2012\", \"2011\", \"2010\", \"2009\", \"2008\", \"2007\", \"2006\", \"2005\", \"2004\", \"2003\", \"2002\", \"2001\", \"2000\", \"1999\", \"1998\", \"1997\", \"1996\", \"1995\", \"1994\", \"1993\", \"1992\", \"1991\", \"1990\", \"1989\"], \"y\": [357, 346, 389, 380, 350, 306, 333, 368, 363, 404, 453, 374, 435, 495, 507, 509, 539, 560, 523, 602, 576, 555, 576, 580, 620, 646, 581, 648, 662, 796, 959]}],\n",
       "                        {\"height\": 800, \"hovermode\": \"x unified\", \"plot_bgcolor\": \"white\", \"showlegend\": true, \"template\": {\"data\": {\"bar\": [{\"error_x\": {\"color\": \"#2a3f5f\"}, \"error_y\": {\"color\": \"#2a3f5f\"}, \"marker\": {\"line\": {\"color\": \"#E5ECF6\", \"width\": 0.5}}, \"type\": \"bar\"}], \"barpolar\": [{\"marker\": {\"line\": {\"color\": \"#E5ECF6\", \"width\": 0.5}}, \"type\": \"barpolar\"}], \"carpet\": [{\"aaxis\": {\"endlinecolor\": \"#2a3f5f\", \"gridcolor\": \"white\", \"linecolor\": \"white\", \"minorgridcolor\": \"white\", \"startlinecolor\": \"#2a3f5f\"}, \"baxis\": {\"endlinecolor\": \"#2a3f5f\", \"gridcolor\": \"white\", \"linecolor\": \"white\", \"minorgridcolor\": \"white\", \"startlinecolor\": \"#2a3f5f\"}, \"type\": \"carpet\"}], \"choropleth\": [{\"colorbar\": {\"outlinewidth\": 0, \"ticks\": \"\"}, \"type\": \"choropleth\"}], \"contour\": [{\"colorbar\": {\"outlinewidth\": 0, \"ticks\": \"\"}, \"colorscale\": [[0.0, \"#0d0887\"], [0.1111111111111111, \"#46039f\"], [0.2222222222222222, \"#7201a8\"], [0.3333333333333333, \"#9c179e\"], [0.4444444444444444, \"#bd3786\"], [0.5555555555555556, \"#d8576b\"], [0.6666666666666666, \"#ed7953\"], [0.7777777777777778, \"#fb9f3a\"], [0.8888888888888888, \"#fdca26\"], [1.0, \"#f0f921\"]], \"type\": \"contour\"}], \"contourcarpet\": [{\"colorbar\": {\"outlinewidth\": 0, \"ticks\": \"\"}, \"type\": \"contourcarpet\"}], \"heatmap\": [{\"colorbar\": {\"outlinewidth\": 0, \"ticks\": \"\"}, \"colorscale\": [[0.0, \"#0d0887\"], [0.1111111111111111, \"#46039f\"], [0.2222222222222222, \"#7201a8\"], [0.3333333333333333, \"#9c179e\"], [0.4444444444444444, \"#bd3786\"], [0.5555555555555556, \"#d8576b\"], [0.6666666666666666, \"#ed7953\"], [0.7777777777777778, \"#fb9f3a\"], [0.8888888888888888, \"#fdca26\"], [1.0, \"#f0f921\"]], \"type\": \"heatmap\"}], \"heatmapgl\": [{\"colorbar\": {\"outlinewidth\": 0, \"ticks\": \"\"}, \"colorscale\": [[0.0, \"#0d0887\"], [0.1111111111111111, \"#46039f\"], [0.2222222222222222, \"#7201a8\"], [0.3333333333333333, \"#9c179e\"], [0.4444444444444444, \"#bd3786\"], [0.5555555555555556, \"#d8576b\"], [0.6666666666666666, \"#ed7953\"], [0.7777777777777778, \"#fb9f3a\"], [0.8888888888888888, \"#fdca26\"], [1.0, \"#f0f921\"]], \"type\": \"heatmapgl\"}], \"histogram\": [{\"marker\": {\"colorbar\": {\"outlinewidth\": 0, \"ticks\": \"\"}}, \"type\": \"histogram\"}], \"histogram2d\": [{\"colorbar\": {\"outlinewidth\": 0, \"ticks\": \"\"}, \"colorscale\": [[0.0, \"#0d0887\"], [0.1111111111111111, \"#46039f\"], [0.2222222222222222, \"#7201a8\"], [0.3333333333333333, \"#9c179e\"], [0.4444444444444444, \"#bd3786\"], [0.5555555555555556, \"#d8576b\"], [0.6666666666666666, \"#ed7953\"], [0.7777777777777778, \"#fb9f3a\"], [0.8888888888888888, \"#fdca26\"], [1.0, \"#f0f921\"]], \"type\": \"histogram2d\"}], \"histogram2dcontour\": [{\"colorbar\": {\"outlinewidth\": 0, \"ticks\": \"\"}, \"colorscale\": [[0.0, \"#0d0887\"], [0.1111111111111111, \"#46039f\"], [0.2222222222222222, \"#7201a8\"], [0.3333333333333333, \"#9c179e\"], [0.4444444444444444, \"#bd3786\"], [0.5555555555555556, \"#d8576b\"], [0.6666666666666666, \"#ed7953\"], [0.7777777777777778, \"#fb9f3a\"], [0.8888888888888888, \"#fdca26\"], [1.0, \"#f0f921\"]], \"type\": \"histogram2dcontour\"}], \"mesh3d\": [{\"colorbar\": {\"outlinewidth\": 0, \"ticks\": \"\"}, \"type\": \"mesh3d\"}], \"parcoords\": [{\"line\": {\"colorbar\": {\"outlinewidth\": 0, \"ticks\": \"\"}}, \"type\": \"parcoords\"}], \"pie\": [{\"automargin\": true, \"type\": \"pie\"}], \"scatter\": [{\"marker\": {\"colorbar\": {\"outlinewidth\": 0, \"ticks\": \"\"}}, \"type\": \"scatter\"}], \"scatter3d\": [{\"line\": {\"colorbar\": {\"outlinewidth\": 0, \"ticks\": \"\"}}, \"marker\": {\"colorbar\": {\"outlinewidth\": 0, \"ticks\": \"\"}}, \"type\": \"scatter3d\"}], \"scattercarpet\": [{\"marker\": {\"colorbar\": {\"outlinewidth\": 0, \"ticks\": \"\"}}, \"type\": \"scattercarpet\"}], \"scattergeo\": [{\"marker\": {\"colorbar\": {\"outlinewidth\": 0, \"ticks\": \"\"}}, \"type\": \"scattergeo\"}], \"scattergl\": [{\"marker\": {\"colorbar\": {\"outlinewidth\": 0, \"ticks\": \"\"}}, \"type\": \"scattergl\"}], \"scattermapbox\": [{\"marker\": {\"colorbar\": {\"outlinewidth\": 0, \"ticks\": \"\"}}, \"type\": \"scattermapbox\"}], \"scatterpolar\": [{\"marker\": {\"colorbar\": {\"outlinewidth\": 0, \"ticks\": \"\"}}, \"type\": \"scatterpolar\"}], \"scatterpolargl\": [{\"marker\": {\"colorbar\": {\"outlinewidth\": 0, \"ticks\": \"\"}}, \"type\": \"scatterpolargl\"}], \"scatterternary\": [{\"marker\": {\"colorbar\": {\"outlinewidth\": 0, \"ticks\": \"\"}}, \"type\": \"scatterternary\"}], \"surface\": [{\"colorbar\": {\"outlinewidth\": 0, \"ticks\": \"\"}, \"colorscale\": [[0.0, \"#0d0887\"], [0.1111111111111111, \"#46039f\"], [0.2222222222222222, \"#7201a8\"], [0.3333333333333333, \"#9c179e\"], [0.4444444444444444, \"#bd3786\"], [0.5555555555555556, \"#d8576b\"], [0.6666666666666666, \"#ed7953\"], [0.7777777777777778, \"#fb9f3a\"], [0.8888888888888888, \"#fdca26\"], [1.0, \"#f0f921\"]], \"type\": \"surface\"}], \"table\": [{\"cells\": {\"fill\": {\"color\": \"#EBF0F8\"}, \"line\": {\"color\": \"white\"}}, \"header\": {\"fill\": {\"color\": \"#C8D4E3\"}, \"line\": {\"color\": \"white\"}}, \"type\": \"table\"}]}, \"layout\": {\"annotationdefaults\": {\"arrowcolor\": \"#2a3f5f\", \"arrowhead\": 0, \"arrowwidth\": 1}, \"coloraxis\": {\"colorbar\": {\"outlinewidth\": 0, \"ticks\": \"\"}}, \"colorscale\": {\"diverging\": [[0, \"#8e0152\"], [0.1, \"#c51b7d\"], [0.2, \"#de77ae\"], [0.3, \"#f1b6da\"], [0.4, \"#fde0ef\"], [0.5, \"#f7f7f7\"], [0.6, \"#e6f5d0\"], [0.7, \"#b8e186\"], [0.8, \"#7fbc41\"], [0.9, \"#4d9221\"], [1, \"#276419\"]], \"sequential\": [[0.0, \"#0d0887\"], [0.1111111111111111, \"#46039f\"], [0.2222222222222222, \"#7201a8\"], [0.3333333333333333, \"#9c179e\"], [0.4444444444444444, \"#bd3786\"], [0.5555555555555556, \"#d8576b\"], [0.6666666666666666, \"#ed7953\"], [0.7777777777777778, \"#fb9f3a\"], [0.8888888888888888, \"#fdca26\"], [1.0, \"#f0f921\"]], \"sequentialminus\": [[0.0, \"#0d0887\"], [0.1111111111111111, \"#46039f\"], [0.2222222222222222, \"#7201a8\"], [0.3333333333333333, \"#9c179e\"], [0.4444444444444444, \"#bd3786\"], [0.5555555555555556, \"#d8576b\"], [0.6666666666666666, \"#ed7953\"], [0.7777777777777778, \"#fb9f3a\"], [0.8888888888888888, \"#fdca26\"], [1.0, \"#f0f921\"]]}, \"colorway\": [\"#636efa\", \"#EF553B\", \"#00cc96\", \"#ab63fa\", \"#FFA15A\", \"#19d3f3\", \"#FF6692\", \"#B6E880\", \"#FF97FF\", \"#FECB52\"], \"font\": {\"color\": \"#2a3f5f\"}, \"geo\": {\"bgcolor\": \"white\", \"lakecolor\": \"white\", \"landcolor\": \"#E5ECF6\", \"showlakes\": true, \"showland\": true, \"subunitcolor\": \"white\"}, \"hoverlabel\": {\"align\": \"left\"}, \"hovermode\": \"closest\", \"mapbox\": {\"style\": \"light\"}, \"paper_bgcolor\": \"white\", \"plot_bgcolor\": \"#E5ECF6\", \"polar\": {\"angularaxis\": {\"gridcolor\": \"white\", \"linecolor\": \"white\", \"ticks\": \"\"}, \"bgcolor\": \"#E5ECF6\", \"radialaxis\": {\"gridcolor\": \"white\", \"linecolor\": \"white\", \"ticks\": \"\"}}, \"scene\": {\"xaxis\": {\"backgroundcolor\": \"#E5ECF6\", \"gridcolor\": \"white\", \"gridwidth\": 2, \"linecolor\": \"white\", \"showbackground\": true, \"ticks\": \"\", \"zerolinecolor\": \"white\"}, \"yaxis\": {\"backgroundcolor\": \"#E5ECF6\", \"gridcolor\": \"white\", \"gridwidth\": 2, \"linecolor\": \"white\", \"showbackground\": true, \"ticks\": \"\", \"zerolinecolor\": \"white\"}, \"zaxis\": {\"backgroundcolor\": \"#E5ECF6\", \"gridcolor\": \"white\", \"gridwidth\": 2, \"linecolor\": \"white\", \"showbackground\": true, \"ticks\": \"\", \"zerolinecolor\": \"white\"}}, \"shapedefaults\": {\"line\": {\"color\": \"#2a3f5f\"}}, \"ternary\": {\"aaxis\": {\"gridcolor\": \"white\", \"linecolor\": \"white\", \"ticks\": \"\"}, \"baxis\": {\"gridcolor\": \"white\", \"linecolor\": \"white\", \"ticks\": \"\"}, \"bgcolor\": \"#E5ECF6\", \"caxis\": {\"gridcolor\": \"white\", \"linecolor\": \"white\", \"ticks\": \"\"}}, \"title\": {\"x\": 0.05}, \"xaxis\": {\"automargin\": true, \"gridcolor\": \"white\", \"linecolor\": \"white\", \"ticks\": \"\", \"title\": {\"standoff\": 15}, \"zerolinecolor\": \"white\", \"zerolinewidth\": 2}, \"yaxis\": {\"automargin\": true, \"gridcolor\": \"white\", \"linecolor\": \"white\", \"ticks\": \"\", \"title\": {\"standoff\": 15}, \"zerolinecolor\": \"white\", \"zerolinewidth\": 2}}}, \"title\": {\"text\": \"<b>Road Deaths by State from 1989 to 2019 in Australia<b>\"}, \"updatemenus\": [{\"buttons\": [{\"args\": [null, {\"frame\": {\"duration\": 200, \"redraw\": false}, \"fromcurrent\": true, \"mode\": \"immediate\", \"transition\": {\"duration\": 0}}], \"label\": \"Play\", \"method\": \"animate\"}], \"pad\": {\"r\": 10, \"t\": 0}, \"showactive\": true, \"type\": \"buttons\", \"x\": 1.2, \"xanchor\": \"right\", \"y\": 1.2, \"yanchor\": \"top\"}], \"width\": 1000, \"xaxis\": {\"title\": {\"text\": \"<b>Year</b>\"}}, \"yaxis\": {\"title\": {\"text\": \"<b>Deaths<b>\"}}},\n",
       "                        {\"responsive\": true}\n",
       "                    ).then(function(){\n",
       "                            Plotly.addFrames('b04fa5d7-d25c-4e29-9a81-db3ab1030342', [{\"data\": [{\"x\": [\"1989\"], \"y\": [32], \"type\": \"scatter\"}, {\"x\": [\"1989\"], \"y\": [80], \"type\": \"scatter\"}, {\"x\": [\"1989\"], \"y\": [61], \"type\": \"scatter\"}, {\"x\": [\"1989\"], \"y\": [221], \"type\": \"scatter\"}, {\"x\": [\"1989\"], \"y\": [242], \"type\": \"scatter\"}, {\"x\": [\"1989\"], \"y\": [428], \"type\": \"scatter\"}, {\"x\": [\"1989\"], \"y\": [776], \"type\": \"scatter\"}, {\"x\": [\"1989\"], \"y\": [959], \"type\": \"scatter\"}], \"traces\": [0, 1, 2, 3, 4, 5, 6, 7]}, {\"data\": [{\"x\": [\"1990\", \"1989\"], \"y\": [26, 32], \"type\": \"scatter\"}, {\"x\": [\"1990\", \"1989\"], \"y\": [71, 80], \"type\": \"scatter\"}, {\"x\": [\"1990\", \"1989\"], \"y\": [68, 61], \"type\": \"scatter\"}, {\"x\": [\"1990\", \"1989\"], \"y\": [226, 221], \"type\": \"scatter\"}, {\"x\": [\"1990\", \"1989\"], \"y\": [196, 242], \"type\": \"scatter\"}, {\"x\": [\"1990\", \"1989\"], \"y\": [399, 428], \"type\": \"scatter\"}, {\"x\": [\"1990\", \"1989\"], \"y\": [548, 776], \"type\": \"scatter\"}, {\"x\": [\"1990\", \"1989\"], \"y\": [796, 959], \"type\": \"scatter\"}], \"traces\": [0, 1, 2, 3, 4, 5, 6, 7]}, {\"data\": [{\"x\": [\"1991\", \"1990\", \"1989\"], \"y\": [17, 26, 32], \"type\": \"scatter\"}, {\"x\": [\"1991\", \"1990\", \"1989\"], \"y\": [77, 71, 80], \"type\": \"scatter\"}, {\"x\": [\"1991\", \"1990\", \"1989\"], \"y\": [67, 68, 61], \"type\": \"scatter\"}, {\"x\": [\"1991\", \"1990\", \"1989\"], \"y\": [184, 226, 221], \"type\": \"scatter\"}, {\"x\": [\"1991\", \"1990\", \"1989\"], \"y\": [207, 196, 242], \"type\": \"scatter\"}, {\"x\": [\"1991\", \"1990\", \"1989\"], \"y\": [395, 399, 428], \"type\": \"scatter\"}, {\"x\": [\"1991\", \"1990\", \"1989\"], \"y\": [503, 548, 776], \"type\": \"scatter\"}, {\"x\": [\"1991\", \"1990\", \"1989\"], \"y\": [662, 796, 959], \"type\": \"scatter\"}], \"traces\": [0, 1, 2, 3, 4, 5, 6, 7]}, {\"data\": [{\"x\": [\"1992\", \"1991\", \"1990\", \"1989\"], \"y\": [20, 17, 26, 32], \"type\": \"scatter\"}, {\"x\": [\"1992\", \"1991\", \"1990\", \"1989\"], \"y\": [74, 77, 71, 80], \"type\": \"scatter\"}, {\"x\": [\"1992\", \"1991\", \"1990\", \"1989\"], \"y\": [54, 67, 68, 61], \"type\": \"scatter\"}, {\"x\": [\"1992\", \"1991\", \"1990\", \"1989\"], \"y\": [165, 184, 226, 221], \"type\": \"scatter\"}, {\"x\": [\"1992\", \"1991\", \"1990\", \"1989\"], \"y\": [200, 207, 196, 242], \"type\": \"scatter\"}, {\"x\": [\"1992\", \"1991\", \"1990\", \"1989\"], \"y\": [416, 395, 399, 428], \"type\": \"scatter\"}, {\"x\": [\"1992\", \"1991\", \"1990\", \"1989\"], \"y\": [396, 503, 548, 776], \"type\": \"scatter\"}, {\"x\": [\"1992\", \"1991\", \"1990\", \"1989\"], \"y\": [648, 662, 796, 959], \"type\": \"scatter\"}], \"traces\": [0, 1, 2, 3, 4, 5, 6, 7]}, {\"data\": [{\"x\": [\"1993\", \"1992\", \"1991\", \"1990\", \"1989\"], \"y\": [12, 20, 17, 26, 32], \"type\": \"scatter\"}, {\"x\": [\"1993\", \"1992\", \"1991\", \"1990\", \"1989\"], \"y\": [58, 74, 77, 71, 80], \"type\": \"scatter\"}, {\"x\": [\"1993\", \"1992\", \"1991\", \"1990\", \"1989\"], \"y\": [44, 54, 67, 68, 61], \"type\": \"scatter\"}, {\"x\": [\"1993\", \"1992\", \"1991\", \"1990\", \"1989\"], \"y\": [217, 165, 184, 226, 221], \"type\": \"scatter\"}, {\"x\": [\"1993\", \"1992\", \"1991\", \"1990\", \"1989\"], \"y\": [209, 200, 207, 196, 242], \"type\": \"scatter\"}, {\"x\": [\"1993\", \"1992\", \"1991\", \"1990\", \"1989\"], \"y\": [396, 416, 395, 399, 428], \"type\": \"scatter\"}, {\"x\": [\"1993\", \"1992\", \"1991\", \"1990\", \"1989\"], \"y\": [435, 396, 503, 548, 776], \"type\": \"scatter\"}, {\"x\": [\"1993\", \"1992\", \"1991\", \"1990\", \"1989\"], \"y\": [581, 648, 662, 796, 959], \"type\": \"scatter\"}], \"traces\": [0, 1, 2, 3, 4, 5, 6, 7]}, {\"data\": [{\"x\": [\"1994\", \"1993\", \"1992\", \"1991\", \"1990\", \"1989\"], \"y\": [17, 12, 20, 17, 26, 32], \"type\": \"scatter\"}, {\"x\": [\"1994\", \"1993\", \"1992\", \"1991\", \"1990\", \"1989\"], \"y\": [59, 58, 74, 77, 71, 80], \"type\": \"scatter\"}, {\"x\": [\"1994\", \"1993\", \"1992\", \"1991\", \"1990\", \"1989\"], \"y\": [41, 44, 54, 67, 68, 61], \"type\": \"scatter\"}, {\"x\": [\"1994\", \"1993\", \"1992\", \"1991\", \"1990\", \"1989\"], \"y\": [159, 217, 165, 184, 226, 221], \"type\": \"scatter\"}, {\"x\": [\"1994\", \"1993\", \"1992\", \"1991\", \"1990\", \"1989\"], \"y\": [211, 209, 200, 207, 196, 242], \"type\": \"scatter\"}, {\"x\": [\"1994\", \"1993\", \"1992\", \"1991\", \"1990\", \"1989\"], \"y\": [417, 396, 416, 395, 399, 428], \"type\": \"scatter\"}, {\"x\": [\"1994\", \"1993\", \"1992\", \"1991\", \"1990\", \"1989\"], \"y\": [377, 435, 396, 503, 548, 776], \"type\": \"scatter\"}, {\"x\": [\"1994\", \"1993\", \"1992\", \"1991\", \"1990\", \"1989\"], \"y\": [646, 581, 648, 662, 796, 959], \"type\": \"scatter\"}], \"traces\": [0, 1, 2, 3, 4, 5, 6, 7]}, {\"data\": [{\"x\": [\"1995\", \"1994\", \"1993\", \"1992\", \"1991\", \"1990\", \"1989\"], \"y\": [15, 17, 12, 20, 17, 26, 32], \"type\": \"scatter\"}, {\"x\": [\"1995\", \"1994\", \"1993\", \"1992\", \"1991\", \"1990\", \"1989\"], \"y\": [57, 59, 58, 74, 77, 71, 80], \"type\": \"scatter\"}, {\"x\": [\"1995\", \"1994\", \"1993\", \"1992\", \"1991\", \"1990\", \"1989\"], \"y\": [61, 41, 44, 54, 67, 68, 61], \"type\": \"scatter\"}, {\"x\": [\"1995\", \"1994\", \"1993\", \"1992\", \"1991\", \"1990\", \"1989\"], \"y\": [181, 159, 217, 165, 184, 226, 221], \"type\": \"scatter\"}, {\"x\": [\"1995\", \"1994\", \"1993\", \"1992\", \"1991\", \"1990\", \"1989\"], \"y\": [209, 211, 209, 200, 207, 196, 242], \"type\": \"scatter\"}, {\"x\": [\"1995\", \"1994\", \"1993\", \"1992\", \"1991\", \"1990\", \"1989\"], \"y\": [456, 417, 396, 416, 395, 399, 428], \"type\": \"scatter\"}, {\"x\": [\"1995\", \"1994\", \"1993\", \"1992\", \"1991\", \"1990\", \"1989\"], \"y\": [417, 377, 435, 396, 503, 548, 776], \"type\": \"scatter\"}, {\"x\": [\"1995\", \"1994\", \"1993\", \"1992\", \"1991\", \"1990\", \"1989\"], \"y\": [620, 646, 581, 648, 662, 796, 959], \"type\": \"scatter\"}], \"traces\": [0, 1, 2, 3, 4, 5, 6, 7]}, {\"data\": [{\"x\": [\"1996\", \"1995\", \"1994\", \"1993\", \"1992\", \"1991\", \"1990\", \"1989\"], \"y\": [23, 15, 17, 12, 20, 17, 26, 32], \"type\": \"scatter\"}, {\"x\": [\"1996\", \"1995\", \"1994\", \"1993\", \"1992\", \"1991\", \"1990\", \"1989\"], \"y\": [64, 57, 59, 58, 74, 77, 71, 80], \"type\": \"scatter\"}, {\"x\": [\"1996\", \"1995\", \"1994\", \"1993\", \"1992\", \"1991\", \"1990\", \"1989\"], \"y\": [72, 61, 41, 44, 54, 67, 68, 61], \"type\": \"scatter\"}, {\"x\": [\"1996\", \"1995\", \"1994\", \"1993\", \"1992\", \"1991\", \"1990\", \"1989\"], \"y\": [181, 181, 159, 217, 165, 184, 226, 221], \"type\": \"scatter\"}, {\"x\": [\"1996\", \"1995\", \"1994\", \"1993\", \"1992\", \"1991\", \"1990\", \"1989\"], \"y\": [247, 209, 211, 209, 200, 207, 196, 242], \"type\": \"scatter\"}, {\"x\": [\"1996\", \"1995\", \"1994\", \"1993\", \"1992\", \"1991\", \"1990\", \"1989\"], \"y\": [385, 456, 417, 396, 416, 395, 399, 428], \"type\": \"scatter\"}, {\"x\": [\"1996\", \"1995\", \"1994\", \"1993\", \"1992\", \"1991\", \"1990\", \"1989\"], \"y\": [417, 417, 377, 435, 396, 503, 548, 776], \"type\": \"scatter\"}, {\"x\": [\"1996\", \"1995\", \"1994\", \"1993\", \"1992\", \"1991\", \"1990\", \"1989\"], \"y\": [580, 620, 646, 581, 648, 662, 796, 959], \"type\": \"scatter\"}], \"traces\": [0, 1, 2, 3, 4, 5, 6, 7]}, {\"data\": [{\"x\": [\"1997\", \"1996\", \"1995\", \"1994\", \"1993\", \"1992\", \"1991\", \"1990\", \"1989\"], \"y\": [16, 23, 15, 17, 12, 20, 17, 26, 32], \"type\": \"scatter\"}, {\"x\": [\"1997\", \"1996\", \"1995\", \"1994\", \"1993\", \"1992\", \"1991\", \"1990\", \"1989\"], \"y\": [32, 64, 57, 59, 58, 74, 77, 71, 80], \"type\": \"scatter\"}, {\"x\": [\"1997\", \"1996\", \"1995\", \"1994\", \"1993\", \"1992\", \"1991\", \"1990\", \"1989\"], \"y\": [60, 72, 61, 41, 44, 54, 67, 68, 61], \"type\": \"scatter\"}, {\"x\": [\"1997\", \"1996\", \"1995\", \"1994\", \"1993\", \"1992\", \"1991\", \"1990\", \"1989\"], \"y\": [148, 181, 181, 159, 217, 165, 184, 226, 221], \"type\": \"scatter\"}, {\"x\": [\"1997\", \"1996\", \"1995\", \"1994\", \"1993\", \"1992\", \"1991\", \"1990\", \"1989\"], \"y\": [197, 247, 209, 211, 209, 200, 207, 196, 242], \"type\": \"scatter\"}, {\"x\": [\"1997\", \"1996\", \"1995\", \"1994\", \"1993\", \"1992\", \"1991\", \"1990\", \"1989\"], \"y\": [360, 385, 456, 417, 396, 416, 395, 399, 428], \"type\": \"scatter\"}, {\"x\": [\"1997\", \"1996\", \"1995\", \"1994\", \"1993\", \"1992\", \"1991\", \"1990\", \"1989\"], \"y\": [377, 417, 417, 377, 435, 396, 503, 548, 776], \"type\": \"scatter\"}, {\"x\": [\"1997\", \"1996\", \"1995\", \"1994\", \"1993\", \"1992\", \"1991\", \"1990\", \"1989\"], \"y\": [576, 580, 620, 646, 581, 648, 662, 796, 959], \"type\": \"scatter\"}], \"traces\": [0, 1, 2, 3, 4, 5, 6, 7]}, {\"data\": [{\"x\": [\"1998\", \"1997\", \"1996\", \"1995\", \"1994\", \"1993\", \"1992\", \"1991\", \"1990\", \"1989\"], \"y\": [22, 16, 23, 15, 17, 12, 20, 17, 26, 32], \"type\": \"scatter\"}, {\"x\": [\"1998\", \"1997\", \"1996\", \"1995\", \"1994\", \"1993\", \"1992\", \"1991\", \"1990\", \"1989\"], \"y\": [48, 32, 64, 57, 59, 58, 74, 77, 71, 80], \"type\": \"scatter\"}, {\"x\": [\"1998\", \"1997\", \"1996\", \"1995\", \"1994\", \"1993\", \"1992\", \"1991\", \"1990\", \"1989\"], \"y\": [69, 60, 72, 61, 41, 44, 54, 67, 68, 61], \"type\": \"scatter\"}, {\"x\": [\"1998\", \"1997\", \"1996\", \"1995\", \"1994\", \"1993\", \"1992\", \"1991\", \"1990\", \"1989\"], \"y\": [168, 148, 181, 181, 159, 217, 165, 184, 226, 221], \"type\": \"scatter\"}, {\"x\": [\"1998\", \"1997\", \"1996\", \"1995\", \"1994\", \"1993\", \"1992\", \"1991\", \"1990\", \"1989\"], \"y\": [223, 197, 247, 209, 211, 209, 200, 207, 196, 242], \"type\": \"scatter\"}, {\"x\": [\"1998\", \"1997\", \"1996\", \"1995\", \"1994\", \"1993\", \"1992\", \"1991\", \"1990\", \"1989\"], \"y\": [279, 360, 385, 456, 417, 396, 416, 395, 399, 428], \"type\": \"scatter\"}, {\"x\": [\"1998\", \"1997\", \"1996\", \"1995\", \"1994\", \"1993\", \"1992\", \"1991\", \"1990\", \"1989\"], \"y\": [390, 377, 417, 417, 377, 435, 396, 503, 548, 776], \"type\": \"scatter\"}, {\"x\": [\"1998\", \"1997\", \"1996\", \"1995\", \"1994\", \"1993\", \"1992\", \"1991\", \"1990\", \"1989\"], \"y\": [555, 576, 580, 620, 646, 581, 648, 662, 796, 959], \"type\": \"scatter\"}], \"traces\": [0, 1, 2, 3, 4, 5, 6, 7]}, {\"data\": [{\"x\": [\"1999\", \"1998\", \"1997\", \"1996\", \"1995\", \"1994\", \"1993\", \"1992\", \"1991\", \"1990\", \"1989\"], \"y\": [19, 22, 16, 23, 15, 17, 12, 20, 17, 26, 32], \"type\": \"scatter\"}, {\"x\": [\"1999\", \"1998\", \"1997\", \"1996\", \"1995\", \"1994\", \"1993\", \"1992\", \"1991\", \"1990\", \"1989\"], \"y\": [53, 48, 32, 64, 57, 59, 58, 74, 77, 71, 80], \"type\": \"scatter\"}, {\"x\": [\"1999\", \"1998\", \"1997\", \"1996\", \"1995\", \"1994\", \"1993\", \"1992\", \"1991\", \"1990\", \"1989\"], \"y\": [49, 69, 60, 72, 61, 41, 44, 54, 67, 68, 61], \"type\": \"scatter\"}, {\"x\": [\"1999\", \"1998\", \"1997\", \"1996\", \"1995\", \"1994\", \"1993\", \"1992\", \"1991\", \"1990\", \"1989\"], \"y\": [151, 168, 148, 181, 181, 159, 217, 165, 184, 226, 221], \"type\": \"scatter\"}, {\"x\": [\"1999\", \"1998\", \"1997\", \"1996\", \"1995\", \"1994\", \"1993\", \"1992\", \"1991\", \"1990\", \"1989\"], \"y\": [218, 223, 197, 247, 209, 211, 209, 200, 207, 196, 242], \"type\": \"scatter\"}, {\"x\": [\"1999\", \"1998\", \"1997\", \"1996\", \"1995\", \"1994\", \"1993\", \"1992\", \"1991\", \"1990\", \"1989\"], \"y\": [314, 279, 360, 385, 456, 417, 396, 416, 395, 399, 428], \"type\": \"scatter\"}, {\"x\": [\"1999\", \"1998\", \"1997\", \"1996\", \"1995\", \"1994\", \"1993\", \"1992\", \"1991\", \"1990\", \"1989\"], \"y\": [383, 390, 377, 417, 417, 377, 435, 396, 503, 548, 776], \"type\": \"scatter\"}, {\"x\": [\"1999\", \"1998\", \"1997\", \"1996\", \"1995\", \"1994\", \"1993\", \"1992\", \"1991\", \"1990\", \"1989\"], \"y\": [576, 555, 576, 580, 620, 646, 581, 648, 662, 796, 959], \"type\": \"scatter\"}], \"traces\": [0, 1, 2, 3, 4, 5, 6, 7]}, {\"data\": [{\"x\": [\"2000\", \"1999\", \"1998\", \"1997\", \"1996\", \"1995\", \"1994\", \"1993\", \"1992\", \"1991\", \"1990\", \"1989\"], \"y\": [18, 19, 22, 16, 23, 15, 17, 12, 20, 17, 26, 32], \"type\": \"scatter\"}, {\"x\": [\"2000\", \"1999\", \"1998\", \"1997\", \"1996\", \"1995\", \"1994\", \"1993\", \"1992\", \"1991\", \"1990\", \"1989\"], \"y\": [43, 53, 48, 32, 64, 57, 59, 58, 74, 77, 71, 80], \"type\": \"scatter\"}, {\"x\": [\"2000\", \"1999\", \"1998\", \"1997\", \"1996\", \"1995\", \"1994\", \"1993\", \"1992\", \"1991\", \"1990\", \"1989\"], \"y\": [51, 49, 69, 60, 72, 61, 41, 44, 54, 67, 68, 61], \"type\": \"scatter\"}, {\"x\": [\"2000\", \"1999\", \"1998\", \"1997\", \"1996\", \"1995\", \"1994\", \"1993\", \"1992\", \"1991\", \"1990\", \"1989\"], \"y\": [166, 151, 168, 148, 181, 181, 159, 217, 165, 184, 226, 221], \"type\": \"scatter\"}, {\"x\": [\"2000\", \"1999\", \"1998\", \"1997\", \"1996\", \"1995\", \"1994\", \"1993\", \"1992\", \"1991\", \"1990\", \"1989\"], \"y\": [212, 218, 223, 197, 247, 209, 211, 209, 200, 207, 196, 242], \"type\": \"scatter\"}, {\"x\": [\"2000\", \"1999\", \"1998\", \"1997\", \"1996\", \"1995\", \"1994\", \"1993\", \"1992\", \"1991\", \"1990\", \"1989\"], \"y\": [317, 314, 279, 360, 385, 456, 417, 396, 416, 395, 399, 428], \"type\": \"scatter\"}, {\"x\": [\"2000\", \"1999\", \"1998\", \"1997\", \"1996\", \"1995\", \"1994\", \"1993\", \"1992\", \"1991\", \"1990\", \"1989\"], \"y\": [407, 383, 390, 377, 417, 417, 377, 435, 396, 503, 548, 776], \"type\": \"scatter\"}, {\"x\": [\"2000\", \"1999\", \"1998\", \"1997\", \"1996\", \"1995\", \"1994\", \"1993\", \"1992\", \"1991\", \"1990\", \"1989\"], \"y\": [602, 576, 555, 576, 580, 620, 646, 581, 648, 662, 796, 959], \"type\": \"scatter\"}], \"traces\": [0, 1, 2, 3, 4, 5, 6, 7]}, {\"data\": [{\"x\": [\"2001\", \"2000\", \"1999\", \"1998\", \"1997\", \"1996\", \"1995\", \"1994\", \"1993\", \"1992\", \"1991\", \"1990\", \"1989\"], \"y\": [16, 18, 19, 22, 16, 23, 15, 17, 12, 20, 17, 26, 32], \"type\": \"scatter\"}, {\"x\": [\"2001\", \"2000\", \"1999\", \"1998\", \"1997\", \"1996\", \"1995\", \"1994\", \"1993\", \"1992\", \"1991\", \"1990\", \"1989\"], \"y\": [61, 43, 53, 48, 32, 64, 57, 59, 58, 74, 77, 71, 80], \"type\": \"scatter\"}, {\"x\": [\"2001\", \"2000\", \"1999\", \"1998\", \"1997\", \"1996\", \"1995\", \"1994\", \"1993\", \"1992\", \"1991\", \"1990\", \"1989\"], \"y\": [50, 51, 49, 69, 60, 72, 61, 41, 44, 54, 67, 68, 61], \"type\": \"scatter\"}, {\"x\": [\"2001\", \"2000\", \"1999\", \"1998\", \"1997\", \"1996\", \"1995\", \"1994\", \"1993\", \"1992\", \"1991\", \"1990\", \"1989\"], \"y\": [153, 166, 151, 168, 148, 181, 181, 159, 217, 165, 184, 226, 221], \"type\": \"scatter\"}, {\"x\": [\"2001\", \"2000\", \"1999\", \"1998\", \"1997\", \"1996\", \"1995\", \"1994\", \"1993\", \"1992\", \"1991\", \"1990\", \"1989\"], \"y\": [165, 212, 218, 223, 197, 247, 209, 211, 209, 200, 207, 196, 242], \"type\": \"scatter\"}, {\"x\": [\"2001\", \"2000\", \"1999\", \"1998\", \"1997\", \"1996\", \"1995\", \"1994\", \"1993\", \"1992\", \"1991\", \"1990\", \"1989\"], \"y\": [324, 317, 314, 279, 360, 385, 456, 417, 396, 416, 395, 399, 428], \"type\": \"scatter\"}, {\"x\": [\"2001\", \"2000\", \"1999\", \"1998\", \"1997\", \"1996\", \"1995\", \"1994\", \"1993\", \"1992\", \"1991\", \"1990\", \"1989\"], \"y\": [444, 407, 383, 390, 377, 417, 417, 377, 435, 396, 503, 548, 776], \"type\": \"scatter\"}, {\"x\": [\"2001\", \"2000\", \"1999\", \"1998\", \"1997\", \"1996\", \"1995\", \"1994\", \"1993\", \"1992\", \"1991\", \"1990\", \"1989\"], \"y\": [523, 602, 576, 555, 576, 580, 620, 646, 581, 648, 662, 796, 959], \"type\": \"scatter\"}], \"traces\": [0, 1, 2, 3, 4, 5, 6, 7]}, {\"data\": [{\"x\": [\"2002\", \"2001\", \"2000\", \"1999\", \"1998\", \"1997\", \"1996\", \"1995\", \"1994\", \"1993\", \"1992\", \"1991\", \"1990\", \"1989\"], \"y\": [10, 16, 18, 19, 22, 16, 23, 15, 17, 12, 20, 17, 26, 32], \"type\": \"scatter\"}, {\"x\": [\"2002\", \"2001\", \"2000\", \"1999\", \"1998\", \"1997\", \"1996\", \"1995\", \"1994\", \"1993\", \"1992\", \"1991\", \"1990\", \"1989\"], \"y\": [37, 61, 43, 53, 48, 32, 64, 57, 59, 58, 74, 77, 71, 80], \"type\": \"scatter\"}, {\"x\": [\"2002\", \"2001\", \"2000\", \"1999\", \"1998\", \"1997\", \"1996\", \"1995\", \"1994\", \"1993\", \"1992\", \"1991\", \"1990\", \"1989\"], \"y\": [55, 50, 51, 49, 69, 60, 72, 61, 41, 44, 54, 67, 68, 61], \"type\": \"scatter\"}, {\"x\": [\"2002\", \"2001\", \"2000\", \"1999\", \"1998\", \"1997\", \"1996\", \"1995\", \"1994\", \"1993\", \"1992\", \"1991\", \"1990\", \"1989\"], \"y\": [154, 153, 166, 151, 168, 148, 181, 181, 159, 217, 165, 184, 226, 221], \"type\": \"scatter\"}, {\"x\": [\"2002\", \"2001\", \"2000\", \"1999\", \"1998\", \"1997\", \"1996\", \"1995\", \"1994\", \"1993\", \"1992\", \"1991\", \"1990\", \"1989\"], \"y\": [179, 165, 212, 218, 223, 197, 247, 209, 211, 209, 200, 207, 196, 242], \"type\": \"scatter\"}, {\"x\": [\"2002\", \"2001\", \"2000\", \"1999\", \"1998\", \"1997\", \"1996\", \"1995\", \"1994\", \"1993\", \"1992\", \"1991\", \"1990\", \"1989\"], \"y\": [322, 324, 317, 314, 279, 360, 385, 456, 417, 396, 416, 395, 399, 428], \"type\": \"scatter\"}, {\"x\": [\"2002\", \"2001\", \"2000\", \"1999\", \"1998\", \"1997\", \"1996\", \"1995\", \"1994\", \"1993\", \"1992\", \"1991\", \"1990\", \"1989\"], \"y\": [397, 444, 407, 383, 390, 377, 417, 417, 377, 435, 396, 503, 548, 776], \"type\": \"scatter\"}, {\"x\": [\"2002\", \"2001\", \"2000\", \"1999\", \"1998\", \"1997\", \"1996\", \"1995\", \"1994\", \"1993\", \"1992\", \"1991\", \"1990\", \"1989\"], \"y\": [560, 523, 602, 576, 555, 576, 580, 620, 646, 581, 648, 662, 796, 959], \"type\": \"scatter\"}], \"traces\": [0, 1, 2, 3, 4, 5, 6, 7]}, {\"data\": [{\"x\": [\"2003\", \"2002\", \"2001\", \"2000\", \"1999\", \"1998\", \"1997\", \"1996\", \"1995\", \"1994\", \"1993\", \"1992\", \"1991\", \"1990\", \"1989\"], \"y\": [11, 10, 16, 18, 19, 22, 16, 23, 15, 17, 12, 20, 17, 26, 32], \"type\": \"scatter\"}, {\"x\": [\"2003\", \"2002\", \"2001\", \"2000\", \"1999\", \"1998\", \"1997\", \"1996\", \"1995\", \"1994\", \"1993\", \"1992\", \"1991\", \"1990\", \"1989\"], \"y\": [41, 37, 61, 43, 53, 48, 32, 64, 57, 59, 58, 74, 77, 71, 80], \"type\": \"scatter\"}, {\"x\": [\"2003\", \"2002\", \"2001\", \"2000\", \"1999\", \"1998\", \"1997\", \"1996\", \"1995\", \"1994\", \"1993\", \"1992\", \"1991\", \"1990\", \"1989\"], \"y\": [53, 55, 50, 51, 49, 69, 60, 72, 61, 41, 44, 54, 67, 68, 61], \"type\": \"scatter\"}, {\"x\": [\"2003\", \"2002\", \"2001\", \"2000\", \"1999\", \"1998\", \"1997\", \"1996\", \"1995\", \"1994\", \"1993\", \"1992\", \"1991\", \"1990\", \"1989\"], \"y\": [157, 154, 153, 166, 151, 168, 148, 181, 181, 159, 217, 165, 184, 226, 221], \"type\": \"scatter\"}, {\"x\": [\"2003\", \"2002\", \"2001\", \"2000\", \"1999\", \"1998\", \"1997\", \"1996\", \"1995\", \"1994\", \"1993\", \"1992\", \"1991\", \"1990\", \"1989\"], \"y\": [180, 179, 165, 212, 218, 223, 197, 247, 209, 211, 209, 200, 207, 196, 242], \"type\": \"scatter\"}, {\"x\": [\"2003\", \"2002\", \"2001\", \"2000\", \"1999\", \"1998\", \"1997\", \"1996\", \"1995\", \"1994\", \"1993\", \"1992\", \"1991\", \"1990\", \"1989\"], \"y\": [309, 322, 324, 317, 314, 279, 360, 385, 456, 417, 396, 416, 395, 399, 428], \"type\": \"scatter\"}, {\"x\": [\"2003\", \"2002\", \"2001\", \"2000\", \"1999\", \"1998\", \"1997\", \"1996\", \"1995\", \"1994\", \"1993\", \"1992\", \"1991\", \"1990\", \"1989\"], \"y\": [330, 397, 444, 407, 383, 390, 377, 417, 417, 377, 435, 396, 503, 548, 776], \"type\": \"scatter\"}, {\"x\": [\"2003\", \"2002\", \"2001\", \"2000\", \"1999\", \"1998\", \"1997\", \"1996\", \"1995\", \"1994\", \"1993\", \"1992\", \"1991\", \"1990\", \"1989\"], \"y\": [539, 560, 523, 602, 576, 555, 576, 580, 620, 646, 581, 648, 662, 796, 959], \"type\": \"scatter\"}], \"traces\": [0, 1, 2, 3, 4, 5, 6, 7]}, {\"data\": [{\"x\": [\"2004\", \"2003\", \"2002\", \"2001\", \"2000\", \"1999\", \"1998\", \"1997\", \"1996\", \"1995\", \"1994\", \"1993\", \"1992\", \"1991\", \"1990\", \"1989\"], \"y\": [9, 11, 10, 16, 18, 19, 22, 16, 23, 15, 17, 12, 20, 17, 26, 32], \"type\": \"scatter\"}, {\"x\": [\"2004\", \"2003\", \"2002\", \"2001\", \"2000\", \"1999\", \"1998\", \"1997\", \"1996\", \"1995\", \"1994\", \"1993\", \"1992\", \"1991\", \"1990\", \"1989\"], \"y\": [58, 41, 37, 61, 43, 53, 48, 32, 64, 57, 59, 58, 74, 77, 71, 80], \"type\": \"scatter\"}, {\"x\": [\"2004\", \"2003\", \"2002\", \"2001\", \"2000\", \"1999\", \"1998\", \"1997\", \"1996\", \"1995\", \"1994\", \"1993\", \"1992\", \"1991\", \"1990\", \"1989\"], \"y\": [35, 53, 55, 50, 51, 49, 69, 60, 72, 61, 41, 44, 54, 67, 68, 61], \"type\": \"scatter\"}, {\"x\": [\"2004\", \"2003\", \"2002\", \"2001\", \"2000\", \"1999\", \"1998\", \"1997\", \"1996\", \"1995\", \"1994\", \"1993\", \"1992\", \"1991\", \"1990\", \"1989\"], \"y\": [139, 157, 154, 153, 166, 151, 168, 148, 181, 181, 159, 217, 165, 184, 226, 221], \"type\": \"scatter\"}, {\"x\": [\"2004\", \"2003\", \"2002\", \"2001\", \"2000\", \"1999\", \"1998\", \"1997\", \"1996\", \"1995\", \"1994\", \"1993\", \"1992\", \"1991\", \"1990\", \"1989\"], \"y\": [178, 180, 179, 165, 212, 218, 223, 197, 247, 209, 211, 209, 200, 207, 196, 242], \"type\": \"scatter\"}, {\"x\": [\"2004\", \"2003\", \"2002\", \"2001\", \"2000\", \"1999\", \"1998\", \"1997\", \"1996\", \"1995\", \"1994\", \"1993\", \"1992\", \"1991\", \"1990\", \"1989\"], \"y\": [311, 309, 322, 324, 317, 314, 279, 360, 385, 456, 417, 396, 416, 395, 399, 428], \"type\": \"scatter\"}, {\"x\": [\"2004\", \"2003\", \"2002\", \"2001\", \"2000\", \"1999\", \"1998\", \"1997\", \"1996\", \"1995\", \"1994\", \"1993\", \"1992\", \"1991\", \"1990\", \"1989\"], \"y\": [343, 330, 397, 444, 407, 383, 390, 377, 417, 417, 377, 435, 396, 503, 548, 776], \"type\": \"scatter\"}, {\"x\": [\"2004\", \"2003\", \"2002\", \"2001\", \"2000\", \"1999\", \"1998\", \"1997\", \"1996\", \"1995\", \"1994\", \"1993\", \"1992\", \"1991\", \"1990\", \"1989\"], \"y\": [509, 539, 560, 523, 602, 576, 555, 576, 580, 620, 646, 581, 648, 662, 796, 959], \"type\": \"scatter\"}], \"traces\": [0, 1, 2, 3, 4, 5, 6, 7]}, {\"data\": [{\"x\": [\"2005\", \"2004\", \"2003\", \"2002\", \"2001\", \"2000\", \"1999\", \"1998\", \"1997\", \"1996\", \"1995\", \"1994\", \"1993\", \"1992\", \"1991\", \"1990\", \"1989\"], \"y\": [26, 9, 11, 10, 16, 18, 19, 22, 16, 23, 15, 17, 12, 20, 17, 26, 32], \"type\": \"scatter\"}, {\"x\": [\"2005\", \"2004\", \"2003\", \"2002\", \"2001\", \"2000\", \"1999\", \"1998\", \"1997\", \"1996\", \"1995\", \"1994\", \"1993\", \"1992\", \"1991\", \"1990\", \"1989\"], \"y\": [51, 58, 41, 37, 61, 43, 53, 48, 32, 64, 57, 59, 58, 74, 77, 71, 80], \"type\": \"scatter\"}, {\"x\": [\"2005\", \"2004\", \"2003\", \"2002\", \"2001\", \"2000\", \"1999\", \"1998\", \"1997\", \"1996\", \"1995\", \"1994\", \"1993\", \"1992\", \"1991\", \"1990\", \"1989\"], \"y\": [55, 35, 53, 55, 50, 51, 49, 69, 60, 72, 61, 41, 44, 54, 67, 68, 61], \"type\": \"scatter\"}, {\"x\": [\"2005\", \"2004\", \"2003\", \"2002\", \"2001\", \"2000\", \"1999\", \"1998\", \"1997\", \"1996\", \"1995\", \"1994\", \"1993\", \"1992\", \"1991\", \"1990\", \"1989\"], \"y\": [148, 139, 157, 154, 153, 166, 151, 168, 148, 181, 181, 159, 217, 165, 184, 226, 221], \"type\": \"scatter\"}, {\"x\": [\"2005\", \"2004\", \"2003\", \"2002\", \"2001\", \"2000\", \"1999\", \"1998\", \"1997\", \"1996\", \"1995\", \"1994\", \"1993\", \"1992\", \"1991\", \"1990\", \"1989\"], \"y\": [163, 178, 180, 179, 165, 212, 218, 223, 197, 247, 209, 211, 209, 200, 207, 196, 242], \"type\": \"scatter\"}, {\"x\": [\"2005\", \"2004\", \"2003\", \"2002\", \"2001\", \"2000\", \"1999\", \"1998\", \"1997\", \"1996\", \"1995\", \"1994\", \"1993\", \"1992\", \"1991\", \"1990\", \"1989\"], \"y\": [330, 311, 309, 322, 324, 317, 314, 279, 360, 385, 456, 417, 396, 416, 395, 399, 428], \"type\": \"scatter\"}, {\"x\": [\"2005\", \"2004\", \"2003\", \"2002\", \"2001\", \"2000\", \"1999\", \"1998\", \"1997\", \"1996\", \"1995\", \"1994\", \"1993\", \"1992\", \"1991\", \"1990\", \"1989\"], \"y\": [346, 343, 330, 397, 444, 407, 383, 390, 377, 417, 417, 377, 435, 396, 503, 548, 776], \"type\": \"scatter\"}, {\"x\": [\"2005\", \"2004\", \"2003\", \"2002\", \"2001\", \"2000\", \"1999\", \"1998\", \"1997\", \"1996\", \"1995\", \"1994\", \"1993\", \"1992\", \"1991\", \"1990\", \"1989\"], \"y\": [507, 509, 539, 560, 523, 602, 576, 555, 576, 580, 620, 646, 581, 648, 662, 796, 959], \"type\": \"scatter\"}], \"traces\": [0, 1, 2, 3, 4, 5, 6, 7]}, {\"data\": [{\"x\": [\"2006\", \"2005\", \"2004\", \"2003\", \"2002\", \"2001\", \"2000\", \"1999\", \"1998\", \"1997\", \"1996\", \"1995\", \"1994\", \"1993\", \"1992\", \"1991\", \"1990\", \"1989\"], \"y\": [13, 26, 9, 11, 10, 16, 18, 19, 22, 16, 23, 15, 17, 12, 20, 17, 26, 32], \"type\": \"scatter\"}, {\"x\": [\"2006\", \"2005\", \"2004\", \"2003\", \"2002\", \"2001\", \"2000\", \"1999\", \"1998\", \"1997\", \"1996\", \"1995\", \"1994\", \"1993\", \"1992\", \"1991\", \"1990\", \"1989\"], \"y\": [55, 51, 58, 41, 37, 61, 43, 53, 48, 32, 64, 57, 59, 58, 74, 77, 71, 80], \"type\": \"scatter\"}, {\"x\": [\"2006\", \"2005\", \"2004\", \"2003\", \"2002\", \"2001\", \"2000\", \"1999\", \"1998\", \"1997\", \"1996\", \"1995\", \"1994\", \"1993\", \"1992\", \"1991\", \"1990\", \"1989\"], \"y\": [45, 55, 35, 53, 55, 50, 51, 49, 69, 60, 72, 61, 41, 44, 54, 67, 68, 61], \"type\": \"scatter\"}, {\"x\": [\"2006\", \"2005\", \"2004\", \"2003\", \"2002\", \"2001\", \"2000\", \"1999\", \"1998\", \"1997\", \"1996\", \"1995\", \"1994\", \"1993\", \"1992\", \"1991\", \"1990\", \"1989\"], \"y\": [117, 148, 139, 157, 154, 153, 166, 151, 168, 148, 181, 181, 159, 217, 165, 184, 226, 221], \"type\": \"scatter\"}, {\"x\": [\"2006\", \"2005\", \"2004\", \"2003\", \"2002\", \"2001\", \"2000\", \"1999\", \"1998\", \"1997\", \"1996\", \"1995\", \"1994\", \"1993\", \"1992\", \"1991\", \"1990\", \"1989\"], \"y\": [200, 163, 178, 180, 179, 165, 212, 218, 223, 197, 247, 209, 211, 209, 200, 207, 196, 242], \"type\": \"scatter\"}, {\"x\": [\"2006\", \"2005\", \"2004\", \"2003\", \"2002\", \"2001\", \"2000\", \"1999\", \"1998\", \"1997\", \"1996\", \"1995\", \"1994\", \"1993\", \"1992\", \"1991\", \"1990\", \"1989\"], \"y\": [335, 330, 311, 309, 322, 324, 317, 314, 279, 360, 385, 456, 417, 396, 416, 395, 399, 428], \"type\": \"scatter\"}, {\"x\": [\"2006\", \"2005\", \"2004\", \"2003\", \"2002\", \"2001\", \"2000\", \"1999\", \"1998\", \"1997\", \"1996\", \"1995\", \"1994\", \"1993\", \"1992\", \"1991\", \"1990\", \"1989\"], \"y\": [337, 346, 343, 330, 397, 444, 407, 383, 390, 377, 417, 417, 377, 435, 396, 503, 548, 776], \"type\": \"scatter\"}, {\"x\": [\"2006\", \"2005\", \"2004\", \"2003\", \"2002\", \"2001\", \"2000\", \"1999\", \"1998\", \"1997\", \"1996\", \"1995\", \"1994\", \"1993\", \"1992\", \"1991\", \"1990\", \"1989\"], \"y\": [495, 507, 509, 539, 560, 523, 602, 576, 555, 576, 580, 620, 646, 581, 648, 662, 796, 959], \"type\": \"scatter\"}], \"traces\": [0, 1, 2, 3, 4, 5, 6, 7]}, {\"data\": [{\"x\": [\"2007\", \"2006\", \"2005\", \"2004\", \"2003\", \"2002\", \"2001\", \"2000\", \"1999\", \"1998\", \"1997\", \"1996\", \"1995\", \"1994\", \"1993\", \"1992\", \"1991\", \"1990\", \"1989\"], \"y\": [14, 13, 26, 9, 11, 10, 16, 18, 19, 22, 16, 23, 15, 17, 12, 20, 17, 26, 32], \"type\": \"scatter\"}, {\"x\": [\"2007\", \"2006\", \"2005\", \"2004\", \"2003\", \"2002\", \"2001\", \"2000\", \"1999\", \"1998\", \"1997\", \"1996\", \"1995\", \"1994\", \"1993\", \"1992\", \"1991\", \"1990\", \"1989\"], \"y\": [45, 55, 51, 58, 41, 37, 61, 43, 53, 48, 32, 64, 57, 59, 58, 74, 77, 71, 80], \"type\": \"scatter\"}, {\"x\": [\"2007\", \"2006\", \"2005\", \"2004\", \"2003\", \"2002\", \"2001\", \"2000\", \"1999\", \"1998\", \"1997\", \"1996\", \"1995\", \"1994\", \"1993\", \"1992\", \"1991\", \"1990\", \"1989\"], \"y\": [58, 45, 55, 35, 53, 55, 50, 51, 49, 69, 60, 72, 61, 41, 44, 54, 67, 68, 61], \"type\": \"scatter\"}, {\"x\": [\"2007\", \"2006\", \"2005\", \"2004\", \"2003\", \"2002\", \"2001\", \"2000\", \"1999\", \"1998\", \"1997\", \"1996\", \"1995\", \"1994\", \"1993\", \"1992\", \"1991\", \"1990\", \"1989\"], \"y\": [124, 117, 148, 139, 157, 154, 153, 166, 151, 168, 148, 181, 181, 159, 217, 165, 184, 226, 221], \"type\": \"scatter\"}, {\"x\": [\"2007\", \"2006\", \"2005\", \"2004\", \"2003\", \"2002\", \"2001\", \"2000\", \"1999\", \"1998\", \"1997\", \"1996\", \"1995\", \"1994\", \"1993\", \"1992\", \"1991\", \"1990\", \"1989\"], \"y\": [235, 200, 163, 178, 180, 179, 165, 212, 218, 223, 197, 247, 209, 211, 209, 200, 207, 196, 242], \"type\": \"scatter\"}, {\"x\": [\"2007\", \"2006\", \"2005\", \"2004\", \"2003\", \"2002\", \"2001\", \"2000\", \"1999\", \"1998\", \"1997\", \"1996\", \"1995\", \"1994\", \"1993\", \"1992\", \"1991\", \"1990\", \"1989\"], \"y\": [360, 335, 330, 311, 309, 322, 324, 317, 314, 279, 360, 385, 456, 417, 396, 416, 395, 399, 428], \"type\": \"scatter\"}, {\"x\": [\"2007\", \"2006\", \"2005\", \"2004\", \"2003\", \"2002\", \"2001\", \"2000\", \"1999\", \"1998\", \"1997\", \"1996\", \"1995\", \"1994\", \"1993\", \"1992\", \"1991\", \"1990\", \"1989\"], \"y\": [331, 337, 346, 343, 330, 397, 444, 407, 383, 390, 377, 417, 417, 377, 435, 396, 503, 548, 776], \"type\": \"scatter\"}, {\"x\": [\"2007\", \"2006\", \"2005\", \"2004\", \"2003\", \"2002\", \"2001\", \"2000\", \"1999\", \"1998\", \"1997\", \"1996\", \"1995\", \"1994\", \"1993\", \"1992\", \"1991\", \"1990\", \"1989\"], \"y\": [435, 495, 507, 509, 539, 560, 523, 602, 576, 555, 576, 580, 620, 646, 581, 648, 662, 796, 959], \"type\": \"scatter\"}], \"traces\": [0, 1, 2, 3, 4, 5, 6, 7]}, {\"data\": [{\"x\": [\"2008\", \"2007\", \"2006\", \"2005\", \"2004\", \"2003\", \"2002\", \"2001\", \"2000\", \"1999\", \"1998\", \"1997\", \"1996\", \"1995\", \"1994\", \"1993\", \"1992\", \"1991\", \"1990\", \"1989\"], \"y\": [14, 14, 13, 26, 9, 11, 10, 16, 18, 19, 22, 16, 23, 15, 17, 12, 20, 17, 26, 32], \"type\": \"scatter\"}, {\"x\": [\"2008\", \"2007\", \"2006\", \"2005\", \"2004\", \"2003\", \"2002\", \"2001\", \"2000\", \"1999\", \"1998\", \"1997\", \"1996\", \"1995\", \"1994\", \"1993\", \"1992\", \"1991\", \"1990\", \"1989\"], \"y\": [39, 45, 55, 51, 58, 41, 37, 61, 43, 53, 48, 32, 64, 57, 59, 58, 74, 77, 71, 80], \"type\": \"scatter\"}, {\"x\": [\"2008\", \"2007\", \"2006\", \"2005\", \"2004\", \"2003\", \"2002\", \"2001\", \"2000\", \"1999\", \"1998\", \"1997\", \"1996\", \"1995\", \"1994\", \"1993\", \"1992\", \"1991\", \"1990\", \"1989\"], \"y\": [75, 58, 45, 55, 35, 53, 55, 50, 51, 49, 69, 60, 72, 61, 41, 44, 54, 67, 68, 61], \"type\": \"scatter\"}, {\"x\": [\"2008\", \"2007\", \"2006\", \"2005\", \"2004\", \"2003\", \"2002\", \"2001\", \"2000\", \"1999\", \"1998\", \"1997\", \"1996\", \"1995\", \"1994\", \"1993\", \"1992\", \"1991\", \"1990\", \"1989\"], \"y\": [99, 124, 117, 148, 139, 157, 154, 153, 166, 151, 168, 148, 181, 181, 159, 217, 165, 184, 226, 221], \"type\": \"scatter\"}, {\"x\": [\"2008\", \"2007\", \"2006\", \"2005\", \"2004\", \"2003\", \"2002\", \"2001\", \"2000\", \"1999\", \"1998\", \"1997\", \"1996\", \"1995\", \"1994\", \"1993\", \"1992\", \"1991\", \"1990\", \"1989\"], \"y\": [204, 235, 200, 163, 178, 180, 179, 165, 212, 218, 223, 197, 247, 209, 211, 209, 200, 207, 196, 242], \"type\": \"scatter\"}, {\"x\": [\"2008\", \"2007\", \"2006\", \"2005\", \"2004\", \"2003\", \"2002\", \"2001\", \"2000\", \"1999\", \"1998\", \"1997\", \"1996\", \"1995\", \"1994\", \"1993\", \"1992\", \"1991\", \"1990\", \"1989\"], \"y\": [328, 360, 335, 330, 311, 309, 322, 324, 317, 314, 279, 360, 385, 456, 417, 396, 416, 395, 399, 428], \"type\": \"scatter\"}, {\"x\": [\"2008\", \"2007\", \"2006\", \"2005\", \"2004\", \"2003\", \"2002\", \"2001\", \"2000\", \"1999\", \"1998\", \"1997\", \"1996\", \"1995\", \"1994\", \"1993\", \"1992\", \"1991\", \"1990\", \"1989\"], \"y\": [303, 331, 337, 346, 343, 330, 397, 444, 407, 383, 390, 377, 417, 417, 377, 435, 396, 503, 548, 776], \"type\": \"scatter\"}, {\"x\": [\"2008\", \"2007\", \"2006\", \"2005\", \"2004\", \"2003\", \"2002\", \"2001\", \"2000\", \"1999\", \"1998\", \"1997\", \"1996\", \"1995\", \"1994\", \"1993\", \"1992\", \"1991\", \"1990\", \"1989\"], \"y\": [374, 435, 495, 507, 509, 539, 560, 523, 602, 576, 555, 576, 580, 620, 646, 581, 648, 662, 796, 959], \"type\": \"scatter\"}], \"traces\": [0, 1, 2, 3, 4, 5, 6, 7]}, {\"data\": [{\"x\": [\"2009\", \"2008\", \"2007\", \"2006\", \"2005\", \"2004\", \"2003\", \"2002\", \"2001\", \"2000\", \"1999\", \"1998\", \"1997\", \"1996\", \"1995\", \"1994\", \"1993\", \"1992\", \"1991\", \"1990\", \"1989\"], \"y\": [12, 14, 14, 13, 26, 9, 11, 10, 16, 18, 19, 22, 16, 23, 15, 17, 12, 20, 17, 26, 32], \"type\": \"scatter\"}, {\"x\": [\"2009\", \"2008\", \"2007\", \"2006\", \"2005\", \"2004\", \"2003\", \"2002\", \"2001\", \"2000\", \"1999\", \"1998\", \"1997\", \"1996\", \"1995\", \"1994\", \"1993\", \"1992\", \"1991\", \"1990\", \"1989\"], \"y\": [63, 39, 45, 55, 51, 58, 41, 37, 61, 43, 53, 48, 32, 64, 57, 59, 58, 74, 77, 71, 80], \"type\": \"scatter\"}, {\"x\": [\"2009\", \"2008\", \"2007\", \"2006\", \"2005\", \"2004\", \"2003\", \"2002\", \"2001\", \"2000\", \"1999\", \"1998\", \"1997\", \"1996\", \"1995\", \"1994\", \"1993\", \"1992\", \"1991\", \"1990\", \"1989\"], \"y\": [31, 75, 58, 45, 55, 35, 53, 55, 50, 51, 49, 69, 60, 72, 61, 41, 44, 54, 67, 68, 61], \"type\": \"scatter\"}, {\"x\": [\"2009\", \"2008\", \"2007\", \"2006\", \"2005\", \"2004\", \"2003\", \"2002\", \"2001\", \"2000\", \"1999\", \"1998\", \"1997\", \"1996\", \"1995\", \"1994\", \"1993\", \"1992\", \"1991\", \"1990\", \"1989\"], \"y\": [119, 99, 124, 117, 148, 139, 157, 154, 153, 166, 151, 168, 148, 181, 181, 159, 217, 165, 184, 226, 221], \"type\": \"scatter\"}, {\"x\": [\"2009\", \"2008\", \"2007\", \"2006\", \"2005\", \"2004\", \"2003\", \"2002\", \"2001\", \"2000\", \"1999\", \"1998\", \"1997\", \"1996\", \"1995\", \"1994\", \"1993\", \"1992\", \"1991\", \"1990\", \"1989\"], \"y\": [191, 204, 235, 200, 163, 178, 180, 179, 165, 212, 218, 223, 197, 247, 209, 211, 209, 200, 207, 196, 242], \"type\": \"scatter\"}, {\"x\": [\"2009\", \"2008\", \"2007\", \"2006\", \"2005\", \"2004\", \"2003\", \"2002\", \"2001\", \"2000\", \"1999\", \"1998\", \"1997\", \"1996\", \"1995\", \"1994\", \"1993\", \"1992\", \"1991\", \"1990\", \"1989\"], \"y\": [331, 328, 360, 335, 330, 311, 309, 322, 324, 317, 314, 279, 360, 385, 456, 417, 396, 416, 395, 399, 428], \"type\": \"scatter\"}, {\"x\": [\"2009\", \"2008\", \"2007\", \"2006\", \"2005\", \"2004\", \"2003\", \"2002\", \"2001\", \"2000\", \"1999\", \"1998\", \"1997\", \"1996\", \"1995\", \"1994\", \"1993\", \"1992\", \"1991\", \"1990\", \"1989\"], \"y\": [290, 303, 331, 337, 346, 343, 330, 397, 444, 407, 383, 390, 377, 417, 417, 377, 435, 396, 503, 548, 776], \"type\": \"scatter\"}, {\"x\": [\"2009\", \"2008\", \"2007\", \"2006\", \"2005\", \"2004\", \"2003\", \"2002\", \"2001\", \"2000\", \"1999\", \"1998\", \"1997\", \"1996\", \"1995\", \"1994\", \"1993\", \"1992\", \"1991\", \"1990\", \"1989\"], \"y\": [453, 374, 435, 495, 507, 509, 539, 560, 523, 602, 576, 555, 576, 580, 620, 646, 581, 648, 662, 796, 959], \"type\": \"scatter\"}], \"traces\": [0, 1, 2, 3, 4, 5, 6, 7]}, {\"data\": [{\"x\": [\"2010\", \"2009\", \"2008\", \"2007\", \"2006\", \"2005\", \"2004\", \"2003\", \"2002\", \"2001\", \"2000\", \"1999\", \"1998\", \"1997\", \"1996\", \"1995\", \"1994\", \"1993\", \"1992\", \"1991\", \"1990\", \"1989\"], \"y\": [19, 12, 14, 14, 13, 26, 9, 11, 10, 16, 18, 19, 22, 16, 23, 15, 17, 12, 20, 17, 26, 32], \"type\": \"scatter\"}, {\"x\": [\"2010\", \"2009\", \"2008\", \"2007\", \"2006\", \"2005\", \"2004\", \"2003\", \"2002\", \"2001\", \"2000\", \"1999\", \"1998\", \"1997\", \"1996\", \"1995\", \"1994\", \"1993\", \"1992\", \"1991\", \"1990\", \"1989\"], \"y\": [31, 63, 39, 45, 55, 51, 58, 41, 37, 61, 43, 53, 48, 32, 64, 57, 59, 58, 74, 77, 71, 80], \"type\": \"scatter\"}, {\"x\": [\"2010\", \"2009\", \"2008\", \"2007\", \"2006\", \"2005\", \"2004\", \"2003\", \"2002\", \"2001\", \"2000\", \"1999\", \"1998\", \"1997\", \"1996\", \"1995\", \"1994\", \"1993\", \"1992\", \"1991\", \"1990\", \"1989\"], \"y\": [50, 31, 75, 58, 45, 55, 35, 53, 55, 50, 51, 49, 69, 60, 72, 61, 41, 44, 54, 67, 68, 61], \"type\": \"scatter\"}, {\"x\": [\"2010\", \"2009\", \"2008\", \"2007\", \"2006\", \"2005\", \"2004\", \"2003\", \"2002\", \"2001\", \"2000\", \"1999\", \"1998\", \"1997\", \"1996\", \"1995\", \"1994\", \"1993\", \"1992\", \"1991\", \"1990\", \"1989\"], \"y\": [118, 119, 99, 124, 117, 148, 139, 157, 154, 153, 166, 151, 168, 148, 181, 181, 159, 217, 165, 184, 226, 221], \"type\": \"scatter\"}, {\"x\": [\"2010\", \"2009\", \"2008\", \"2007\", \"2006\", \"2005\", \"2004\", \"2003\", \"2002\", \"2001\", \"2000\", \"1999\", \"1998\", \"1997\", \"1996\", \"1995\", \"1994\", \"1993\", \"1992\", \"1991\", \"1990\", \"1989\"], \"y\": [193, 191, 204, 235, 200, 163, 178, 180, 179, 165, 212, 218, 223, 197, 247, 209, 211, 209, 200, 207, 196, 242], \"type\": \"scatter\"}, {\"x\": [\"2010\", \"2009\", \"2008\", \"2007\", \"2006\", \"2005\", \"2004\", \"2003\", \"2002\", \"2001\", \"2000\", \"1999\", \"1998\", \"1997\", \"1996\", \"1995\", \"1994\", \"1993\", \"1992\", \"1991\", \"1990\", \"1989\"], \"y\": [249, 331, 328, 360, 335, 330, 311, 309, 322, 324, 317, 314, 279, 360, 385, 456, 417, 396, 416, 395, 399, 428], \"type\": \"scatter\"}, {\"x\": [\"2010\", \"2009\", \"2008\", \"2007\", \"2006\", \"2005\", \"2004\", \"2003\", \"2002\", \"2001\", \"2000\", \"1999\", \"1998\", \"1997\", \"1996\", \"1995\", \"1994\", \"1993\", \"1992\", \"1991\", \"1990\", \"1989\"], \"y\": [288, 290, 303, 331, 337, 346, 343, 330, 397, 444, 407, 383, 390, 377, 417, 417, 377, 435, 396, 503, 548, 776], \"type\": \"scatter\"}, {\"x\": [\"2010\", \"2009\", \"2008\", \"2007\", \"2006\", \"2005\", \"2004\", \"2003\", \"2002\", \"2001\", \"2000\", \"1999\", \"1998\", \"1997\", \"1996\", \"1995\", \"1994\", \"1993\", \"1992\", \"1991\", \"1990\", \"1989\"], \"y\": [404, 453, 374, 435, 495, 507, 509, 539, 560, 523, 602, 576, 555, 576, 580, 620, 646, 581, 648, 662, 796, 959], \"type\": \"scatter\"}], \"traces\": [0, 1, 2, 3, 4, 5, 6, 7]}, {\"data\": [{\"x\": [\"2011\", \"2010\", \"2009\", \"2008\", \"2007\", \"2006\", \"2005\", \"2004\", \"2003\", \"2002\", \"2001\", \"2000\", \"1999\", \"1998\", \"1997\", \"1996\", \"1995\", \"1994\", \"1993\", \"1992\", \"1991\", \"1990\", \"1989\"], \"y\": [6, 19, 12, 14, 14, 13, 26, 9, 11, 10, 16, 18, 19, 22, 16, 23, 15, 17, 12, 20, 17, 26, 32], \"type\": \"scatter\"}, {\"x\": [\"2011\", \"2010\", \"2009\", \"2008\", \"2007\", \"2006\", \"2005\", \"2004\", \"2003\", \"2002\", \"2001\", \"2000\", \"1999\", \"1998\", \"1997\", \"1996\", \"1995\", \"1994\", \"1993\", \"1992\", \"1991\", \"1990\", \"1989\"], \"y\": [24, 31, 63, 39, 45, 55, 51, 58, 41, 37, 61, 43, 53, 48, 32, 64, 57, 59, 58, 74, 77, 71, 80], \"type\": \"scatter\"}, {\"x\": [\"2011\", \"2010\", \"2009\", \"2008\", \"2007\", \"2006\", \"2005\", \"2004\", \"2003\", \"2002\", \"2001\", \"2000\", \"1999\", \"1998\", \"1997\", \"1996\", \"1995\", \"1994\", \"1993\", \"1992\", \"1991\", \"1990\", \"1989\"], \"y\": [45, 50, 31, 75, 58, 45, 55, 35, 53, 55, 50, 51, 49, 69, 60, 72, 61, 41, 44, 54, 67, 68, 61], \"type\": \"scatter\"}, {\"x\": [\"2011\", \"2010\", \"2009\", \"2008\", \"2007\", \"2006\", \"2005\", \"2004\", \"2003\", \"2002\", \"2001\", \"2000\", \"1999\", \"1998\", \"1997\", \"1996\", \"1995\", \"1994\", \"1993\", \"1992\", \"1991\", \"1990\", \"1989\"], \"y\": [103, 118, 119, 99, 124, 117, 148, 139, 157, 154, 153, 166, 151, 168, 148, 181, 181, 159, 217, 165, 184, 226, 221], \"type\": \"scatter\"}, {\"x\": [\"2011\", \"2010\", \"2009\", \"2008\", \"2007\", \"2006\", \"2005\", \"2004\", \"2003\", \"2002\", \"2001\", \"2000\", \"1999\", \"1998\", \"1997\", \"1996\", \"1995\", \"1994\", \"1993\", \"1992\", \"1991\", \"1990\", \"1989\"], \"y\": [179, 193, 191, 204, 235, 200, 163, 178, 180, 179, 165, 212, 218, 223, 197, 247, 209, 211, 209, 200, 207, 196, 242], \"type\": \"scatter\"}, {\"x\": [\"2011\", \"2010\", \"2009\", \"2008\", \"2007\", \"2006\", \"2005\", \"2004\", \"2003\", \"2002\", \"2001\", \"2000\", \"1999\", \"1998\", \"1997\", \"1996\", \"1995\", \"1994\", \"1993\", \"1992\", \"1991\", \"1990\", \"1989\"], \"y\": [269, 249, 331, 328, 360, 335, 330, 311, 309, 322, 324, 317, 314, 279, 360, 385, 456, 417, 396, 416, 395, 399, 428], \"type\": \"scatter\"}, {\"x\": [\"2011\", \"2010\", \"2009\", \"2008\", \"2007\", \"2006\", \"2005\", \"2004\", \"2003\", \"2002\", \"2001\", \"2000\", \"1999\", \"1998\", \"1997\", \"1996\", \"1995\", \"1994\", \"1993\", \"1992\", \"1991\", \"1990\", \"1989\"], \"y\": [287, 288, 290, 303, 331, 337, 346, 343, 330, 397, 444, 407, 383, 390, 377, 417, 417, 377, 435, 396, 503, 548, 776], \"type\": \"scatter\"}, {\"x\": [\"2011\", \"2010\", \"2009\", \"2008\", \"2007\", \"2006\", \"2005\", \"2004\", \"2003\", \"2002\", \"2001\", \"2000\", \"1999\", \"1998\", \"1997\", \"1996\", \"1995\", \"1994\", \"1993\", \"1992\", \"1991\", \"1990\", \"1989\"], \"y\": [363, 404, 453, 374, 435, 495, 507, 509, 539, 560, 523, 602, 576, 555, 576, 580, 620, 646, 581, 648, 662, 796, 959], \"type\": \"scatter\"}], \"traces\": [0, 1, 2, 3, 4, 5, 6, 7]}, {\"data\": [{\"x\": [\"2012\", \"2011\", \"2010\", \"2009\", \"2008\", \"2007\", \"2006\", \"2005\", \"2004\", \"2003\", \"2002\", \"2001\", \"2000\", \"1999\", \"1998\", \"1997\", \"1996\", \"1995\", \"1994\", \"1993\", \"1992\", \"1991\", \"1990\", \"1989\"], \"y\": [12, 6, 19, 12, 14, 14, 13, 26, 9, 11, 10, 16, 18, 19, 22, 16, 23, 15, 17, 12, 20, 17, 26, 32], \"type\": \"scatter\"}, {\"x\": [\"2012\", \"2011\", \"2010\", \"2009\", \"2008\", \"2007\", \"2006\", \"2005\", \"2004\", \"2003\", \"2002\", \"2001\", \"2000\", \"1999\", \"1998\", \"1997\", \"1996\", \"1995\", \"1994\", \"1993\", \"1992\", \"1991\", \"1990\", \"1989\"], \"y\": [31, 24, 31, 63, 39, 45, 55, 51, 58, 41, 37, 61, 43, 53, 48, 32, 64, 57, 59, 58, 74, 77, 71, 80], \"type\": \"scatter\"}, {\"x\": [\"2012\", \"2011\", \"2010\", \"2009\", \"2008\", \"2007\", \"2006\", \"2005\", \"2004\", \"2003\", \"2002\", \"2001\", \"2000\", \"1999\", \"1998\", \"1997\", \"1996\", \"1995\", \"1994\", \"1993\", \"1992\", \"1991\", \"1990\", \"1989\"], \"y\": [49, 45, 50, 31, 75, 58, 45, 55, 35, 53, 55, 50, 51, 49, 69, 60, 72, 61, 41, 44, 54, 67, 68, 61], \"type\": \"scatter\"}, {\"x\": [\"2012\", \"2011\", \"2010\", \"2009\", \"2008\", \"2007\", \"2006\", \"2005\", \"2004\", \"2003\", \"2002\", \"2001\", \"2000\", \"1999\", \"1998\", \"1997\", \"1996\", \"1995\", \"1994\", \"1993\", \"1992\", \"1991\", \"1990\", \"1989\"], \"y\": [94, 103, 118, 119, 99, 124, 117, 148, 139, 157, 154, 153, 166, 151, 168, 148, 181, 181, 159, 217, 165, 184, 226, 221], \"type\": \"scatter\"}, {\"x\": [\"2012\", \"2011\", \"2010\", \"2009\", \"2008\", \"2007\", \"2006\", \"2005\", \"2004\", \"2003\", \"2002\", \"2001\", \"2000\", \"1999\", \"1998\", \"1997\", \"1996\", \"1995\", \"1994\", \"1993\", \"1992\", \"1991\", \"1990\", \"1989\"], \"y\": [183, 179, 193, 191, 204, 235, 200, 163, 178, 180, 179, 165, 212, 218, 223, 197, 247, 209, 211, 209, 200, 207, 196, 242], \"type\": \"scatter\"}, {\"x\": [\"2012\", \"2011\", \"2010\", \"2009\", \"2008\", \"2007\", \"2006\", \"2005\", \"2004\", \"2003\", \"2002\", \"2001\", \"2000\", \"1999\", \"1998\", \"1997\", \"1996\", \"1995\", \"1994\", \"1993\", \"1992\", \"1991\", \"1990\", \"1989\"], \"y\": [280, 269, 249, 331, 328, 360, 335, 330, 311, 309, 322, 324, 317, 314, 279, 360, 385, 456, 417, 396, 416, 395, 399, 428], \"type\": \"scatter\"}, {\"x\": [\"2012\", \"2011\", \"2010\", \"2009\", \"2008\", \"2007\", \"2006\", \"2005\", \"2004\", \"2003\", \"2002\", \"2001\", \"2000\", \"1999\", \"1998\", \"1997\", \"1996\", \"1995\", \"1994\", \"1993\", \"1992\", \"1991\", \"1990\", \"1989\"], \"y\": [282, 287, 288, 290, 303, 331, 337, 346, 343, 330, 397, 444, 407, 383, 390, 377, 417, 417, 377, 435, 396, 503, 548, 776], \"type\": \"scatter\"}, {\"x\": [\"2012\", \"2011\", \"2010\", \"2009\", \"2008\", \"2007\", \"2006\", \"2005\", \"2004\", \"2003\", \"2002\", \"2001\", \"2000\", \"1999\", \"1998\", \"1997\", \"1996\", \"1995\", \"1994\", \"1993\", \"1992\", \"1991\", \"1990\", \"1989\"], \"y\": [368, 363, 404, 453, 374, 435, 495, 507, 509, 539, 560, 523, 602, 576, 555, 576, 580, 620, 646, 581, 648, 662, 796, 959], \"type\": \"scatter\"}], \"traces\": [0, 1, 2, 3, 4, 5, 6, 7]}, {\"data\": [{\"x\": [\"2013\", \"2012\", \"2011\", \"2010\", \"2009\", \"2008\", \"2007\", \"2006\", \"2005\", \"2004\", \"2003\", \"2002\", \"2001\", \"2000\", \"1999\", \"1998\", \"1997\", \"1996\", \"1995\", \"1994\", \"1993\", \"1992\", \"1991\", \"1990\", \"1989\"], \"y\": [7, 12, 6, 19, 12, 14, 14, 13, 26, 9, 11, 10, 16, 18, 19, 22, 16, 23, 15, 17, 12, 20, 17, 26, 32], \"type\": \"scatter\"}, {\"x\": [\"2013\", \"2012\", \"2011\", \"2010\", \"2009\", \"2008\", \"2007\", \"2006\", \"2005\", \"2004\", \"2003\", \"2002\", \"2001\", \"2000\", \"1999\", \"1998\", \"1997\", \"1996\", \"1995\", \"1994\", \"1993\", \"1992\", \"1991\", \"1990\", \"1989\"], \"y\": [36, 31, 24, 31, 63, 39, 45, 55, 51, 58, 41, 37, 61, 43, 53, 48, 32, 64, 57, 59, 58, 74, 77, 71, 80], \"type\": \"scatter\"}, {\"x\": [\"2013\", \"2012\", \"2011\", \"2010\", \"2009\", \"2008\", \"2007\", \"2006\", \"2005\", \"2004\", \"2003\", \"2002\", \"2001\", \"2000\", \"1999\", \"1998\", \"1997\", \"1996\", \"1995\", \"1994\", \"1993\", \"1992\", \"1991\", \"1990\", \"1989\"], \"y\": [37, 49, 45, 50, 31, 75, 58, 45, 55, 35, 53, 55, 50, 51, 49, 69, 60, 72, 61, 41, 44, 54, 67, 68, 61], \"type\": \"scatter\"}, {\"x\": [\"2013\", \"2012\", \"2011\", \"2010\", \"2009\", \"2008\", \"2007\", \"2006\", \"2005\", \"2004\", \"2003\", \"2002\", \"2001\", \"2000\", \"1999\", \"1998\", \"1997\", \"1996\", \"1995\", \"1994\", \"1993\", \"1992\", \"1991\", \"1990\", \"1989\"], \"y\": [98, 94, 103, 118, 119, 99, 124, 117, 148, 139, 157, 154, 153, 166, 151, 168, 148, 181, 181, 159, 217, 165, 184, 226, 221], \"type\": \"scatter\"}, {\"x\": [\"2013\", \"2012\", \"2011\", \"2010\", \"2009\", \"2008\", \"2007\", \"2006\", \"2005\", \"2004\", \"2003\", \"2002\", \"2001\", \"2000\", \"1999\", \"1998\", \"1997\", \"1996\", \"1995\", \"1994\", \"1993\", \"1992\", \"1991\", \"1990\", \"1989\"], \"y\": [161, 183, 179, 193, 191, 204, 235, 200, 163, 178, 180, 179, 165, 212, 218, 223, 197, 247, 209, 211, 209, 200, 207, 196, 242], \"type\": \"scatter\"}, {\"x\": [\"2013\", \"2012\", \"2011\", \"2010\", \"2009\", \"2008\", \"2007\", \"2006\", \"2005\", \"2004\", \"2003\", \"2002\", \"2001\", \"2000\", \"1999\", \"1998\", \"1997\", \"1996\", \"1995\", \"1994\", \"1993\", \"1992\", \"1991\", \"1990\", \"1989\"], \"y\": [271, 280, 269, 249, 331, 328, 360, 335, 330, 311, 309, 322, 324, 317, 314, 279, 360, 385, 456, 417, 396, 416, 395, 399, 428], \"type\": \"scatter\"}, {\"x\": [\"2013\", \"2012\", \"2011\", \"2010\", \"2009\", \"2008\", \"2007\", \"2006\", \"2005\", \"2004\", \"2003\", \"2002\", \"2001\", \"2000\", \"1999\", \"1998\", \"1997\", \"1996\", \"1995\", \"1994\", \"1993\", \"1992\", \"1991\", \"1990\", \"1989\"], \"y\": [243, 282, 287, 288, 290, 303, 331, 337, 346, 343, 330, 397, 444, 407, 383, 390, 377, 417, 417, 377, 435, 396, 503, 548, 776], \"type\": \"scatter\"}, {\"x\": [\"2013\", \"2012\", \"2011\", \"2010\", \"2009\", \"2008\", \"2007\", \"2006\", \"2005\", \"2004\", \"2003\", \"2002\", \"2001\", \"2000\", \"1999\", \"1998\", \"1997\", \"1996\", \"1995\", \"1994\", \"1993\", \"1992\", \"1991\", \"1990\", \"1989\"], \"y\": [333, 368, 363, 404, 453, 374, 435, 495, 507, 509, 539, 560, 523, 602, 576, 555, 576, 580, 620, 646, 581, 648, 662, 796, 959], \"type\": \"scatter\"}], \"traces\": [0, 1, 2, 3, 4, 5, 6, 7]}, {\"data\": [{\"x\": [\"2014\", \"2013\", \"2012\", \"2011\", \"2010\", \"2009\", \"2008\", \"2007\", \"2006\", \"2005\", \"2004\", \"2003\", \"2002\", \"2001\", \"2000\", \"1999\", \"1998\", \"1997\", \"1996\", \"1995\", \"1994\", \"1993\", \"1992\", \"1991\", \"1990\", \"1989\"], \"y\": [10, 7, 12, 6, 19, 12, 14, 14, 13, 26, 9, 11, 10, 16, 18, 19, 22, 16, 23, 15, 17, 12, 20, 17, 26, 32], \"type\": \"scatter\"}, {\"x\": [\"2014\", \"2013\", \"2012\", \"2011\", \"2010\", \"2009\", \"2008\", \"2007\", \"2006\", \"2005\", \"2004\", \"2003\", \"2002\", \"2001\", \"2000\", \"1999\", \"1998\", \"1997\", \"1996\", \"1995\", \"1994\", \"1993\", \"1992\", \"1991\", \"1990\", \"1989\"], \"y\": [33, 36, 31, 24, 31, 63, 39, 45, 55, 51, 58, 41, 37, 61, 43, 53, 48, 32, 64, 57, 59, 58, 74, 77, 71, 80], \"type\": \"scatter\"}, {\"x\": [\"2014\", \"2013\", \"2012\", \"2011\", \"2010\", \"2009\", \"2008\", \"2007\", \"2006\", \"2005\", \"2004\", \"2003\", \"2002\", \"2001\", \"2000\", \"1999\", \"1998\", \"1997\", \"1996\", \"1995\", \"1994\", \"1993\", \"1992\", \"1991\", \"1990\", \"1989\"], \"y\": [39, 37, 49, 45, 50, 31, 75, 58, 45, 55, 35, 53, 55, 50, 51, 49, 69, 60, 72, 61, 41, 44, 54, 67, 68, 61], \"type\": \"scatter\"}, {\"x\": [\"2014\", \"2013\", \"2012\", \"2011\", \"2010\", \"2009\", \"2008\", \"2007\", \"2006\", \"2005\", \"2004\", \"2003\", \"2002\", \"2001\", \"2000\", \"1999\", \"1998\", \"1997\", \"1996\", \"1995\", \"1994\", \"1993\", \"1992\", \"1991\", \"1990\", \"1989\"], \"y\": [108, 98, 94, 103, 118, 119, 99, 124, 117, 148, 139, 157, 154, 153, 166, 151, 168, 148, 181, 181, 159, 217, 165, 184, 226, 221], \"type\": \"scatter\"}, {\"x\": [\"2014\", \"2013\", \"2012\", \"2011\", \"2010\", \"2009\", \"2008\", \"2007\", \"2006\", \"2005\", \"2004\", \"2003\", \"2002\", \"2001\", \"2000\", \"1999\", \"1998\", \"1997\", \"1996\", \"1995\", \"1994\", \"1993\", \"1992\", \"1991\", \"1990\", \"1989\"], \"y\": [183, 161, 183, 179, 193, 191, 204, 235, 200, 163, 178, 180, 179, 165, 212, 218, 223, 197, 247, 209, 211, 209, 200, 207, 196, 242], \"type\": \"scatter\"}, {\"x\": [\"2014\", \"2013\", \"2012\", \"2011\", \"2010\", \"2009\", \"2008\", \"2007\", \"2006\", \"2005\", \"2004\", \"2003\", \"2002\", \"2001\", \"2000\", \"1999\", \"1998\", \"1997\", \"1996\", \"1995\", \"1994\", \"1993\", \"1992\", \"1991\", \"1990\", \"1989\"], \"y\": [223, 271, 280, 269, 249, 331, 328, 360, 335, 330, 311, 309, 322, 324, 317, 314, 279, 360, 385, 456, 417, 396, 416, 395, 399, 428], \"type\": \"scatter\"}, {\"x\": [\"2014\", \"2013\", \"2012\", \"2011\", \"2010\", \"2009\", \"2008\", \"2007\", \"2006\", \"2005\", \"2004\", \"2003\", \"2002\", \"2001\", \"2000\", \"1999\", \"1998\", \"1997\", \"1996\", \"1995\", \"1994\", \"1993\", \"1992\", \"1991\", \"1990\", \"1989\"], \"y\": [248, 243, 282, 287, 288, 290, 303, 331, 337, 346, 343, 330, 397, 444, 407, 383, 390, 377, 417, 417, 377, 435, 396, 503, 548, 776], \"type\": \"scatter\"}, {\"x\": [\"2014\", \"2013\", \"2012\", \"2011\", \"2010\", \"2009\", \"2008\", \"2007\", \"2006\", \"2005\", \"2004\", \"2003\", \"2002\", \"2001\", \"2000\", \"1999\", \"1998\", \"1997\", \"1996\", \"1995\", \"1994\", \"1993\", \"1992\", \"1991\", \"1990\", \"1989\"], \"y\": [306, 333, 368, 363, 404, 453, 374, 435, 495, 507, 509, 539, 560, 523, 602, 576, 555, 576, 580, 620, 646, 581, 648, 662, 796, 959], \"type\": \"scatter\"}], \"traces\": [0, 1, 2, 3, 4, 5, 6, 7]}, {\"data\": [{\"x\": [\"2015\", \"2014\", \"2013\", \"2012\", \"2011\", \"2010\", \"2009\", \"2008\", \"2007\", \"2006\", \"2005\", \"2004\", \"2003\", \"2002\", \"2001\", \"2000\", \"1999\", \"1998\", \"1997\", \"1996\", \"1995\", \"1994\", \"1993\", \"1992\", \"1991\", \"1990\", \"1989\"], \"y\": [15, 10, 7, 12, 6, 19, 12, 14, 14, 13, 26, 9, 11, 10, 16, 18, 19, 22, 16, 23, 15, 17, 12, 20, 17, 26, 32], \"type\": \"scatter\"}, {\"x\": [\"2015\", \"2014\", \"2013\", \"2012\", \"2011\", \"2010\", \"2009\", \"2008\", \"2007\", \"2006\", \"2005\", \"2004\", \"2003\", \"2002\", \"2001\", \"2000\", \"1999\", \"1998\", \"1997\", \"1996\", \"1995\", \"1994\", \"1993\", \"1992\", \"1991\", \"1990\", \"1989\"], \"y\": [34, 33, 36, 31, 24, 31, 63, 39, 45, 55, 51, 58, 41, 37, 61, 43, 53, 48, 32, 64, 57, 59, 58, 74, 77, 71, 80], \"type\": \"scatter\"}, {\"x\": [\"2015\", \"2014\", \"2013\", \"2012\", \"2011\", \"2010\", \"2009\", \"2008\", \"2007\", \"2006\", \"2005\", \"2004\", \"2003\", \"2002\", \"2001\", \"2000\", \"1999\", \"1998\", \"1997\", \"1996\", \"1995\", \"1994\", \"1993\", \"1992\", \"1991\", \"1990\", \"1989\"], \"y\": [48, 39, 37, 49, 45, 50, 31, 75, 58, 45, 55, 35, 53, 55, 50, 51, 49, 69, 60, 72, 61, 41, 44, 54, 67, 68, 61], \"type\": \"scatter\"}, {\"x\": [\"2015\", \"2014\", \"2013\", \"2012\", \"2011\", \"2010\", \"2009\", \"2008\", \"2007\", \"2006\", \"2005\", \"2004\", \"2003\", \"2002\", \"2001\", \"2000\", \"1999\", \"1998\", \"1997\", \"1996\", \"1995\", \"1994\", \"1993\", \"1992\", \"1991\", \"1990\", \"1989\"], \"y\": [102, 108, 98, 94, 103, 118, 119, 99, 124, 117, 148, 139, 157, 154, 153, 166, 151, 168, 148, 181, 181, 159, 217, 165, 184, 226, 221], \"type\": \"scatter\"}, {\"x\": [\"2015\", \"2014\", \"2013\", \"2012\", \"2011\", \"2010\", \"2009\", \"2008\", \"2007\", \"2006\", \"2005\", \"2004\", \"2003\", \"2002\", \"2001\", \"2000\", \"1999\", \"1998\", \"1997\", \"1996\", \"1995\", \"1994\", \"1993\", \"1992\", \"1991\", \"1990\", \"1989\"], \"y\": [159, 183, 161, 183, 179, 193, 191, 204, 235, 200, 163, 178, 180, 179, 165, 212, 218, 223, 197, 247, 209, 211, 209, 200, 207, 196, 242], \"type\": \"scatter\"}, {\"x\": [\"2015\", \"2014\", \"2013\", \"2012\", \"2011\", \"2010\", \"2009\", \"2008\", \"2007\", \"2006\", \"2005\", \"2004\", \"2003\", \"2002\", \"2001\", \"2000\", \"1999\", \"1998\", \"1997\", \"1996\", \"1995\", \"1994\", \"1993\", \"1992\", \"1991\", \"1990\", \"1989\"], \"y\": [243, 223, 271, 280, 269, 249, 331, 328, 360, 335, 330, 311, 309, 322, 324, 317, 314, 279, 360, 385, 456, 417, 396, 416, 395, 399, 428], \"type\": \"scatter\"}, {\"x\": [\"2015\", \"2014\", \"2013\", \"2012\", \"2011\", \"2010\", \"2009\", \"2008\", \"2007\", \"2006\", \"2005\", \"2004\", \"2003\", \"2002\", \"2001\", \"2000\", \"1999\", \"1998\", \"1997\", \"1996\", \"1995\", \"1994\", \"1993\", \"1992\", \"1991\", \"1990\", \"1989\"], \"y\": [252, 248, 243, 282, 287, 288, 290, 303, 331, 337, 346, 343, 330, 397, 444, 407, 383, 390, 377, 417, 417, 377, 435, 396, 503, 548, 776], \"type\": \"scatter\"}, {\"x\": [\"2015\", \"2014\", \"2013\", \"2012\", \"2011\", \"2010\", \"2009\", \"2008\", \"2007\", \"2006\", \"2005\", \"2004\", \"2003\", \"2002\", \"2001\", \"2000\", \"1999\", \"1998\", \"1997\", \"1996\", \"1995\", \"1994\", \"1993\", \"1992\", \"1991\", \"1990\", \"1989\"], \"y\": [350, 306, 333, 368, 363, 404, 453, 374, 435, 495, 507, 509, 539, 560, 523, 602, 576, 555, 576, 580, 620, 646, 581, 648, 662, 796, 959], \"type\": \"scatter\"}], \"traces\": [0, 1, 2, 3, 4, 5, 6, 7]}, {\"data\": [{\"x\": [\"2016\", \"2015\", \"2014\", \"2013\", \"2012\", \"2011\", \"2010\", \"2009\", \"2008\", \"2007\", \"2006\", \"2005\", \"2004\", \"2003\", \"2002\", \"2001\", \"2000\", \"1999\", \"1998\", \"1997\", \"1996\", \"1995\", \"1994\", \"1993\", \"1992\", \"1991\", \"1990\", \"1989\"], \"y\": [10, 15, 10, 7, 12, 6, 19, 12, 14, 14, 13, 26, 9, 11, 10, 16, 18, 19, 22, 16, 23, 15, 17, 12, 20, 17, 26, 32], \"type\": \"scatter\"}, {\"x\": [\"2016\", \"2015\", \"2014\", \"2013\", \"2012\", \"2011\", \"2010\", \"2009\", \"2008\", \"2007\", \"2006\", \"2005\", \"2004\", \"2003\", \"2002\", \"2001\", \"2000\", \"1999\", \"1998\", \"1997\", \"1996\", \"1995\", \"1994\", \"1993\", \"1992\", \"1991\", \"1990\", \"1989\"], \"y\": [37, 34, 33, 36, 31, 24, 31, 63, 39, 45, 55, 51, 58, 41, 37, 61, 43, 53, 48, 32, 64, 57, 59, 58, 74, 77, 71, 80], \"type\": \"scatter\"}, {\"x\": [\"2016\", \"2015\", \"2014\", \"2013\", \"2012\", \"2011\", \"2010\", \"2009\", \"2008\", \"2007\", \"2006\", \"2005\", \"2004\", \"2003\", \"2002\", \"2001\", \"2000\", \"1999\", \"1998\", \"1997\", \"1996\", \"1995\", \"1994\", \"1993\", \"1992\", \"1991\", \"1990\", \"1989\"], \"y\": [44, 48, 39, 37, 49, 45, 50, 31, 75, 58, 45, 55, 35, 53, 55, 50, 51, 49, 69, 60, 72, 61, 41, 44, 54, 67, 68, 61], \"type\": \"scatter\"}, {\"x\": [\"2016\", \"2015\", \"2014\", \"2013\", \"2012\", \"2011\", \"2010\", \"2009\", \"2008\", \"2007\", \"2006\", \"2005\", \"2004\", \"2003\", \"2002\", \"2001\", \"2000\", \"1999\", \"1998\", \"1997\", \"1996\", \"1995\", \"1994\", \"1993\", \"1992\", \"1991\", \"1990\", \"1989\"], \"y\": [86, 102, 108, 98, 94, 103, 118, 119, 99, 124, 117, 148, 139, 157, 154, 153, 166, 151, 168, 148, 181, 181, 159, 217, 165, 184, 226, 221], \"type\": \"scatter\"}, {\"x\": [\"2016\", \"2015\", \"2014\", \"2013\", \"2012\", \"2011\", \"2010\", \"2009\", \"2008\", \"2007\", \"2006\", \"2005\", \"2004\", \"2003\", \"2002\", \"2001\", \"2000\", \"1999\", \"1998\", \"1997\", \"1996\", \"1995\", \"1994\", \"1993\", \"1992\", \"1991\", \"1990\", \"1989\"], \"y\": [193, 159, 183, 161, 183, 179, 193, 191, 204, 235, 200, 163, 178, 180, 179, 165, 212, 218, 223, 197, 247, 209, 211, 209, 200, 207, 196, 242], \"type\": \"scatter\"}, {\"x\": [\"2016\", \"2015\", \"2014\", \"2013\", \"2012\", \"2011\", \"2010\", \"2009\", \"2008\", \"2007\", \"2006\", \"2005\", \"2004\", \"2003\", \"2002\", \"2001\", \"2000\", \"1999\", \"1998\", \"1997\", \"1996\", \"1995\", \"1994\", \"1993\", \"1992\", \"1991\", \"1990\", \"1989\"], \"y\": [251, 243, 223, 271, 280, 269, 249, 331, 328, 360, 335, 330, 311, 309, 322, 324, 317, 314, 279, 360, 385, 456, 417, 396, 416, 395, 399, 428], \"type\": \"scatter\"}, {\"x\": [\"2016\", \"2015\", \"2014\", \"2013\", \"2012\", \"2011\", \"2010\", \"2009\", \"2008\", \"2007\", \"2006\", \"2005\", \"2004\", \"2003\", \"2002\", \"2001\", \"2000\", \"1999\", \"1998\", \"1997\", \"1996\", \"1995\", \"1994\", \"1993\", \"1992\", \"1991\", \"1990\", \"1989\"], \"y\": [290, 252, 248, 243, 282, 287, 288, 290, 303, 331, 337, 346, 343, 330, 397, 444, 407, 383, 390, 377, 417, 417, 377, 435, 396, 503, 548, 776], \"type\": \"scatter\"}, {\"x\": [\"2016\", \"2015\", \"2014\", \"2013\", \"2012\", \"2011\", \"2010\", \"2009\", \"2008\", \"2007\", \"2006\", \"2005\", \"2004\", \"2003\", \"2002\", \"2001\", \"2000\", \"1999\", \"1998\", \"1997\", \"1996\", \"1995\", \"1994\", \"1993\", \"1992\", \"1991\", \"1990\", \"1989\"], \"y\": [380, 350, 306, 333, 368, 363, 404, 453, 374, 435, 495, 507, 509, 539, 560, 523, 602, 576, 555, 576, 580, 620, 646, 581, 648, 662, 796, 959], \"type\": \"scatter\"}], \"traces\": [0, 1, 2, 3, 4, 5, 6, 7]}, {\"data\": [{\"x\": [\"2017\", \"2016\", \"2015\", \"2014\", \"2013\", \"2012\", \"2011\", \"2010\", \"2009\", \"2008\", \"2007\", \"2006\", \"2005\", \"2004\", \"2003\", \"2002\", \"2001\", \"2000\", \"1999\", \"1998\", \"1997\", \"1996\", \"1995\", \"1994\", \"1993\", \"1992\", \"1991\", \"1990\", \"1989\"], \"y\": [5, 10, 15, 10, 7, 12, 6, 19, 12, 14, 14, 13, 26, 9, 11, 10, 16, 18, 19, 22, 16, 23, 15, 17, 12, 20, 17, 26, 32], \"type\": \"scatter\"}, {\"x\": [\"2017\", \"2016\", \"2015\", \"2014\", \"2013\", \"2012\", \"2011\", \"2010\", \"2009\", \"2008\", \"2007\", \"2006\", \"2005\", \"2004\", \"2003\", \"2002\", \"2001\", \"2000\", \"1999\", \"1998\", \"1997\", \"1996\", \"1995\", \"1994\", \"1993\", \"1992\", \"1991\", \"1990\", \"1989\"], \"y\": [32, 37, 34, 33, 36, 31, 24, 31, 63, 39, 45, 55, 51, 58, 41, 37, 61, 43, 53, 48, 32, 64, 57, 59, 58, 74, 77, 71, 80], \"type\": \"scatter\"}, {\"x\": [\"2017\", \"2016\", \"2015\", \"2014\", \"2013\", \"2012\", \"2011\", \"2010\", \"2009\", \"2008\", \"2007\", \"2006\", \"2005\", \"2004\", \"2003\", \"2002\", \"2001\", \"2000\", \"1999\", \"1998\", \"1997\", \"1996\", \"1995\", \"1994\", \"1993\", \"1992\", \"1991\", \"1990\", \"1989\"], \"y\": [31, 44, 48, 39, 37, 49, 45, 50, 31, 75, 58, 45, 55, 35, 53, 55, 50, 51, 49, 69, 60, 72, 61, 41, 44, 54, 67, 68, 61], \"type\": \"scatter\"}, {\"x\": [\"2017\", \"2016\", \"2015\", \"2014\", \"2013\", \"2012\", \"2011\", \"2010\", \"2009\", \"2008\", \"2007\", \"2006\", \"2005\", \"2004\", \"2003\", \"2002\", \"2001\", \"2000\", \"1999\", \"1998\", \"1997\", \"1996\", \"1995\", \"1994\", \"1993\", \"1992\", \"1991\", \"1990\", \"1989\"], \"y\": [100, 86, 102, 108, 98, 94, 103, 118, 119, 99, 124, 117, 148, 139, 157, 154, 153, 166, 151, 168, 148, 181, 181, 159, 217, 165, 184, 226, 221], \"type\": \"scatter\"}, {\"x\": [\"2017\", \"2016\", \"2015\", \"2014\", \"2013\", \"2012\", \"2011\", \"2010\", \"2009\", \"2008\", \"2007\", \"2006\", \"2005\", \"2004\", \"2003\", \"2002\", \"2001\", \"2000\", \"1999\", \"1998\", \"1997\", \"1996\", \"1995\", \"1994\", \"1993\", \"1992\", \"1991\", \"1990\", \"1989\"], \"y\": [158, 193, 159, 183, 161, 183, 179, 193, 191, 204, 235, 200, 163, 178, 180, 179, 165, 212, 218, 223, 197, 247, 209, 211, 209, 200, 207, 196, 242], \"type\": \"scatter\"}, {\"x\": [\"2017\", \"2016\", \"2015\", \"2014\", \"2013\", \"2012\", \"2011\", \"2010\", \"2009\", \"2008\", \"2007\", \"2006\", \"2005\", \"2004\", \"2003\", \"2002\", \"2001\", \"2000\", \"1999\", \"1998\", \"1997\", \"1996\", \"1995\", \"1994\", \"1993\", \"1992\", \"1991\", \"1990\", \"1989\"], \"y\": [247, 251, 243, 223, 271, 280, 269, 249, 331, 328, 360, 335, 330, 311, 309, 322, 324, 317, 314, 279, 360, 385, 456, 417, 396, 416, 395, 399, 428], \"type\": \"scatter\"}, {\"x\": [\"2017\", \"2016\", \"2015\", \"2014\", \"2013\", \"2012\", \"2011\", \"2010\", \"2009\", \"2008\", \"2007\", \"2006\", \"2005\", \"2004\", \"2003\", \"2002\", \"2001\", \"2000\", \"1999\", \"1998\", \"1997\", \"1996\", \"1995\", \"1994\", \"1993\", \"1992\", \"1991\", \"1990\", \"1989\"], \"y\": [259, 290, 252, 248, 243, 282, 287, 288, 290, 303, 331, 337, 346, 343, 330, 397, 444, 407, 383, 390, 377, 417, 417, 377, 435, 396, 503, 548, 776], \"type\": \"scatter\"}, {\"x\": [\"2017\", \"2016\", \"2015\", \"2014\", \"2013\", \"2012\", \"2011\", \"2010\", \"2009\", \"2008\", \"2007\", \"2006\", \"2005\", \"2004\", \"2003\", \"2002\", \"2001\", \"2000\", \"1999\", \"1998\", \"1997\", \"1996\", \"1995\", \"1994\", \"1993\", \"1992\", \"1991\", \"1990\", \"1989\"], \"y\": [389, 380, 350, 306, 333, 368, 363, 404, 453, 374, 435, 495, 507, 509, 539, 560, 523, 602, 576, 555, 576, 580, 620, 646, 581, 648, 662, 796, 959], \"type\": \"scatter\"}], \"traces\": [0, 1, 2, 3, 4, 5, 6, 7]}, {\"data\": [{\"x\": [\"2018\", \"2017\", \"2016\", \"2015\", \"2014\", \"2013\", \"2012\", \"2011\", \"2010\", \"2009\", \"2008\", \"2007\", \"2006\", \"2005\", \"2004\", \"2003\", \"2002\", \"2001\", \"2000\", \"1999\", \"1998\", \"1997\", \"1996\", \"1995\", \"1994\", \"1993\", \"1992\", \"1991\", \"1990\", \"1989\"], \"y\": [9, 5, 10, 15, 10, 7, 12, 6, 19, 12, 14, 14, 13, 26, 9, 11, 10, 16, 18, 19, 22, 16, 23, 15, 17, 12, 20, 17, 26, 32], \"type\": \"scatter\"}, {\"x\": [\"2018\", \"2017\", \"2016\", \"2015\", \"2014\", \"2013\", \"2012\", \"2011\", \"2010\", \"2009\", \"2008\", \"2007\", \"2006\", \"2005\", \"2004\", \"2003\", \"2002\", \"2001\", \"2000\", \"1999\", \"1998\", \"1997\", \"1996\", \"1995\", \"1994\", \"1993\", \"1992\", \"1991\", \"1990\", \"1989\"], \"y\": [32, 32, 37, 34, 33, 36, 31, 24, 31, 63, 39, 45, 55, 51, 58, 41, 37, 61, 43, 53, 48, 32, 64, 57, 59, 58, 74, 77, 71, 80], \"type\": \"scatter\"}, {\"x\": [\"2018\", \"2017\", \"2016\", \"2015\", \"2014\", \"2013\", \"2012\", \"2011\", \"2010\", \"2009\", \"2008\", \"2007\", \"2006\", \"2005\", \"2004\", \"2003\", \"2002\", \"2001\", \"2000\", \"1999\", \"1998\", \"1997\", \"1996\", \"1995\", \"1994\", \"1993\", \"1992\", \"1991\", \"1990\", \"1989\"], \"y\": [50, 31, 44, 48, 39, 37, 49, 45, 50, 31, 75, 58, 45, 55, 35, 53, 55, 50, 51, 49, 69, 60, 72, 61, 41, 44, 54, 67, 68, 61], \"type\": \"scatter\"}, {\"x\": [\"2018\", \"2017\", \"2016\", \"2015\", \"2014\", \"2013\", \"2012\", \"2011\", \"2010\", \"2009\", \"2008\", \"2007\", \"2006\", \"2005\", \"2004\", \"2003\", \"2002\", \"2001\", \"2000\", \"1999\", \"1998\", \"1997\", \"1996\", \"1995\", \"1994\", \"1993\", \"1992\", \"1991\", \"1990\", \"1989\"], \"y\": [80, 100, 86, 102, 108, 98, 94, 103, 118, 119, 99, 124, 117, 148, 139, 157, 154, 153, 166, 151, 168, 148, 181, 181, 159, 217, 165, 184, 226, 221], \"type\": \"scatter\"}, {\"x\": [\"2018\", \"2017\", \"2016\", \"2015\", \"2014\", \"2013\", \"2012\", \"2011\", \"2010\", \"2009\", \"2008\", \"2007\", \"2006\", \"2005\", \"2004\", \"2003\", \"2002\", \"2001\", \"2000\", \"1999\", \"1998\", \"1997\", \"1996\", \"1995\", \"1994\", \"1993\", \"1992\", \"1991\", \"1990\", \"1989\"], \"y\": [158, 158, 193, 159, 183, 161, 183, 179, 193, 191, 204, 235, 200, 163, 178, 180, 179, 165, 212, 218, 223, 197, 247, 209, 211, 209, 200, 207, 196, 242], \"type\": \"scatter\"}, {\"x\": [\"2018\", \"2017\", \"2016\", \"2015\", \"2014\", \"2013\", \"2012\", \"2011\", \"2010\", \"2009\", \"2008\", \"2007\", \"2006\", \"2005\", \"2004\", \"2003\", \"2002\", \"2001\", \"2000\", \"1999\", \"1998\", \"1997\", \"1996\", \"1995\", \"1994\", \"1993\", \"1992\", \"1991\", \"1990\", \"1989\"], \"y\": [245, 247, 251, 243, 223, 271, 280, 269, 249, 331, 328, 360, 335, 330, 311, 309, 322, 324, 317, 314, 279, 360, 385, 456, 417, 396, 416, 395, 399, 428], \"type\": \"scatter\"}, {\"x\": [\"2018\", \"2017\", \"2016\", \"2015\", \"2014\", \"2013\", \"2012\", \"2011\", \"2010\", \"2009\", \"2008\", \"2007\", \"2006\", \"2005\", \"2004\", \"2003\", \"2002\", \"2001\", \"2000\", \"1999\", \"1998\", \"1997\", \"1996\", \"1995\", \"1994\", \"1993\", \"1992\", \"1991\", \"1990\", \"1989\"], \"y\": [213, 259, 290, 252, 248, 243, 282, 287, 288, 290, 303, 331, 337, 346, 343, 330, 397, 444, 407, 383, 390, 377, 417, 417, 377, 435, 396, 503, 548, 776], \"type\": \"scatter\"}, {\"x\": [\"2018\", \"2017\", \"2016\", \"2015\", \"2014\", \"2013\", \"2012\", \"2011\", \"2010\", \"2009\", \"2008\", \"2007\", \"2006\", \"2005\", \"2004\", \"2003\", \"2002\", \"2001\", \"2000\", \"1999\", \"1998\", \"1997\", \"1996\", \"1995\", \"1994\", \"1993\", \"1992\", \"1991\", \"1990\", \"1989\"], \"y\": [346, 389, 380, 350, 306, 333, 368, 363, 404, 453, 374, 435, 495, 507, 509, 539, 560, 523, 602, 576, 555, 576, 580, 620, 646, 581, 648, 662, 796, 959], \"type\": \"scatter\"}], \"traces\": [0, 1, 2, 3, 4, 5, 6, 7]}, {\"data\": [{\"x\": [\"2019\", \"2018\", \"2017\", \"2016\", \"2015\", \"2014\", \"2013\", \"2012\", \"2011\", \"2010\", \"2009\", \"2008\", \"2007\", \"2006\", \"2005\", \"2004\", \"2003\", \"2002\", \"2001\", \"2000\", \"1999\", \"1998\", \"1997\", \"1996\", \"1995\", \"1994\", \"1993\", \"1992\", \"1991\", \"1990\", \"1989\"], \"y\": [6, 9, 5, 10, 15, 10, 7, 12, 6, 19, 12, 14, 14, 13, 26, 9, 11, 10, 16, 18, 19, 22, 16, 23, 15, 17, 12, 20, 17, 26, 32], \"type\": \"scatter\"}, {\"x\": [\"2019\", \"2018\", \"2017\", \"2016\", \"2015\", \"2014\", \"2013\", \"2012\", \"2011\", \"2010\", \"2009\", \"2008\", \"2007\", \"2006\", \"2005\", \"2004\", \"2003\", \"2002\", \"2001\", \"2000\", \"1999\", \"1998\", \"1997\", \"1996\", \"1995\", \"1994\", \"1993\", \"1992\", \"1991\", \"1990\", \"1989\"], \"y\": [29, 32, 32, 37, 34, 33, 36, 31, 24, 31, 63, 39, 45, 55, 51, 58, 41, 37, 61, 43, 53, 48, 32, 64, 57, 59, 58, 74, 77, 71, 80], \"type\": \"scatter\"}, {\"x\": [\"2019\", \"2018\", \"2017\", \"2016\", \"2015\", \"2014\", \"2013\", \"2012\", \"2011\", \"2010\", \"2009\", \"2008\", \"2007\", \"2006\", \"2005\", \"2004\", \"2003\", \"2002\", \"2001\", \"2000\", \"1999\", \"1998\", \"1997\", \"1996\", \"1995\", \"1994\", \"1993\", \"1992\", \"1991\", \"1990\", \"1989\"], \"y\": [36, 50, 31, 44, 48, 39, 37, 49, 45, 50, 31, 75, 58, 45, 55, 35, 53, 55, 50, 51, 49, 69, 60, 72, 61, 41, 44, 54, 67, 68, 61], \"type\": \"scatter\"}, {\"x\": [\"2019\", \"2018\", \"2017\", \"2016\", \"2015\", \"2014\", \"2013\", \"2012\", \"2011\", \"2010\", \"2009\", \"2008\", \"2007\", \"2006\", \"2005\", \"2004\", \"2003\", \"2002\", \"2001\", \"2000\", \"1999\", \"1998\", \"1997\", \"1996\", \"1995\", \"1994\", \"1993\", \"1992\", \"1991\", \"1990\", \"1989\"], \"y\": [114, 80, 100, 86, 102, 108, 98, 94, 103, 118, 119, 99, 124, 117, 148, 139, 157, 154, 153, 166, 151, 168, 148, 181, 181, 159, 217, 165, 184, 226, 221], \"type\": \"scatter\"}, {\"x\": [\"2019\", \"2018\", \"2017\", \"2016\", \"2015\", \"2014\", \"2013\", \"2012\", \"2011\", \"2010\", \"2009\", \"2008\", \"2007\", \"2006\", \"2005\", \"2004\", \"2003\", \"2002\", \"2001\", \"2000\", \"1999\", \"1998\", \"1997\", \"1996\", \"1995\", \"1994\", \"1993\", \"1992\", \"1991\", \"1990\", \"1989\"], \"y\": [163, 158, 158, 193, 159, 183, 161, 183, 179, 193, 191, 204, 235, 200, 163, 178, 180, 179, 165, 212, 218, 223, 197, 247, 209, 211, 209, 200, 207, 196, 242], \"type\": \"scatter\"}, {\"x\": [\"2019\", \"2018\", \"2017\", \"2016\", \"2015\", \"2014\", \"2013\", \"2012\", \"2011\", \"2010\", \"2009\", \"2008\", \"2007\", \"2006\", \"2005\", \"2004\", \"2003\", \"2002\", \"2001\", \"2000\", \"1999\", \"1998\", \"1997\", \"1996\", \"1995\", \"1994\", \"1993\", \"1992\", \"1991\", \"1990\", \"1989\"], \"y\": [219, 245, 247, 251, 243, 223, 271, 280, 269, 249, 331, 328, 360, 335, 330, 311, 309, 322, 324, 317, 314, 279, 360, 385, 456, 417, 396, 416, 395, 399, 428], \"type\": \"scatter\"}, {\"x\": [\"2019\", \"2018\", \"2017\", \"2016\", \"2015\", \"2014\", \"2013\", \"2012\", \"2011\", \"2010\", \"2009\", \"2008\", \"2007\", \"2006\", \"2005\", \"2004\", \"2003\", \"2002\", \"2001\", \"2000\", \"1999\", \"1998\", \"1997\", \"1996\", \"1995\", \"1994\", \"1993\", \"1992\", \"1991\", \"1990\", \"1989\"], \"y\": [269, 213, 259, 290, 252, 248, 243, 282, 287, 288, 290, 303, 331, 337, 346, 343, 330, 397, 444, 407, 383, 390, 377, 417, 417, 377, 435, 396, 503, 548, 776], \"type\": \"scatter\"}, {\"x\": [\"2019\", \"2018\", \"2017\", \"2016\", \"2015\", \"2014\", \"2013\", \"2012\", \"2011\", \"2010\", \"2009\", \"2008\", \"2007\", \"2006\", \"2005\", \"2004\", \"2003\", \"2002\", \"2001\", \"2000\", \"1999\", \"1998\", \"1997\", \"1996\", \"1995\", \"1994\", \"1993\", \"1992\", \"1991\", \"1990\", \"1989\"], \"y\": [357, 346, 389, 380, 350, 306, 333, 368, 363, 404, 453, 374, 435, 495, 507, 509, 539, 560, 523, 602, 576, 555, 576, 580, 620, 646, 581, 648, 662, 796, 959], \"type\": \"scatter\"}], \"traces\": [0, 1, 2, 3, 4, 5, 6, 7]}]);\n",
       "                        }).then(function(){\n",
       "                            \n",
       "var gd = document.getElementById('b04fa5d7-d25c-4e29-9a81-db3ab1030342');\n",
       "var x = new MutationObserver(function (mutations, observer) {{\n",
       "        var display = window.getComputedStyle(gd).display;\n",
       "        if (!display || display === 'none') {{\n",
       "            console.log([gd, 'removed!']);\n",
       "            Plotly.purge(gd);\n",
       "            observer.disconnect();\n",
       "        }}\n",
       "}});\n",
       "\n",
       "// Listen for the removal of the full notebook cells\n",
       "var notebookContainer = gd.closest('#notebook-container');\n",
       "if (notebookContainer) {{\n",
       "    x.observe(notebookContainer, {childList: true});\n",
       "}}\n",
       "\n",
       "// Listen for the clearing of the current output cell\n",
       "var outputEl = gd.closest('.output');\n",
       "if (outputEl) {{\n",
       "    x.observe(outputEl, {childList: true});\n",
       "}}\n",
       "\n",
       "                        })\n",
       "                };\n",
       "                });\n",
       "            </script>\n",
       "        </div>"
      ]
     },
     "metadata": {},
     "output_type": "display_data"
    }
   ],
   "source": [
    "import plotly.express as px\n",
    "import pandas as pd\n",
    "import plotly.graph_objects as go # https://plotly.com/python/legend/\n",
    "# import collections\n",
    "\n",
    "# ======================animated line chart======================\n",
    "# create a list with all states name\n",
    "states_total = {}\n",
    "for states in data[\"State\"]:\n",
    "    if states not in states_total:\n",
    "        states_total[states] = 1\n",
    "    else:\n",
    "        states_total[states] += 1\n",
    "states_list = sorted(states_total.keys(), key=lambda k: states_total[k])\n",
    "\n",
    "\n",
    "# from the cvsdata reanage\n",
    "def get_cvsdata(name_list, cvs_data):\n",
    "    traceCVS_list = []\n",
    "    for states in name_list:\n",
    "        traceCVS_list.append(cvs_data[cvs_data['state'].isin([states])])\n",
    "    return  traceCVS_list\n",
    "traceCVS_list = get_cvsdata(states_list, cvs_data)\n",
    "\n",
    "\n",
    "def get_traceScatter(traceCVS_list, y_name, x_name, name_list, color_list):\n",
    "    traceScatter_list=[]\n",
    "    index_color = 0;\n",
    "    for trace,state in zip(traceCVS_list, name_list):\n",
    "        traceScatter_list.append(go.Scatter(\n",
    "            x=trace[x_name][0:],\n",
    "            y=trace[y_name][0:],\n",
    "            mode='lines',\n",
    "            name=state,  \n",
    "            line=dict(width=1.5, color=color_list[index_color]), #change the color 'color = color in the color list'\n",
    "            stackgroup='one'\n",
    "        \n",
    "        ))\n",
    "        index_color += 1\n",
    "    return  traceScatter_list\n",
    "\n",
    "\n",
    "# from the cvsdata -> frames data\n",
    "year_range = 30\n",
    "frames = [dict(data = [\n",
    "    dict(type='scatter', x=trace['year'][k:],y=trace['number'][k:])\n",
    "    for trace in traceCVS_list],\n",
    "    traces=[i for i in range(len(states_list))],\n",
    ")for k in range(year_range, -1, -1)]\n",
    "\n",
    "\n",
    "# set the plot layout\n",
    "layout = go.Layout(\n",
    "                width=1000,\n",
    "                height=800,\n",
    "                title=\"<b>Road Deaths by State from 1989 to 2019 in Australia<b>\",\n",
    "                xaxis_title=\"<b>Year</b>\",\n",
    "                yaxis_title=\"<b>Deaths<b>\",\n",
    "                plot_bgcolor= 'white',\n",
    "                showlegend=True,\n",
    "                hovermode='x unified',\n",
    "                updatemenus=[\n",
    "                    dict(\n",
    "                        type='buttons', \n",
    "                        showactive=True,\n",
    "                        y=1.2,\n",
    "                        x=1.2,\n",
    "                        xanchor='right',\n",
    "                        yanchor='top',\n",
    "                        pad=dict(t=0, r=10),\n",
    "                        buttons=[dict(label='Play',\n",
    "                        method='animate',\n",
    "                        args=[\n",
    "                            None, \n",
    "                            dict(frame=dict(duration=200, \n",
    "                                redraw=False),\n",
    "                                transition=dict(duration=0),\n",
    "                                fromcurrent=True,\n",
    "                                mode='immediate')]\n",
    "                        )]\n",
    "                    )\n",
    "                ]\n",
    "            )\n",
    "\n",
    "# create a color list which must have 8 different colors\n",
    "\n",
    "color_list = ['#ffffd9','#edf8b1','#c7e9b4','#7fcdbb','#41b6c4','#1d91c0','#225ea8','#253494']\n",
    "traceScatter_list = get_traceScatter(traceCVS_list, 'number', 'year', states_list, color_list)\n",
    "\n",
    "fig = go.Figure(data=traceScatter_list, frames=frames, layout=layout)\n",
    "fig.show()"
   ]
  },
  {
   "cell_type": "markdown",
   "metadata": {},
   "source": [
    "# Interactive Map"
   ]
  },
  {
   "cell_type": "code",
   "execution_count": 46,
   "metadata": {},
   "outputs": [],
   "source": [
    "states_name_list = ['NSW', 'Vic', 'Qld','SA','WA','Tas','NT','ACT']\n",
    "id_list = [i for i in range(8)]\n",
    "\n",
    "def c_fatality_rate(road_death, pop):\n",
    "    return int(road_death)/int(pop.replace(',','')) * 100000\n",
    "\n",
    "\n",
    "def statestotal_eachyear(year):\n",
    "    data_death=read_file('ardd_fatalities.csv')\n",
    "    states_total={}\n",
    "    for states, years in zip(data_death[\"State\"],data_death[\"Year\"]):\n",
    "        \n",
    "        if str(year) != \"2020\":\n",
    "            if year==None:\n",
    "                if states not in states_total:\n",
    "                    states_total[states] = 1\n",
    "                else:\n",
    "                    states_total[states] += 1\n",
    "            elif years==year:\n",
    "                if states not in states_total:\n",
    "                    states_total[states] = 1\n",
    "                else:\n",
    "                    states_total[states] += 1\n",
    "                \n",
    "    return states_total\n",
    "\n",
    "\n",
    "def get_state_id(states_name_list, state_name):\n",
    "    ids = 0\n",
    "    for i in states_name_list: \n",
    "        if i == state_name:\n",
    "            return ids\n",
    "        ids+=1\n",
    "\n",
    "        \n",
    "def get_year_state_pop(year, state_id, data_pop):\n",
    "    return data_pop[str(year)][state_id]\n",
    "\n",
    "\n",
    "\n",
    "def calculate_stack(roaddeath_filename, pop_filename, states_name_list, id_list):\n",
    "    data_pop = read_file(pop_filename)\n",
    "    year_start=1989\n",
    "    year_end=2020\n",
    "    states_fatality_rate_each_year=statestotal_eachyear(str(year_start))\n",
    "    while year_start != year_end: \n",
    "        temp=statestotal_eachyear(str(year_start))\n",
    "        ids=0\n",
    "        for key,value in temp.items():  \n",
    "            pop = get_year_state_pop(year_start,get_state_id(states_name_list, key), data_pop)\n",
    "            if str(year_start)=='1989':\n",
    "                states_fatality_rate_each_year[key] = c_fatality_rate(value,pop)\n",
    "            else:\n",
    "                states_fatality_rate_each_year[key] +=  c_fatality_rate(value,pop)\n",
    "            ids += 1\n",
    "        year_start += 1\n",
    "    return states_fatality_rate_each_year\n",
    "\n",
    "\n",
    "def calculate_ave(stack_dic, year_total):\n",
    "    for key,value in stack_dic.items(): \n",
    "        stack_dic[key] = round(value/year_total,3)\n",
    "    return stack_dic\n",
    "\n",
    "\n",
    "\n",
    "def covert_dic_csv(states_name_list, dic_data, string_Col):\n",
    "    re_dic = {\"state_name\":[],\"state_id\":[], string_Col:[]}\n",
    "    for key,value in dic_data.items():\n",
    "        re_dic['state_name'].append(key)\n",
    "        re_dic[\"state_id\"].append(get_state_id(states_name_list, key))\n",
    "        re_dic[string_Col].append(value)\n",
    "    yearly_states_average_data = pd.DataFrame(data=re_dic)\n",
    "    return yearly_states_average_data"
   ]
  },
  {
   "cell_type": "code",
   "execution_count": 23,
   "metadata": {
    "scrolled": false
   },
   "outputs": [
    {
     "data": {
      "text/html": [
       "<div>\n",
       "<style scoped>\n",
       "    .dataframe tbody tr th:only-of-type {\n",
       "        vertical-align: middle;\n",
       "    }\n",
       "\n",
       "    .dataframe tbody tr th {\n",
       "        vertical-align: top;\n",
       "    }\n",
       "\n",
       "    .dataframe thead th {\n",
       "        text-align: right;\n",
       "    }\n",
       "</style>\n",
       "<table border=\"1\" class=\"dataframe\">\n",
       "  <thead>\n",
       "    <tr style=\"text-align: right;\">\n",
       "      <th></th>\n",
       "      <th>state_name</th>\n",
       "      <th>state_id</th>\n",
       "      <th>Average</th>\n",
       "    </tr>\n",
       "  </thead>\n",
       "  <tbody>\n",
       "    <tr>\n",
       "      <th>0</th>\n",
       "      <td>WA</td>\n",
       "      <td>4</td>\n",
       "      <td>195.387</td>\n",
       "    </tr>\n",
       "    <tr>\n",
       "      <th>1</th>\n",
       "      <td>NSW</td>\n",
       "      <td>0</td>\n",
       "      <td>514.161</td>\n",
       "    </tr>\n",
       "    <tr>\n",
       "      <th>2</th>\n",
       "      <td>NT</td>\n",
       "      <td>6</td>\n",
       "      <td>51.387</td>\n",
       "    </tr>\n",
       "    <tr>\n",
       "      <th>3</th>\n",
       "      <td>Vic</td>\n",
       "      <td>1</td>\n",
       "      <td>363.935</td>\n",
       "    </tr>\n",
       "    <tr>\n",
       "      <th>4</th>\n",
       "      <td>Qld</td>\n",
       "      <td>2</td>\n",
       "      <td>325.871</td>\n",
       "    </tr>\n",
       "  </tbody>\n",
       "</table>\n",
       "</div>"
      ],
      "text/plain": [
       "  state_name  state_id  Average\n",
       "0         WA         4  195.387\n",
       "1        NSW         0  514.161\n",
       "2         NT         6   51.387\n",
       "3        Vic         1  363.935\n",
       "4        Qld         2  325.871"
      ]
     },
     "execution_count": 23,
     "metadata": {},
     "output_type": "execute_result"
    }
   ],
   "source": [
    "states_total = statestotal_eachyear(None)\n",
    "states_total = calculate_ave(states_total, 31)\n",
    "yearly_states_average_data = covert_dic_csv(states_name_list, states_total, \"Average\")\n",
    "yearly_states_average_data.head()"
   ]
  },
  {
   "cell_type": "code",
   "execution_count": 47,
   "metadata": {},
   "outputs": [
    {
     "name": "stdout",
     "output_type": "stream",
     "text": [
      "add a new key name is \"Average death per year\", vlaue is \"AMOUNT\" into the shape json file\n",
      "\n",
      "new dict will be used show the labels of each shapes\n",
      "\n"
     ]
    },
    {
     "data": {
      "text/html": [
       "<div style=\"width:100%;\"><div style=\"position:relative;width:100%;height:0;padding-bottom:60%;\"><span style=\"color:#565656\">Make this Notebook Trusted to load map: File -> Trust Notebook</span><iframe src=\"about:blank\" style=\"position:absolute;width:100%;height:100%;left:0;top:0;border:none !important;\" data-html=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 onload=\"this.contentDocument.open();this.contentDocument.write(atob(this.getAttribute('data-html')));this.contentDocument.close();\" allowfullscreen webkitallowfullscreen mozallowfullscreen></iframe></div></div>"
      ],
      "text/plain": [
       "<folium.folium.Map at 0x7fe4fe278a90>"
      ]
     },
     "execution_count": 47,
     "metadata": {},
     "output_type": "execute_result"
    }
   ],
   "source": [
    "print('add a new key name is \"Average death per year\", vlaue is \"AMOUNT\" into the shape json file' + '\\n') \n",
    "with open('australian-states.json') as f:\n",
    "      data = json.load(f)\n",
    "for state_pro,number in zip(data['features'],yearly_states_average_data['Average']):\n",
    "    state_pro['properties']['Average death per year'] = state_pro['properties']['STATE_NAME'] + ' : ' + str(number)\n",
    "    # print(state_pro['properties'])\n",
    "    \n",
    "print('new dict will be used show the labels of each shapes' + '\\n')\n",
    "\n",
    "Australia_Location = [-25.274398, 133.775136]\n",
    "m = folium.Map(Australia_Location, zoom_start=4)\n",
    "folium.TileLayer('cartodbpositron').add_to(m)\n",
    "choropleth = folium.Choropleth(\n",
    "    geo_data=data,    # this data is for shpae of states \n",
    "    name='choropleth',\n",
    "    data=yearly_states_average_data, # this data is for the toatal numbers for each states\n",
    "    columns=['state_id', 'Average'], \n",
    "    key_on='feature.id',  # this is the key that indefine states\n",
    "    fill_color='YlGnBu', # set the color of the map YlGnBu\n",
    "    fill_opacity=0.8,\n",
    "    line_opacity=0.8,\n",
    "    legend_name='yearly road death number', \n",
    "    \n",
    "#     bins=np.arange(0,18000,2000)  # optional but not necessary; customize the color range\n",
    ").add_to(m)\n",
    "\n",
    "\n",
    "# show the labels\n",
    "choropleth.geojson.add_child(\n",
    "    folium.features.GeoJsonTooltip(['Average death per year'])\n",
    ")\n",
    "\n",
    "m"
   ]
  },
  {
   "cell_type": "code",
   "execution_count": 48,
   "metadata": {
    "scrolled": false
   },
   "outputs": [
    {
     "data": {
      "text/html": [
       "<div>\n",
       "<style scoped>\n",
       "    .dataframe tbody tr th:only-of-type {\n",
       "        vertical-align: middle;\n",
       "    }\n",
       "\n",
       "    .dataframe tbody tr th {\n",
       "        vertical-align: top;\n",
       "    }\n",
       "\n",
       "    .dataframe thead th {\n",
       "        text-align: right;\n",
       "    }\n",
       "</style>\n",
       "<table border=\"1\" class=\"dataframe\">\n",
       "  <thead>\n",
       "    <tr style=\"text-align: right;\">\n",
       "      <th></th>\n",
       "      <th>state_name</th>\n",
       "      <th>state_id</th>\n",
       "      <th>rate</th>\n",
       "    </tr>\n",
       "  </thead>\n",
       "  <tbody>\n",
       "    <tr>\n",
       "      <th>0</th>\n",
       "      <td>SA</td>\n",
       "      <td>3</td>\n",
       "      <td>9.237</td>\n",
       "    </tr>\n",
       "    <tr>\n",
       "      <th>1</th>\n",
       "      <td>Vic</td>\n",
       "      <td>1</td>\n",
       "      <td>7.343</td>\n",
       "    </tr>\n",
       "    <tr>\n",
       "      <th>2</th>\n",
       "      <td>ACT</td>\n",
       "      <td>7</td>\n",
       "      <td>4.597</td>\n",
       "    </tr>\n",
       "    <tr>\n",
       "      <th>3</th>\n",
       "      <td>Qld</td>\n",
       "      <td>2</td>\n",
       "      <td>8.797</td>\n",
       "    </tr>\n",
       "    <tr>\n",
       "      <th>4</th>\n",
       "      <td>WA</td>\n",
       "      <td>4</td>\n",
       "      <td>9.739</td>\n",
       "    </tr>\n",
       "  </tbody>\n",
       "</table>\n",
       "</div>"
      ],
      "text/plain": [
       "  state_name  state_id   rate\n",
       "0         SA         3  9.237\n",
       "1        Vic         1  7.343\n",
       "2        ACT         7  4.597\n",
       "3        Qld         2  8.797\n",
       "4         WA         4  9.739"
      ]
     },
     "execution_count": 48,
     "metadata": {},
     "output_type": "execute_result"
    }
   ],
   "source": [
    "stacked_dict = calculate_stack('ardd_fatalities.csv', 'apbs_population.csv', states_name_list, id_list)\n",
    "states_average = calculate_ave(stacked_dict,31)\n",
    "yearly_states_averageRATE_data = covert_dic_csv(states_name_list, states_average, 'rate')\n",
    "yearly_states_averageRATE_data.head()"
   ]
  },
  {
   "cell_type": "code",
   "execution_count": 50,
   "metadata": {},
   "outputs": [
    {
     "name": "stdout",
     "output_type": "stream",
     "text": [
      "add a new key name is \"Average fatality rate per 100,000 population per year\", vlaue is \"AMOUNT\" into the shape json file\n",
      "\n",
      "new dict will be used show the labels of each shapes\n",
      "\n"
     ]
    },
    {
     "data": {
      "text/html": [
       "<div style=\"width:100%;\"><div style=\"position:relative;width:100%;height:0;padding-bottom:60%;\"><span style=\"color:#565656\">Make this Notebook Trusted to load map: File -> Trust Notebook</span><iframe src=\"about:blank\" style=\"position:absolute;width:100%;height:100%;left:0;top:0;border:none !important;\" data-html=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 onload=\"this.contentDocument.open();this.contentDocument.write(atob(this.getAttribute('data-html')));this.contentDocument.close();\" allowfullscreen webkitallowfullscreen mozallowfullscreen></iframe></div></div>"
      ],
      "text/plain": [
       "<folium.folium.Map at 0x7fe4fcf52850>"
      ]
     },
     "execution_count": 50,
     "metadata": {},
     "output_type": "execute_result"
    }
   ],
   "source": [
    "print('add a new key name is \"Average fatality rate per 100,000 population per year\", vlaue is \"AMOUNT\" into the shape json file' + '\\n') \n",
    "with open('australian-states.json') as f:\n",
    "      data = json.load(f)\n",
    "for state_pro,number in zip(data['features'],yearly_states_averageRATE_data['rate']):\n",
    "    state_pro['properties']['Average fatality rate per 100,000 population per year'] = state_pro['properties']['STATE_NAME'] + ' : ' + str(number)\n",
    "    # print(state_pro['properties'])\n",
    "    \n",
    "print('new dict will be used show the labels of each shapes' + '\\n')\n",
    "\n",
    "Australia_Location = [-25.274398, 133.775136]\n",
    "m = folium.Map(Australia_Location, zoom_start=4)\n",
    "folium.TileLayer('cartodbpositron').add_to(m)\n",
    "choropleth = folium.Choropleth(\n",
    "    geo_data=data,    # this data is for shpae of states \n",
    "    name='choropleth',\n",
    "    data=yearly_states_averageRATE_data, # this data is for the toatal numbers for each states\n",
    "    columns=['state_id', 'rate'], \n",
    "    key_on='feature.id',  # this is the key that indefine states\n",
    "    fill_color='YlGnBu', # set the color of the map YlGnBu\n",
    "    fill_opacity=0.8,\n",
    "    line_opacity=0.8,\n",
    "    legend_name='yearly fatality rate per 100,000 population', \n",
    "    \n",
    "#     bins=np.arange(0,18000,2000)  # optional but not necessary; customize the color range\n",
    ").add_to(m)\n",
    "\n",
    "\n",
    "# show the labels\n",
    "choropleth.geojson.add_child(\n",
    "    folium.features.GeoJsonTooltip(['Average fatality rate per 100,000 population per year'])\n",
    ")\n",
    "\n",
    "m"
   ]
  },
  {
   "cell_type": "markdown",
   "metadata": {},
   "source": [
    "# Multiple Axes and plots"
   ]
  },
  {
   "cell_type": "code",
   "execution_count": null,
   "metadata": {},
   "outputs": [],
   "source": []
  },
  {
   "cell_type": "code",
   "execution_count": 11,
   "metadata": {},
   "outputs": [
    {
     "data": {
      "text/html": [
       "<div>\n",
       "<style scoped>\n",
       "    .dataframe tbody tr th:only-of-type {\n",
       "        vertical-align: middle;\n",
       "    }\n",
       "\n",
       "    .dataframe tbody tr th {\n",
       "        vertical-align: top;\n",
       "    }\n",
       "\n",
       "    .dataframe thead th {\n",
       "        text-align: right;\n",
       "    }\n",
       "</style>\n",
       "<table border=\"1\" class=\"dataframe\">\n",
       "  <thead>\n",
       "    <tr style=\"text-align: right;\">\n",
       "      <th></th>\n",
       "      <th>year</th>\n",
       "      <th>number</th>\n",
       "      <th>rate</th>\n",
       "    </tr>\n",
       "  </thead>\n",
       "  <tbody>\n",
       "    <tr>\n",
       "      <th>0</th>\n",
       "      <td>2019</td>\n",
       "      <td>1194</td>\n",
       "      <td>4.678</td>\n",
       "    </tr>\n",
       "    <tr>\n",
       "      <th>1</th>\n",
       "      <td>2018</td>\n",
       "      <td>1134</td>\n",
       "      <td>4.504</td>\n",
       "    </tr>\n",
       "    <tr>\n",
       "      <th>2</th>\n",
       "      <td>2017</td>\n",
       "      <td>1222</td>\n",
       "      <td>4.933</td>\n",
       "    </tr>\n",
       "    <tr>\n",
       "      <th>3</th>\n",
       "      <td>2016</td>\n",
       "      <td>1292</td>\n",
       "      <td>5.341</td>\n",
       "    </tr>\n",
       "    <tr>\n",
       "      <th>4</th>\n",
       "      <td>2015</td>\n",
       "      <td>1204</td>\n",
       "      <td>5.055</td>\n",
       "    </tr>\n",
       "  </tbody>\n",
       "</table>\n",
       "</div>"
      ],
      "text/plain": [
       "   year  number   rate\n",
       "0  2019    1194  4.678\n",
       "1  2018    1134  4.504\n",
       "2  2017    1222  4.933\n",
       "3  2016    1292  5.341\n",
       "4  2015    1204  5.055"
      ]
     },
     "execution_count": 11,
     "metadata": {},
     "output_type": "execute_result"
    }
   ],
   "source": [
    "# Count the total_death for each states\n",
    "data_death = read_file('ardd_fatalities.csv')\n",
    "years_total = {}\n",
    "for year in data_death[\"Year\"]:\n",
    "    if str(year) != \"2020\":\n",
    "        if year not in years_total:\n",
    "            years_total[year] = 1\n",
    "        else:\n",
    "            years_total[year] += 1\n",
    "# print(years_total)\n",
    "\n",
    "data_pop = read_file('apbs_population.csv')\n",
    "years_rate = {}\n",
    "index_for_total = 8\n",
    "TEN_THS = 100000\n",
    "for key,value in years_total.items():\n",
    "#     print(\"{value}...{k}\".format(value=value, k=data_pop[key][index_for_total]))\n",
    "    years_rate[key] = round(int(value) / int(data_pop[key][index_for_total]) * TEN_THS,3)\n",
    "# print(years_rate)\n",
    "\n",
    "re_dic = {\"year\":[],\"number\":[], \"rate\":[]}\n",
    "for key,value in years_total.items():\n",
    "    re_dic['year'].append(key)\n",
    "    re_dic[\"number\"].append(value)\n",
    "    re_dic[\"rate\"].append(years_rate[str(key)])\n",
    "    \n",
    "yearly_states_total_data = pd.DataFrame(data=re_dic)\n",
    "yearly_states_total_data.head()"
   ]
  },
  {
   "cell_type": "code",
   "execution_count": 12,
   "metadata": {
    "scrolled": false
   },
   "outputs": [
    {
     "data": {
      "application/vnd.plotly.v1+json": {
       "config": {
        "plotlyServerURL": "https://plot.ly"
       },
       "data": [
        {
         "marker": {
          "color": [
           1194,
           1134,
           1222,
           1292,
           1204,
           1151,
           1187,
           1300,
           1277,
           1353,
           1491,
           1437,
           1603,
           1598,
           1627,
           1583,
           1621,
           1715,
           1737,
           1817,
           1764,
           1755,
           1767,
           1970,
           2017,
           1928,
           1953,
           1974,
           2113,
           2331,
           2800
          ],
          "colorscale": [
           [
            0,
            "rgb(255,255,217)"
           ],
           [
            0.125,
            "rgb(237,248,177)"
           ],
           [
            0.25,
            "rgb(199,233,180)"
           ],
           [
            0.375,
            "rgb(127,205,187)"
           ],
           [
            0.5,
            "rgb(65,182,196)"
           ],
           [
            0.625,
            "rgb(29,145,192)"
           ],
           [
            0.75,
            "rgb(34,94,168)"
           ],
           [
            0.875,
            "rgb(37,52,148)"
           ],
           [
            1,
            "rgb(8,29,88)"
           ]
          ]
         },
         "name": "Road Deaths",
         "opacity": 1,
         "type": "bar",
         "x": [
          "2019",
          "2018",
          "2017",
          "2016",
          "2015",
          "2014",
          "2013",
          "2012",
          "2011",
          "2010",
          "2009",
          "2008",
          "2007",
          "2006",
          "2005",
          "2004",
          "2003",
          "2002",
          "2001",
          "2000",
          "1999",
          "1998",
          "1997",
          "1996",
          "1995",
          "1994",
          "1993",
          "1992",
          "1991",
          "1990",
          "1989"
         ],
         "xaxis": "x",
         "y": [
          1194,
          1134,
          1222,
          1292,
          1204,
          1151,
          1187,
          1300,
          1277,
          1353,
          1491,
          1437,
          1603,
          1598,
          1627,
          1583,
          1621,
          1715,
          1737,
          1817,
          1764,
          1755,
          1767,
          1970,
          2017,
          1928,
          1953,
          1974,
          2113,
          2331,
          2800
         ],
         "yaxis": "y"
        },
        {
         "line": {
          "color": "darkred",
          "dash": "dash",
          "width": 3
         },
         "name": "Rate/pop",
         "type": "scatter",
         "x": [
          "2019",
          "2018",
          "2017",
          "2016",
          "2015",
          "2014",
          "2013",
          "2012",
          "2011",
          "2010",
          "2009",
          "2008",
          "2007",
          "2006",
          "2005",
          "2004",
          "2003",
          "2002",
          "2001",
          "2000",
          "1999",
          "1998",
          "1997",
          "1996",
          "1995",
          "1994",
          "1993",
          "1992",
          "1991",
          "1990",
          "1989"
         ],
         "xaxis": "x",
         "y": [
          4.678,
          4.504,
          4.933,
          5.341,
          5.055,
          4.903,
          5.132,
          5.718,
          5.716,
          6.141,
          6.874,
          6.763,
          7.697,
          7.814,
          8.064,
          7.942,
          8.22,
          8.797,
          9.012,
          9.549,
          9.377,
          9.432,
          9.591,
          10.809,
          11.203,
          10.828,
          11.075,
          11.294,
          12.225,
          13.659,
          16.652
         ],
         "yaxis": "y2"
        }
       ],
       "layout": {
        "plot_bgcolor": "white",
        "template": {
         "data": {
          "bar": [
           {
            "error_x": {
             "color": "#2a3f5f"
            },
            "error_y": {
             "color": "#2a3f5f"
            },
            "marker": {
             "line": {
              "color": "#E5ECF6",
              "width": 0.5
             }
            },
            "type": "bar"
           }
          ],
          "barpolar": [
           {
            "marker": {
             "line": {
              "color": "#E5ECF6",
              "width": 0.5
             }
            },
            "type": "barpolar"
           }
          ],
          "carpet": [
           {
            "aaxis": {
             "endlinecolor": "#2a3f5f",
             "gridcolor": "white",
             "linecolor": "white",
             "minorgridcolor": "white",
             "startlinecolor": "#2a3f5f"
            },
            "baxis": {
             "endlinecolor": "#2a3f5f",
             "gridcolor": "white",
             "linecolor": "white",
             "minorgridcolor": "white",
             "startlinecolor": "#2a3f5f"
            },
            "type": "carpet"
           }
          ],
          "choropleth": [
           {
            "colorbar": {
             "outlinewidth": 0,
             "ticks": ""
            },
            "type": "choropleth"
           }
          ],
          "contour": [
           {
            "colorbar": {
             "outlinewidth": 0,
             "ticks": ""
            },
            "colorscale": [
             [
              0,
              "#0d0887"
             ],
             [
              0.1111111111111111,
              "#46039f"
             ],
             [
              0.2222222222222222,
              "#7201a8"
             ],
             [
              0.3333333333333333,
              "#9c179e"
             ],
             [
              0.4444444444444444,
              "#bd3786"
             ],
             [
              0.5555555555555556,
              "#d8576b"
             ],
             [
              0.6666666666666666,
              "#ed7953"
             ],
             [
              0.7777777777777778,
              "#fb9f3a"
             ],
             [
              0.8888888888888888,
              "#fdca26"
             ],
             [
              1,
              "#f0f921"
             ]
            ],
            "type": "contour"
           }
          ],
          "contourcarpet": [
           {
            "colorbar": {
             "outlinewidth": 0,
             "ticks": ""
            },
            "type": "contourcarpet"
           }
          ],
          "heatmap": [
           {
            "colorbar": {
             "outlinewidth": 0,
             "ticks": ""
            },
            "colorscale": [
             [
              0,
              "#0d0887"
             ],
             [
              0.1111111111111111,
              "#46039f"
             ],
             [
              0.2222222222222222,
              "#7201a8"
             ],
             [
              0.3333333333333333,
              "#9c179e"
             ],
             [
              0.4444444444444444,
              "#bd3786"
             ],
             [
              0.5555555555555556,
              "#d8576b"
             ],
             [
              0.6666666666666666,
              "#ed7953"
             ],
             [
              0.7777777777777778,
              "#fb9f3a"
             ],
             [
              0.8888888888888888,
              "#fdca26"
             ],
             [
              1,
              "#f0f921"
             ]
            ],
            "type": "heatmap"
           }
          ],
          "heatmapgl": [
           {
            "colorbar": {
             "outlinewidth": 0,
             "ticks": ""
            },
            "colorscale": [
             [
              0,
              "#0d0887"
             ],
             [
              0.1111111111111111,
              "#46039f"
             ],
             [
              0.2222222222222222,
              "#7201a8"
             ],
             [
              0.3333333333333333,
              "#9c179e"
             ],
             [
              0.4444444444444444,
              "#bd3786"
             ],
             [
              0.5555555555555556,
              "#d8576b"
             ],
             [
              0.6666666666666666,
              "#ed7953"
             ],
             [
              0.7777777777777778,
              "#fb9f3a"
             ],
             [
              0.8888888888888888,
              "#fdca26"
             ],
             [
              1,
              "#f0f921"
             ]
            ],
            "type": "heatmapgl"
           }
          ],
          "histogram": [
           {
            "marker": {
             "colorbar": {
              "outlinewidth": 0,
              "ticks": ""
             }
            },
            "type": "histogram"
           }
          ],
          "histogram2d": [
           {
            "colorbar": {
             "outlinewidth": 0,
             "ticks": ""
            },
            "colorscale": [
             [
              0,
              "#0d0887"
             ],
             [
              0.1111111111111111,
              "#46039f"
             ],
             [
              0.2222222222222222,
              "#7201a8"
             ],
             [
              0.3333333333333333,
              "#9c179e"
             ],
             [
              0.4444444444444444,
              "#bd3786"
             ],
             [
              0.5555555555555556,
              "#d8576b"
             ],
             [
              0.6666666666666666,
              "#ed7953"
             ],
             [
              0.7777777777777778,
              "#fb9f3a"
             ],
             [
              0.8888888888888888,
              "#fdca26"
             ],
             [
              1,
              "#f0f921"
             ]
            ],
            "type": "histogram2d"
           }
          ],
          "histogram2dcontour": [
           {
            "colorbar": {
             "outlinewidth": 0,
             "ticks": ""
            },
            "colorscale": [
             [
              0,
              "#0d0887"
             ],
             [
              0.1111111111111111,
              "#46039f"
             ],
             [
              0.2222222222222222,
              "#7201a8"
             ],
             [
              0.3333333333333333,
              "#9c179e"
             ],
             [
              0.4444444444444444,
              "#bd3786"
             ],
             [
              0.5555555555555556,
              "#d8576b"
             ],
             [
              0.6666666666666666,
              "#ed7953"
             ],
             [
              0.7777777777777778,
              "#fb9f3a"
             ],
             [
              0.8888888888888888,
              "#fdca26"
             ],
             [
              1,
              "#f0f921"
             ]
            ],
            "type": "histogram2dcontour"
           }
          ],
          "mesh3d": [
           {
            "colorbar": {
             "outlinewidth": 0,
             "ticks": ""
            },
            "type": "mesh3d"
           }
          ],
          "parcoords": [
           {
            "line": {
             "colorbar": {
              "outlinewidth": 0,
              "ticks": ""
             }
            },
            "type": "parcoords"
           }
          ],
          "pie": [
           {
            "automargin": true,
            "type": "pie"
           }
          ],
          "scatter": [
           {
            "marker": {
             "colorbar": {
              "outlinewidth": 0,
              "ticks": ""
             }
            },
            "type": "scatter"
           }
          ],
          "scatter3d": [
           {
            "line": {
             "colorbar": {
              "outlinewidth": 0,
              "ticks": ""
             }
            },
            "marker": {
             "colorbar": {
              "outlinewidth": 0,
              "ticks": ""
             }
            },
            "type": "scatter3d"
           }
          ],
          "scattercarpet": [
           {
            "marker": {
             "colorbar": {
              "outlinewidth": 0,
              "ticks": ""
             }
            },
            "type": "scattercarpet"
           }
          ],
          "scattergeo": [
           {
            "marker": {
             "colorbar": {
              "outlinewidth": 0,
              "ticks": ""
             }
            },
            "type": "scattergeo"
           }
          ],
          "scattergl": [
           {
            "marker": {
             "colorbar": {
              "outlinewidth": 0,
              "ticks": ""
             }
            },
            "type": "scattergl"
           }
          ],
          "scattermapbox": [
           {
            "marker": {
             "colorbar": {
              "outlinewidth": 0,
              "ticks": ""
             }
            },
            "type": "scattermapbox"
           }
          ],
          "scatterpolar": [
           {
            "marker": {
             "colorbar": {
              "outlinewidth": 0,
              "ticks": ""
             }
            },
            "type": "scatterpolar"
           }
          ],
          "scatterpolargl": [
           {
            "marker": {
             "colorbar": {
              "outlinewidth": 0,
              "ticks": ""
             }
            },
            "type": "scatterpolargl"
           }
          ],
          "scatterternary": [
           {
            "marker": {
             "colorbar": {
              "outlinewidth": 0,
              "ticks": ""
             }
            },
            "type": "scatterternary"
           }
          ],
          "surface": [
           {
            "colorbar": {
             "outlinewidth": 0,
             "ticks": ""
            },
            "colorscale": [
             [
              0,
              "#0d0887"
             ],
             [
              0.1111111111111111,
              "#46039f"
             ],
             [
              0.2222222222222222,
              "#7201a8"
             ],
             [
              0.3333333333333333,
              "#9c179e"
             ],
             [
              0.4444444444444444,
              "#bd3786"
             ],
             [
              0.5555555555555556,
              "#d8576b"
             ],
             [
              0.6666666666666666,
              "#ed7953"
             ],
             [
              0.7777777777777778,
              "#fb9f3a"
             ],
             [
              0.8888888888888888,
              "#fdca26"
             ],
             [
              1,
              "#f0f921"
             ]
            ],
            "type": "surface"
           }
          ],
          "table": [
           {
            "cells": {
             "fill": {
              "color": "#EBF0F8"
             },
             "line": {
              "color": "white"
             }
            },
            "header": {
             "fill": {
              "color": "#C8D4E3"
             },
             "line": {
              "color": "white"
             }
            },
            "type": "table"
           }
          ]
         },
         "layout": {
          "annotationdefaults": {
           "arrowcolor": "#2a3f5f",
           "arrowhead": 0,
           "arrowwidth": 1
          },
          "coloraxis": {
           "colorbar": {
            "outlinewidth": 0,
            "ticks": ""
           }
          },
          "colorscale": {
           "diverging": [
            [
             0,
             "#8e0152"
            ],
            [
             0.1,
             "#c51b7d"
            ],
            [
             0.2,
             "#de77ae"
            ],
            [
             0.3,
             "#f1b6da"
            ],
            [
             0.4,
             "#fde0ef"
            ],
            [
             0.5,
             "#f7f7f7"
            ],
            [
             0.6,
             "#e6f5d0"
            ],
            [
             0.7,
             "#b8e186"
            ],
            [
             0.8,
             "#7fbc41"
            ],
            [
             0.9,
             "#4d9221"
            ],
            [
             1,
             "#276419"
            ]
           ],
           "sequential": [
            [
             0,
             "#0d0887"
            ],
            [
             0.1111111111111111,
             "#46039f"
            ],
            [
             0.2222222222222222,
             "#7201a8"
            ],
            [
             0.3333333333333333,
             "#9c179e"
            ],
            [
             0.4444444444444444,
             "#bd3786"
            ],
            [
             0.5555555555555556,
             "#d8576b"
            ],
            [
             0.6666666666666666,
             "#ed7953"
            ],
            [
             0.7777777777777778,
             "#fb9f3a"
            ],
            [
             0.8888888888888888,
             "#fdca26"
            ],
            [
             1,
             "#f0f921"
            ]
           ],
           "sequentialminus": [
            [
             0,
             "#0d0887"
            ],
            [
             0.1111111111111111,
             "#46039f"
            ],
            [
             0.2222222222222222,
             "#7201a8"
            ],
            [
             0.3333333333333333,
             "#9c179e"
            ],
            [
             0.4444444444444444,
             "#bd3786"
            ],
            [
             0.5555555555555556,
             "#d8576b"
            ],
            [
             0.6666666666666666,
             "#ed7953"
            ],
            [
             0.7777777777777778,
             "#fb9f3a"
            ],
            [
             0.8888888888888888,
             "#fdca26"
            ],
            [
             1,
             "#f0f921"
            ]
           ]
          },
          "colorway": [
           "#636efa",
           "#EF553B",
           "#00cc96",
           "#ab63fa",
           "#FFA15A",
           "#19d3f3",
           "#FF6692",
           "#B6E880",
           "#FF97FF",
           "#FECB52"
          ],
          "font": {
           "color": "#2a3f5f"
          },
          "geo": {
           "bgcolor": "white",
           "lakecolor": "white",
           "landcolor": "#E5ECF6",
           "showlakes": true,
           "showland": true,
           "subunitcolor": "white"
          },
          "hoverlabel": {
           "align": "left"
          },
          "hovermode": "closest",
          "mapbox": {
           "style": "light"
          },
          "paper_bgcolor": "white",
          "plot_bgcolor": "#E5ECF6",
          "polar": {
           "angularaxis": {
            "gridcolor": "white",
            "linecolor": "white",
            "ticks": ""
           },
           "bgcolor": "#E5ECF6",
           "radialaxis": {
            "gridcolor": "white",
            "linecolor": "white",
            "ticks": ""
           }
          },
          "scene": {
           "xaxis": {
            "backgroundcolor": "#E5ECF6",
            "gridcolor": "white",
            "gridwidth": 2,
            "linecolor": "white",
            "showbackground": true,
            "ticks": "",
            "zerolinecolor": "white"
           },
           "yaxis": {
            "backgroundcolor": "#E5ECF6",
            "gridcolor": "white",
            "gridwidth": 2,
            "linecolor": "white",
            "showbackground": true,
            "ticks": "",
            "zerolinecolor": "white"
           },
           "zaxis": {
            "backgroundcolor": "#E5ECF6",
            "gridcolor": "white",
            "gridwidth": 2,
            "linecolor": "white",
            "showbackground": true,
            "ticks": "",
            "zerolinecolor": "white"
           }
          },
          "shapedefaults": {
           "line": {
            "color": "#2a3f5f"
           }
          },
          "ternary": {
           "aaxis": {
            "gridcolor": "white",
            "linecolor": "white",
            "ticks": ""
           },
           "baxis": {
            "gridcolor": "white",
            "linecolor": "white",
            "ticks": ""
           },
           "bgcolor": "#E5ECF6",
           "caxis": {
            "gridcolor": "white",
            "linecolor": "white",
            "ticks": ""
           }
          },
          "title": {
           "x": 0.05
          },
          "xaxis": {
           "automargin": true,
           "gridcolor": "white",
           "linecolor": "white",
           "ticks": "",
           "title": {
            "standoff": 15
           },
           "zerolinecolor": "white",
           "zerolinewidth": 2
          },
          "yaxis": {
           "automargin": true,
           "gridcolor": "white",
           "linecolor": "white",
           "ticks": "",
           "title": {
            "standoff": 15
           },
           "zerolinecolor": "white",
           "zerolinewidth": 2
          }
         }
        },
        "title": {
         "text": "<b>Road Deaths and fatality rate per 100,000 population from 1989 to 2019 in Australia<b>"
        },
        "xaxis": {
         "anchor": "y",
         "domain": [
          0,
          0.94
         ],
         "title": {
          "text": "<b>Yea<b>r"
         }
        },
        "yaxis": {
         "anchor": "x",
         "domain": [
          0,
          1
         ],
         "title": {
          "text": "<b>Total Number of Road Deaths</b>"
         }
        },
        "yaxis2": {
         "anchor": "x",
         "overlaying": "y",
         "side": "right",
         "title": {
          "text": "<b>Fatality Rate/100,000 population"
         }
        }
       }
      },
      "text/html": [
       "<div>\n",
       "        \n",
       "        \n",
       "            <div id=\"a449f854-c3c0-47c6-86ef-f29eeb224cbd\" class=\"plotly-graph-div\" style=\"height:525px; width:100%;\"></div>\n",
       "            <script type=\"text/javascript\">\n",
       "                require([\"plotly\"], function(Plotly) {\n",
       "                    window.PLOTLYENV=window.PLOTLYENV || {};\n",
       "                    \n",
       "                if (document.getElementById(\"a449f854-c3c0-47c6-86ef-f29eeb224cbd\")) {\n",
       "                    Plotly.newPlot(\n",
       "                        'a449f854-c3c0-47c6-86ef-f29eeb224cbd',\n",
       "                        [{\"marker\": {\"color\": [1194, 1134, 1222, 1292, 1204, 1151, 1187, 1300, 1277, 1353, 1491, 1437, 1603, 1598, 1627, 1583, 1621, 1715, 1737, 1817, 1764, 1755, 1767, 1970, 2017, 1928, 1953, 1974, 2113, 2331, 2800], \"colorscale\": [[0.0, \"rgb(255,255,217)\"], [0.125, \"rgb(237,248,177)\"], [0.25, \"rgb(199,233,180)\"], [0.375, \"rgb(127,205,187)\"], [0.5, \"rgb(65,182,196)\"], [0.625, \"rgb(29,145,192)\"], [0.75, \"rgb(34,94,168)\"], [0.875, \"rgb(37,52,148)\"], [1.0, \"rgb(8,29,88)\"]]}, \"name\": \"Road Deaths\", \"opacity\": 1, \"type\": \"bar\", \"x\": [\"2019\", \"2018\", \"2017\", \"2016\", \"2015\", \"2014\", \"2013\", \"2012\", \"2011\", \"2010\", \"2009\", \"2008\", \"2007\", \"2006\", \"2005\", \"2004\", \"2003\", \"2002\", \"2001\", \"2000\", \"1999\", \"1998\", \"1997\", \"1996\", \"1995\", \"1994\", \"1993\", \"1992\", \"1991\", \"1990\", \"1989\"], \"xaxis\": \"x\", \"y\": [1194, 1134, 1222, 1292, 1204, 1151, 1187, 1300, 1277, 1353, 1491, 1437, 1603, 1598, 1627, 1583, 1621, 1715, 1737, 1817, 1764, 1755, 1767, 1970, 2017, 1928, 1953, 1974, 2113, 2331, 2800], \"yaxis\": \"y\"}, {\"line\": {\"color\": \"darkred\", \"dash\": \"dash\", \"width\": 3.0}, \"name\": \"Rate/pop\", \"type\": \"scatter\", \"x\": [\"2019\", \"2018\", \"2017\", \"2016\", \"2015\", \"2014\", \"2013\", \"2012\", \"2011\", \"2010\", \"2009\", \"2008\", \"2007\", \"2006\", \"2005\", \"2004\", \"2003\", \"2002\", \"2001\", \"2000\", \"1999\", \"1998\", \"1997\", \"1996\", \"1995\", \"1994\", \"1993\", \"1992\", \"1991\", \"1990\", \"1989\"], \"xaxis\": \"x\", \"y\": [4.678, 4.504, 4.933, 5.341, 5.055, 4.903, 5.132, 5.718, 5.716, 6.141, 6.874, 6.763, 7.697, 7.814, 8.064, 7.942, 8.22, 8.797, 9.012, 9.549, 9.377, 9.432, 9.591, 10.809, 11.203, 10.828, 11.075, 11.294, 12.225, 13.659, 16.652], \"yaxis\": \"y2\"}],\n",
       "                        {\"plot_bgcolor\": \"white\", \"template\": {\"data\": {\"bar\": [{\"error_x\": {\"color\": \"#2a3f5f\"}, \"error_y\": {\"color\": \"#2a3f5f\"}, \"marker\": {\"line\": {\"color\": \"#E5ECF6\", \"width\": 0.5}}, \"type\": \"bar\"}], \"barpolar\": [{\"marker\": {\"line\": {\"color\": \"#E5ECF6\", \"width\": 0.5}}, \"type\": \"barpolar\"}], \"carpet\": [{\"aaxis\": {\"endlinecolor\": \"#2a3f5f\", \"gridcolor\": \"white\", \"linecolor\": \"white\", \"minorgridcolor\": \"white\", \"startlinecolor\": \"#2a3f5f\"}, \"baxis\": {\"endlinecolor\": \"#2a3f5f\", \"gridcolor\": \"white\", \"linecolor\": \"white\", \"minorgridcolor\": \"white\", \"startlinecolor\": \"#2a3f5f\"}, \"type\": \"carpet\"}], \"choropleth\": [{\"colorbar\": {\"outlinewidth\": 0, \"ticks\": \"\"}, \"type\": \"choropleth\"}], \"contour\": [{\"colorbar\": {\"outlinewidth\": 0, \"ticks\": \"\"}, \"colorscale\": [[0.0, \"#0d0887\"], [0.1111111111111111, \"#46039f\"], [0.2222222222222222, \"#7201a8\"], [0.3333333333333333, \"#9c179e\"], [0.4444444444444444, \"#bd3786\"], [0.5555555555555556, \"#d8576b\"], [0.6666666666666666, \"#ed7953\"], [0.7777777777777778, \"#fb9f3a\"], [0.8888888888888888, \"#fdca26\"], [1.0, \"#f0f921\"]], \"type\": \"contour\"}], \"contourcarpet\": [{\"colorbar\": {\"outlinewidth\": 0, \"ticks\": \"\"}, \"type\": \"contourcarpet\"}], \"heatmap\": [{\"colorbar\": {\"outlinewidth\": 0, \"ticks\": \"\"}, \"colorscale\": [[0.0, \"#0d0887\"], [0.1111111111111111, \"#46039f\"], [0.2222222222222222, \"#7201a8\"], [0.3333333333333333, \"#9c179e\"], [0.4444444444444444, \"#bd3786\"], [0.5555555555555556, \"#d8576b\"], [0.6666666666666666, \"#ed7953\"], [0.7777777777777778, \"#fb9f3a\"], [0.8888888888888888, \"#fdca26\"], [1.0, \"#f0f921\"]], \"type\": \"heatmap\"}], \"heatmapgl\": [{\"colorbar\": {\"outlinewidth\": 0, \"ticks\": \"\"}, \"colorscale\": [[0.0, \"#0d0887\"], [0.1111111111111111, \"#46039f\"], [0.2222222222222222, \"#7201a8\"], [0.3333333333333333, \"#9c179e\"], [0.4444444444444444, \"#bd3786\"], [0.5555555555555556, \"#d8576b\"], [0.6666666666666666, \"#ed7953\"], [0.7777777777777778, \"#fb9f3a\"], [0.8888888888888888, \"#fdca26\"], [1.0, \"#f0f921\"]], \"type\": \"heatmapgl\"}], \"histogram\": [{\"marker\": {\"colorbar\": {\"outlinewidth\": 0, \"ticks\": \"\"}}, \"type\": \"histogram\"}], \"histogram2d\": [{\"colorbar\": {\"outlinewidth\": 0, \"ticks\": \"\"}, \"colorscale\": [[0.0, \"#0d0887\"], [0.1111111111111111, \"#46039f\"], [0.2222222222222222, \"#7201a8\"], [0.3333333333333333, \"#9c179e\"], [0.4444444444444444, \"#bd3786\"], [0.5555555555555556, \"#d8576b\"], [0.6666666666666666, \"#ed7953\"], [0.7777777777777778, \"#fb9f3a\"], [0.8888888888888888, \"#fdca26\"], [1.0, \"#f0f921\"]], \"type\": \"histogram2d\"}], \"histogram2dcontour\": [{\"colorbar\": {\"outlinewidth\": 0, \"ticks\": \"\"}, \"colorscale\": [[0.0, \"#0d0887\"], [0.1111111111111111, \"#46039f\"], [0.2222222222222222, \"#7201a8\"], [0.3333333333333333, \"#9c179e\"], [0.4444444444444444, \"#bd3786\"], [0.5555555555555556, \"#d8576b\"], [0.6666666666666666, \"#ed7953\"], [0.7777777777777778, \"#fb9f3a\"], [0.8888888888888888, \"#fdca26\"], [1.0, \"#f0f921\"]], \"type\": \"histogram2dcontour\"}], \"mesh3d\": [{\"colorbar\": {\"outlinewidth\": 0, \"ticks\": \"\"}, \"type\": \"mesh3d\"}], \"parcoords\": [{\"line\": {\"colorbar\": {\"outlinewidth\": 0, \"ticks\": \"\"}}, \"type\": \"parcoords\"}], \"pie\": [{\"automargin\": true, \"type\": \"pie\"}], \"scatter\": [{\"marker\": {\"colorbar\": {\"outlinewidth\": 0, \"ticks\": \"\"}}, \"type\": \"scatter\"}], \"scatter3d\": [{\"line\": {\"colorbar\": {\"outlinewidth\": 0, \"ticks\": \"\"}}, \"marker\": {\"colorbar\": {\"outlinewidth\": 0, \"ticks\": \"\"}}, \"type\": \"scatter3d\"}], \"scattercarpet\": [{\"marker\": {\"colorbar\": {\"outlinewidth\": 0, \"ticks\": \"\"}}, \"type\": \"scattercarpet\"}], \"scattergeo\": [{\"marker\": {\"colorbar\": {\"outlinewidth\": 0, \"ticks\": \"\"}}, \"type\": \"scattergeo\"}], \"scattergl\": [{\"marker\": {\"colorbar\": {\"outlinewidth\": 0, \"ticks\": \"\"}}, \"type\": \"scattergl\"}], \"scattermapbox\": [{\"marker\": {\"colorbar\": {\"outlinewidth\": 0, \"ticks\": \"\"}}, \"type\": \"scattermapbox\"}], \"scatterpolar\": [{\"marker\": {\"colorbar\": {\"outlinewidth\": 0, \"ticks\": \"\"}}, \"type\": \"scatterpolar\"}], \"scatterpolargl\": [{\"marker\": {\"colorbar\": {\"outlinewidth\": 0, \"ticks\": \"\"}}, \"type\": \"scatterpolargl\"}], \"scatterternary\": [{\"marker\": {\"colorbar\": {\"outlinewidth\": 0, \"ticks\": \"\"}}, \"type\": \"scatterternary\"}], \"surface\": [{\"colorbar\": {\"outlinewidth\": 0, \"ticks\": \"\"}, \"colorscale\": [[0.0, \"#0d0887\"], [0.1111111111111111, \"#46039f\"], [0.2222222222222222, \"#7201a8\"], [0.3333333333333333, \"#9c179e\"], [0.4444444444444444, \"#bd3786\"], [0.5555555555555556, \"#d8576b\"], [0.6666666666666666, \"#ed7953\"], [0.7777777777777778, \"#fb9f3a\"], [0.8888888888888888, \"#fdca26\"], [1.0, \"#f0f921\"]], \"type\": \"surface\"}], \"table\": [{\"cells\": {\"fill\": {\"color\": \"#EBF0F8\"}, \"line\": {\"color\": \"white\"}}, \"header\": {\"fill\": {\"color\": \"#C8D4E3\"}, \"line\": {\"color\": \"white\"}}, \"type\": \"table\"}]}, \"layout\": {\"annotationdefaults\": {\"arrowcolor\": \"#2a3f5f\", \"arrowhead\": 0, \"arrowwidth\": 1}, \"coloraxis\": {\"colorbar\": {\"outlinewidth\": 0, \"ticks\": \"\"}}, \"colorscale\": {\"diverging\": [[0, \"#8e0152\"], [0.1, \"#c51b7d\"], [0.2, \"#de77ae\"], [0.3, \"#f1b6da\"], [0.4, \"#fde0ef\"], [0.5, \"#f7f7f7\"], [0.6, \"#e6f5d0\"], [0.7, \"#b8e186\"], [0.8, \"#7fbc41\"], [0.9, \"#4d9221\"], [1, \"#276419\"]], \"sequential\": [[0.0, \"#0d0887\"], [0.1111111111111111, \"#46039f\"], [0.2222222222222222, \"#7201a8\"], [0.3333333333333333, \"#9c179e\"], [0.4444444444444444, \"#bd3786\"], [0.5555555555555556, \"#d8576b\"], [0.6666666666666666, \"#ed7953\"], [0.7777777777777778, \"#fb9f3a\"], [0.8888888888888888, \"#fdca26\"], [1.0, \"#f0f921\"]], \"sequentialminus\": [[0.0, \"#0d0887\"], [0.1111111111111111, \"#46039f\"], [0.2222222222222222, \"#7201a8\"], [0.3333333333333333, \"#9c179e\"], [0.4444444444444444, \"#bd3786\"], [0.5555555555555556, \"#d8576b\"], [0.6666666666666666, \"#ed7953\"], [0.7777777777777778, \"#fb9f3a\"], [0.8888888888888888, \"#fdca26\"], [1.0, \"#f0f921\"]]}, \"colorway\": [\"#636efa\", \"#EF553B\", \"#00cc96\", \"#ab63fa\", \"#FFA15A\", \"#19d3f3\", \"#FF6692\", \"#B6E880\", \"#FF97FF\", \"#FECB52\"], \"font\": {\"color\": \"#2a3f5f\"}, \"geo\": {\"bgcolor\": \"white\", \"lakecolor\": \"white\", \"landcolor\": \"#E5ECF6\", \"showlakes\": true, \"showland\": true, \"subunitcolor\": \"white\"}, \"hoverlabel\": {\"align\": \"left\"}, \"hovermode\": \"closest\", \"mapbox\": {\"style\": \"light\"}, \"paper_bgcolor\": \"white\", \"plot_bgcolor\": \"#E5ECF6\", \"polar\": {\"angularaxis\": {\"gridcolor\": \"white\", \"linecolor\": \"white\", \"ticks\": \"\"}, \"bgcolor\": \"#E5ECF6\", \"radialaxis\": {\"gridcolor\": \"white\", \"linecolor\": \"white\", \"ticks\": \"\"}}, \"scene\": {\"xaxis\": {\"backgroundcolor\": \"#E5ECF6\", \"gridcolor\": \"white\", \"gridwidth\": 2, \"linecolor\": \"white\", \"showbackground\": true, \"ticks\": \"\", \"zerolinecolor\": \"white\"}, \"yaxis\": {\"backgroundcolor\": \"#E5ECF6\", \"gridcolor\": \"white\", \"gridwidth\": 2, \"linecolor\": \"white\", \"showbackground\": true, \"ticks\": \"\", \"zerolinecolor\": \"white\"}, \"zaxis\": {\"backgroundcolor\": \"#E5ECF6\", \"gridcolor\": \"white\", \"gridwidth\": 2, \"linecolor\": \"white\", \"showbackground\": true, \"ticks\": \"\", \"zerolinecolor\": \"white\"}}, \"shapedefaults\": {\"line\": {\"color\": \"#2a3f5f\"}}, \"ternary\": {\"aaxis\": {\"gridcolor\": \"white\", \"linecolor\": \"white\", \"ticks\": \"\"}, \"baxis\": {\"gridcolor\": \"white\", \"linecolor\": \"white\", \"ticks\": \"\"}, \"bgcolor\": \"#E5ECF6\", \"caxis\": {\"gridcolor\": \"white\", \"linecolor\": \"white\", \"ticks\": \"\"}}, \"title\": {\"x\": 0.05}, \"xaxis\": {\"automargin\": true, \"gridcolor\": \"white\", \"linecolor\": \"white\", \"ticks\": \"\", \"title\": {\"standoff\": 15}, \"zerolinecolor\": \"white\", \"zerolinewidth\": 2}, \"yaxis\": {\"automargin\": true, \"gridcolor\": \"white\", \"linecolor\": \"white\", \"ticks\": \"\", \"title\": {\"standoff\": 15}, \"zerolinecolor\": \"white\", \"zerolinewidth\": 2}}}, \"title\": {\"text\": \"<b>Road Deaths and fatality rate per 100,000 population from 1989 to 2019 in Australia<b>\"}, \"xaxis\": {\"anchor\": \"y\", \"domain\": [0.0, 0.94], \"title\": {\"text\": \"<b>Yea<b>r\"}}, \"yaxis\": {\"anchor\": \"x\", \"domain\": [0.0, 1.0], \"title\": {\"text\": \"<b>Total Number of Road Deaths</b>\"}}, \"yaxis2\": {\"anchor\": \"x\", \"overlaying\": \"y\", \"side\": \"right\", \"title\": {\"text\": \"<b>Fatality Rate/100,000 population\"}}},\n",
       "                        {\"responsive\": true}\n",
       "                    ).then(function(){\n",
       "                            \n",
       "var gd = document.getElementById('a449f854-c3c0-47c6-86ef-f29eeb224cbd');\n",
       "var x = new MutationObserver(function (mutations, observer) {{\n",
       "        var display = window.getComputedStyle(gd).display;\n",
       "        if (!display || display === 'none') {{\n",
       "            console.log([gd, 'removed!']);\n",
       "            Plotly.purge(gd);\n",
       "            observer.disconnect();\n",
       "        }}\n",
       "}});\n",
       "\n",
       "// Listen for the removal of the full notebook cells\n",
       "var notebookContainer = gd.closest('#notebook-container');\n",
       "if (notebookContainer) {{\n",
       "    x.observe(notebookContainer, {childList: true});\n",
       "}}\n",
       "\n",
       "// Listen for the clearing of the current output cell\n",
       "var outputEl = gd.closest('.output');\n",
       "if (outputEl) {{\n",
       "    x.observe(outputEl, {childList: true});\n",
       "}}\n",
       "\n",
       "                        })\n",
       "                };\n",
       "                });\n",
       "            </script>\n",
       "        </div>"
      ]
     },
     "metadata": {},
     "output_type": "display_data"
    }
   ],
   "source": [
    "from plotly.subplots import make_subplots\n",
    "import plotly.graph_objects as go\n",
    "import plotly.express as px\n",
    "\n",
    "fig_rate = make_subplots(specs=[[{\"secondary_y\": True}]])\n",
    "\n",
    "\n",
    "fig_rate.add_trace(\n",
    "    go.Bar(\n",
    "        x=yearly_states_total_data.year,\n",
    "        y=yearly_states_total_data.number, \n",
    "        name=\"Road Deaths\",   # change\n",
    "        opacity=1,\n",
    "        marker={'color': yearly_states_total_data.number, 'colorscale': 'YlGnBu'},\n",
    "    ),\n",
    "    secondary_y=False,\n",
    ")\n",
    "\n",
    "fig_rate.add_trace(\n",
    "    go.Scatter(\n",
    "        x=yearly_states_total_data.year,\n",
    "        y=yearly_states_total_data.rate, \n",
    "        name=\"Rate/pop\", #change\n",
    "        line=dict(width=1.5*2, color='darkred',dash='dash'), #change\n",
    "    ),\n",
    "    secondary_y=True,\n",
    ")\n",
    "\n",
    "# Add figure title\n",
    "fig_rate.update_layout(\n",
    "    title_text=\"<b>Road Deaths and fatality rate per 100,000 population from 1989 to 2019 in Australia<b>\",  # change\n",
    "    plot_bgcolor='white',  # change\n",
    ")\n",
    "\n",
    "# # Set x-axis title\n",
    "fig_rate.update_xaxes(title_text=\"<b>Yea<b>r\")   # change\n",
    "\n",
    "# # Set y-axes titles\n",
    "fig_rate.update_yaxes(title_text=\"<b>Total Number of Road Deaths</b>\", secondary_y=False)  # change\n",
    "fig_rate.update_yaxes(title_text=\"<b>Fatality Rate/100,000 population\", secondary_y=True)  # change\n",
    "\n",
    "fig_rate.show()\n",
    "\n",
    "# fig.show()\n",
    "\n"
   ]
  },
  {
   "cell_type": "markdown",
   "metadata": {},
   "source": [
    "## 1992: Road Safety 2000 Strategy\n",
    "## 2008: Economic Crisis"
   ]
  },
  {
   "cell_type": "code",
   "execution_count": null,
   "metadata": {},
   "outputs": [],
   "source": []
  },
  {
   "cell_type": "code",
   "execution_count": null,
   "metadata": {},
   "outputs": [],
   "source": []
  },
  {
   "cell_type": "markdown",
   "metadata": {},
   "source": [
    "# Chart"
   ]
  },
  {
   "cell_type": "code",
   "execution_count": 249,
   "metadata": {},
   "outputs": [
    {
     "name": "stdout",
     "output_type": "stream",
     "text": [
      "{'Driver': 23103, 'Motorcycle rider': 6362, 'Passenger': 12022, 'Motorcycle pillion passenger': 354, 'Pedal cyclist': 1379, 'Pedestrian': 8067, 'Other/-9': 81}\n"
     ]
    },
    {
     "data": {
      "text/html": [
       "<div>\n",
       "<style scoped>\n",
       "    .dataframe tbody tr th:only-of-type {\n",
       "        vertical-align: middle;\n",
       "    }\n",
       "\n",
       "    .dataframe tbody tr th {\n",
       "        vertical-align: top;\n",
       "    }\n",
       "\n",
       "    .dataframe thead th {\n",
       "        text-align: right;\n",
       "    }\n",
       "</style>\n",
       "<table border=\"1\" class=\"dataframe\">\n",
       "  <thead>\n",
       "    <tr style=\"text-align: right;\">\n",
       "      <th></th>\n",
       "      <th>user</th>\n",
       "      <th>number</th>\n",
       "    </tr>\n",
       "  </thead>\n",
       "  <tbody>\n",
       "    <tr>\n",
       "      <th>0</th>\n",
       "      <td>Driver</td>\n",
       "      <td>23103</td>\n",
       "    </tr>\n",
       "    <tr>\n",
       "      <th>1</th>\n",
       "      <td>Motorcycle rider</td>\n",
       "      <td>6362</td>\n",
       "    </tr>\n",
       "    <tr>\n",
       "      <th>2</th>\n",
       "      <td>Passenger</td>\n",
       "      <td>12022</td>\n",
       "    </tr>\n",
       "    <tr>\n",
       "      <th>3</th>\n",
       "      <td>Motorcycle pillion passenger</td>\n",
       "      <td>354</td>\n",
       "    </tr>\n",
       "    <tr>\n",
       "      <th>4</th>\n",
       "      <td>Pedal cyclist</td>\n",
       "      <td>1379</td>\n",
       "    </tr>\n",
       "  </tbody>\n",
       "</table>\n",
       "</div>"
      ],
      "text/plain": [
       "                           user  number\n",
       "0                        Driver   23103\n",
       "1              Motorcycle rider    6362\n",
       "2                     Passenger   12022\n",
       "3  Motorcycle pillion passenger     354\n",
       "4                 Pedal cyclist    1379"
      ]
     },
     "execution_count": 249,
     "metadata": {},
     "output_type": "execute_result"
    }
   ],
   "source": [
    "# Count the total_death for each states\n",
    "data_user = read_file('ardd_fatalities.csv')\n",
    "users_total = {}\n",
    "for user in data_user[\"Road User\"]:\n",
    "    if str(year) != \"2020\":\n",
    "        if user not in users_total:\n",
    "            users_total[user] = 1\n",
    "        else:\n",
    "            users_total[user] += 1\n",
    "print(users_total)\n",
    "\n",
    "re_dic = {\"user\":[],\"number\":[]}\n",
    "for key,value in users_total.items():\n",
    "    re_dic['user'].append(key)\n",
    "    re_dic[\"number\"].append(value)\n",
    "    \n",
    "users_total_data = pd.DataFrame(data=re_dic)\n",
    "users_total_data.head()"
   ]
  },
  {
   "cell_type": "code",
   "execution_count": 251,
   "metadata": {},
   "outputs": [
    {
     "data": {
      "application/vnd.plotly.v1+json": {
       "config": {
        "plotlyServerURL": "https://plot.ly"
       },
       "data": [
        {
         "domain": {
          "x": [
           0,
           1
          ],
          "y": [
           0,
           1
          ]
         },
         "hovertemplate": "user=%{label}<br>number=%{value}<extra></extra>",
         "labels": [
          "Driver",
          "Motorcycle rider",
          "Passenger",
          "Motorcycle pillion passenger",
          "Pedal cyclist",
          "Pedestrian",
          "Other/-9"
         ],
         "legendgroup": "",
         "name": "",
         "opacity": 0.7,
         "showlegend": true,
         "textinfo": "percent+label",
         "textposition": "inside",
         "type": "pie",
         "values": [
          23103,
          6362,
          12022,
          354,
          1379,
          8067,
          81
         ]
        }
       ],
       "layout": {
        "legend": {
         "tracegroupgap": 0
        },
        "piecolorway": [
         "rgb(8,29,88)",
         "rgb(37,52,148)",
         "rgb(34,94,168)",
         "rgb(29,145,192)",
         "rgb(65,182,196)",
         "rgb(127,205,187)",
         "rgb(199,233,180)",
         "rgb(237,248,177)",
         "rgb(255,255,217)"
        ],
        "template": {
         "data": {
          "bar": [
           {
            "error_x": {
             "color": "#2a3f5f"
            },
            "error_y": {
             "color": "#2a3f5f"
            },
            "marker": {
             "line": {
              "color": "#E5ECF6",
              "width": 0.5
             }
            },
            "type": "bar"
           }
          ],
          "barpolar": [
           {
            "marker": {
             "line": {
              "color": "#E5ECF6",
              "width": 0.5
             }
            },
            "type": "barpolar"
           }
          ],
          "carpet": [
           {
            "aaxis": {
             "endlinecolor": "#2a3f5f",
             "gridcolor": "white",
             "linecolor": "white",
             "minorgridcolor": "white",
             "startlinecolor": "#2a3f5f"
            },
            "baxis": {
             "endlinecolor": "#2a3f5f",
             "gridcolor": "white",
             "linecolor": "white",
             "minorgridcolor": "white",
             "startlinecolor": "#2a3f5f"
            },
            "type": "carpet"
           }
          ],
          "choropleth": [
           {
            "colorbar": {
             "outlinewidth": 0,
             "ticks": ""
            },
            "type": "choropleth"
           }
          ],
          "contour": [
           {
            "colorbar": {
             "outlinewidth": 0,
             "ticks": ""
            },
            "colorscale": [
             [
              0,
              "#0d0887"
             ],
             [
              0.1111111111111111,
              "#46039f"
             ],
             [
              0.2222222222222222,
              "#7201a8"
             ],
             [
              0.3333333333333333,
              "#9c179e"
             ],
             [
              0.4444444444444444,
              "#bd3786"
             ],
             [
              0.5555555555555556,
              "#d8576b"
             ],
             [
              0.6666666666666666,
              "#ed7953"
             ],
             [
              0.7777777777777778,
              "#fb9f3a"
             ],
             [
              0.8888888888888888,
              "#fdca26"
             ],
             [
              1,
              "#f0f921"
             ]
            ],
            "type": "contour"
           }
          ],
          "contourcarpet": [
           {
            "colorbar": {
             "outlinewidth": 0,
             "ticks": ""
            },
            "type": "contourcarpet"
           }
          ],
          "heatmap": [
           {
            "colorbar": {
             "outlinewidth": 0,
             "ticks": ""
            },
            "colorscale": [
             [
              0,
              "#0d0887"
             ],
             [
              0.1111111111111111,
              "#46039f"
             ],
             [
              0.2222222222222222,
              "#7201a8"
             ],
             [
              0.3333333333333333,
              "#9c179e"
             ],
             [
              0.4444444444444444,
              "#bd3786"
             ],
             [
              0.5555555555555556,
              "#d8576b"
             ],
             [
              0.6666666666666666,
              "#ed7953"
             ],
             [
              0.7777777777777778,
              "#fb9f3a"
             ],
             [
              0.8888888888888888,
              "#fdca26"
             ],
             [
              1,
              "#f0f921"
             ]
            ],
            "type": "heatmap"
           }
          ],
          "heatmapgl": [
           {
            "colorbar": {
             "outlinewidth": 0,
             "ticks": ""
            },
            "colorscale": [
             [
              0,
              "#0d0887"
             ],
             [
              0.1111111111111111,
              "#46039f"
             ],
             [
              0.2222222222222222,
              "#7201a8"
             ],
             [
              0.3333333333333333,
              "#9c179e"
             ],
             [
              0.4444444444444444,
              "#bd3786"
             ],
             [
              0.5555555555555556,
              "#d8576b"
             ],
             [
              0.6666666666666666,
              "#ed7953"
             ],
             [
              0.7777777777777778,
              "#fb9f3a"
             ],
             [
              0.8888888888888888,
              "#fdca26"
             ],
             [
              1,
              "#f0f921"
             ]
            ],
            "type": "heatmapgl"
           }
          ],
          "histogram": [
           {
            "marker": {
             "colorbar": {
              "outlinewidth": 0,
              "ticks": ""
             }
            },
            "type": "histogram"
           }
          ],
          "histogram2d": [
           {
            "colorbar": {
             "outlinewidth": 0,
             "ticks": ""
            },
            "colorscale": [
             [
              0,
              "#0d0887"
             ],
             [
              0.1111111111111111,
              "#46039f"
             ],
             [
              0.2222222222222222,
              "#7201a8"
             ],
             [
              0.3333333333333333,
              "#9c179e"
             ],
             [
              0.4444444444444444,
              "#bd3786"
             ],
             [
              0.5555555555555556,
              "#d8576b"
             ],
             [
              0.6666666666666666,
              "#ed7953"
             ],
             [
              0.7777777777777778,
              "#fb9f3a"
             ],
             [
              0.8888888888888888,
              "#fdca26"
             ],
             [
              1,
              "#f0f921"
             ]
            ],
            "type": "histogram2d"
           }
          ],
          "histogram2dcontour": [
           {
            "colorbar": {
             "outlinewidth": 0,
             "ticks": ""
            },
            "colorscale": [
             [
              0,
              "#0d0887"
             ],
             [
              0.1111111111111111,
              "#46039f"
             ],
             [
              0.2222222222222222,
              "#7201a8"
             ],
             [
              0.3333333333333333,
              "#9c179e"
             ],
             [
              0.4444444444444444,
              "#bd3786"
             ],
             [
              0.5555555555555556,
              "#d8576b"
             ],
             [
              0.6666666666666666,
              "#ed7953"
             ],
             [
              0.7777777777777778,
              "#fb9f3a"
             ],
             [
              0.8888888888888888,
              "#fdca26"
             ],
             [
              1,
              "#f0f921"
             ]
            ],
            "type": "histogram2dcontour"
           }
          ],
          "mesh3d": [
           {
            "colorbar": {
             "outlinewidth": 0,
             "ticks": ""
            },
            "type": "mesh3d"
           }
          ],
          "parcoords": [
           {
            "line": {
             "colorbar": {
              "outlinewidth": 0,
              "ticks": ""
             }
            },
            "type": "parcoords"
           }
          ],
          "pie": [
           {
            "automargin": true,
            "type": "pie"
           }
          ],
          "scatter": [
           {
            "marker": {
             "colorbar": {
              "outlinewidth": 0,
              "ticks": ""
             }
            },
            "type": "scatter"
           }
          ],
          "scatter3d": [
           {
            "line": {
             "colorbar": {
              "outlinewidth": 0,
              "ticks": ""
             }
            },
            "marker": {
             "colorbar": {
              "outlinewidth": 0,
              "ticks": ""
             }
            },
            "type": "scatter3d"
           }
          ],
          "scattercarpet": [
           {
            "marker": {
             "colorbar": {
              "outlinewidth": 0,
              "ticks": ""
             }
            },
            "type": "scattercarpet"
           }
          ],
          "scattergeo": [
           {
            "marker": {
             "colorbar": {
              "outlinewidth": 0,
              "ticks": ""
             }
            },
            "type": "scattergeo"
           }
          ],
          "scattergl": [
           {
            "marker": {
             "colorbar": {
              "outlinewidth": 0,
              "ticks": ""
             }
            },
            "type": "scattergl"
           }
          ],
          "scattermapbox": [
           {
            "marker": {
             "colorbar": {
              "outlinewidth": 0,
              "ticks": ""
             }
            },
            "type": "scattermapbox"
           }
          ],
          "scatterpolar": [
           {
            "marker": {
             "colorbar": {
              "outlinewidth": 0,
              "ticks": ""
             }
            },
            "type": "scatterpolar"
           }
          ],
          "scatterpolargl": [
           {
            "marker": {
             "colorbar": {
              "outlinewidth": 0,
              "ticks": ""
             }
            },
            "type": "scatterpolargl"
           }
          ],
          "scatterternary": [
           {
            "marker": {
             "colorbar": {
              "outlinewidth": 0,
              "ticks": ""
             }
            },
            "type": "scatterternary"
           }
          ],
          "surface": [
           {
            "colorbar": {
             "outlinewidth": 0,
             "ticks": ""
            },
            "colorscale": [
             [
              0,
              "#0d0887"
             ],
             [
              0.1111111111111111,
              "#46039f"
             ],
             [
              0.2222222222222222,
              "#7201a8"
             ],
             [
              0.3333333333333333,
              "#9c179e"
             ],
             [
              0.4444444444444444,
              "#bd3786"
             ],
             [
              0.5555555555555556,
              "#d8576b"
             ],
             [
              0.6666666666666666,
              "#ed7953"
             ],
             [
              0.7777777777777778,
              "#fb9f3a"
             ],
             [
              0.8888888888888888,
              "#fdca26"
             ],
             [
              1,
              "#f0f921"
             ]
            ],
            "type": "surface"
           }
          ],
          "table": [
           {
            "cells": {
             "fill": {
              "color": "#EBF0F8"
             },
             "line": {
              "color": "white"
             }
            },
            "header": {
             "fill": {
              "color": "#C8D4E3"
             },
             "line": {
              "color": "white"
             }
            },
            "type": "table"
           }
          ]
         },
         "layout": {
          "annotationdefaults": {
           "arrowcolor": "#2a3f5f",
           "arrowhead": 0,
           "arrowwidth": 1
          },
          "coloraxis": {
           "colorbar": {
            "outlinewidth": 0,
            "ticks": ""
           }
          },
          "colorscale": {
           "diverging": [
            [
             0,
             "#8e0152"
            ],
            [
             0.1,
             "#c51b7d"
            ],
            [
             0.2,
             "#de77ae"
            ],
            [
             0.3,
             "#f1b6da"
            ],
            [
             0.4,
             "#fde0ef"
            ],
            [
             0.5,
             "#f7f7f7"
            ],
            [
             0.6,
             "#e6f5d0"
            ],
            [
             0.7,
             "#b8e186"
            ],
            [
             0.8,
             "#7fbc41"
            ],
            [
             0.9,
             "#4d9221"
            ],
            [
             1,
             "#276419"
            ]
           ],
           "sequential": [
            [
             0,
             "#0d0887"
            ],
            [
             0.1111111111111111,
             "#46039f"
            ],
            [
             0.2222222222222222,
             "#7201a8"
            ],
            [
             0.3333333333333333,
             "#9c179e"
            ],
            [
             0.4444444444444444,
             "#bd3786"
            ],
            [
             0.5555555555555556,
             "#d8576b"
            ],
            [
             0.6666666666666666,
             "#ed7953"
            ],
            [
             0.7777777777777778,
             "#fb9f3a"
            ],
            [
             0.8888888888888888,
             "#fdca26"
            ],
            [
             1,
             "#f0f921"
            ]
           ],
           "sequentialminus": [
            [
             0,
             "#0d0887"
            ],
            [
             0.1111111111111111,
             "#46039f"
            ],
            [
             0.2222222222222222,
             "#7201a8"
            ],
            [
             0.3333333333333333,
             "#9c179e"
            ],
            [
             0.4444444444444444,
             "#bd3786"
            ],
            [
             0.5555555555555556,
             "#d8576b"
            ],
            [
             0.6666666666666666,
             "#ed7953"
            ],
            [
             0.7777777777777778,
             "#fb9f3a"
            ],
            [
             0.8888888888888888,
             "#fdca26"
            ],
            [
             1,
             "#f0f921"
            ]
           ]
          },
          "colorway": [
           "#636efa",
           "#EF553B",
           "#00cc96",
           "#ab63fa",
           "#FFA15A",
           "#19d3f3",
           "#FF6692",
           "#B6E880",
           "#FF97FF",
           "#FECB52"
          ],
          "font": {
           "color": "#2a3f5f"
          },
          "geo": {
           "bgcolor": "white",
           "lakecolor": "white",
           "landcolor": "#E5ECF6",
           "showlakes": true,
           "showland": true,
           "subunitcolor": "white"
          },
          "hoverlabel": {
           "align": "left"
          },
          "hovermode": "closest",
          "mapbox": {
           "style": "light"
          },
          "paper_bgcolor": "white",
          "plot_bgcolor": "#E5ECF6",
          "polar": {
           "angularaxis": {
            "gridcolor": "white",
            "linecolor": "white",
            "ticks": ""
           },
           "bgcolor": "#E5ECF6",
           "radialaxis": {
            "gridcolor": "white",
            "linecolor": "white",
            "ticks": ""
           }
          },
          "scene": {
           "xaxis": {
            "backgroundcolor": "#E5ECF6",
            "gridcolor": "white",
            "gridwidth": 2,
            "linecolor": "white",
            "showbackground": true,
            "ticks": "",
            "zerolinecolor": "white"
           },
           "yaxis": {
            "backgroundcolor": "#E5ECF6",
            "gridcolor": "white",
            "gridwidth": 2,
            "linecolor": "white",
            "showbackground": true,
            "ticks": "",
            "zerolinecolor": "white"
           },
           "zaxis": {
            "backgroundcolor": "#E5ECF6",
            "gridcolor": "white",
            "gridwidth": 2,
            "linecolor": "white",
            "showbackground": true,
            "ticks": "",
            "zerolinecolor": "white"
           }
          },
          "shapedefaults": {
           "line": {
            "color": "#2a3f5f"
           }
          },
          "ternary": {
           "aaxis": {
            "gridcolor": "white",
            "linecolor": "white",
            "ticks": ""
           },
           "baxis": {
            "gridcolor": "white",
            "linecolor": "white",
            "ticks": ""
           },
           "bgcolor": "#E5ECF6",
           "caxis": {
            "gridcolor": "white",
            "linecolor": "white",
            "ticks": ""
           }
          },
          "title": {
           "x": 0.05
          },
          "xaxis": {
           "automargin": true,
           "gridcolor": "white",
           "linecolor": "white",
           "ticks": "",
           "title": {
            "standoff": 15
           },
           "zerolinecolor": "white",
           "zerolinewidth": 2
          },
          "yaxis": {
           "automargin": true,
           "gridcolor": "white",
           "linecolor": "white",
           "ticks": "",
           "title": {
            "standoff": 15
           },
           "zerolinecolor": "white",
           "zerolinewidth": 2
          }
         }
        },
        "title": {
         "text": "<b>Road Deaths by user type from 1989-2019 in Australia<b>"
        }
       }
      },
      "text/html": [
       "<div>\n",
       "        \n",
       "        \n",
       "            <div id=\"8c26ca97-167b-48e4-9b19-607c08f189b9\" class=\"plotly-graph-div\" style=\"height:525px; width:100%;\"></div>\n",
       "            <script type=\"text/javascript\">\n",
       "                require([\"plotly\"], function(Plotly) {\n",
       "                    window.PLOTLYENV=window.PLOTLYENV || {};\n",
       "                    \n",
       "                if (document.getElementById(\"8c26ca97-167b-48e4-9b19-607c08f189b9\")) {\n",
       "                    Plotly.newPlot(\n",
       "                        '8c26ca97-167b-48e4-9b19-607c08f189b9',\n",
       "                        [{\"domain\": {\"x\": [0.0, 1.0], \"y\": [0.0, 1.0]}, \"hovertemplate\": \"user=%{label}<br>number=%{value}<extra></extra>\", \"labels\": [\"Driver\", \"Motorcycle rider\", \"Passenger\", \"Motorcycle pillion passenger\", \"Pedal cyclist\", \"Pedestrian\", \"Other/-9\"], \"legendgroup\": \"\", \"name\": \"\", \"opacity\": 0.7, \"showlegend\": true, \"textinfo\": \"percent+label\", \"textposition\": \"inside\", \"type\": \"pie\", \"values\": [23103, 6362, 12022, 354, 1379, 8067, 81]}],\n",
       "                        {\"legend\": {\"tracegroupgap\": 0}, \"piecolorway\": [\"rgb(8,29,88)\", \"rgb(37,52,148)\", \"rgb(34,94,168)\", \"rgb(29,145,192)\", \"rgb(65,182,196)\", \"rgb(127,205,187)\", \"rgb(199,233,180)\", \"rgb(237,248,177)\", \"rgb(255,255,217)\"], \"template\": {\"data\": {\"bar\": [{\"error_x\": {\"color\": \"#2a3f5f\"}, \"error_y\": {\"color\": \"#2a3f5f\"}, \"marker\": {\"line\": {\"color\": \"#E5ECF6\", \"width\": 0.5}}, \"type\": \"bar\"}], \"barpolar\": [{\"marker\": {\"line\": {\"color\": \"#E5ECF6\", \"width\": 0.5}}, \"type\": \"barpolar\"}], \"carpet\": [{\"aaxis\": {\"endlinecolor\": \"#2a3f5f\", \"gridcolor\": \"white\", \"linecolor\": \"white\", \"minorgridcolor\": \"white\", \"startlinecolor\": \"#2a3f5f\"}, \"baxis\": {\"endlinecolor\": \"#2a3f5f\", \"gridcolor\": \"white\", \"linecolor\": \"white\", \"minorgridcolor\": \"white\", \"startlinecolor\": \"#2a3f5f\"}, \"type\": \"carpet\"}], \"choropleth\": [{\"colorbar\": {\"outlinewidth\": 0, \"ticks\": \"\"}, \"type\": \"choropleth\"}], \"contour\": [{\"colorbar\": {\"outlinewidth\": 0, \"ticks\": \"\"}, \"colorscale\": [[0.0, \"#0d0887\"], [0.1111111111111111, \"#46039f\"], [0.2222222222222222, \"#7201a8\"], [0.3333333333333333, \"#9c179e\"], [0.4444444444444444, \"#bd3786\"], [0.5555555555555556, \"#d8576b\"], [0.6666666666666666, \"#ed7953\"], [0.7777777777777778, \"#fb9f3a\"], [0.8888888888888888, \"#fdca26\"], [1.0, \"#f0f921\"]], \"type\": \"contour\"}], \"contourcarpet\": [{\"colorbar\": {\"outlinewidth\": 0, \"ticks\": \"\"}, \"type\": \"contourcarpet\"}], \"heatmap\": [{\"colorbar\": {\"outlinewidth\": 0, \"ticks\": \"\"}, \"colorscale\": [[0.0, \"#0d0887\"], [0.1111111111111111, \"#46039f\"], [0.2222222222222222, \"#7201a8\"], [0.3333333333333333, \"#9c179e\"], [0.4444444444444444, \"#bd3786\"], [0.5555555555555556, \"#d8576b\"], [0.6666666666666666, \"#ed7953\"], [0.7777777777777778, \"#fb9f3a\"], [0.8888888888888888, \"#fdca26\"], [1.0, \"#f0f921\"]], \"type\": \"heatmap\"}], \"heatmapgl\": [{\"colorbar\": {\"outlinewidth\": 0, \"ticks\": \"\"}, \"colorscale\": [[0.0, \"#0d0887\"], [0.1111111111111111, \"#46039f\"], [0.2222222222222222, \"#7201a8\"], [0.3333333333333333, \"#9c179e\"], [0.4444444444444444, \"#bd3786\"], [0.5555555555555556, \"#d8576b\"], [0.6666666666666666, \"#ed7953\"], [0.7777777777777778, \"#fb9f3a\"], [0.8888888888888888, \"#fdca26\"], [1.0, \"#f0f921\"]], \"type\": \"heatmapgl\"}], \"histogram\": [{\"marker\": {\"colorbar\": {\"outlinewidth\": 0, \"ticks\": \"\"}}, \"type\": \"histogram\"}], \"histogram2d\": [{\"colorbar\": {\"outlinewidth\": 0, \"ticks\": \"\"}, \"colorscale\": [[0.0, \"#0d0887\"], [0.1111111111111111, \"#46039f\"], [0.2222222222222222, \"#7201a8\"], [0.3333333333333333, \"#9c179e\"], [0.4444444444444444, \"#bd3786\"], [0.5555555555555556, \"#d8576b\"], [0.6666666666666666, \"#ed7953\"], [0.7777777777777778, \"#fb9f3a\"], [0.8888888888888888, \"#fdca26\"], [1.0, \"#f0f921\"]], \"type\": \"histogram2d\"}], \"histogram2dcontour\": [{\"colorbar\": {\"outlinewidth\": 0, \"ticks\": \"\"}, \"colorscale\": [[0.0, \"#0d0887\"], [0.1111111111111111, \"#46039f\"], [0.2222222222222222, \"#7201a8\"], [0.3333333333333333, \"#9c179e\"], [0.4444444444444444, \"#bd3786\"], [0.5555555555555556, \"#d8576b\"], [0.6666666666666666, \"#ed7953\"], [0.7777777777777778, \"#fb9f3a\"], [0.8888888888888888, \"#fdca26\"], [1.0, \"#f0f921\"]], \"type\": \"histogram2dcontour\"}], \"mesh3d\": [{\"colorbar\": {\"outlinewidth\": 0, \"ticks\": \"\"}, \"type\": \"mesh3d\"}], \"parcoords\": [{\"line\": {\"colorbar\": {\"outlinewidth\": 0, \"ticks\": \"\"}}, \"type\": \"parcoords\"}], \"pie\": [{\"automargin\": true, \"type\": \"pie\"}], \"scatter\": [{\"marker\": {\"colorbar\": {\"outlinewidth\": 0, \"ticks\": \"\"}}, \"type\": \"scatter\"}], \"scatter3d\": [{\"line\": {\"colorbar\": {\"outlinewidth\": 0, \"ticks\": \"\"}}, \"marker\": {\"colorbar\": {\"outlinewidth\": 0, \"ticks\": \"\"}}, \"type\": \"scatter3d\"}], \"scattercarpet\": [{\"marker\": {\"colorbar\": {\"outlinewidth\": 0, \"ticks\": \"\"}}, \"type\": \"scattercarpet\"}], \"scattergeo\": [{\"marker\": {\"colorbar\": {\"outlinewidth\": 0, \"ticks\": \"\"}}, \"type\": \"scattergeo\"}], \"scattergl\": [{\"marker\": {\"colorbar\": {\"outlinewidth\": 0, \"ticks\": \"\"}}, \"type\": \"scattergl\"}], \"scattermapbox\": [{\"marker\": {\"colorbar\": {\"outlinewidth\": 0, \"ticks\": \"\"}}, \"type\": \"scattermapbox\"}], \"scatterpolar\": [{\"marker\": {\"colorbar\": {\"outlinewidth\": 0, \"ticks\": \"\"}}, \"type\": \"scatterpolar\"}], \"scatterpolargl\": [{\"marker\": {\"colorbar\": {\"outlinewidth\": 0, \"ticks\": \"\"}}, \"type\": \"scatterpolargl\"}], \"scatterternary\": [{\"marker\": {\"colorbar\": {\"outlinewidth\": 0, \"ticks\": \"\"}}, \"type\": \"scatterternary\"}], \"surface\": [{\"colorbar\": {\"outlinewidth\": 0, \"ticks\": \"\"}, \"colorscale\": [[0.0, \"#0d0887\"], [0.1111111111111111, \"#46039f\"], [0.2222222222222222, \"#7201a8\"], [0.3333333333333333, \"#9c179e\"], [0.4444444444444444, \"#bd3786\"], [0.5555555555555556, \"#d8576b\"], [0.6666666666666666, \"#ed7953\"], [0.7777777777777778, \"#fb9f3a\"], [0.8888888888888888, \"#fdca26\"], [1.0, \"#f0f921\"]], \"type\": \"surface\"}], \"table\": [{\"cells\": {\"fill\": {\"color\": \"#EBF0F8\"}, \"line\": {\"color\": \"white\"}}, \"header\": {\"fill\": {\"color\": \"#C8D4E3\"}, \"line\": {\"color\": \"white\"}}, \"type\": \"table\"}]}, \"layout\": {\"annotationdefaults\": {\"arrowcolor\": \"#2a3f5f\", \"arrowhead\": 0, \"arrowwidth\": 1}, \"coloraxis\": {\"colorbar\": {\"outlinewidth\": 0, \"ticks\": \"\"}}, \"colorscale\": {\"diverging\": [[0, \"#8e0152\"], [0.1, \"#c51b7d\"], [0.2, \"#de77ae\"], [0.3, \"#f1b6da\"], [0.4, \"#fde0ef\"], [0.5, \"#f7f7f7\"], [0.6, \"#e6f5d0\"], [0.7, \"#b8e186\"], [0.8, \"#7fbc41\"], [0.9, \"#4d9221\"], [1, \"#276419\"]], \"sequential\": [[0.0, \"#0d0887\"], [0.1111111111111111, \"#46039f\"], [0.2222222222222222, \"#7201a8\"], [0.3333333333333333, \"#9c179e\"], [0.4444444444444444, \"#bd3786\"], [0.5555555555555556, \"#d8576b\"], [0.6666666666666666, \"#ed7953\"], [0.7777777777777778, \"#fb9f3a\"], [0.8888888888888888, \"#fdca26\"], [1.0, \"#f0f921\"]], \"sequentialminus\": [[0.0, \"#0d0887\"], [0.1111111111111111, \"#46039f\"], [0.2222222222222222, \"#7201a8\"], [0.3333333333333333, \"#9c179e\"], [0.4444444444444444, \"#bd3786\"], [0.5555555555555556, \"#d8576b\"], [0.6666666666666666, \"#ed7953\"], [0.7777777777777778, \"#fb9f3a\"], [0.8888888888888888, \"#fdca26\"], [1.0, \"#f0f921\"]]}, \"colorway\": [\"#636efa\", \"#EF553B\", \"#00cc96\", \"#ab63fa\", \"#FFA15A\", \"#19d3f3\", \"#FF6692\", \"#B6E880\", \"#FF97FF\", \"#FECB52\"], \"font\": {\"color\": \"#2a3f5f\"}, \"geo\": {\"bgcolor\": \"white\", \"lakecolor\": \"white\", \"landcolor\": \"#E5ECF6\", \"showlakes\": true, \"showland\": true, \"subunitcolor\": \"white\"}, \"hoverlabel\": {\"align\": \"left\"}, \"hovermode\": \"closest\", \"mapbox\": {\"style\": \"light\"}, \"paper_bgcolor\": \"white\", \"plot_bgcolor\": \"#E5ECF6\", \"polar\": {\"angularaxis\": {\"gridcolor\": \"white\", \"linecolor\": \"white\", \"ticks\": \"\"}, \"bgcolor\": \"#E5ECF6\", \"radialaxis\": {\"gridcolor\": \"white\", \"linecolor\": \"white\", \"ticks\": \"\"}}, \"scene\": {\"xaxis\": {\"backgroundcolor\": \"#E5ECF6\", \"gridcolor\": \"white\", \"gridwidth\": 2, \"linecolor\": \"white\", \"showbackground\": true, \"ticks\": \"\", \"zerolinecolor\": \"white\"}, \"yaxis\": {\"backgroundcolor\": \"#E5ECF6\", \"gridcolor\": \"white\", \"gridwidth\": 2, \"linecolor\": \"white\", \"showbackground\": true, \"ticks\": \"\", \"zerolinecolor\": \"white\"}, \"zaxis\": {\"backgroundcolor\": \"#E5ECF6\", \"gridcolor\": \"white\", \"gridwidth\": 2, \"linecolor\": \"white\", \"showbackground\": true, \"ticks\": \"\", \"zerolinecolor\": \"white\"}}, \"shapedefaults\": {\"line\": {\"color\": \"#2a3f5f\"}}, \"ternary\": {\"aaxis\": {\"gridcolor\": \"white\", \"linecolor\": \"white\", \"ticks\": \"\"}, \"baxis\": {\"gridcolor\": \"white\", \"linecolor\": \"white\", \"ticks\": \"\"}, \"bgcolor\": \"#E5ECF6\", \"caxis\": {\"gridcolor\": \"white\", \"linecolor\": \"white\", \"ticks\": \"\"}}, \"title\": {\"x\": 0.05}, \"xaxis\": {\"automargin\": true, \"gridcolor\": \"white\", \"linecolor\": \"white\", \"ticks\": \"\", \"title\": {\"standoff\": 15}, \"zerolinecolor\": \"white\", \"zerolinewidth\": 2}, \"yaxis\": {\"automargin\": true, \"gridcolor\": \"white\", \"linecolor\": \"white\", \"ticks\": \"\", \"title\": {\"standoff\": 15}, \"zerolinecolor\": \"white\", \"zerolinewidth\": 2}}}, \"title\": {\"text\": \"<b>Road Deaths by user type from 1989-2019 in Australia<b>\"}},\n",
       "                        {\"responsive\": true}\n",
       "                    ).then(function(){\n",
       "                            \n",
       "var gd = document.getElementById('8c26ca97-167b-48e4-9b19-607c08f189b9');\n",
       "var x = new MutationObserver(function (mutations, observer) {{\n",
       "        var display = window.getComputedStyle(gd).display;\n",
       "        if (!display || display === 'none') {{\n",
       "            console.log([gd, 'removed!']);\n",
       "            Plotly.purge(gd);\n",
       "            observer.disconnect();\n",
       "        }}\n",
       "}});\n",
       "\n",
       "// Listen for the removal of the full notebook cells\n",
       "var notebookContainer = gd.closest('#notebook-container');\n",
       "if (notebookContainer) {{\n",
       "    x.observe(notebookContainer, {childList: true});\n",
       "}}\n",
       "\n",
       "// Listen for the clearing of the current output cell\n",
       "var outputEl = gd.closest('.output');\n",
       "if (outputEl) {{\n",
       "    x.observe(outputEl, {childList: true});\n",
       "}}\n",
       "\n",
       "                        })\n",
       "                };\n",
       "                });\n",
       "            </script>\n",
       "        </div>"
      ]
     },
     "metadata": {},
     "output_type": "display_data"
    }
   ],
   "source": [
    "import plotly.express as px\n",
    "\n",
    "fig_user = px.pie(users_total_data, \n",
    "             title='<b>Road Deaths by user type from 1989-2019 in Australia<b>',\n",
    "             values='number', \n",
    "             names='user',\n",
    "             opacity=0.7,\n",
    "             color_discrete_sequence=px.colors.sequential.YlGnBu_r\n",
    "            )\n",
    "\n",
    "fig_user.update_traces(textposition='inside', textinfo='percent+label'\n",
    "                 )\n",
    "fig_user.show()"
   ]
  },
  {
   "cell_type": "code",
   "execution_count": 252,
   "metadata": {},
   "outputs": [
    {
     "data": {
      "text/html": [
       "<div>\n",
       "<style scoped>\n",
       "    .dataframe tbody tr th:only-of-type {\n",
       "        vertical-align: middle;\n",
       "    }\n",
       "\n",
       "    .dataframe tbody tr th {\n",
       "        vertical-align: top;\n",
       "    }\n",
       "\n",
       "    .dataframe thead th {\n",
       "        text-align: right;\n",
       "    }\n",
       "</style>\n",
       "<table border=\"1\" class=\"dataframe\">\n",
       "  <thead>\n",
       "    <tr style=\"text-align: right;\">\n",
       "      <th></th>\n",
       "      <th>year</th>\n",
       "      <th>state</th>\n",
       "      <th>number</th>\n",
       "    </tr>\n",
       "  </thead>\n",
       "  <tbody>\n",
       "    <tr>\n",
       "      <th>0</th>\n",
       "      <td>2019</td>\n",
       "      <td>SA</td>\n",
       "      <td>114</td>\n",
       "    </tr>\n",
       "    <tr>\n",
       "      <th>1</th>\n",
       "      <td>2019</td>\n",
       "      <td>WA</td>\n",
       "      <td>163</td>\n",
       "    </tr>\n",
       "    <tr>\n",
       "      <th>2</th>\n",
       "      <td>2019</td>\n",
       "      <td>NSW</td>\n",
       "      <td>357</td>\n",
       "    </tr>\n",
       "    <tr>\n",
       "      <th>3</th>\n",
       "      <td>2019</td>\n",
       "      <td>Qld</td>\n",
       "      <td>219</td>\n",
       "    </tr>\n",
       "    <tr>\n",
       "      <th>4</th>\n",
       "      <td>2019</td>\n",
       "      <td>Tas</td>\n",
       "      <td>29</td>\n",
       "    </tr>\n",
       "  </tbody>\n",
       "</table>\n",
       "</div>"
      ],
      "text/plain": [
       "   year state  number\n",
       "0  2019    SA     114\n",
       "1  2019    WA     163\n",
       "2  2019   NSW     357\n",
       "3  2019   Qld     219\n",
       "4  2019   Tas      29"
      ]
     },
     "execution_count": 252,
     "metadata": {},
     "output_type": "execute_result"
    }
   ],
   "source": [
    "# read the file\n",
    "data = read_file('ardd_fatalities.csv')\n",
    "\n",
    "data_plot = {}\n",
    "# check_2019 = 0\n",
    "for year,states in zip(data[\"Year\"],data[\"State\"]):\n",
    "    if str(year) != \"2020\":\n",
    "        if year not in data_plot:\n",
    "            data_plot[year] = {}\n",
    "        elif states not in data_plot[year]:\n",
    "            data_plot[year][states] = 1\n",
    "        else:\n",
    "            data_plot[year][states] += 1\n",
    "\n",
    "cvs_data = {}\n",
    "for year in data_plot: \n",
    "    if not bool(cvs_data):\n",
    "        cvs_data[\"year\"] = []\n",
    "        cvs_data[\"state\"] = []\n",
    "        cvs_data[\"number\"] = []\n",
    "    for states,values in data_plot[year].items():\n",
    "        cvs_data[\"year\"].append(year)\n",
    "        cvs_data[\"state\"].append(states)\n",
    "        cvs_data[\"number\"].append(values)\n",
    "cvs_data = pd.DataFrame(data=cvs_data)\n",
    "cvs_data.head()"
   ]
  },
  {
   "cell_type": "code",
   "execution_count": 253,
   "metadata": {
    "scrolled": true
   },
   "outputs": [
    {
     "data": {
      "text/html": [
       "<div>\n",
       "<style scoped>\n",
       "    .dataframe tbody tr th:only-of-type {\n",
       "        vertical-align: middle;\n",
       "    }\n",
       "\n",
       "    .dataframe tbody tr th {\n",
       "        vertical-align: top;\n",
       "    }\n",
       "\n",
       "    .dataframe thead th {\n",
       "        text-align: right;\n",
       "    }\n",
       "</style>\n",
       "<table border=\"1\" class=\"dataframe\">\n",
       "  <thead>\n",
       "    <tr style=\"text-align: right;\">\n",
       "      <th></th>\n",
       "      <th>age</th>\n",
       "      <th>gender</th>\n",
       "      <th>number</th>\n",
       "    </tr>\n",
       "  </thead>\n",
       "  <tbody>\n",
       "    <tr>\n",
       "      <th>0</th>\n",
       "      <td>5</td>\n",
       "      <td>Male</td>\n",
       "      <td>111</td>\n",
       "    </tr>\n",
       "    <tr>\n",
       "      <th>1</th>\n",
       "      <td>5</td>\n",
       "      <td>Female</td>\n",
       "      <td>75</td>\n",
       "    </tr>\n",
       "    <tr>\n",
       "      <th>2</th>\n",
       "      <td>18</td>\n",
       "      <td>Male</td>\n",
       "      <td>1435</td>\n",
       "    </tr>\n",
       "    <tr>\n",
       "      <th>3</th>\n",
       "      <td>18</td>\n",
       "      <td>Female</td>\n",
       "      <td>469</td>\n",
       "    </tr>\n",
       "    <tr>\n",
       "      <th>4</th>\n",
       "      <td>31</td>\n",
       "      <td>Male</td>\n",
       "      <td>710</td>\n",
       "    </tr>\n",
       "  </tbody>\n",
       "</table>\n",
       "</div>"
      ],
      "text/plain": [
       "  age  gender  number\n",
       "0   5    Male     111\n",
       "1   5  Female      75\n",
       "2  18    Male    1435\n",
       "3  18  Female     469\n",
       "4  31    Male     710"
      ]
     },
     "execution_count": 253,
     "metadata": {},
     "output_type": "execute_result"
    }
   ],
   "source": [
    "# Count the total_death for each states\n",
    "data_age = read_file('ardd_fatalities.csv')\n",
    "ages_total = {}\n",
    "\n",
    "for age,gender,year in zip(data_age[\"Age\"],data_age['Gender'],data_age['Year']):\n",
    "    if str(year) != '2020' and str(gender) != '-9'and str(gender) != 'Unspecified': \n",
    "        if age not in ages_total:\n",
    "            ages_total[age] = {}             \n",
    "        elif gender not in ages_total[age]: \n",
    "            ages_total[age][gender] = 1\n",
    "        else: \n",
    "             ages_total[age][gender] += 1 \n",
    "\n",
    "\n",
    "cvs_ages_total = {}\n",
    "for age in ages_total: \n",
    "    if not bool(cvs_ages_total):\n",
    "        cvs_ages_total[\"age\"] = []\n",
    "        cvs_ages_total[\"gender\"] = []\n",
    "        cvs_ages_total[\"number\"] = []\n",
    "    for gender,values in ages_total[age].items():\n",
    "        cvs_ages_total[\"age\"].append(age)\n",
    "        cvs_ages_total[\"gender\"].append(gender)\n",
    "        cvs_ages_total[\"number\"].append(values)\n",
    "        \n",
    "# print(cvs_ages_total)\n",
    "cvs_ages_total = pd.DataFrame(data=cvs_ages_total)\n",
    "cvs_ages_total.head()"
   ]
  },
  {
   "cell_type": "code",
   "execution_count": 246,
   "metadata": {},
   "outputs": [
    {
     "data": {
      "application/vnd.plotly.v1+json": {
       "config": {
        "plotlyServerURL": "https://plot.ly"
       },
       "data": [
        {
         "alignmentgroup": "True",
         "bingroup": "x",
         "histfunc": "sum",
         "hovertemplate": "gender=Male<br>age=%{x}<br>sum of number=%{y}<extra></extra>",
         "legendgroup": "Male",
         "marker": {
          "color": "#7fcdbb",
          "opacity": 0.8
         },
         "name": "Male",
         "offsetgroup": "Male",
         "orientation": "v",
         "showlegend": true,
         "type": "histogram",
         "x": [
          "5",
          "18",
          "31",
          "29",
          "54",
          "24",
          "36",
          "35",
          "26",
          "37",
          "41",
          "28",
          "76",
          "90",
          "65",
          "25",
          "38",
          "50",
          "57",
          "56",
          "22",
          "32",
          "27",
          "46",
          "69",
          "62",
          "87",
          "81",
          "14",
          "95",
          "23",
          "34",
          "45",
          "16",
          "20",
          "47",
          "30",
          "19",
          "6",
          "17",
          "39",
          "60",
          "52",
          "58",
          "71",
          "67",
          "33",
          "43",
          "51",
          "59",
          "64",
          "40",
          "74",
          "49",
          "75",
          "55",
          "9",
          "66",
          "77",
          "53",
          "44",
          "21",
          "12",
          "72",
          "86",
          "63",
          "10",
          "8",
          "73",
          "79",
          "85",
          "80",
          "78",
          "97",
          "82",
          "88",
          "61",
          "48",
          "42",
          "2",
          "15",
          "68",
          "94",
          "70",
          "83",
          "84",
          "89",
          "93",
          "92",
          "1",
          "4",
          "99",
          "91",
          "7",
          "0",
          "11",
          "3",
          "-9",
          "13",
          "96",
          "98"
         ],
         "xaxis": "x",
         "y": [
          111,
          1435,
          710,
          770,
          335,
          928,
          637,
          546,
          866,
          526,
          514,
          771,
          253,
          68,
          245,
          934,
          505,
          378,
          282,
          326,
          1125,
          674,
          815,
          447,
          247,
          290,
          113,
          186,
          172,
          9,
          1067,
          602,
          459,
          491,
          1296,
          411,
          712,
          1335,
          89,
          971,
          513,
          283,
          341,
          280,
          211,
          238,
          628,
          471,
          362,
          290,
          252,
          545,
          200,
          406,
          228,
          313,
          96,
          272,
          203,
          319,
          431,
          1212,
          113,
          204,
          140,
          242,
          112,
          103,
          238,
          223,
          117,
          241,
          236,
          5,
          194,
          86,
          269,
          403,
          465,
          120,
          291,
          226,
          22,
          248,
          153,
          148,
          68,
          30,
          48,
          96,
          113,
          1,
          50,
          83,
          105,
          87,
          107,
          51,
          131,
          9,
          3
         ],
         "yaxis": "y"
        },
        {
         "alignmentgroup": "True",
         "customdata": [
          [
           "5",
           "Male",
           111
          ],
          [
           "18",
           "Male",
           1435
          ],
          [
           "31",
           "Male",
           710
          ],
          [
           "29",
           "Male",
           770
          ],
          [
           "54",
           "Male",
           335
          ],
          [
           "24",
           "Male",
           928
          ],
          [
           "36",
           "Male",
           637
          ],
          [
           "35",
           "Male",
           546
          ],
          [
           "26",
           "Male",
           866
          ],
          [
           "37",
           "Male",
           526
          ],
          [
           "41",
           "Male",
           514
          ],
          [
           "28",
           "Male",
           771
          ],
          [
           "76",
           "Male",
           253
          ],
          [
           "90",
           "Male",
           68
          ],
          [
           "65",
           "Male",
           245
          ],
          [
           "25",
           "Male",
           934
          ],
          [
           "38",
           "Male",
           505
          ],
          [
           "50",
           "Male",
           378
          ],
          [
           "57",
           "Male",
           282
          ],
          [
           "56",
           "Male",
           326
          ],
          [
           "22",
           "Male",
           1125
          ],
          [
           "32",
           "Male",
           674
          ],
          [
           "27",
           "Male",
           815
          ],
          [
           "46",
           "Male",
           447
          ],
          [
           "69",
           "Male",
           247
          ],
          [
           "62",
           "Male",
           290
          ],
          [
           "87",
           "Male",
           113
          ],
          [
           "81",
           "Male",
           186
          ],
          [
           "14",
           "Male",
           172
          ],
          [
           "95",
           "Male",
           9
          ],
          [
           "23",
           "Male",
           1067
          ],
          [
           "34",
           "Male",
           602
          ],
          [
           "45",
           "Male",
           459
          ],
          [
           "16",
           "Male",
           491
          ],
          [
           "20",
           "Male",
           1296
          ],
          [
           "47",
           "Male",
           411
          ],
          [
           "30",
           "Male",
           712
          ],
          [
           "19",
           "Male",
           1335
          ],
          [
           "6",
           "Male",
           89
          ],
          [
           "17",
           "Male",
           971
          ],
          [
           "39",
           "Male",
           513
          ],
          [
           "60",
           "Male",
           283
          ],
          [
           "52",
           "Male",
           341
          ],
          [
           "58",
           "Male",
           280
          ],
          [
           "71",
           "Male",
           211
          ],
          [
           "67",
           "Male",
           238
          ],
          [
           "33",
           "Male",
           628
          ],
          [
           "43",
           "Male",
           471
          ],
          [
           "51",
           "Male",
           362
          ],
          [
           "59",
           "Male",
           290
          ],
          [
           "64",
           "Male",
           252
          ],
          [
           "40",
           "Male",
           545
          ],
          [
           "74",
           "Male",
           200
          ],
          [
           "49",
           "Male",
           406
          ],
          [
           "75",
           "Male",
           228
          ],
          [
           "55",
           "Male",
           313
          ],
          [
           "9",
           "Male",
           96
          ],
          [
           "66",
           "Male",
           272
          ],
          [
           "77",
           "Male",
           203
          ],
          [
           "53",
           "Male",
           319
          ],
          [
           "44",
           "Male",
           431
          ],
          [
           "21",
           "Male",
           1212
          ],
          [
           "12",
           "Male",
           113
          ],
          [
           "72",
           "Male",
           204
          ],
          [
           "86",
           "Male",
           140
          ],
          [
           "63",
           "Male",
           242
          ],
          [
           "10",
           "Male",
           112
          ],
          [
           "8",
           "Male",
           103
          ],
          [
           "73",
           "Male",
           238
          ],
          [
           "79",
           "Male",
           223
          ],
          [
           "85",
           "Male",
           117
          ],
          [
           "80",
           "Male",
           241
          ],
          [
           "78",
           "Male",
           236
          ],
          [
           "97",
           "Male",
           5
          ],
          [
           "82",
           "Male",
           194
          ],
          [
           "88",
           "Male",
           86
          ],
          [
           "61",
           "Male",
           269
          ],
          [
           "48",
           "Male",
           403
          ],
          [
           "42",
           "Male",
           465
          ],
          [
           "2",
           "Male",
           120
          ],
          [
           "15",
           "Male",
           291
          ],
          [
           "68",
           "Male",
           226
          ],
          [
           "94",
           "Male",
           22
          ],
          [
           "70",
           "Male",
           248
          ],
          [
           "83",
           "Male",
           153
          ],
          [
           "84",
           "Male",
           148
          ],
          [
           "89",
           "Male",
           68
          ],
          [
           "93",
           "Male",
           30
          ],
          [
           "92",
           "Male",
           48
          ],
          [
           "1",
           "Male",
           96
          ],
          [
           "4",
           "Male",
           113
          ],
          [
           "99",
           "Male",
           1
          ],
          [
           "91",
           "Male",
           50
          ],
          [
           "7",
           "Male",
           83
          ],
          [
           "0",
           "Male",
           105
          ],
          [
           "11",
           "Male",
           87
          ],
          [
           "3",
           "Male",
           107
          ],
          [
           "-9",
           "Male",
           51
          ],
          [
           "13",
           "Male",
           131
          ],
          [
           "96",
           "Male",
           9
          ],
          [
           "98",
           "Male",
           3
          ]
         ],
         "hovertemplate": "gender=%{customdata[1]}<br>age=%{customdata[0]}<br>number=%{customdata[2]}<extra></extra>",
         "legendgroup": "Male",
         "marker": {
          "color": "#7fcdbb"
         },
         "name": "Male",
         "notched": true,
         "offsetgroup": "Male",
         "showlegend": false,
         "type": "box",
         "x": [
          "5",
          "18",
          "31",
          "29",
          "54",
          "24",
          "36",
          "35",
          "26",
          "37",
          "41",
          "28",
          "76",
          "90",
          "65",
          "25",
          "38",
          "50",
          "57",
          "56",
          "22",
          "32",
          "27",
          "46",
          "69",
          "62",
          "87",
          "81",
          "14",
          "95",
          "23",
          "34",
          "45",
          "16",
          "20",
          "47",
          "30",
          "19",
          "6",
          "17",
          "39",
          "60",
          "52",
          "58",
          "71",
          "67",
          "33",
          "43",
          "51",
          "59",
          "64",
          "40",
          "74",
          "49",
          "75",
          "55",
          "9",
          "66",
          "77",
          "53",
          "44",
          "21",
          "12",
          "72",
          "86",
          "63",
          "10",
          "8",
          "73",
          "79",
          "85",
          "80",
          "78",
          "97",
          "82",
          "88",
          "61",
          "48",
          "42",
          "2",
          "15",
          "68",
          "94",
          "70",
          "83",
          "84",
          "89",
          "93",
          "92",
          "1",
          "4",
          "99",
          "91",
          "7",
          "0",
          "11",
          "3",
          "-9",
          "13",
          "96",
          "98"
         ],
         "xaxis": "x2",
         "yaxis": "y2"
        },
        {
         "alignmentgroup": "True",
         "bingroup": "x",
         "histfunc": "sum",
         "hovertemplate": "gender=Female<br>age=%{x}<br>sum of number=%{y}<extra></extra>",
         "legendgroup": "Female",
         "marker": {
          "color": "#c7e9b4",
          "opacity": 0.8
         },
         "name": "Female",
         "offsetgroup": "Female",
         "orientation": "v",
         "showlegend": true,
         "type": "histogram",
         "x": [
          "5",
          "18",
          "31",
          "29",
          "54",
          "24",
          "36",
          "35",
          "26",
          "37",
          "41",
          "28",
          "76",
          "90",
          "65",
          "25",
          "38",
          "50",
          "57",
          "56",
          "22",
          "32",
          "27",
          "46",
          "69",
          "62",
          "87",
          "81",
          "14",
          "95",
          "23",
          "34",
          "45",
          "16",
          "20",
          "47",
          "30",
          "19",
          "6",
          "17",
          "39",
          "60",
          "52",
          "58",
          "71",
          "67",
          "33",
          "43",
          "51",
          "59",
          "64",
          "40",
          "74",
          "49",
          "75",
          "55",
          "9",
          "66",
          "77",
          "53",
          "44",
          "21",
          "12",
          "72",
          "86",
          "63",
          "10",
          "8",
          "73",
          "79",
          "85",
          "80",
          "78",
          "97",
          "82",
          "88",
          "61",
          "48",
          "42",
          "2",
          "15",
          "68",
          "94",
          "70",
          "83",
          "84",
          "89",
          "93",
          "92",
          "1",
          "4",
          "99",
          "91",
          "7",
          "0",
          "11",
          "3",
          "-9",
          "13",
          "96",
          "98"
         ],
         "xaxis": "x",
         "y": [
          75,
          469,
          156,
          194,
          138,
          255,
          186,
          178,
          242,
          154,
          162,
          201,
          159,
          50,
          164,
          260,
          167,
          173,
          134,
          130,
          266,
          205,
          211,
          168,
          155,
          148,
          69,
          134,
          112,
          8,
          299,
          157,
          157,
          236,
          429,
          145,
          196,
          409,
          69,
          375,
          158,
          165,
          145,
          110,
          128,
          140,
          191,
          156,
          147,
          139,
          120,
          178,
          176,
          143,
          155,
          139,
          60,
          134,
          156,
          147,
          146,
          338,
          55,
          145,
          97,
          142,
          65,
          75,
          169,
          144,
          113,
          158,
          162,
          10,
          122,
          71,
          155,
          158,
          139,
          78,
          171,
          142,
          15,
          163,
          128,
          114,
          59,
          27,
          20,
          85,
          71,
          4,
          30,
          64,
          95,
          58,
          73,
          29,
          77,
          11,
          3
         ],
         "yaxis": "y"
        },
        {
         "alignmentgroup": "True",
         "customdata": [
          [
           "5",
           "Female",
           75
          ],
          [
           "18",
           "Female",
           469
          ],
          [
           "31",
           "Female",
           156
          ],
          [
           "29",
           "Female",
           194
          ],
          [
           "54",
           "Female",
           138
          ],
          [
           "24",
           "Female",
           255
          ],
          [
           "36",
           "Female",
           186
          ],
          [
           "35",
           "Female",
           178
          ],
          [
           "26",
           "Female",
           242
          ],
          [
           "37",
           "Female",
           154
          ],
          [
           "41",
           "Female",
           162
          ],
          [
           "28",
           "Female",
           201
          ],
          [
           "76",
           "Female",
           159
          ],
          [
           "90",
           "Female",
           50
          ],
          [
           "65",
           "Female",
           164
          ],
          [
           "25",
           "Female",
           260
          ],
          [
           "38",
           "Female",
           167
          ],
          [
           "50",
           "Female",
           173
          ],
          [
           "57",
           "Female",
           134
          ],
          [
           "56",
           "Female",
           130
          ],
          [
           "22",
           "Female",
           266
          ],
          [
           "32",
           "Female",
           205
          ],
          [
           "27",
           "Female",
           211
          ],
          [
           "46",
           "Female",
           168
          ],
          [
           "69",
           "Female",
           155
          ],
          [
           "62",
           "Female",
           148
          ],
          [
           "87",
           "Female",
           69
          ],
          [
           "81",
           "Female",
           134
          ],
          [
           "14",
           "Female",
           112
          ],
          [
           "95",
           "Female",
           8
          ],
          [
           "23",
           "Female",
           299
          ],
          [
           "34",
           "Female",
           157
          ],
          [
           "45",
           "Female",
           157
          ],
          [
           "16",
           "Female",
           236
          ],
          [
           "20",
           "Female",
           429
          ],
          [
           "47",
           "Female",
           145
          ],
          [
           "30",
           "Female",
           196
          ],
          [
           "19",
           "Female",
           409
          ],
          [
           "6",
           "Female",
           69
          ],
          [
           "17",
           "Female",
           375
          ],
          [
           "39",
           "Female",
           158
          ],
          [
           "60",
           "Female",
           165
          ],
          [
           "52",
           "Female",
           145
          ],
          [
           "58",
           "Female",
           110
          ],
          [
           "71",
           "Female",
           128
          ],
          [
           "67",
           "Female",
           140
          ],
          [
           "33",
           "Female",
           191
          ],
          [
           "43",
           "Female",
           156
          ],
          [
           "51",
           "Female",
           147
          ],
          [
           "59",
           "Female",
           139
          ],
          [
           "64",
           "Female",
           120
          ],
          [
           "40",
           "Female",
           178
          ],
          [
           "74",
           "Female",
           176
          ],
          [
           "49",
           "Female",
           143
          ],
          [
           "75",
           "Female",
           155
          ],
          [
           "55",
           "Female",
           139
          ],
          [
           "9",
           "Female",
           60
          ],
          [
           "66",
           "Female",
           134
          ],
          [
           "77",
           "Female",
           156
          ],
          [
           "53",
           "Female",
           147
          ],
          [
           "44",
           "Female",
           146
          ],
          [
           "21",
           "Female",
           338
          ],
          [
           "12",
           "Female",
           55
          ],
          [
           "72",
           "Female",
           145
          ],
          [
           "86",
           "Female",
           97
          ],
          [
           "63",
           "Female",
           142
          ],
          [
           "10",
           "Female",
           65
          ],
          [
           "8",
           "Female",
           75
          ],
          [
           "73",
           "Female",
           169
          ],
          [
           "79",
           "Female",
           144
          ],
          [
           "85",
           "Female",
           113
          ],
          [
           "80",
           "Female",
           158
          ],
          [
           "78",
           "Female",
           162
          ],
          [
           "97",
           "Female",
           10
          ],
          [
           "82",
           "Female",
           122
          ],
          [
           "88",
           "Female",
           71
          ],
          [
           "61",
           "Female",
           155
          ],
          [
           "48",
           "Female",
           158
          ],
          [
           "42",
           "Female",
           139
          ],
          [
           "2",
           "Female",
           78
          ],
          [
           "15",
           "Female",
           171
          ],
          [
           "68",
           "Female",
           142
          ],
          [
           "94",
           "Female",
           15
          ],
          [
           "70",
           "Female",
           163
          ],
          [
           "83",
           "Female",
           128
          ],
          [
           "84",
           "Female",
           114
          ],
          [
           "89",
           "Female",
           59
          ],
          [
           "93",
           "Female",
           27
          ],
          [
           "92",
           "Female",
           20
          ],
          [
           "1",
           "Female",
           85
          ],
          [
           "4",
           "Female",
           71
          ],
          [
           "99",
           "Female",
           4
          ],
          [
           "91",
           "Female",
           30
          ],
          [
           "7",
           "Female",
           64
          ],
          [
           "0",
           "Female",
           95
          ],
          [
           "11",
           "Female",
           58
          ],
          [
           "3",
           "Female",
           73
          ],
          [
           "-9",
           "Female",
           29
          ],
          [
           "13",
           "Female",
           77
          ],
          [
           "96",
           "Female",
           11
          ],
          [
           "98",
           "Female",
           3
          ]
         ],
         "hovertemplate": "gender=%{customdata[1]}<br>age=%{customdata[0]}<br>number=%{customdata[2]}<extra></extra>",
         "legendgroup": "Female",
         "marker": {
          "color": "#c7e9b4"
         },
         "name": "Female",
         "notched": true,
         "offsetgroup": "Female",
         "showlegend": false,
         "type": "box",
         "x": [
          "5",
          "18",
          "31",
          "29",
          "54",
          "24",
          "36",
          "35",
          "26",
          "37",
          "41",
          "28",
          "76",
          "90",
          "65",
          "25",
          "38",
          "50",
          "57",
          "56",
          "22",
          "32",
          "27",
          "46",
          "69",
          "62",
          "87",
          "81",
          "14",
          "95",
          "23",
          "34",
          "45",
          "16",
          "20",
          "47",
          "30",
          "19",
          "6",
          "17",
          "39",
          "60",
          "52",
          "58",
          "71",
          "67",
          "33",
          "43",
          "51",
          "59",
          "64",
          "40",
          "74",
          "49",
          "75",
          "55",
          "9",
          "66",
          "77",
          "53",
          "44",
          "21",
          "12",
          "72",
          "86",
          "63",
          "10",
          "8",
          "73",
          "79",
          "85",
          "80",
          "78",
          "97",
          "82",
          "88",
          "61",
          "48",
          "42",
          "2",
          "15",
          "68",
          "94",
          "70",
          "83",
          "84",
          "89",
          "93",
          "92",
          "1",
          "4",
          "99",
          "91",
          "7",
          "0",
          "11",
          "3",
          "-9",
          "13",
          "96",
          "98"
         ],
         "xaxis": "x2",
         "yaxis": "y2"
        }
       ],
       "layout": {
        "barmode": "relative",
        "legend": {
         "orientation": "h",
         "title": {
          "text": ""
         },
         "tracegroupgap": 0
        },
        "margin": {
         "t": 60
        },
        "plot_bgcolor": "white",
        "template": {
         "data": {
          "bar": [
           {
            "error_x": {
             "color": "#2a3f5f"
            },
            "error_y": {
             "color": "#2a3f5f"
            },
            "marker": {
             "line": {
              "color": "#E5ECF6",
              "width": 0.5
             }
            },
            "type": "bar"
           }
          ],
          "barpolar": [
           {
            "marker": {
             "line": {
              "color": "#E5ECF6",
              "width": 0.5
             }
            },
            "type": "barpolar"
           }
          ],
          "carpet": [
           {
            "aaxis": {
             "endlinecolor": "#2a3f5f",
             "gridcolor": "white",
             "linecolor": "white",
             "minorgridcolor": "white",
             "startlinecolor": "#2a3f5f"
            },
            "baxis": {
             "endlinecolor": "#2a3f5f",
             "gridcolor": "white",
             "linecolor": "white",
             "minorgridcolor": "white",
             "startlinecolor": "#2a3f5f"
            },
            "type": "carpet"
           }
          ],
          "choropleth": [
           {
            "colorbar": {
             "outlinewidth": 0,
             "ticks": ""
            },
            "type": "choropleth"
           }
          ],
          "contour": [
           {
            "colorbar": {
             "outlinewidth": 0,
             "ticks": ""
            },
            "colorscale": [
             [
              0,
              "#0d0887"
             ],
             [
              0.1111111111111111,
              "#46039f"
             ],
             [
              0.2222222222222222,
              "#7201a8"
             ],
             [
              0.3333333333333333,
              "#9c179e"
             ],
             [
              0.4444444444444444,
              "#bd3786"
             ],
             [
              0.5555555555555556,
              "#d8576b"
             ],
             [
              0.6666666666666666,
              "#ed7953"
             ],
             [
              0.7777777777777778,
              "#fb9f3a"
             ],
             [
              0.8888888888888888,
              "#fdca26"
             ],
             [
              1,
              "#f0f921"
             ]
            ],
            "type": "contour"
           }
          ],
          "contourcarpet": [
           {
            "colorbar": {
             "outlinewidth": 0,
             "ticks": ""
            },
            "type": "contourcarpet"
           }
          ],
          "heatmap": [
           {
            "colorbar": {
             "outlinewidth": 0,
             "ticks": ""
            },
            "colorscale": [
             [
              0,
              "#0d0887"
             ],
             [
              0.1111111111111111,
              "#46039f"
             ],
             [
              0.2222222222222222,
              "#7201a8"
             ],
             [
              0.3333333333333333,
              "#9c179e"
             ],
             [
              0.4444444444444444,
              "#bd3786"
             ],
             [
              0.5555555555555556,
              "#d8576b"
             ],
             [
              0.6666666666666666,
              "#ed7953"
             ],
             [
              0.7777777777777778,
              "#fb9f3a"
             ],
             [
              0.8888888888888888,
              "#fdca26"
             ],
             [
              1,
              "#f0f921"
             ]
            ],
            "type": "heatmap"
           }
          ],
          "heatmapgl": [
           {
            "colorbar": {
             "outlinewidth": 0,
             "ticks": ""
            },
            "colorscale": [
             [
              0,
              "#0d0887"
             ],
             [
              0.1111111111111111,
              "#46039f"
             ],
             [
              0.2222222222222222,
              "#7201a8"
             ],
             [
              0.3333333333333333,
              "#9c179e"
             ],
             [
              0.4444444444444444,
              "#bd3786"
             ],
             [
              0.5555555555555556,
              "#d8576b"
             ],
             [
              0.6666666666666666,
              "#ed7953"
             ],
             [
              0.7777777777777778,
              "#fb9f3a"
             ],
             [
              0.8888888888888888,
              "#fdca26"
             ],
             [
              1,
              "#f0f921"
             ]
            ],
            "type": "heatmapgl"
           }
          ],
          "histogram": [
           {
            "marker": {
             "colorbar": {
              "outlinewidth": 0,
              "ticks": ""
             }
            },
            "type": "histogram"
           }
          ],
          "histogram2d": [
           {
            "colorbar": {
             "outlinewidth": 0,
             "ticks": ""
            },
            "colorscale": [
             [
              0,
              "#0d0887"
             ],
             [
              0.1111111111111111,
              "#46039f"
             ],
             [
              0.2222222222222222,
              "#7201a8"
             ],
             [
              0.3333333333333333,
              "#9c179e"
             ],
             [
              0.4444444444444444,
              "#bd3786"
             ],
             [
              0.5555555555555556,
              "#d8576b"
             ],
             [
              0.6666666666666666,
              "#ed7953"
             ],
             [
              0.7777777777777778,
              "#fb9f3a"
             ],
             [
              0.8888888888888888,
              "#fdca26"
             ],
             [
              1,
              "#f0f921"
             ]
            ],
            "type": "histogram2d"
           }
          ],
          "histogram2dcontour": [
           {
            "colorbar": {
             "outlinewidth": 0,
             "ticks": ""
            },
            "colorscale": [
             [
              0,
              "#0d0887"
             ],
             [
              0.1111111111111111,
              "#46039f"
             ],
             [
              0.2222222222222222,
              "#7201a8"
             ],
             [
              0.3333333333333333,
              "#9c179e"
             ],
             [
              0.4444444444444444,
              "#bd3786"
             ],
             [
              0.5555555555555556,
              "#d8576b"
             ],
             [
              0.6666666666666666,
              "#ed7953"
             ],
             [
              0.7777777777777778,
              "#fb9f3a"
             ],
             [
              0.8888888888888888,
              "#fdca26"
             ],
             [
              1,
              "#f0f921"
             ]
            ],
            "type": "histogram2dcontour"
           }
          ],
          "mesh3d": [
           {
            "colorbar": {
             "outlinewidth": 0,
             "ticks": ""
            },
            "type": "mesh3d"
           }
          ],
          "parcoords": [
           {
            "line": {
             "colorbar": {
              "outlinewidth": 0,
              "ticks": ""
             }
            },
            "type": "parcoords"
           }
          ],
          "pie": [
           {
            "automargin": true,
            "type": "pie"
           }
          ],
          "scatter": [
           {
            "marker": {
             "colorbar": {
              "outlinewidth": 0,
              "ticks": ""
             }
            },
            "type": "scatter"
           }
          ],
          "scatter3d": [
           {
            "line": {
             "colorbar": {
              "outlinewidth": 0,
              "ticks": ""
             }
            },
            "marker": {
             "colorbar": {
              "outlinewidth": 0,
              "ticks": ""
             }
            },
            "type": "scatter3d"
           }
          ],
          "scattercarpet": [
           {
            "marker": {
             "colorbar": {
              "outlinewidth": 0,
              "ticks": ""
             }
            },
            "type": "scattercarpet"
           }
          ],
          "scattergeo": [
           {
            "marker": {
             "colorbar": {
              "outlinewidth": 0,
              "ticks": ""
             }
            },
            "type": "scattergeo"
           }
          ],
          "scattergl": [
           {
            "marker": {
             "colorbar": {
              "outlinewidth": 0,
              "ticks": ""
             }
            },
            "type": "scattergl"
           }
          ],
          "scattermapbox": [
           {
            "marker": {
             "colorbar": {
              "outlinewidth": 0,
              "ticks": ""
             }
            },
            "type": "scattermapbox"
           }
          ],
          "scatterpolar": [
           {
            "marker": {
             "colorbar": {
              "outlinewidth": 0,
              "ticks": ""
             }
            },
            "type": "scatterpolar"
           }
          ],
          "scatterpolargl": [
           {
            "marker": {
             "colorbar": {
              "outlinewidth": 0,
              "ticks": ""
             }
            },
            "type": "scatterpolargl"
           }
          ],
          "scatterternary": [
           {
            "marker": {
             "colorbar": {
              "outlinewidth": 0,
              "ticks": ""
             }
            },
            "type": "scatterternary"
           }
          ],
          "surface": [
           {
            "colorbar": {
             "outlinewidth": 0,
             "ticks": ""
            },
            "colorscale": [
             [
              0,
              "#0d0887"
             ],
             [
              0.1111111111111111,
              "#46039f"
             ],
             [
              0.2222222222222222,
              "#7201a8"
             ],
             [
              0.3333333333333333,
              "#9c179e"
             ],
             [
              0.4444444444444444,
              "#bd3786"
             ],
             [
              0.5555555555555556,
              "#d8576b"
             ],
             [
              0.6666666666666666,
              "#ed7953"
             ],
             [
              0.7777777777777778,
              "#fb9f3a"
             ],
             [
              0.8888888888888888,
              "#fdca26"
             ],
             [
              1,
              "#f0f921"
             ]
            ],
            "type": "surface"
           }
          ],
          "table": [
           {
            "cells": {
             "fill": {
              "color": "#EBF0F8"
             },
             "line": {
              "color": "white"
             }
            },
            "header": {
             "fill": {
              "color": "#C8D4E3"
             },
             "line": {
              "color": "white"
             }
            },
            "type": "table"
           }
          ]
         },
         "layout": {
          "annotationdefaults": {
           "arrowcolor": "#2a3f5f",
           "arrowhead": 0,
           "arrowwidth": 1
          },
          "coloraxis": {
           "colorbar": {
            "outlinewidth": 0,
            "ticks": ""
           }
          },
          "colorscale": {
           "diverging": [
            [
             0,
             "#8e0152"
            ],
            [
             0.1,
             "#c51b7d"
            ],
            [
             0.2,
             "#de77ae"
            ],
            [
             0.3,
             "#f1b6da"
            ],
            [
             0.4,
             "#fde0ef"
            ],
            [
             0.5,
             "#f7f7f7"
            ],
            [
             0.6,
             "#e6f5d0"
            ],
            [
             0.7,
             "#b8e186"
            ],
            [
             0.8,
             "#7fbc41"
            ],
            [
             0.9,
             "#4d9221"
            ],
            [
             1,
             "#276419"
            ]
           ],
           "sequential": [
            [
             0,
             "#0d0887"
            ],
            [
             0.1111111111111111,
             "#46039f"
            ],
            [
             0.2222222222222222,
             "#7201a8"
            ],
            [
             0.3333333333333333,
             "#9c179e"
            ],
            [
             0.4444444444444444,
             "#bd3786"
            ],
            [
             0.5555555555555556,
             "#d8576b"
            ],
            [
             0.6666666666666666,
             "#ed7953"
            ],
            [
             0.7777777777777778,
             "#fb9f3a"
            ],
            [
             0.8888888888888888,
             "#fdca26"
            ],
            [
             1,
             "#f0f921"
            ]
           ],
           "sequentialminus": [
            [
             0,
             "#0d0887"
            ],
            [
             0.1111111111111111,
             "#46039f"
            ],
            [
             0.2222222222222222,
             "#7201a8"
            ],
            [
             0.3333333333333333,
             "#9c179e"
            ],
            [
             0.4444444444444444,
             "#bd3786"
            ],
            [
             0.5555555555555556,
             "#d8576b"
            ],
            [
             0.6666666666666666,
             "#ed7953"
            ],
            [
             0.7777777777777778,
             "#fb9f3a"
            ],
            [
             0.8888888888888888,
             "#fdca26"
            ],
            [
             1,
             "#f0f921"
            ]
           ]
          },
          "colorway": [
           "#636efa",
           "#EF553B",
           "#00cc96",
           "#ab63fa",
           "#FFA15A",
           "#19d3f3",
           "#FF6692",
           "#B6E880",
           "#FF97FF",
           "#FECB52"
          ],
          "font": {
           "color": "#2a3f5f"
          },
          "geo": {
           "bgcolor": "white",
           "lakecolor": "white",
           "landcolor": "#E5ECF6",
           "showlakes": true,
           "showland": true,
           "subunitcolor": "white"
          },
          "hoverlabel": {
           "align": "left"
          },
          "hovermode": "closest",
          "mapbox": {
           "style": "light"
          },
          "paper_bgcolor": "white",
          "plot_bgcolor": "#E5ECF6",
          "polar": {
           "angularaxis": {
            "gridcolor": "white",
            "linecolor": "white",
            "ticks": ""
           },
           "bgcolor": "#E5ECF6",
           "radialaxis": {
            "gridcolor": "white",
            "linecolor": "white",
            "ticks": ""
           }
          },
          "scene": {
           "xaxis": {
            "backgroundcolor": "#E5ECF6",
            "gridcolor": "white",
            "gridwidth": 2,
            "linecolor": "white",
            "showbackground": true,
            "ticks": "",
            "zerolinecolor": "white"
           },
           "yaxis": {
            "backgroundcolor": "#E5ECF6",
            "gridcolor": "white",
            "gridwidth": 2,
            "linecolor": "white",
            "showbackground": true,
            "ticks": "",
            "zerolinecolor": "white"
           },
           "zaxis": {
            "backgroundcolor": "#E5ECF6",
            "gridcolor": "white",
            "gridwidth": 2,
            "linecolor": "white",
            "showbackground": true,
            "ticks": "",
            "zerolinecolor": "white"
           }
          },
          "shapedefaults": {
           "line": {
            "color": "#2a3f5f"
           }
          },
          "ternary": {
           "aaxis": {
            "gridcolor": "white",
            "linecolor": "white",
            "ticks": ""
           },
           "baxis": {
            "gridcolor": "white",
            "linecolor": "white",
            "ticks": ""
           },
           "bgcolor": "#E5ECF6",
           "caxis": {
            "gridcolor": "white",
            "linecolor": "white",
            "ticks": ""
           }
          },
          "title": {
           "x": 0.05
          },
          "xaxis": {
           "automargin": true,
           "gridcolor": "white",
           "linecolor": "white",
           "ticks": "",
           "title": {
            "standoff": 15
           },
           "zerolinecolor": "white",
           "zerolinewidth": 2
          },
          "yaxis": {
           "automargin": true,
           "gridcolor": "white",
           "linecolor": "white",
           "ticks": "",
           "title": {
            "standoff": 15
           },
           "zerolinecolor": "white",
           "zerolinewidth": 2
          }
         }
        },
        "title": {
         "text": "<b>Road Deaths by age group and gender from 1989 to 2019 in Australia<b>"
        },
        "xaxis": {
         "anchor": "y",
         "domain": [
          0,
          1
         ],
         "title": {
          "text": "<b>Age<b>"
         }
        },
        "xaxis2": {
         "anchor": "y2",
         "domain": [
          0,
          1
         ],
         "matches": "x",
         "showgrid": true,
         "showticklabels": false
        },
        "yaxis": {
         "anchor": "x",
         "domain": [
          0,
          0.7326
         ],
         "title": {
          "text": "<b>Total Number of Road Deaths<b>"
         }
        },
        "yaxis2": {
         "anchor": "x2",
         "domain": [
          0.7426,
          1
         ],
         "matches": "y2",
         "showgrid": false,
         "showline": false,
         "showticklabels": false,
         "ticks": ""
        }
       }
      },
      "text/html": [
       "<div>\n",
       "        \n",
       "        \n",
       "            <div id=\"5c7415d1-c5ed-490e-b07d-3e1749ae3df8\" class=\"plotly-graph-div\" style=\"height:525px; width:100%;\"></div>\n",
       "            <script type=\"text/javascript\">\n",
       "                require([\"plotly\"], function(Plotly) {\n",
       "                    window.PLOTLYENV=window.PLOTLYENV || {};\n",
       "                    \n",
       "                if (document.getElementById(\"5c7415d1-c5ed-490e-b07d-3e1749ae3df8\")) {\n",
       "                    Plotly.newPlot(\n",
       "                        '5c7415d1-c5ed-490e-b07d-3e1749ae3df8',\n",
       "                        [{\"alignmentgroup\": \"True\", \"bingroup\": \"x\", \"histfunc\": \"sum\", \"hovertemplate\": \"gender=Male<br>age=%{x}<br>sum of number=%{y}<extra></extra>\", \"legendgroup\": \"Male\", \"marker\": {\"color\": \"#7fcdbb\", \"opacity\": 0.8}, \"name\": \"Male\", \"offsetgroup\": \"Male\", \"orientation\": \"v\", \"showlegend\": true, \"type\": \"histogram\", \"x\": [\"5\", \"18\", \"31\", \"29\", \"54\", \"24\", \"36\", \"35\", \"26\", \"37\", \"41\", \"28\", \"76\", \"90\", \"65\", \"25\", \"38\", \"50\", \"57\", \"56\", \"22\", \"32\", \"27\", \"46\", \"69\", \"62\", \"87\", \"81\", \"14\", \"95\", \"23\", \"34\", \"45\", \"16\", \"20\", \"47\", \"30\", \"19\", \"6\", \"17\", \"39\", \"60\", \"52\", \"58\", \"71\", \"67\", \"33\", \"43\", \"51\", \"59\", \"64\", \"40\", \"74\", \"49\", \"75\", \"55\", \"9\", \"66\", \"77\", \"53\", \"44\", \"21\", \"12\", \"72\", \"86\", \"63\", \"10\", \"8\", \"73\", \"79\", \"85\", \"80\", \"78\", \"97\", \"82\", \"88\", \"61\", \"48\", \"42\", \"2\", \"15\", \"68\", \"94\", \"70\", \"83\", \"84\", \"89\", \"93\", \"92\", \"1\", \"4\", \"99\", \"91\", \"7\", \"0\", \"11\", \"3\", \"-9\", \"13\", \"96\", \"98\"], \"xaxis\": \"x\", \"y\": [111, 1435, 710, 770, 335, 928, 637, 546, 866, 526, 514, 771, 253, 68, 245, 934, 505, 378, 282, 326, 1125, 674, 815, 447, 247, 290, 113, 186, 172, 9, 1067, 602, 459, 491, 1296, 411, 712, 1335, 89, 971, 513, 283, 341, 280, 211, 238, 628, 471, 362, 290, 252, 545, 200, 406, 228, 313, 96, 272, 203, 319, 431, 1212, 113, 204, 140, 242, 112, 103, 238, 223, 117, 241, 236, 5, 194, 86, 269, 403, 465, 120, 291, 226, 22, 248, 153, 148, 68, 30, 48, 96, 113, 1, 50, 83, 105, 87, 107, 51, 131, 9, 3], \"yaxis\": \"y\"}, {\"alignmentgroup\": \"True\", \"customdata\": [[\"5\", \"Male\", 111], [\"18\", \"Male\", 1435], [\"31\", \"Male\", 710], [\"29\", \"Male\", 770], [\"54\", \"Male\", 335], [\"24\", \"Male\", 928], [\"36\", \"Male\", 637], [\"35\", \"Male\", 546], [\"26\", \"Male\", 866], [\"37\", \"Male\", 526], [\"41\", \"Male\", 514], [\"28\", \"Male\", 771], [\"76\", \"Male\", 253], [\"90\", \"Male\", 68], [\"65\", \"Male\", 245], [\"25\", \"Male\", 934], [\"38\", \"Male\", 505], [\"50\", \"Male\", 378], [\"57\", \"Male\", 282], [\"56\", \"Male\", 326], [\"22\", \"Male\", 1125], [\"32\", \"Male\", 674], [\"27\", \"Male\", 815], [\"46\", \"Male\", 447], [\"69\", \"Male\", 247], [\"62\", \"Male\", 290], [\"87\", \"Male\", 113], [\"81\", \"Male\", 186], [\"14\", \"Male\", 172], [\"95\", \"Male\", 9], [\"23\", \"Male\", 1067], [\"34\", \"Male\", 602], [\"45\", \"Male\", 459], [\"16\", \"Male\", 491], [\"20\", \"Male\", 1296], [\"47\", \"Male\", 411], [\"30\", \"Male\", 712], [\"19\", \"Male\", 1335], [\"6\", \"Male\", 89], [\"17\", \"Male\", 971], [\"39\", \"Male\", 513], [\"60\", \"Male\", 283], [\"52\", \"Male\", 341], [\"58\", \"Male\", 280], [\"71\", \"Male\", 211], [\"67\", \"Male\", 238], [\"33\", \"Male\", 628], [\"43\", \"Male\", 471], [\"51\", \"Male\", 362], [\"59\", \"Male\", 290], [\"64\", \"Male\", 252], [\"40\", \"Male\", 545], [\"74\", \"Male\", 200], [\"49\", \"Male\", 406], [\"75\", \"Male\", 228], [\"55\", \"Male\", 313], [\"9\", \"Male\", 96], [\"66\", \"Male\", 272], [\"77\", \"Male\", 203], [\"53\", \"Male\", 319], [\"44\", \"Male\", 431], [\"21\", \"Male\", 1212], [\"12\", \"Male\", 113], [\"72\", \"Male\", 204], [\"86\", \"Male\", 140], [\"63\", \"Male\", 242], [\"10\", \"Male\", 112], [\"8\", \"Male\", 103], [\"73\", \"Male\", 238], [\"79\", \"Male\", 223], [\"85\", \"Male\", 117], [\"80\", \"Male\", 241], [\"78\", \"Male\", 236], [\"97\", \"Male\", 5], [\"82\", \"Male\", 194], [\"88\", \"Male\", 86], [\"61\", \"Male\", 269], [\"48\", \"Male\", 403], [\"42\", \"Male\", 465], [\"2\", \"Male\", 120], [\"15\", \"Male\", 291], [\"68\", \"Male\", 226], [\"94\", \"Male\", 22], [\"70\", \"Male\", 248], [\"83\", \"Male\", 153], [\"84\", \"Male\", 148], [\"89\", \"Male\", 68], [\"93\", \"Male\", 30], [\"92\", \"Male\", 48], [\"1\", \"Male\", 96], [\"4\", \"Male\", 113], [\"99\", \"Male\", 1], [\"91\", \"Male\", 50], [\"7\", \"Male\", 83], [\"0\", \"Male\", 105], [\"11\", \"Male\", 87], [\"3\", \"Male\", 107], [\"-9\", \"Male\", 51], [\"13\", \"Male\", 131], [\"96\", \"Male\", 9], [\"98\", \"Male\", 3]], \"hovertemplate\": \"gender=%{customdata[1]}<br>age=%{customdata[0]}<br>number=%{customdata[2]}<extra></extra>\", \"legendgroup\": \"Male\", \"marker\": {\"color\": \"#7fcdbb\"}, \"name\": \"Male\", \"notched\": true, \"offsetgroup\": \"Male\", \"showlegend\": false, \"type\": \"box\", \"x\": [\"5\", \"18\", \"31\", \"29\", \"54\", \"24\", \"36\", \"35\", \"26\", \"37\", \"41\", \"28\", \"76\", \"90\", \"65\", \"25\", \"38\", \"50\", \"57\", \"56\", \"22\", \"32\", \"27\", \"46\", \"69\", \"62\", \"87\", \"81\", \"14\", \"95\", \"23\", \"34\", \"45\", \"16\", \"20\", \"47\", \"30\", \"19\", \"6\", \"17\", \"39\", \"60\", \"52\", \"58\", \"71\", \"67\", \"33\", \"43\", \"51\", \"59\", \"64\", \"40\", \"74\", \"49\", \"75\", \"55\", \"9\", \"66\", \"77\", \"53\", \"44\", \"21\", \"12\", \"72\", \"86\", \"63\", \"10\", \"8\", \"73\", \"79\", \"85\", \"80\", \"78\", \"97\", \"82\", \"88\", \"61\", \"48\", \"42\", \"2\", \"15\", \"68\", \"94\", \"70\", \"83\", \"84\", \"89\", \"93\", \"92\", \"1\", \"4\", \"99\", \"91\", \"7\", \"0\", \"11\", \"3\", \"-9\", \"13\", \"96\", \"98\"], \"xaxis\": \"x2\", \"yaxis\": \"y2\"}, {\"alignmentgroup\": \"True\", \"bingroup\": \"x\", \"histfunc\": \"sum\", \"hovertemplate\": \"gender=Female<br>age=%{x}<br>sum of number=%{y}<extra></extra>\", \"legendgroup\": \"Female\", \"marker\": {\"color\": \"#c7e9b4\", \"opacity\": 0.8}, \"name\": \"Female\", \"offsetgroup\": \"Female\", \"orientation\": \"v\", \"showlegend\": true, \"type\": \"histogram\", \"x\": [\"5\", \"18\", \"31\", \"29\", \"54\", \"24\", \"36\", \"35\", \"26\", \"37\", \"41\", \"28\", \"76\", \"90\", \"65\", \"25\", \"38\", \"50\", \"57\", \"56\", \"22\", \"32\", \"27\", \"46\", \"69\", \"62\", \"87\", \"81\", \"14\", \"95\", \"23\", \"34\", \"45\", \"16\", \"20\", \"47\", \"30\", \"19\", \"6\", \"17\", \"39\", \"60\", \"52\", \"58\", \"71\", \"67\", \"33\", \"43\", \"51\", \"59\", \"64\", \"40\", \"74\", \"49\", \"75\", \"55\", \"9\", \"66\", \"77\", \"53\", \"44\", \"21\", \"12\", \"72\", \"86\", \"63\", \"10\", \"8\", \"73\", \"79\", \"85\", \"80\", \"78\", \"97\", \"82\", \"88\", \"61\", \"48\", \"42\", \"2\", \"15\", \"68\", \"94\", \"70\", \"83\", \"84\", \"89\", \"93\", \"92\", \"1\", \"4\", \"99\", \"91\", \"7\", \"0\", \"11\", \"3\", \"-9\", \"13\", \"96\", \"98\"], \"xaxis\": \"x\", \"y\": [75, 469, 156, 194, 138, 255, 186, 178, 242, 154, 162, 201, 159, 50, 164, 260, 167, 173, 134, 130, 266, 205, 211, 168, 155, 148, 69, 134, 112, 8, 299, 157, 157, 236, 429, 145, 196, 409, 69, 375, 158, 165, 145, 110, 128, 140, 191, 156, 147, 139, 120, 178, 176, 143, 155, 139, 60, 134, 156, 147, 146, 338, 55, 145, 97, 142, 65, 75, 169, 144, 113, 158, 162, 10, 122, 71, 155, 158, 139, 78, 171, 142, 15, 163, 128, 114, 59, 27, 20, 85, 71, 4, 30, 64, 95, 58, 73, 29, 77, 11, 3], \"yaxis\": \"y\"}, {\"alignmentgroup\": \"True\", \"customdata\": [[\"5\", \"Female\", 75], [\"18\", \"Female\", 469], [\"31\", \"Female\", 156], [\"29\", \"Female\", 194], [\"54\", \"Female\", 138], [\"24\", \"Female\", 255], [\"36\", \"Female\", 186], [\"35\", \"Female\", 178], [\"26\", \"Female\", 242], [\"37\", \"Female\", 154], [\"41\", \"Female\", 162], [\"28\", \"Female\", 201], [\"76\", \"Female\", 159], [\"90\", \"Female\", 50], [\"65\", \"Female\", 164], [\"25\", \"Female\", 260], [\"38\", \"Female\", 167], [\"50\", \"Female\", 173], [\"57\", \"Female\", 134], [\"56\", \"Female\", 130], [\"22\", \"Female\", 266], [\"32\", \"Female\", 205], [\"27\", \"Female\", 211], [\"46\", \"Female\", 168], [\"69\", \"Female\", 155], [\"62\", \"Female\", 148], [\"87\", \"Female\", 69], [\"81\", \"Female\", 134], [\"14\", \"Female\", 112], [\"95\", \"Female\", 8], [\"23\", \"Female\", 299], [\"34\", \"Female\", 157], [\"45\", \"Female\", 157], [\"16\", \"Female\", 236], [\"20\", \"Female\", 429], [\"47\", \"Female\", 145], [\"30\", \"Female\", 196], [\"19\", \"Female\", 409], [\"6\", \"Female\", 69], [\"17\", \"Female\", 375], [\"39\", \"Female\", 158], [\"60\", \"Female\", 165], [\"52\", \"Female\", 145], [\"58\", \"Female\", 110], [\"71\", \"Female\", 128], [\"67\", \"Female\", 140], [\"33\", \"Female\", 191], [\"43\", \"Female\", 156], [\"51\", \"Female\", 147], [\"59\", \"Female\", 139], [\"64\", \"Female\", 120], [\"40\", \"Female\", 178], [\"74\", \"Female\", 176], [\"49\", \"Female\", 143], [\"75\", \"Female\", 155], [\"55\", \"Female\", 139], [\"9\", \"Female\", 60], [\"66\", \"Female\", 134], [\"77\", \"Female\", 156], [\"53\", \"Female\", 147], [\"44\", \"Female\", 146], [\"21\", \"Female\", 338], [\"12\", \"Female\", 55], [\"72\", \"Female\", 145], [\"86\", \"Female\", 97], [\"63\", \"Female\", 142], [\"10\", \"Female\", 65], [\"8\", \"Female\", 75], [\"73\", \"Female\", 169], [\"79\", \"Female\", 144], [\"85\", \"Female\", 113], [\"80\", \"Female\", 158], [\"78\", \"Female\", 162], [\"97\", \"Female\", 10], [\"82\", \"Female\", 122], [\"88\", \"Female\", 71], [\"61\", \"Female\", 155], [\"48\", \"Female\", 158], [\"42\", \"Female\", 139], [\"2\", \"Female\", 78], [\"15\", \"Female\", 171], [\"68\", \"Female\", 142], [\"94\", \"Female\", 15], [\"70\", \"Female\", 163], [\"83\", \"Female\", 128], [\"84\", \"Female\", 114], [\"89\", \"Female\", 59], [\"93\", \"Female\", 27], [\"92\", \"Female\", 20], [\"1\", \"Female\", 85], [\"4\", \"Female\", 71], [\"99\", \"Female\", 4], [\"91\", \"Female\", 30], [\"7\", \"Female\", 64], [\"0\", \"Female\", 95], [\"11\", \"Female\", 58], [\"3\", \"Female\", 73], [\"-9\", \"Female\", 29], [\"13\", \"Female\", 77], [\"96\", \"Female\", 11], [\"98\", \"Female\", 3]], \"hovertemplate\": \"gender=%{customdata[1]}<br>age=%{customdata[0]}<br>number=%{customdata[2]}<extra></extra>\", \"legendgroup\": \"Female\", \"marker\": {\"color\": \"#c7e9b4\"}, \"name\": \"Female\", \"notched\": true, \"offsetgroup\": \"Female\", \"showlegend\": false, \"type\": \"box\", \"x\": [\"5\", \"18\", \"31\", \"29\", \"54\", \"24\", \"36\", \"35\", \"26\", \"37\", \"41\", \"28\", \"76\", \"90\", \"65\", \"25\", \"38\", \"50\", \"57\", \"56\", \"22\", \"32\", \"27\", \"46\", \"69\", \"62\", \"87\", \"81\", \"14\", \"95\", \"23\", \"34\", \"45\", \"16\", \"20\", \"47\", \"30\", \"19\", \"6\", \"17\", \"39\", \"60\", \"52\", \"58\", \"71\", \"67\", \"33\", \"43\", \"51\", \"59\", \"64\", \"40\", \"74\", \"49\", \"75\", \"55\", \"9\", \"66\", \"77\", \"53\", \"44\", \"21\", \"12\", \"72\", \"86\", \"63\", \"10\", \"8\", \"73\", \"79\", \"85\", \"80\", \"78\", \"97\", \"82\", \"88\", \"61\", \"48\", \"42\", \"2\", \"15\", \"68\", \"94\", \"70\", \"83\", \"84\", \"89\", \"93\", \"92\", \"1\", \"4\", \"99\", \"91\", \"7\", \"0\", \"11\", \"3\", \"-9\", \"13\", \"96\", \"98\"], \"xaxis\": \"x2\", \"yaxis\": \"y2\"}],\n",
       "                        {\"barmode\": \"relative\", \"legend\": {\"orientation\": \"h\", \"title\": {\"text\": \"\"}, \"tracegroupgap\": 0}, \"margin\": {\"t\": 60}, \"plot_bgcolor\": \"white\", \"template\": {\"data\": {\"bar\": [{\"error_x\": {\"color\": \"#2a3f5f\"}, \"error_y\": {\"color\": \"#2a3f5f\"}, \"marker\": {\"line\": {\"color\": \"#E5ECF6\", \"width\": 0.5}}, \"type\": \"bar\"}], \"barpolar\": [{\"marker\": {\"line\": {\"color\": \"#E5ECF6\", \"width\": 0.5}}, \"type\": \"barpolar\"}], \"carpet\": [{\"aaxis\": {\"endlinecolor\": \"#2a3f5f\", \"gridcolor\": \"white\", \"linecolor\": \"white\", \"minorgridcolor\": \"white\", \"startlinecolor\": \"#2a3f5f\"}, \"baxis\": {\"endlinecolor\": \"#2a3f5f\", \"gridcolor\": \"white\", \"linecolor\": \"white\", \"minorgridcolor\": \"white\", \"startlinecolor\": \"#2a3f5f\"}, \"type\": \"carpet\"}], \"choropleth\": [{\"colorbar\": {\"outlinewidth\": 0, \"ticks\": \"\"}, \"type\": \"choropleth\"}], \"contour\": [{\"colorbar\": {\"outlinewidth\": 0, \"ticks\": \"\"}, \"colorscale\": [[0.0, \"#0d0887\"], [0.1111111111111111, \"#46039f\"], [0.2222222222222222, \"#7201a8\"], [0.3333333333333333, \"#9c179e\"], [0.4444444444444444, \"#bd3786\"], [0.5555555555555556, \"#d8576b\"], [0.6666666666666666, \"#ed7953\"], [0.7777777777777778, \"#fb9f3a\"], [0.8888888888888888, \"#fdca26\"], [1.0, \"#f0f921\"]], \"type\": \"contour\"}], \"contourcarpet\": [{\"colorbar\": {\"outlinewidth\": 0, \"ticks\": \"\"}, \"type\": \"contourcarpet\"}], \"heatmap\": [{\"colorbar\": {\"outlinewidth\": 0, \"ticks\": \"\"}, \"colorscale\": [[0.0, \"#0d0887\"], [0.1111111111111111, \"#46039f\"], [0.2222222222222222, \"#7201a8\"], [0.3333333333333333, \"#9c179e\"], [0.4444444444444444, \"#bd3786\"], [0.5555555555555556, \"#d8576b\"], [0.6666666666666666, \"#ed7953\"], [0.7777777777777778, \"#fb9f3a\"], [0.8888888888888888, \"#fdca26\"], [1.0, \"#f0f921\"]], \"type\": \"heatmap\"}], \"heatmapgl\": [{\"colorbar\": {\"outlinewidth\": 0, \"ticks\": \"\"}, \"colorscale\": [[0.0, \"#0d0887\"], [0.1111111111111111, \"#46039f\"], [0.2222222222222222, \"#7201a8\"], [0.3333333333333333, \"#9c179e\"], [0.4444444444444444, \"#bd3786\"], [0.5555555555555556, \"#d8576b\"], [0.6666666666666666, \"#ed7953\"], [0.7777777777777778, \"#fb9f3a\"], [0.8888888888888888, \"#fdca26\"], [1.0, \"#f0f921\"]], \"type\": \"heatmapgl\"}], \"histogram\": [{\"marker\": {\"colorbar\": {\"outlinewidth\": 0, \"ticks\": \"\"}}, \"type\": \"histogram\"}], \"histogram2d\": [{\"colorbar\": {\"outlinewidth\": 0, \"ticks\": \"\"}, \"colorscale\": [[0.0, \"#0d0887\"], [0.1111111111111111, \"#46039f\"], [0.2222222222222222, \"#7201a8\"], [0.3333333333333333, \"#9c179e\"], [0.4444444444444444, \"#bd3786\"], [0.5555555555555556, \"#d8576b\"], [0.6666666666666666, \"#ed7953\"], [0.7777777777777778, \"#fb9f3a\"], [0.8888888888888888, \"#fdca26\"], [1.0, \"#f0f921\"]], \"type\": \"histogram2d\"}], \"histogram2dcontour\": [{\"colorbar\": {\"outlinewidth\": 0, \"ticks\": \"\"}, \"colorscale\": [[0.0, \"#0d0887\"], [0.1111111111111111, \"#46039f\"], [0.2222222222222222, \"#7201a8\"], [0.3333333333333333, \"#9c179e\"], [0.4444444444444444, \"#bd3786\"], [0.5555555555555556, \"#d8576b\"], [0.6666666666666666, \"#ed7953\"], [0.7777777777777778, \"#fb9f3a\"], [0.8888888888888888, \"#fdca26\"], [1.0, \"#f0f921\"]], \"type\": \"histogram2dcontour\"}], \"mesh3d\": [{\"colorbar\": {\"outlinewidth\": 0, \"ticks\": \"\"}, \"type\": \"mesh3d\"}], \"parcoords\": [{\"line\": {\"colorbar\": {\"outlinewidth\": 0, \"ticks\": \"\"}}, \"type\": \"parcoords\"}], \"pie\": [{\"automargin\": true, \"type\": \"pie\"}], \"scatter\": [{\"marker\": {\"colorbar\": {\"outlinewidth\": 0, \"ticks\": \"\"}}, \"type\": \"scatter\"}], \"scatter3d\": [{\"line\": {\"colorbar\": {\"outlinewidth\": 0, \"ticks\": \"\"}}, \"marker\": {\"colorbar\": {\"outlinewidth\": 0, \"ticks\": \"\"}}, \"type\": \"scatter3d\"}], \"scattercarpet\": [{\"marker\": {\"colorbar\": {\"outlinewidth\": 0, \"ticks\": \"\"}}, \"type\": \"scattercarpet\"}], \"scattergeo\": [{\"marker\": {\"colorbar\": {\"outlinewidth\": 0, \"ticks\": \"\"}}, \"type\": \"scattergeo\"}], \"scattergl\": [{\"marker\": {\"colorbar\": {\"outlinewidth\": 0, \"ticks\": \"\"}}, \"type\": \"scattergl\"}], \"scattermapbox\": [{\"marker\": {\"colorbar\": {\"outlinewidth\": 0, \"ticks\": \"\"}}, \"type\": \"scattermapbox\"}], \"scatterpolar\": [{\"marker\": {\"colorbar\": {\"outlinewidth\": 0, \"ticks\": \"\"}}, \"type\": \"scatterpolar\"}], \"scatterpolargl\": [{\"marker\": {\"colorbar\": {\"outlinewidth\": 0, \"ticks\": \"\"}}, \"type\": \"scatterpolargl\"}], \"scatterternary\": [{\"marker\": {\"colorbar\": {\"outlinewidth\": 0, \"ticks\": \"\"}}, \"type\": \"scatterternary\"}], \"surface\": [{\"colorbar\": {\"outlinewidth\": 0, \"ticks\": \"\"}, \"colorscale\": [[0.0, \"#0d0887\"], [0.1111111111111111, \"#46039f\"], [0.2222222222222222, \"#7201a8\"], [0.3333333333333333, \"#9c179e\"], [0.4444444444444444, \"#bd3786\"], [0.5555555555555556, \"#d8576b\"], [0.6666666666666666, \"#ed7953\"], [0.7777777777777778, \"#fb9f3a\"], [0.8888888888888888, \"#fdca26\"], [1.0, \"#f0f921\"]], \"type\": \"surface\"}], \"table\": [{\"cells\": {\"fill\": {\"color\": \"#EBF0F8\"}, \"line\": {\"color\": \"white\"}}, \"header\": {\"fill\": {\"color\": \"#C8D4E3\"}, \"line\": {\"color\": \"white\"}}, \"type\": \"table\"}]}, \"layout\": {\"annotationdefaults\": {\"arrowcolor\": \"#2a3f5f\", \"arrowhead\": 0, \"arrowwidth\": 1}, \"coloraxis\": {\"colorbar\": {\"outlinewidth\": 0, \"ticks\": \"\"}}, \"colorscale\": {\"diverging\": [[0, \"#8e0152\"], [0.1, \"#c51b7d\"], [0.2, \"#de77ae\"], [0.3, \"#f1b6da\"], [0.4, \"#fde0ef\"], [0.5, \"#f7f7f7\"], [0.6, \"#e6f5d0\"], [0.7, \"#b8e186\"], [0.8, \"#7fbc41\"], [0.9, \"#4d9221\"], [1, \"#276419\"]], \"sequential\": [[0.0, \"#0d0887\"], [0.1111111111111111, \"#46039f\"], [0.2222222222222222, \"#7201a8\"], [0.3333333333333333, \"#9c179e\"], [0.4444444444444444, \"#bd3786\"], [0.5555555555555556, \"#d8576b\"], [0.6666666666666666, \"#ed7953\"], [0.7777777777777778, \"#fb9f3a\"], [0.8888888888888888, \"#fdca26\"], [1.0, \"#f0f921\"]], \"sequentialminus\": [[0.0, \"#0d0887\"], [0.1111111111111111, \"#46039f\"], [0.2222222222222222, \"#7201a8\"], [0.3333333333333333, \"#9c179e\"], [0.4444444444444444, \"#bd3786\"], [0.5555555555555556, \"#d8576b\"], [0.6666666666666666, \"#ed7953\"], [0.7777777777777778, \"#fb9f3a\"], [0.8888888888888888, \"#fdca26\"], [1.0, \"#f0f921\"]]}, \"colorway\": [\"#636efa\", \"#EF553B\", \"#00cc96\", \"#ab63fa\", \"#FFA15A\", \"#19d3f3\", \"#FF6692\", \"#B6E880\", \"#FF97FF\", \"#FECB52\"], \"font\": {\"color\": \"#2a3f5f\"}, \"geo\": {\"bgcolor\": \"white\", \"lakecolor\": \"white\", \"landcolor\": \"#E5ECF6\", \"showlakes\": true, \"showland\": true, \"subunitcolor\": \"white\"}, \"hoverlabel\": {\"align\": \"left\"}, \"hovermode\": \"closest\", \"mapbox\": {\"style\": \"light\"}, \"paper_bgcolor\": \"white\", \"plot_bgcolor\": \"#E5ECF6\", \"polar\": {\"angularaxis\": {\"gridcolor\": \"white\", \"linecolor\": \"white\", \"ticks\": \"\"}, \"bgcolor\": \"#E5ECF6\", \"radialaxis\": {\"gridcolor\": \"white\", \"linecolor\": \"white\", \"ticks\": \"\"}}, \"scene\": {\"xaxis\": {\"backgroundcolor\": \"#E5ECF6\", \"gridcolor\": \"white\", \"gridwidth\": 2, \"linecolor\": \"white\", \"showbackground\": true, \"ticks\": \"\", \"zerolinecolor\": \"white\"}, \"yaxis\": {\"backgroundcolor\": \"#E5ECF6\", \"gridcolor\": \"white\", \"gridwidth\": 2, \"linecolor\": \"white\", \"showbackground\": true, \"ticks\": \"\", \"zerolinecolor\": \"white\"}, \"zaxis\": {\"backgroundcolor\": \"#E5ECF6\", \"gridcolor\": \"white\", \"gridwidth\": 2, \"linecolor\": \"white\", \"showbackground\": true, \"ticks\": \"\", \"zerolinecolor\": \"white\"}}, \"shapedefaults\": {\"line\": {\"color\": \"#2a3f5f\"}}, \"ternary\": {\"aaxis\": {\"gridcolor\": \"white\", \"linecolor\": \"white\", \"ticks\": \"\"}, \"baxis\": {\"gridcolor\": \"white\", \"linecolor\": \"white\", \"ticks\": \"\"}, \"bgcolor\": \"#E5ECF6\", \"caxis\": {\"gridcolor\": \"white\", \"linecolor\": \"white\", \"ticks\": \"\"}}, \"title\": {\"x\": 0.05}, \"xaxis\": {\"automargin\": true, \"gridcolor\": \"white\", \"linecolor\": \"white\", \"ticks\": \"\", \"title\": {\"standoff\": 15}, \"zerolinecolor\": \"white\", \"zerolinewidth\": 2}, \"yaxis\": {\"automargin\": true, \"gridcolor\": \"white\", \"linecolor\": \"white\", \"ticks\": \"\", \"title\": {\"standoff\": 15}, \"zerolinecolor\": \"white\", \"zerolinewidth\": 2}}}, \"title\": {\"text\": \"<b>Road Deaths by age group and gender from 1989 to 2019 in Australia<b>\"}, \"xaxis\": {\"anchor\": \"y\", \"domain\": [0.0, 1.0], \"title\": {\"text\": \"<b>Age<b>\"}}, \"xaxis2\": {\"anchor\": \"y2\", \"domain\": [0.0, 1.0], \"matches\": \"x\", \"showgrid\": true, \"showticklabels\": false}, \"yaxis\": {\"anchor\": \"x\", \"domain\": [0.0, 0.7326], \"title\": {\"text\": \"<b>Total Number of Road Deaths<b>\"}}, \"yaxis2\": {\"anchor\": \"x2\", \"domain\": [0.7426, 1.0], \"matches\": \"y2\", \"showgrid\": false, \"showline\": false, \"showticklabels\": false, \"ticks\": \"\"}},\n",
       "                        {\"responsive\": true}\n",
       "                    ).then(function(){\n",
       "                            \n",
       "var gd = document.getElementById('5c7415d1-c5ed-490e-b07d-3e1749ae3df8');\n",
       "var x = new MutationObserver(function (mutations, observer) {{\n",
       "        var display = window.getComputedStyle(gd).display;\n",
       "        if (!display || display === 'none') {{\n",
       "            console.log([gd, 'removed!']);\n",
       "            Plotly.purge(gd);\n",
       "            observer.disconnect();\n",
       "        }}\n",
       "}});\n",
       "\n",
       "// Listen for the removal of the full notebook cells\n",
       "var notebookContainer = gd.closest('#notebook-container');\n",
       "if (notebookContainer) {{\n",
       "    x.observe(notebookContainer, {childList: true});\n",
       "}}\n",
       "\n",
       "// Listen for the clearing of the current output cell\n",
       "var outputEl = gd.closest('.output');\n",
       "if (outputEl) {{\n",
       "    x.observe(outputEl, {childList: true});\n",
       "}}\n",
       "\n",
       "                        })\n",
       "                };\n",
       "                });\n",
       "            </script>\n",
       "        </div>"
      ]
     },
     "metadata": {},
     "output_type": "display_data"
    }
   ],
   "source": [
    "import plotly.express as px\n",
    "\n",
    "# '#ffffd9','#edf8b1','#c7e9b4','#7fcdbb','#41b6c4','#1d91c0','#225ea8','#253494',,,,,'#8FBC8F','#DB7093'\n",
    "fig_age = px.histogram(cvs_ages_total, \n",
    "                   x=\"age\", \n",
    "                   y=\"number\", \n",
    "                   color='gender',  \n",
    "                   marginal=\"box\", # or violin, rug\n",
    "                   hover_data=cvs_ages_total.columns,\n",
    "                   color_discrete_sequence=['#7fcdbb','#c7e9b4'],\n",
    "                   opacity=0.8\n",
    "                  )\n",
    "\n",
    "fig_age.update_layout(\n",
    "    title_text=\"<b>Road Deaths by age group and gender from 1989 to 2019 in Australia<b>\",  # change\n",
    "    plot_bgcolor='white',  # change\n",
    "    xaxis_title_text=\"<b>Age<b>\",\n",
    "    yaxis_title_text=\"<b>Total Number of Road Deaths<b>\",\n",
    "    legend_title_text=\"\",\n",
    "    legend_orientation=\"h\"\n",
    ")\n",
    "fig_age.show()"
   ]
  },
  {
   "cell_type": "code",
   "execution_count": null,
   "metadata": {},
   "outputs": [],
   "source": []
  },
  {
   "cell_type": "code",
   "execution_count": null,
   "metadata": {},
   "outputs": [],
   "source": []
  },
  {
   "cell_type": "code",
   "execution_count": null,
   "metadata": {},
   "outputs": [],
   "source": []
  }
 ],
 "metadata": {
  "kernelspec": {
   "display_name": "Python 3",
   "language": "python",
   "name": "python3"
  },
  "language_info": {
   "codemirror_mode": {
    "name": "ipython",
    "version": 3
   },
   "file_extension": ".py",
   "mimetype": "text/x-python",
   "name": "python",
   "nbconvert_exporter": "python",
   "pygments_lexer": "ipython3",
   "version": "3.7.6"
  }
 },
 "nbformat": 4,
 "nbformat_minor": 2
}
